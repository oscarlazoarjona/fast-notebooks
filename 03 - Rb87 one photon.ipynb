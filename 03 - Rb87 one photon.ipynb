{
 "cells": [
  {
   "cell_type": "code",
   "execution_count": null,
   "metadata": {
    "collapsed": true
   },
   "outputs": [],
   "source": [
    "from fast import *\n",
    "%matplotlib inline\n",
    "from math import pi,sqrt\n",
    "from matplotlib import pyplot\n",
    "from fast.config import parallel, use_netcdf, fast_path\n",
    "from scipy.optimize import curve_fit\n",
    "from numpy import array"
   ]
  },
  {
   "cell_type": "code",
   "execution_count": null,
   "metadata": {
    "collapsed": false
   },
   "outputs": [],
   "source": [
    "path=fast_path[:-5]+\"/examples/folder_03___Rb87_one_photon/\" \n",
    "name='suite' "
   ]
  },
  {
   "cell_type": "markdown",
   "metadata": {},
   "source": [
    "We first specify the states that we will use."
   ]
  },
  {
   "cell_type": "code",
   "execution_count": null,
   "metadata": {
    "collapsed": false
   },
   "outputs": [],
   "source": [
    "element=\"Rb\" \n",
    "isotope=87\n",
    "e1=State(element,isotope,5,0,Integer(1)/2)\n",
    "e3=State(element,isotope,5,1,Integer(3)/2)\n",
    "fine_states=[e1,e3]\n",
    "print fine_states"
   ]
  },
  {
   "cell_type": "markdown",
   "metadata": {},
   "source": [
    "We split these states into hyperfine substates."
   ]
  },
  {
   "cell_type": "code",
   "execution_count": null,
   "metadata": {
    "collapsed": false
   },
   "outputs": [],
   "source": [
    "hyperfine_states=split_fine_to_hyperfine(fine_states)\n",
    "print hyperfine_states"
   ]
  },
  {
   "cell_type": "markdown",
   "metadata": {},
   "source": [
    "We divide these hypefine states into their magnetic substates."
   ]
  },
  {
   "cell_type": "code",
   "execution_count": null,
   "metadata": {
    "collapsed": true
   },
   "outputs": [],
   "source": [
    "magnetic_states=split_hyperfine_to_magnetic(hyperfine_states)"
   ]
  },
  {
   "cell_type": "markdown",
   "metadata": {},
   "source": [
    "We define the total number of states."
   ]
  },
  {
   "cell_type": "code",
   "execution_count": null,
   "metadata": {
    "collapsed": true
   },
   "outputs": [],
   "source": [
    "Ne=len(magnetic_states)"
   ]
  },
  {
   "cell_type": "markdown",
   "metadata": {},
   "source": [
    "We choose a frequency state (and therefore a time scale)."
   ]
  },
  {
   "cell_type": "code",
   "execution_count": null,
   "metadata": {
    "collapsed": true
   },
   "outputs": [],
   "source": [
    "Omega=1e6"
   ]
  },
  {
   "cell_type": "markdown",
   "metadata": {},
   "source": [
    "We calculate the matrices for all the given states."
   ]
  },
  {
   "cell_type": "code",
   "execution_count": null,
   "metadata": {
    "collapsed": true
   },
   "outputs": [],
   "source": [
    "omega,gamma,r=calculate_matrices(magnetic_states,Omega)"
   ]
  },
  {
   "cell_type": "markdown",
   "metadata": {},
   "source": [
    "We plot the resonant frequencies $\\omega_{ij}$."
   ]
  },
  {
   "cell_type": "code",
   "execution_count": null,
   "metadata": {
    "collapsed": false
   },
   "outputs": [],
   "source": [
    "fig=pyplot.figure(); ax=fig.add_subplot(111)\n",
    "fancy_matrix_plot(ax,omega,magnetic_states,path,name+'_omega.png',take_abs=True,colorbar=True)"
   ]
  },
  {
   "cell_type": "markdown",
   "metadata": {},
   "source": [
    "We plot the matrix of decays $\\gamma_{ij}$."
   ]
  },
  {
   "cell_type": "code",
   "execution_count": null,
   "metadata": {
    "collapsed": false
   },
   "outputs": [],
   "source": [
    "fig=pyplot.figure(); ax=fig.add_subplot(111)\n",
    "fancy_matrix_plot(ax,gamma,magnetic_states,path,name+'_gamma.png',take_abs=True,colorbar=True)"
   ]
  },
  {
   "cell_type": "markdown",
   "metadata": {},
   "source": [
    "We plot the components of the position operator $\\hat{\\vec{r}}$."
   ]
  },
  {
   "cell_type": "code",
   "execution_count": null,
   "metadata": {
    "collapsed": false
   },
   "outputs": [],
   "source": [
    "fancy_r_plot(r         ,magnetic_states,path,name+'_r.png', complex_matrix=True)"
   ]
  },
  {
   "cell_type": "markdown",
   "metadata": {},
   "source": [
    "We define the laser we will use."
   ]
  },
  {
   "cell_type": "code",
   "execution_count": null,
   "metadata": {
    "collapsed": false
   },
   "outputs": [],
   "source": [
    "l1=PlaneWave(0,0,0,pi/8,symbolical=False)\n",
    "lasers=[l1]\n",
    "Nl=len(lasers)\n",
    "fig = pyplot.figure(); ax = fig.gca(projection='3d')\n",
    "draw_lasers_3d(ax,lasers,path+name+'_lasers.png')"
   ]
  },
  {
   "cell_type": "markdown",
   "metadata": {},
   "source": [
    "We specify the couplings of the lasers. In this case, all allowed transitions are coupled by laser 1."
   ]
  },
  {
   "cell_type": "code",
   "execution_count": null,
   "metadata": {
    "collapsed": false
   },
   "outputs": [],
   "source": [
    "Lij=[]\n",
    "for i in range(Ne):\n",
    "    for j in range(i):\n",
    "        if r[1][i][j]!=0 or r[0][i][j]!=0 or r[2][i][j]!=0:\n",
    "            Lij+=[[j+1,i+1,[1]]]\n",
    "            \n",
    "Lij=formatLij(Lij,Ne)\n",
    "#fig=pyplot.figure(); ax=fig.add_subplot(111)\n",
    "#plot_Lij(ax,Lij,Nl,magnetic_states,path,name+'_Lij.png')"
   ]
  },
  {
   "cell_type": "markdown",
   "metadata": {},
   "source": [
    "We draw a level diagram."
   ]
  },
  {
   "cell_type": "code",
   "execution_count": null,
   "metadata": {
    "collapsed": false
   },
   "outputs": [],
   "source": [
    "sc=2.0\n",
    "fig=pyplot.figure(figsize=(sc*2.5,sc*3.0)); ax=fig.add_subplot(111,aspect=\"equal\")\n",
    "a=25; b=30\n",
    "\n",
    "xs=2.5; xp=22.5\n",
    "p1 =[xs,  1.0]; w1 =5.0; h1 = 5.0\n",
    "p2 =[xp, 15.0]; w2 =5.0; h2 = 2.0\n",
    "\n",
    "a=False;a=True\n",
    "h1=draw_multiplet(ax,e1 ,p1 ,h1 ,w1 ,fside='right',label_fontsize=23,label_separation=0.5,\n",
    "                    fsize=15,deltanu_fontsize=12,text=e1._latex_()[16:],text_pos='right',magnetic_lines=a)\n",
    "h2=draw_multiplet(ax,e3 ,p2 ,h2 ,w2 ,fside='left', label_fontsize=23,label_separation=0.75,\n",
    "                    fsize=15,deltanu_fontsize=12,text=e3._latex_()[16:],text_pos='left',magnetic_lines=a)\n",
    "\n",
    "excitation(ax,[h1[1][0]-0.25*5,h1[1][1]],[h2[3][0]-0.25*5,h2[3][1]], fc=\"red\", ec=\"red\",width=0.2, head_width=2, head_length=2)\n",
    "decay(     ax,[h1[0][0]+0.25*5,h1[0][1]],[h2[2][0]-0.25*5,h2[2][1]], 0.5,10.0,color=\"red\",linewidth=2.0)\n",
    "ax.text(5,25,r\"$^{\"+str(isotope)+\"}\\mathrm{Rb}$\",fontsize=45,verticalalignment=\"center\",horizontalalignment=\"center\")\n",
    "\n",
    "pyplot.axis('off')\n",
    "pyplot.savefig(path+name+'_levels.png',bbox_inches=\"tight\")\n",
    "pyplot.savefig(path+name+'_levels.pdf',bbox_inches=\"tight\")"
   ]
  },
  {
   "cell_type": "markdown",
   "metadata": {},
   "source": [
    "We calculate the amplitude of the electric field corresponding to saturation."
   ]
  },
  {
   "cell_type": "code",
   "execution_count": null,
   "metadata": {
    "collapsed": false
   },
   "outputs": [],
   "source": [
    "s0=1.0e1\n",
    "E00=electric_field_amplitude_intensity(s0,Omega=Omega)\n",
    "E0=[E00]\n",
    "print E0"
   ]
  },
  {
   "cell_type": "markdown",
   "metadata": {},
   "source": [
    "We calculate the transition frequencies of the (in MHz). The transitions $5 S_1/2 F=2 \\rightarrow 5 P_3/2 F=1,2,3$ (the big F's)."
   ]
  },
  {
   "cell_type": "code",
   "execution_count": null,
   "metadata": {
    "collapsed": false
   },
   "outputs": [],
   "source": [
    "nu0=Transition(hyperfine_states[3],hyperfine_states[1]).nu\n",
    "t1=[(Transition(hyperfine_states[i+3],hyperfine_states[1]).nu -nu0)/Omega for i in range(3)]\n",
    "print t1"
   ]
  },
  {
   "cell_type": "markdown",
   "metadata": {},
   "source": [
    "The transitions $5 S_1/2 F=1 \\rightarrow 5 P_3/2 F=0,1,2$ (the small F's)."
   ]
  },
  {
   "cell_type": "code",
   "execution_count": null,
   "metadata": {
    "collapsed": false
   },
   "outputs": [],
   "source": [
    "t2=[(Transition(hyperfine_states[i+2],hyperfine_states[0]).nu -nu0)/Omega for i in range(3)]\n",
    "print t2"
   ]
  },
  {
   "cell_type": "markdown",
   "metadata": {},
   "source": [
    "# Time evolution\n",
    "We write the Fortran code of the experiment."
   ]
  },
  {
   "cell_type": "code",
   "execution_count": null,
   "metadata": {
    "collapsed": false
   },
   "outputs": [],
   "source": [
    "tw=write_evolution(path,name+\"_evolution\",lasers,omega,gamma,r,Lij,verbose=0)"
   ]
  },
  {
   "cell_type": "markdown",
   "metadata": {},
   "source": [
    "We compile it."
   ]
  },
  {
   "cell_type": "code",
   "execution_count": null,
   "metadata": {
    "collapsed": false
   },
   "outputs": [],
   "source": [
    "tc=compile_code(path,name+\"_evolution\",lapack=True,optimization_flag='',parallel=parallel)"
   ]
  },
  {
   "cell_type": "markdown",
   "metadata": {},
   "source": [
    "We begin with an initial state where all population is distributed equally between the $5S_{1/2}$ states."
   ]
  },
  {
   "cell_type": "code",
   "execution_count": null,
   "metadata": {
    "collapsed": true
   },
   "outputs": [],
   "source": [
    "rho0=[1/8.0 for i in range(7)]+[0.0 for j in range(24-8)]"
   ]
  },
  {
   "cell_type": "markdown",
   "metadata": {},
   "source": [
    "We se what happens during 1 $\\mu$s of evolution."
   ]
  },
  {
   "cell_type": "code",
   "execution_count": null,
   "metadata": {
    "collapsed": false
   },
   "outputs": [],
   "source": [
    "dt=1e-3; N_iter=1000\n",
    "detuning_knob=[t1[2]*2*pi]\n",
    "\n",
    "tr=run_evolution(path,name+\"_evolution\",E0,detuning_knob, N_iter,dt,Ne,rho0=rho0,use_netcdf=use_netcdf)\n",
    "\n",
    "dat=read_result(path,name+\"_evolution\",N=Ne,use_netcdf=use_netcdf)\n",
    "t=dat[0]\n",
    "popfg1=dat[3-2:3]; pop1= [1-sum([dat[j+1][i] for j in range(23)]) for i in range(len(t))]\n",
    "popfg1=[pop1]+popfg1\n",
    "popfg2=dat[8-5:8]\n",
    "popfmax=dat[24-7:24]"
   ]
  },
  {
   "cell_type": "markdown",
   "metadata": {},
   "source": [
    "We plot what happens to the states $5S_{1/2}F=1$."
   ]
  },
  {
   "cell_type": "code",
   "execution_count": null,
   "metadata": {
    "collapsed": false
   },
   "outputs": [],
   "source": [
    "fig=pyplot.figure(); ax=fig.add_subplot(111)\n",
    "\n",
    "ax.plot(t,popfg1[ 2],'-' ,color='r',label=r\"$M_F=1$\")\n",
    "ax.plot(t,popfg1[ 1],'-' ,color='b',label=r\"$M_F=0$\")\n",
    "ax.plot(t,popfg1[ 0],'--',color='r',label=r\"$M_F=-1$\")\n",
    "\n",
    "ax.legend(loc=0)\n",
    "ax.set_xlabel(r\"$t\\ (\\mu\\mathrm{s})$\",fontsize=20)\n",
    "ax.set_ylabel(r\"$\\mathrm{Population}$\",fontsize=20)\n",
    "ax.set_ylim([0,0.14])\n",
    "\n",
    "pyplot.savefig(path+name+\"_tshort_fg1.png\",bbox_inches=\"tight\")\n",
    "pyplot.savefig(path+name+\"_tshort_fg1.pdf\",bbox_inches=\"tight\")"
   ]
  },
  {
   "cell_type": "markdown",
   "metadata": {},
   "source": [
    "We plot what happens to states $5S_{1/2}F=2$."
   ]
  },
  {
   "cell_type": "code",
   "execution_count": null,
   "metadata": {
    "collapsed": false
   },
   "outputs": [],
   "source": [
    "fig=pyplot.figure(); ax=fig.add_subplot(111)\n",
    "ax.plot(t,popfg2[ 4],'-'  ,color='r',label=r\"$\\mathrm{Population} \\ M_F=2$\")\n",
    "ax.plot(t,popfg2[ 3],'-'  ,color='g',label=r\"$\\mathrm{Population} \\ M_F=1$\")\n",
    "ax.plot(t,popfg2[ 2],'-'  ,color='b',label=r\"$\\mathrm{Population} \\ M_F=0$\")\n",
    "ax.plot(t,popfg2[ 1],'--' ,color='g',label=r\"$\\mathrm{Population} \\ M_F=-1$\")\n",
    "ax.plot(t,popfg2[ 0],'--' ,color='r',label=r\"$\\mathrm{Population} \\ M_F=-2$\")\n",
    "\n",
    "ax.legend(loc=0)\n",
    "ax.set_xlabel(r\"$t\\ (\\mu\\mathrm{s})$\",fontsize=20)\n",
    "ax.set_ylim([0,None])\n",
    "pyplot.savefig(path+name+\"_tshort_fg2.png\",bbox_inches=\"tight\")\n",
    "pyplot.savefig(path+name+\"_tshort_fg2.pdf\",bbox_inches=\"tight\")"
   ]
  },
  {
   "cell_type": "markdown",
   "metadata": {},
   "source": [
    "We plot what happens to the states $5P_{3/2}F=3$."
   ]
  },
  {
   "cell_type": "code",
   "execution_count": null,
   "metadata": {
    "collapsed": false
   },
   "outputs": [],
   "source": [
    "fig=pyplot.figure(); ax=fig.add_subplot(111)\n",
    "ax.plot(t,popfmax[ 6],'-' ,color='r'     ,label=r\"$\\mathrm{Population} \\ M_F=3$\")\n",
    "ax.plot(t,popfmax[ 5],'-' ,color='orange',label=r\"$\\mathrm{Population} \\ M_F=2$\")\n",
    "ax.plot(t,popfmax[ 4],'-' ,color='g'     ,label=r\"$\\mathrm{Population} \\ M_F=1$\")\n",
    "ax.plot(t,popfmax[ 3],'-' ,color='b'     ,label=r\"$\\mathrm{Population} \\ M_F=0$\")\n",
    "ax.plot(t,popfmax[ 2],'--',color='g'     ,label=r\"$\\mathrm{Population} \\ M_F=-1$\")\n",
    "ax.plot(t,popfmax[ 1],'--',color='orange',label=r\"$\\mathrm{Population} \\ M_F=-2$\")\n",
    "ax.plot(t,popfmax[ 0],'--',color='r'     ,label=r\"$\\mathrm{Population} \\ M_F=-3$\")\n",
    "\n",
    "ax.legend(loc=0,fontsize=11)\n",
    "ax.set_xlabel(r\"$t\\ (\\mu\\mathrm{s})$\",fontsize=18)\n",
    "ax.set_ylim([0,None])\n",
    "pyplot.savefig(path+name+\"_tshort_fmax.png\",bbox_inches=\"tight\")\n",
    "pyplot.savefig(path+name+\"_tshort_fmax.pdf\",bbox_inches=\"tight\")"
   ]
  },
  {
   "cell_type": "code",
   "execution_count": null,
   "metadata": {
    "collapsed": true
   },
   "outputs": [],
   "source": [
    "dt=1.0e3; N_iter=1000\n",
    "detuning_knob=[t1[2]*2*pi]\n",
    "\n",
    "tr=run_evolution(path,name+\"_evolution\",E0,detuning_knob, N_iter,dt,Ne,rho0=rho0,use_netcdf=use_netcdf)\n",
    "\n",
    "dat=read_result(path,name+\"_evolution\",N=Ne,use_netcdf=use_netcdf)\n",
    "t=dat[0]\n",
    "t=[ti/1e6 for ti in t]\n",
    "popfg1=dat[3-2:3]; pop1= [1-sum([dat[j+1][i] for j in range(23)]) for i in range(len(t))]\n",
    "popfg1=[pop1]+popfg1\n",
    "popfg2=dat[8-5:8]\n",
    "popfmax=dat[24-7:24]"
   ]
  },
  {
   "cell_type": "markdown",
   "metadata": {},
   "source": [
    "We plot what happens to states $5S_{1/2}F=1$."
   ]
  },
  {
   "cell_type": "code",
   "execution_count": null,
   "metadata": {
    "collapsed": false
   },
   "outputs": [],
   "source": [
    "fig=pyplot.figure(); ax=fig.add_subplot(111)\n",
    "\n",
    "ax.plot(t,popfg1[ 2],'-' ,color='r',label=r\"$\\mathrm{Population} \\ M_F=1$\")\n",
    "ax.plot(t,popfg1[ 1],'-' ,color='b',label=r\"$\\mathrm{Population} \\ M_F=0$\")\n",
    "ax.plot(t,popfg1[ 0],'--',color='r',label=r\"$\\mathrm{Population} \\ M_F=-1$\")\n",
    "\n",
    "ax.legend(loc=0)\n",
    "ax.set_xlabel(r\"$t\\ (\\mathrm{s})$\",fontsize=20)\n",
    "ax.set_ylim([0,None])\n",
    "pyplot.savefig(path+name+\"_tlong_fg1.png\",bbox_inches=\"tight\")\n",
    "pyplot.savefig(path+name+\"_tlong_fg1.pdf\",bbox_inches=\"tight\")"
   ]
  },
  {
   "cell_type": "markdown",
   "metadata": {},
   "source": [
    "We plot what happens to states $5S_{1/2}F=2$."
   ]
  },
  {
   "cell_type": "code",
   "execution_count": null,
   "metadata": {
    "collapsed": false
   },
   "outputs": [],
   "source": [
    "fig=pyplot.figure(); ax=fig.add_subplot(111)\n",
    "ax.plot(t,popfg2[ 4],'-'  ,color='r',label=r\"$\\mathrm{Population} \\ M_F=2$\")\n",
    "ax.plot(t,popfg2[ 3],'-'  ,color='g',label=r\"$\\mathrm{Population} \\ M_F=1$\")\n",
    "ax.plot(t,popfg2[ 2],'-'  ,color='b',label=r\"$\\mathrm{Population} \\ M_F=0$\")\n",
    "ax.plot(t,popfg2[ 1],'--' ,color='g',label=r\"$\\mathrm{Population} \\ M_F=-1$\")\n",
    "ax.plot(t,popfg2[ 0],'--' ,color='r',label=r\"$\\mathrm{Population} \\ M_F=-2$\")\n",
    "\n",
    "ax.legend(loc=0)\n",
    "ax.set_xlabel(r\"$t\\ (\\mathrm{s})$\",fontsize=20)\n",
    "ax.set_ylim([0,None])\n",
    "pyplot.savefig(path+name+\"_tlong_fg2.png\",bbox_inches=\"tight\")\n",
    "pyplot.savefig(path+name+\"_tlong_fg2.pdf\",bbox_inches=\"tight\")"
   ]
  },
  {
   "cell_type": "markdown",
   "metadata": {},
   "source": [
    "We plot what happens to states $5P_{3/2}F=3$."
   ]
  },
  {
   "cell_type": "code",
   "execution_count": null,
   "metadata": {
    "collapsed": false
   },
   "outputs": [],
   "source": [
    "fig=pyplot.figure(); ax=fig.add_subplot(111)\n",
    "ax.plot(t,popfmax[ 6],'-' ,color='r'        ,label=r\"$\\mathrm{Population} \\ M_F=3$\")\n",
    "ax.plot(t,popfmax[ 5],'-' ,color='orange'   ,label=r\"$\\mathrm{Population} \\ M_F=2$\")\n",
    "ax.plot(t,popfmax[ 4],'-' ,color='g'        ,label=r\"$\\mathrm{Population} \\ M_F=1$\")\n",
    "ax.plot(t,popfmax[ 3],'-' ,color='b'        ,label=r\"$\\mathrm{Population} \\ M_F=0$\")\n",
    "ax.plot(t,popfmax[ 2],'--',color='g'        ,label=r\"$\\mathrm{Population} \\ M_F=-1$\")\n",
    "ax.plot(t,popfmax[ 1],'--',color='orange'   ,label=r\"$\\mathrm{Population} \\ M_F=-2$\")\n",
    "ax.plot(t,popfmax[ 0],'--',color='r'        ,label=r\"$\\mathrm{Population} \\ M_F=-3$\")\n",
    "\n",
    "ax.legend(loc=0)\n",
    "ax.set_xlabel(r\"$t\\ (\\mathrm{s})$\",fontsize=20)\n",
    "ax.set_ylim([0,None])\n",
    "pyplot.savefig(path+name+\"_tlong_fmax.png\",bbox_inches=\"tight\")\n",
    "pyplot.savefig(path+name+\"_tlong_fmax.pdf\",bbox_inches=\"tight\")"
   ]
  },
  {
   "cell_type": "markdown",
   "metadata": {},
   "source": [
    "## Steady State\n",
    "We write the Fortran code of the experiment."
   ]
  },
  {
   "cell_type": "code",
   "execution_count": null,
   "metadata": {
    "collapsed": true
   },
   "outputs": [],
   "source": [
    "tw=write_stationary(path,name+\"_steady\",lasers,omega,gamma,r,Lij,verbose=0)"
   ]
  },
  {
   "cell_type": "markdown",
   "metadata": {},
   "source": [
    "We compile it."
   ]
  },
  {
   "cell_type": "code",
   "execution_count": null,
   "metadata": {
    "collapsed": true
   },
   "outputs": [],
   "source": [
    "tc=compile_code(path,name+\"_steady\",lapack=True,parallel=parallel)"
   ]
  },
  {
   "cell_type": "markdown",
   "metadata": {},
   "source": [
    "We now make a test of this stationary two-level state to make sure."
   ]
  },
  {
   "cell_type": "code",
   "execution_count": null,
   "metadata": {
    "collapsed": false
   },
   "outputs": [],
   "source": [
    "def model_lorentzian(n=1):\n",
    "    s='lambda x,'\n",
    "    for i in range(1,n+1): s+=' A'+str(i)+','\n",
    "    for i in range(1,n+1): s+=' x0'+str(i)+','\n",
    "    for i in range(1,n+1): s+=' gamma'+str(i)+','\n",
    "    s=s[:-1]\n",
    "    s+=' :'\n",
    "    for i in range(1,n+1): s+=' A'+str(i)+'*gamma'+str(i)+'**2/(4*(x-x0'+str(i)+')**2+gamma'+str(i)+'**2) +'\n",
    "    s=s[:-1]\n",
    "    return eval(s)\n",
    "\n",
    "def fit_lorentzians(x,y,p0=None,n=1,return_p0=False):\n",
    "    '''Fits a lorentzian curve using p0=[A1,A2,...,x1,x2,...,gamma1,gamma2,...] as an initial guess.\n",
    "    It returns a curve with N_points.'''\n",
    "    lorentzians=model_lorentzian(n)\n",
    "    N=len(x)\n",
    "    if return_p0:\n",
    "        fit=p0;pcov=None\n",
    "    else:\n",
    "        fit,pcov = curve_fit(lorentzians,x,y,p0=p0)\n",
    "    s=''.join([',fit['+str(i)+']' for i in range(3*n)])\n",
    "    s='[lorentzians(xi'+s+') for xi in x]'\n",
    "    fitted_curve=eval(s)    \n",
    "    for i in range(n):\n",
    "        fit[-i-1]=abs(fit[-i-1])\n",
    "    return fit,pcov,fitted_curve\n",
    "\n",
    "########################################################################\n",
    "pyplot.close(\"all\")\n",
    "Npow=19; pow_ini=-2.0; pow_end=2.0; pow_step=(pow_end-pow_ini)/(Npow-1)\n",
    "pows=[10**(pow_ini+i*pow_step) for i in range(Npow)]\n",
    "detuning_knob=[(t1[2]-30)*2*pi]\n",
    "frequency_end=(t1[2]+30)*2*pi\n",
    "#print 111\n",
    "Gamma=6.065\n",
    "N_delta=250\n",
    "\n",
    "def aux2(s0):\n",
    "    E000=[electric_field_amplitude_intensity(s0,Omega=Omega)]\n",
    "    run_stationary(path,name+\"_steady\",E000,detuning_knob,spectrum_of_laser=1,N_delta=N_delta, frequency_end=frequency_end,use_netcdf=use_netcdf)\n",
    "    nu,pop0=read_result(path,name+\"_steady\",Ne,Ne,1,Ne,use_netcdf=use_netcdf)\n",
    "    nu=[nui/2/pi for nui in nu]\n",
    "    res=fit_lorentzians(nu,pop0,[pop0[N_delta/2],t1[2],1.04],n=1,return_p0=False)\n",
    "    fit,pcov,fitted_curve=res\n",
    "    Ai,x0i,gammai=fit\n",
    "    return (gammai,Gamma*sqrt(1+2*s0),Ai,2*s0/2/(1+2*s0))\n",
    "\n",
    "def aux():\n",
    "    res=[aux2(s0) for s0 in pows]\n",
    "    model_widths =[i[0] for i in res]\n",
    "    simple_widths=[i[1] for i in res]\n",
    "    model_pops   =[i[2] for i in res]\n",
    "    simple_pops  =[i[3] for i in res]\n",
    "    return model_widths,simple_widths,model_pops,simple_pops"
   ]
  },
  {
   "cell_type": "code",
   "execution_count": null,
   "metadata": {
    "collapsed": false
   },
   "outputs": [],
   "source": [
    "model_widths,simple_widths,model_pops,simple_pops=aux()"
   ]
  },
  {
   "cell_type": "code",
   "execution_count": null,
   "metadata": {
    "collapsed": false
   },
   "outputs": [],
   "source": [
    "pyplot.close(\"all\")\n",
    "Npow=1000; pow_ini=-2.0; pow_end=2.0; pow_step=(pow_end-pow_ini)/(Npow-1)\n",
    "pows2=[10**(pow_ini+i*pow_step) for i in range(Npow)]\n",
    "\n",
    "#We plot widths\n",
    "simple_widths =[6.065*sqrt(1+s0) for s0 in pows2]\n",
    "\n",
    "pyplot.semilogx(pows2,simple_widths,'-b',basex=10,label=r'$\\Gamma\\sqrt{1+I/I_0}$')\n",
    "pyplot.semilogx(pows,model_widths,'+r',basex=10,label=r'$\\mathrm{Modeled \\ width}$',markersize=13)\n",
    "pyplot.plot(pows2,[6.065]*Npow,'g-',label=r'$\\mathrm{Natural \\ width}$')\n",
    "\n",
    "pyplot.xlabel(r\"$I/I_0$\",fontsize=18)\n",
    "pyplot.ylabel(r\"$\\mathrm{Width \\ (MHz)}$\",fontsize=18)\n",
    "\n",
    "pyplot.ylim([0,None])\n",
    "pyplot.legend(loc=0)\n",
    "\n",
    "pyplot.savefig(path+name+'_2power.png',bbox_inches='tight')"
   ]
  },
  {
   "cell_type": "code",
   "execution_count": null,
   "metadata": {
    "collapsed": false
   },
   "outputs": [],
   "source": [
    "pyplot.close()\n",
    "#We plot amplitudes\n",
    "simple_pops =[ s0/2/(1+ s0) for s0 in pows2]\n",
    "pyplot.semilogx(pows2,simple_pops,'-b',basex=10,label=r'$\\frac{I/I_0}{2(1+I/I_0)}$')\n",
    "pyplot.semilogx(pows,model_pops,'+r',basex=10,label=r'$\\mathrm{Modeled \\ \\rho_{ee}}$',markersize=13)\n",
    "pyplot.semilogx([pows2[0],pows2[-1]],[0.25,0.25],'k-',alpha=0.25)\n",
    "pyplot.semilogx([1,1],[0,0.5],'k-',alpha=0.25)\n",
    "\n",
    "pyplot.xlabel(r\"$I/I_0$\",fontsize=18)\n",
    "pyplot.ylabel(r\"$\\mathrm{Peak\\ height}$\",fontsize=18)\n",
    "\n",
    "\n",
    "pyplot.ylim([0,None])\n",
    "pyplot.legend(loc=0)\n",
    "\n",
    "pyplot.ylim([0,None])\n",
    "pyplot.legend(loc=0)\n",
    "\n",
    "pyplot.savefig(path+name+'_3power.png',bbox_inches='tight')"
   ]
  },
  {
   "cell_type": "code",
   "execution_count": null,
   "metadata": {
    "collapsed": false
   },
   "outputs": [],
   "source": [
    "pyplot.close(\"all\")"
   ]
  },
  {
   "cell_type": "code",
   "execution_count": null,
   "metadata": {
    "collapsed": true
   },
   "outputs": [],
   "source": []
  }
 ],
 "metadata": {
  "kernelspec": {
   "display_name": "Python 2",
   "language": "python",
   "name": "python2"
  },
  "language_info": {
   "codemirror_mode": {
    "name": "ipython",
    "version": 2
   },
   "file_extension": ".py",
   "mimetype": "text/x-python",
   "name": "python",
   "nbconvert_exporter": "python",
   "pygments_lexer": "ipython2",
   "version": "2.7.13"
  }
 },
 "nbformat": 4,
 "nbformat_minor": 2
}
