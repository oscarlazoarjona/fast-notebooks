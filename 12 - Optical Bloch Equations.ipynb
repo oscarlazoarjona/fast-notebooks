{
 "cells": [
  {
   "cell_type": "markdown",
   "metadata": {},
   "source": [
    "# Optical Bloch Equations\n",
    "\n",
    "We will derive here the explicit form of optical Bloch equations in the electric dipole approximation (EDA), the rotating wave approximation (RWA), in the rotating frame (RF)."
   ]
  },
  {
   "cell_type": "code",
   "execution_count": 1,
   "metadata": {
    "collapsed": true
   },
   "outputs": [],
   "source": [
    "from sympy import symbols, IndexedBase, Idx, Sum, init_printing\n",
    "from sympy.physics.quantum import Bra, Ket, State\n",
    "\n",
    "from sympy.physics.quantum import Bra, Ket, State\n",
    "from sympy.core.basic import sympify\n",
    "from sympy.core.compatibility import string_types, range\n",
    "from sympy.physics.quantum.hilbert import ComplexSpace\n",
    "from sympy import Integer, KroneckerDelta\n",
    "from sympy import diff, exp, I\n",
    "from sympy import Matrix\n",
    "\n",
    "init_printing()"
   ]
  },
  {
   "cell_type": "code",
   "execution_count": 2,
   "metadata": {
    "collapsed": true
   },
   "outputs": [],
   "source": [
    "class AtomicState(State):\n",
    "    \"\"\"Base class for Qubit and QubitBra.\"\"\"\n",
    "\n",
    "    #-------------------------------------------------------------------------\n",
    "    # Initialization/creation\n",
    "    #-------------------------------------------------------------------------\n",
    "    def __init__(self, *args):\n",
    "        self.thisthis = 2\n",
    "\n",
    "    @classmethod\n",
    "    def _eval_args(cls, args):\n",
    "        # If we are passed a QubitState or subclass, we just take its qubit\n",
    "        # values directly.\n",
    "        if len(args) == 1 and isinstance(args[0], AtomicState):\n",
    "            return args[0].qubit_values\n",
    "\n",
    "        # Turn strings into tuple of strings\n",
    "        if len(args) == 1 and isinstance(args[0], string_types):\n",
    "            args = tuple(args[0])\n",
    "\n",
    "        # args = sympify(args)\n",
    "\n",
    "        # Validate input (must have 0 or 1 input)\n",
    "        # print 111\n",
    "        # for element in args:\n",
    "        #     if not (element == 1 or element == 0):\n",
    "        #         raise ValueError(\n",
    "        #             \"Qubit values must be 0 or 1, got: %r\" % element)\n",
    "        return args\n",
    "\n",
    "    @classmethod\n",
    "    def _eval_hilbert_space(cls, args):\n",
    "        return ComplexSpace(2)**len(args)\n",
    "\n",
    "    #-------------------------------------------------------------------------\n",
    "    # Properties\n",
    "    #-------------------------------------------------------------------------\n",
    "\n",
    "    @property\n",
    "    def dimension(self):\n",
    "        \"\"\"The number of Qubits in the state.\"\"\"\n",
    "        return len(self.qubit_values)\n",
    "\n",
    "    @property\n",
    "    def nqubits(self):\n",
    "        return self.dimension\n",
    "\n",
    "    @property\n",
    "    def qubit_values(self):\n",
    "        \"\"\"Returns the values of the qubits as a tuple.\"\"\"\n",
    "        return self.label\n",
    "\n",
    "\n",
    "class AtomicKet(AtomicState, Ket):\n",
    "    \"\"\"A multi-qubit ket in the computational (z) basis.\"\"\"\n",
    "\n",
    "    @classmethod\n",
    "    def dual_class(self):\n",
    "        return AtomicBra\n",
    "\n",
    "    def _eval_innerproduct_AtomicBra(self, bra, **hints):\n",
    "        if self.label == bra.label:\n",
    "            return Integer(1)\n",
    "        else:\n",
    "            return KroneckerDelta(bra.label[0], self.label[0])\n",
    "\n",
    "class AtomicBra(AtomicState, Bra):\n",
    "    \"\"\"A multi-qubit bra in the computational (z) basis.\"\"\"\n",
    "    @classmethod\n",
    "    def dual_class(self):\n",
    "        return Atomic"
   ]
  },
  {
   "cell_type": "markdown",
   "metadata": {},
   "source": [
    "We begin with an undisturbed Hamiltonian $\\hat{H}_0$ with $N_e$ eigenvectors $|i\\rangle$ ordered by their energies $\\mathrm{E}_i= \\hbar \\omega_i$."
   ]
  },
  {
   "cell_type": "code",
   "execution_count": 3,
   "metadata": {
    "collapsed": false
   },
   "outputs": [],
   "source": [
    "hbar, e = symbols(\"hbar e\", positive=True)\n",
    "Ne = symbols(\"N_e\", integer=True)\n",
    "i, j, k = symbols('i j k', cls=Idx)\n",
    "Energy = IndexedBase('\\mathrm{E}', shape=(Ne,))\n",
    "omega_level = IndexedBase('omega', shape=(Ne,))"
   ]
  },
  {
   "cell_type": "code",
   "execution_count": 4,
   "metadata": {
    "collapsed": false
   },
   "outputs": [
    {
     "data": {
      "image/png": "[encoded data removed]",
      "text/latex": [
       "$$\\left ( \\mathrm{E}_{i}, \\quad \\omega_{i}\\right )$$"
      ],
      "text/plain": [
       "(\\mathrm{E}[i], omega[i])"
      ]
     },
     "execution_count": 4,
     "metadata": {},
     "output_type": "execute_result"
    }
   ],
   "source": [
    "Energy[i], omega_level[i]"
   ]
  },
  {
   "cell_type": "code",
   "execution_count": 5,
   "metadata": {
    "collapsed": false
   },
   "outputs": [
    {
     "data": {
      "image/png": "[encoded data removed]",
      "text/latex": [
       "$$\\sum_{\\substack{1 \\leq j \\leq N_{e}\\\\1 \\leq i \\leq N_{e}}} \\hbar \\delta_{i, j} \\omega_{i} {\\left|i\\right\\rangle } {\\left\\langle j\\right|}$$"
      ],
      "text/plain": [
       "  Nₑ    Nₑ                          \n",
       " ___   ___                          \n",
       " ╲     ╲                            \n",
       "  ╲     ╲   h̅⋅δ   ⋅omega[i]⋅❘i⟩⋅⟨j❘\n",
       "  ╱     ╱       i,j                 \n",
       " ╱     ╱                            \n",
       " ‾‾‾   ‾‾‾                          \n",
       "i = 1 j = 1                         "
      ]
     },
     "execution_count": 5,
     "metadata": {},
     "output_type": "execute_result"
    }
   ],
   "source": [
    "H0 = hbar*omega_level[i]*KroneckerDelta(i,j)\n",
    "H0s = Sum( H0*AtomicKet(i)*AtomicBra(j), (j, 1, Ne), (i, 1, Ne))\n",
    "H0s"
   ]
  },
  {
   "cell_type": "markdown",
   "metadata": {},
   "source": [
    "We wish to model the interaction of this atom with an electric field that can be decomposed into $N_l$ discrete, well-defined frequencies."
   ]
  },
  {
   "cell_type": "code",
   "execution_count": 6,
   "metadata": {
    "collapsed": false
   },
   "outputs": [
    {
     "data": {
      "image/png": "[encoded data removed]",
      "text/latex": [
       "$$\\left ( E^{(+)}_{l}, \\quad \\varpi_{l}, \\quad k_{l}\\right )$$"
      ],
      "text/plain": [
       "(E^{(+)}[l], varpi[l], k[l])"
      ]
     },
     "execution_count": 6,
     "metadata": {},
     "output_type": "execute_result"
    }
   ],
   "source": [
    "Nl = symbols(\"N_l\", integer=True)\n",
    "\n",
    "E0p = IndexedBase(\"E^{(+)}\", shape=(Nl,))\n",
    "E0m = IndexedBase(\"E^{(-)}\", shape=(Nl,))\n",
    "omega_laser = IndexedBase(\"varpi\", shape=(Nl,))\n",
    "k_laser = IndexedBase(\"k\", shape=(Nl,))\n",
    "l = symbols(\"l\", cls=Idx)\n",
    "\n",
    "E0p[l], omega_laser[l], k_laser[l]"
   ]
  },
  {
   "cell_type": "code",
   "execution_count": 7,
   "metadata": {
    "collapsed": false
   },
   "outputs": [
    {
     "data": {
      "image/png": "[encoded data removed]",
      "text/latex": [
       "$$\\left ( \\vec{\\varepsilon}^{(+)}_{l}, \\quad \\vec{\\varepsilon}^{(-)}_{l}\\right )$$"
      ],
      "text/plain": [
       "(\\vec{\\varepsilon}^{(+)}[l], \\vec{\\varepsilon}^{(-)}[l])"
      ]
     },
     "execution_count": 7,
     "metadata": {},
     "output_type": "execute_result"
    }
   ],
   "source": [
    "t, R = symbols(\"t, R\", real=True)\n",
    "epsilonp = IndexedBase(r\"\\vec{\\varepsilon}^{(+)}\", shape=(Nl,))\n",
    "epsilonm = IndexedBase(r\"\\vec{\\varepsilon}^{(-)}\", shape=(Nl,))\n",
    "epsilonp[l], epsilonm[l]"
   ]
  },
  {
   "cell_type": "code",
   "execution_count": 8,
   "metadata": {
    "collapsed": false
   },
   "outputs": [
    {
     "data": {
      "image/png": "[encoded data removed]",
      "text/latex": [
       "$$\\sum_{l=1}^{N_{l}} \\left(\\frac{E^{(-)}_{l} \\vec{\\varepsilon}^{(-)}_{l}}{2} e^{i t \\varpi_{l}} + \\frac{E^{(+)}_{l} \\vec{\\varepsilon}^{(+)}_{l}}{2} e^{- i t \\varpi_{l}}\\right)$$"
      ],
      "text/plain": [
       " N_l                                                                          \n",
       " ____                                                                         \n",
       " ╲                                                                            \n",
       "  ╲   ⎛ ⅈ⋅t⋅varpi[l]                                          -ⅈ⋅t⋅varpi[l]   \n",
       "   ╲  ⎜ℯ            ⋅E^{(-)}[l]⋅\\vec{\\varepsilon}^{(-)}[l]   ℯ             ⋅E^\n",
       "   ╱  ⎜─────────────────────────────────────────────────── + ─────────────────\n",
       "  ╱   ⎝                         2                                             \n",
       " ╱                                                                            \n",
       " ‾‾‾‾                                                                         \n",
       "l = 1                                                                         \n",
       "\n",
       "                                    \n",
       "                                    \n",
       "                                    \n",
       "                                   ⎞\n",
       "{(+)}[l]⋅\\vec{\\varepsilon}^{(+)}[l]⎟\n",
       "───────────────────────────────────⎟\n",
       "        2                          ⎠\n",
       "                                    \n",
       "                                    \n",
       "                                    "
      ]
     },
     "execution_count": 8,
     "metadata": {},
     "output_type": "execute_result"
    }
   ],
   "source": [
    "Ep = E0p[l]*epsilonp[l]/2 * exp(-I*(omega_laser[l]*t))\n",
    "Em = E0m[l]*epsilonm[l]/2 * exp( I*(omega_laser[l]*t))\n",
    "\n",
    "Eps = Sum(Ep, (l, 1, Nl))\n",
    "Ems = Sum(Em, (l, 1, Nl))\n",
    "\n",
    "E = Ep + Em\n",
    "\n",
    "Es = Sum(E, (l, 1, Nl))\n",
    "Es"
   ]
  },
  {
   "cell_type": "markdown",
   "metadata": {},
   "source": [
    "Such that $E_l^{\\pm}=(E_l^{\\mp})^{\\ast}$ are space dependant functions, and $\\vec{\\varepsilon}_l^{\\pm}=(\\vec{\\varepsilon}_l^{\\mp})^{\\ast}$ are space dependant unitary vectors. In particular, if the fields are plane waves,\n",
    "\n",
    "\\begin{equation}\n",
    "    E_l^{\\pm} = E_{0l} \\exp(\\pm i \\vec{k}_l \\cdot \\vec{R})\n",
    "\\end{equation}\n",
    "\n",
    "So, $E_l^{\\pm}$ encode the spacial structure of the fields, and $\\vec{\\varepsilon}_l^{\\pm}$ the spacial structure of the polarization.\n",
    "\n",
    "The atoms have some electric dipole operator"
   ]
  },
  {
   "cell_type": "code",
   "execution_count": 9,
   "metadata": {
    "collapsed": false
   },
   "outputs": [
    {
     "data": {
      "image/png": "[encoded data removed]",
      "text/latex": [
       "$$\\sum_{\\substack{1 \\leq i \\leq N_{e}\\\\1 \\leq j \\leq N_{e}}} - e \\vec{r}_{i,j} {\\left|i\\right\\rangle } {\\left\\langle j\\right|}$$"
      ],
      "text/plain": [
       "  Nₑ    Nₑ                          \n",
       " ___   ___                          \n",
       " ╲     ╲                            \n",
       "  ╲     ╲   -e⋅\\vec{r}[i, j]⋅❘i⟩⋅⟨j❘\n",
       "  ╱     ╱                           \n",
       " ╱     ╱                            \n",
       " ‾‾‾   ‾‾‾                          \n",
       "j = 1 i = 1                         "
      ]
     },
     "execution_count": 9,
     "metadata": {},
     "output_type": "execute_result"
    }
   ],
   "source": [
    "r = IndexedBase(r\"\\vec{r}\", shape=(Ne,Ne))\n",
    "d = Sum(-e*r[i,j]*AtomicKet(i)*AtomicBra(j), (i, 1, Ne), (j,1,Ne))\n",
    "d"
   ]
  },
  {
   "cell_type": "markdown",
   "metadata": {},
   "source": [
    "which we can similarly divide in positive and negative frequency components (that appear in the interaction picture)."
   ]
  },
  {
   "cell_type": "code",
   "execution_count": 10,
   "metadata": {
    "collapsed": false
   },
   "outputs": [
    {
     "data": {
      "image/png": "[encoded data removed]",
      "text/latex": [
       "$$\\left ( \\sum_{\\substack{i + 1 \\leq j \\leq N_{e}\\\\1 \\leq i \\leq N_{e}}} \\vec{r}^{(+)}_{i,j} {\\left|i\\right\\rangle } {\\left\\langle j\\right|}, \\quad \\sum_{\\substack{1 \\leq j \\leq N_{e}\\\\j + 1 \\leq i \\leq N_{e}}} \\vec{r}^{(-)}_{i,j} {\\left|i\\right\\rangle } {\\left\\langle j\\right|}\\right )$$"
      ],
      "text/plain": [
       "⎛  Nₑ      Nₑ                                     Nₑ      Nₑ                  \n",
       "⎜ ___     ___                                    ___     ___                  \n",
       "⎜ ╲       ╲                                      ╲       ╲                    \n",
       "⎜  ╲       ╲     \\vec{r}^{(+)}[i, j]⋅❘i⟩⋅⟨j❘      ╲       ╲   \\vec{r}^{(-)}[i,\n",
       "⎜  ╱       ╱                                ,     ╱       ╱                   \n",
       "⎜ ╱       ╱                                      ╱       ╱                    \n",
       "⎜ ‾‾‾     ‾‾‾                                    ‾‾‾     ‾‾‾                  \n",
       "⎝i = 1 j = i + 1                              i = j + 1 j = 1                 \n",
       "\n",
       "           ⎞\n",
       "           ⎟\n",
       "           ⎟\n",
       " j]⋅❘i⟩⋅⟨j❘⎟\n",
       "           ⎟\n",
       "           ⎟\n",
       "           ⎟\n",
       "           ⎠"
      ]
     },
     "execution_count": 10,
     "metadata": {},
     "output_type": "execute_result"
    }
   ],
   "source": [
    "rp = IndexedBase(r\"\\vec{r}^{(+)}\", shape=(Ne,Ne))\n",
    "rm = IndexedBase(r\"\\vec{r}^{(-)}\", shape=(Ne,Ne))\n",
    "\n",
    "#rp = rp[i, j]# *AtomicKet(i)*AtomicBra(j)\n",
    "#rm = rm[i, j]# *AtomicKet(i)*AtomicBra(j)\n",
    "\n",
    "r = rp + rm\n",
    "\n",
    "rps = Sum(rp[i, j]*AtomicKet(i)*AtomicBra(j), (j,i+1,Ne), (i, 1, Ne))\n",
    "rms = Sum(rm[i, j]*AtomicKet(i)*AtomicBra(j), (j, 1, Ne), (i, j+1, Ne))\n",
    "\n",
    "rps, rms"
   ]
  },
  {
   "cell_type": "code",
   "execution_count": 11,
   "metadata": {
    "collapsed": false
   },
   "outputs": [
    {
     "data": {
      "image/png": "[encoded data removed]",
      "text/latex": [
       "$$\\sum_{\\substack{1 \\leq j \\leq N_{e}\\\\1 \\leq i \\leq N_{e}}} \\left(\\vec{r}^{(+)}_{i,j} + \\vec{r}^{(-)}_{i,j}\\right) {\\left|i\\right\\rangle } {\\left\\langle j\\right|}$$"
      ],
      "text/plain": [
       "  Nₑ    Nₑ                                                     \n",
       " ___   ___                                                     \n",
       " ╲     ╲                                                       \n",
       "  ╲     ╲   (\\vec{r}^{(+)}[i, j] + \\vec{r}^{(-)}[i, j])⋅❘i⟩⋅⟨j❘\n",
       "  ╱     ╱                                                      \n",
       " ╱     ╱                                                       \n",
       " ‾‾‾   ‾‾‾                                                     \n",
       "i = 1 j = 1                                                    "
      ]
     },
     "execution_count": 11,
     "metadata": {},
     "output_type": "execute_result"
    }
   ],
   "source": [
    "rs = Sum((rp[i, j]+rm[i, j])*AtomicKet(i)*AtomicBra(j), (j, 1, Ne), (i, 1, Ne))\n",
    "rs"
   ]
  },
  {
   "cell_type": "markdown",
   "metadata": {},
   "source": [
    "Which is a rather elaborate way of saying that the operator can be separated in the components above (+) and below (-) of the diagonal.\n",
    "\n",
    "# The rotating wave approximation\n",
    "In the electric dipole approximation, the interaction hamiltonian is"
   ]
  },
  {
   "cell_type": "code",
   "execution_count": 12,
   "metadata": {
    "collapsed": false
   },
   "outputs": [
    {
     "data": {
      "image/png": "[encoded data removed]",
      "text/latex": [
       "$$\\sum_{\\substack{1 \\leq l \\leq N_{l}\\\\1 \\leq i \\leq N_{e}\\\\1 \\leq j \\leq N_{e}}} \\left(- \\frac{e E^{(-)}_{l}}{2} e^{i t \\varpi_{l}} \\vec{\\varepsilon}^{(-)}_{l} \\vec{r}^{(+)}_{i,j} - \\frac{e E^{(-)}_{l}}{2} e^{i t \\varpi_{l}} \\vec{\\varepsilon}^{(-)}_{l} \\vec{r}^{(-)}_{i,j} - \\frac{e E^{(+)}_{l}}{2} e^{- i t \\varpi_{l}} \\vec{\\varepsilon}^{(+)}_{l} \\vec{r}^{(+)}_{i,j} - \\frac{e E^{(+)}_{l}}{2} e^{- i t \\varpi_{l}} \\vec{\\varepsilon}^{(+)}_{l} \\vec{r}^{(-)}_{i,j}\\right) {\\left|i\\right\\rangle } {\\left\\langle j\\right|}$$"
      ],
      "text/plain": [
       "  Nₑ    Nₑ   N_l                                                              \n",
       " ____  ____  ____                                                             \n",
       " ╲     ╲     ╲                                                                \n",
       "  ╲     ╲     ╲   ⎛     ⅈ⋅t⋅varpi[l]                                          \n",
       "   ╲     ╲     ╲  ⎜  e⋅ℯ            ⋅E^{(-)}[l]⋅\\vec{\\varepsilon}^{(-)}[l]⋅\\ve\n",
       "   ╱     ╱     ╱  ⎜- ─────────────────────────────────────────────────────────\n",
       "  ╱     ╱     ╱   ⎝                                      2                    \n",
       " ╱     ╱     ╱                                                                \n",
       " ‾‾‾‾  ‾‾‾‾  ‾‾‾‾                                                             \n",
       "j = 1 i = 1 l = 1                                                             \n",
       "\n",
       "                                                                              \n",
       "                                                                              \n",
       "                                                                              \n",
       "                      ⅈ⋅t⋅varpi[l]                                            \n",
       "c{r}^{(+)}[i, j]   e⋅ℯ            ⋅E^{(-)}[l]⋅\\vec{\\varepsilon}^{(-)}[l]⋅\\vec{\n",
       "──────────────── - ───────────────────────────────────────────────────────────\n",
       "                                                       2                      \n",
       "                                                                              \n",
       "                                                                              \n",
       "                                                                              \n",
       "\n",
       "                                                                              \n",
       "                                                                              \n",
       "                                                                              \n",
       "                    -ⅈ⋅t⋅varpi[l]                                             \n",
       "r}^{(-)}[i, j]   e⋅ℯ             ⋅E^{(+)}[l]⋅\\vec{\\varepsilon}^{(+)}[l]⋅\\vec{r\n",
       "────────────── - ─────────────────────────────────────────────────────────────\n",
       "                                                     2                        \n",
       "                                                                              \n",
       "                                                                              \n",
       "                                                                              \n",
       "\n",
       "                                                                              \n",
       "                                                                              \n",
       "                                                                              \n",
       "                   -ⅈ⋅t⋅varpi[l]                                              \n",
       "}^{(+)}[i, j]   e⋅ℯ             ⋅E^{(+)}[l]⋅\\vec{\\varepsilon}^{(+)}[l]⋅\\vec{r}\n",
       "───────────── - ──────────────────────────────────────────────────────────────\n",
       "                                                    2                         \n",
       "                                                                              \n",
       "                                                                              \n",
       "                                                                              \n",
       "\n",
       "                     \n",
       "                     \n",
       "                     \n",
       "            ⎞        \n",
       "^{(-)}[i, j]⎟        \n",
       "────────────⎟⋅❘i⟩⋅⟨j❘\n",
       "            ⎠        \n",
       "                     \n",
       "                     \n",
       "                     "
      ]
     },
     "execution_count": 12,
     "metadata": {},
     "output_type": "execute_result"
    }
   ],
   "source": [
    "H1E1 = -e*rp[i, j]*Ep  -e*rp[i, j]*Em  -e*rm[i, j]*Ep -e*rm[i, j]*Em\n",
    "\n",
    "H1E1s = Sum(H1E1*AtomicKet(i)*AtomicBra(j), (l, 1, Nl), (i, 1, Ne), (j, 1, Ne))\n",
    "H1E1s"
   ]
  },
  {
   "cell_type": "markdown",
   "metadata": {},
   "source": [
    "In the rotating wave approximation, this is approximated by"
   ]
  },
  {
   "cell_type": "code",
   "execution_count": 13,
   "metadata": {
    "collapsed": false
   },
   "outputs": [
    {
     "data": {
      "image/png": "[encoded data removed]",
      "text/latex": [
       "$$\\sum_{\\substack{1 \\leq l \\leq N_{l}\\\\1 \\leq j \\leq N_{e}\\\\1 \\leq i \\leq N_{e}}} \\left(- \\frac{e E^{(-)}_{l}}{2} e^{i t \\varpi_{l}} \\vec{\\varepsilon}^{(-)}_{l} \\vec{r}^{(+)}_{i,j} - \\frac{e E^{(+)}_{l}}{2} e^{- i t \\varpi_{l}} \\vec{\\varepsilon}^{(+)}_{l} \\vec{r}^{(-)}_{i,j}\\right) {\\left|i\\right\\rangle } {\\left\\langle j\\right|}$$"
      ],
      "text/plain": [
       "  Nₑ    Nₑ   N_l                                                              \n",
       " ____  ____  ____                                                             \n",
       " ╲     ╲     ╲                                                                \n",
       "  ╲     ╲     ╲   ⎛     ⅈ⋅t⋅varpi[l]                                          \n",
       "   ╲     ╲     ╲  ⎜  e⋅ℯ            ⋅E^{(-)}[l]⋅\\vec{\\varepsilon}^{(-)}[l]⋅\\ve\n",
       "   ╱     ╱     ╱  ⎜- ─────────────────────────────────────────────────────────\n",
       "  ╱     ╱     ╱   ⎝                                      2                    \n",
       " ╱     ╱     ╱                                                                \n",
       " ‾‾‾‾  ‾‾‾‾  ‾‾‾‾                                                             \n",
       "i = 1 j = 1 l = 1                                                             \n",
       "\n",
       "                                                                              \n",
       "                                                                              \n",
       "                                                                              \n",
       "                      -ⅈ⋅t⋅varpi[l]                                           \n",
       "c{r}^{(+)}[i, j]   e⋅ℯ             ⋅E^{(+)}[l]⋅\\vec{\\varepsilon}^{(+)}[l]⋅\\vec\n",
       "──────────────── - ───────────────────────────────────────────────────────────\n",
       "                                                       2                      \n",
       "                                                                              \n",
       "                                                                              \n",
       "                                                                              \n",
       "\n",
       "                        \n",
       "                        \n",
       "                        \n",
       "               ⎞        \n",
       "{r}^{(-)}[i, j]⎟        \n",
       "───────────────⎟⋅❘i⟩⋅⟨j❘\n",
       "               ⎠        \n",
       "                        \n",
       "                        \n",
       "                        "
      ]
     },
     "execution_count": 13,
     "metadata": {},
     "output_type": "execute_result"
    }
   ],
   "source": [
    "H1E1RWA = -e*rp[i, j]*Em  -e*rm[i, j]*Ep\n",
    "H1E1RWAs = Sum(H1E1RWA*AtomicKet(i)*AtomicBra(j), (l, 1, Nl), (j, 1, Ne), (i, 1, Ne))\n",
    "\n",
    "H1E1RWAs"
   ]
  },
  {
   "cell_type": "markdown",
   "metadata": {},
   "source": [
    "And the full hamiltonian is"
   ]
  },
  {
   "cell_type": "code",
   "execution_count": 14,
   "metadata": {
    "collapsed": false
   },
   "outputs": [
    {
     "data": {
      "image/png": "[encoded data removed]",
      "text/latex": [
       "$$\\sum_{\\substack{1 \\leq l \\leq N_{l}\\\\1 \\leq j \\leq N_{e}\\\\1 \\leq i \\leq N_{e}}} \\left(- \\frac{e E^{(-)}_{l}}{2} e^{i t \\varpi_{l}} \\vec{\\varepsilon}^{(-)}_{l} \\vec{r}^{(+)}_{i,j} - \\frac{e E^{(+)}_{l}}{2} e^{- i t \\varpi_{l}} \\vec{\\varepsilon}^{(+)}_{l} \\vec{r}^{(-)}_{i,j} + \\hbar \\delta_{i, j} \\omega_{i}\\right) {\\left|i\\right\\rangle } {\\left\\langle j\\right|}$$"
      ],
      "text/plain": [
       "  Nₑ    Nₑ   N_l                                                              \n",
       " ____  ____  ____                                                             \n",
       " ╲     ╲     ╲                                                                \n",
       "  ╲     ╲     ╲   ⎛     ⅈ⋅t⋅varpi[l]                                          \n",
       "   ╲     ╲     ╲  ⎜  e⋅ℯ            ⋅E^{(-)}[l]⋅\\vec{\\varepsilon}^{(-)}[l]⋅\\ve\n",
       "   ╱     ╱     ╱  ⎜- ─────────────────────────────────────────────────────────\n",
       "  ╱     ╱     ╱   ⎝                                      2                    \n",
       " ╱     ╱     ╱                                                                \n",
       " ‾‾‾‾  ‾‾‾‾  ‾‾‾‾                                                             \n",
       "i = 1 j = 1 l = 1                                                             \n",
       "\n",
       "                                                                              \n",
       "                                                                              \n",
       "                                                                              \n",
       "                      -ⅈ⋅t⋅varpi[l]                                           \n",
       "c{r}^{(+)}[i, j]   e⋅ℯ             ⋅E^{(+)}[l]⋅\\vec{\\varepsilon}^{(+)}[l]⋅\\vec\n",
       "──────────────── - ───────────────────────────────────────────────────────────\n",
       "                                                       2                      \n",
       "                                                                              \n",
       "                                                                              \n",
       "                                                                              \n",
       "\n",
       "                                           \n",
       "                                           \n",
       "                                           \n",
       "                                  ⎞        \n",
       "{r}^{(-)}[i, j]                   ⎟        \n",
       "─────────────── + h̅⋅δ   ⋅omega[i]⎟⋅❘i⟩⋅⟨j❘\n",
       "                      i,j         ⎠        \n",
       "                                           \n",
       "                                           \n",
       "                                           "
      ]
     },
     "execution_count": 14,
     "metadata": {},
     "output_type": "execute_result"
    }
   ],
   "source": [
    "HE1RWA = H0 + H1E1RWA\n",
    "HE1RWAs = Sum(HE1RWA*AtomicKet(i)*AtomicBra(j), (l, 1, Nl), (j, 1, Ne), (i, 1, Ne))\n",
    "\n",
    "HE1RWAs"
   ]
  },
  {
   "cell_type": "markdown",
   "metadata": {},
   "source": [
    "# The rotating frame\n",
    "We make an arbitrary phase transformation on an arbitrary atomic state"
   ]
  },
  {
   "cell_type": "code",
   "execution_count": 15,
   "metadata": {
    "collapsed": false
   },
   "outputs": [
    {
     "data": {
      "image/png": "[encoded data removed]",
      "text/latex": [
       "$$\\sum_{i=1}^{N_{e}} e^{i \\theta_{i}} \\tilde{c}_{i} {\\left|i\\right\\rangle }$$"
      ],
      "text/plain": [
       "  Nₑ                               \n",
       " ___                               \n",
       " ╲                                 \n",
       "  ╲    ⅈ⋅\\theta[i]                 \n",
       "  ╱   ℯ           ⋅\\tilde{c}[i]⋅❘i⟩\n",
       " ╱                                 \n",
       " ‾‾‾                               \n",
       "i = 1                              "
      ]
     },
     "execution_count": 15,
     "metadata": {},
     "output_type": "execute_result"
    }
   ],
   "source": [
    "c = IndexedBase(r\"c\", shape=(Ne,))\n",
    "ct = IndexedBase(r\"\\tilde{c}\", shape=(Ne,))\n",
    "theta = IndexedBase(r\"\\theta\", shape=(Ne,))\n",
    "\n",
    "psi = ct[i]*exp(I*theta[i])*AtomicKet(i)\n",
    "psis = Sum(psi, (i, 1, Ne))\n",
    "psis"
   ]
  },
  {
   "cell_type": "markdown",
   "metadata": {},
   "source": [
    "The Schrödinger equation is"
   ]
  },
  {
   "cell_type": "code",
   "execution_count": 16,
   "metadata": {
    "collapsed": false
   },
   "outputs": [
    {
     "data": {
      "image/png": "[encoded data removed]",
      "text/latex": [
       "$$\\sum_{i=1}^{N_{e}} i \\hbar \\left(i e^{i \\theta_{i}} \\dot{\\theta}_{i} \\tilde{c}_{i} + e^{i \\theta_{i}} \\dot{\\tilde{c}}_{i}\\right) {\\left|i\\right\\rangle }$$"
      ],
      "text/plain": [
       "  Nₑ                                                                          \n",
       " ___                                                                          \n",
       " ╲                                                                            \n",
       "  ╲        ⎛   ⅈ⋅\\theta[i]                                 ⅈ⋅\\theta[i]        \n",
       "  ╱   ⅈ⋅h̅⋅⎝ⅈ⋅ℯ           ⋅\\dot{\\theta}[i]⋅\\tilde{c}[i] + ℯ           ⋅\\dot{\\t\n",
       " ╱                                                                            \n",
       " ‾‾‾                                                                          \n",
       "i = 1                                                                         \n",
       "\n",
       "                \n",
       "                \n",
       "                \n",
       "           ⎞    \n",
       "ilde{c}}[i]⎠⋅❘i⟩\n",
       "                \n",
       "                \n",
       "                "
      ]
     },
     "execution_count": 16,
     "metadata": {},
     "output_type": "execute_result"
    }
   ],
   "source": [
    "ctp = IndexedBase(r\"\\dot{\\tilde{c}}\", shape=(Ne,))\n",
    "thetap = IndexedBase(r\"\\dot{\\theta}\", shape=(Ne,))\n",
    "\n",
    "\n",
    "lhs = I*hbar*(exp(I*theta[i])*ctp[i]+I*thetap[i]*exp(I*theta[i])*ct[i])*AtomicKet(i)\n",
    "lhss = Sum(lhs, (i, 1, Ne))\n",
    "lhss"
   ]
  },
  {
   "cell_type": "code",
   "execution_count": 17,
   "metadata": {
    "collapsed": false
   },
   "outputs": [
    {
     "data": {
      "image/png": "[encoded data removed]",
      "text/latex": [
       "$$\\sum_{\\substack{0 \\leq i \\leq N_{e}\\\\0 \\leq l \\leq N_{l}}} \\left(\\sum_{j=0}^{N_{e}} \\left(- \\frac{e E^{(-)}_{l}}{2} e^{i \\theta_{j}} e^{i t \\varpi_{l}} \\tilde{c}_{j} \\vec{\\varepsilon}^{(-)}_{l} \\vec{r}^{(+)}_{i,j} - \\frac{e E^{(+)}_{l}}{2} e^{i \\theta_{j}} e^{- i t \\varpi_{l}} \\tilde{c}_{j} \\vec{\\varepsilon}^{(+)}_{l} \\vec{r}^{(-)}_{i,j} + \\hbar e^{i \\theta_{j}} \\delta_{i, j} \\tilde{c}_{j} \\omega_{i}\\right)\\right) {\\left|i\\right\\rangle }$$"
      ],
      "text/plain": [
       "  N_l      Nₑ                                                                 \n",
       "_______ _______                                                               \n",
       "╲       ╲                                                                     \n",
       " ╲       ╲      ⎛  Nₑ                                                         \n",
       "  ╲       ╲     ⎜ ____                                                        \n",
       "   ╲       ╲    ⎜ ╲                                                           \n",
       "    ╲       ╲   ⎜  ╲   ⎛     ⅈ⋅\\theta[j]  ⅈ⋅t⋅varpi[l]                        \n",
       "     ╲       ╲  ⎜   ╲  ⎜  e⋅ℯ           ⋅ℯ            ⋅E^{(-)}[l]⋅\\tilde{c}[j]\n",
       "     ╱       ╱  ⎜   ╱  ⎜- ────────────────────────────────────────────────────\n",
       "    ╱       ╱   ⎜  ╱   ⎝                                                   2  \n",
       "   ╱       ╱    ⎜ ╱                                                           \n",
       "  ╱       ╱     ⎜ ‾‾‾‾                                                        \n",
       " ╱       ╱      ⎝j = 0                                                        \n",
       "╱       ╱                                                                     \n",
       "‾‾‾‾‾‾‾ ‾‾‾‾‾‾‾                                                               \n",
       " l = 0   i = 0                                                                \n",
       "\n",
       "                                                                              \n",
       "                                                                              \n",
       "                                                                              \n",
       "                                                                              \n",
       "                                                                              \n",
       "                                                                              \n",
       "                                                     ⅈ⋅\\theta[j]  -ⅈ⋅t⋅varpi[l\n",
       "⋅\\vec{\\varepsilon}^{(-)}[l]⋅\\vec{r}^{(+)}[i, j]   e⋅ℯ           ⋅ℯ            \n",
       "─────────────────────────────────────────────── - ────────────────────────────\n",
       "                                                                              \n",
       "                                                                              \n",
       "                                                                              \n",
       "                                                                              \n",
       "                                                                              \n",
       "                                                                              \n",
       "                                                                              \n",
       "\n",
       "                                                                              \n",
       "                                                                              \n",
       "                                                                              \n",
       "                                                                              \n",
       "                                                                              \n",
       "                                                                              \n",
       "]                                                                             \n",
       " ⋅E^{(+)}[l]⋅\\tilde{c}[j]⋅\\vec{\\varepsilon}^{(+)}[l]⋅\\vec{r}^{(-)}[i, j]      \n",
       "──────────────────────────────────────────────────────────────────────── + h̅⋅\n",
       "                     2                                                        \n",
       "                                                                              \n",
       "                                                                              \n",
       "                                                                              \n",
       "                                                                              \n",
       "                                                                              \n",
       "                                                                              \n",
       "\n",
       "                                             \n",
       "                                             \n",
       "                                             \n",
       "                                        ⎞    \n",
       "                                        ⎟    \n",
       "                                        ⎟    \n",
       "                                       ⎞⎟    \n",
       " ⅈ⋅\\theta[j]                           ⎟⎟    \n",
       "ℯ           ⋅δ   ⋅\\tilde{c}[j]⋅omega[i]⎟⎟⋅❘i⟩\n",
       "              i,j                      ⎠⎟    \n",
       "                                        ⎟    \n",
       "                                        ⎟    \n",
       "                                        ⎠    \n",
       "                                             \n",
       "                                             \n",
       "                                             "
      ]
     },
     "execution_count": 17,
     "metadata": {},
     "output_type": "execute_result"
    }
   ],
   "source": [
    "rhs = HE1RWA.subs({j: k})*psi.subs({i: k})\n",
    "rhs = rhs.expand()\n",
    "rhs = rhs.subs({AtomicKet(k): 1}).subs({AtomicBra(k): 1})\n",
    "rhs = rhs.subs({k: j})\n",
    "rhs = Sum(rhs, (j, 0, Ne))\n",
    "\n",
    "rhss = Sum(rhs*AtomicKet(i), (i, 0, Ne), (l, 0, Nl))\n",
    "rhss"
   ]
  },
  {
   "cell_type": "markdown",
   "metadata": {},
   "source": [
    "And now, component-wise, we multiply by $e^{-i\\theta_i}$ and add $\\hbar \\dot{\\theta}_i\\tilde{c}_i$"
   ]
  },
  {
   "cell_type": "code",
   "execution_count": 18,
   "metadata": {
    "collapsed": false
   },
   "outputs": [
    {
     "data": {
      "image/png": "[encoded data removed]",
      "text/latex": [
       "$$\\sum_{i=1}^{N_{e}} i \\hbar \\dot{\\tilde{c}}_{i} {\\left|i\\right\\rangle }$$"
      ],
      "text/plain": [
       "  Nₑ                             \n",
       " ___                             \n",
       " ╲                               \n",
       "  ╲   ⅈ⋅h̅⋅\\dot{\\tilde{c}}[i]⋅❘i⟩\n",
       "  ╱                              \n",
       " ╱                               \n",
       " ‾‾‾                             \n",
       "i = 1                            "
      ]
     },
     "execution_count": 18,
     "metadata": {},
     "output_type": "execute_result"
    }
   ],
   "source": [
    "lhs_tilde = lhs.subs({AtomicKet(i):1})*exp(-I*theta[i])\n",
    "lhs_tilde = lhs_tilde.expand()\n",
    "lhs_tilde = lhs_tilde + hbar*thetap[i]*ct[i]\n",
    "\n",
    "lhs_tildes = Sum(lhs_tilde*AtomicKet(i), (i, 1, Ne))\n",
    "\n",
    "lhs_tildes"
   ]
  },
  {
   "cell_type": "code",
   "execution_count": 19,
   "metadata": {
    "collapsed": false
   },
   "outputs": [
    {
     "data": {
      "image/png": "[encoded data removed]",
      "text/latex": [
       "$$\\sum_{\\substack{1 \\leq l \\leq N_{l}\\\\1 \\leq i \\leq N_{e}}} \\left(\\hbar \\dot{\\theta}_{i} \\tilde{c}_{i} + \\sum_{j=0}^{N_{e}} \\left(- \\frac{e E^{(-)}_{l}}{2} e^{- i \\theta_{i}} e^{i \\theta_{j}} e^{i t \\varpi_{l}} \\tilde{c}_{j} \\vec{\\varepsilon}^{(-)}_{l} \\vec{r}^{(+)}_{i,j} - \\frac{e E^{(+)}_{l}}{2} e^{- i \\theta_{i}} e^{i \\theta_{j}} e^{- i t \\varpi_{l}} \\tilde{c}_{j} \\vec{\\varepsilon}^{(+)}_{l} \\vec{r}^{(-)}_{i,j} + \\hbar e^{- i \\theta_{i}} e^{i \\theta_{j}} \\delta_{i, j} \\tilde{c}_{j} \\omega_{i}\\right)\\right) {\\left|i\\right\\rangle }$$"
      ],
      "text/plain": [
       "   Nₑ     N_l                                                                 \n",
       "_______ _______                                                               \n",
       "╲       ╲                                                                     \n",
       " ╲       ╲      ⎛                                    Nₑ                       \n",
       "  ╲       ╲     ⎜                                   ____                      \n",
       "   ╲       ╲    ⎜                                   ╲                         \n",
       "    ╲       ╲   ⎜                                    ╲   ⎛     -ⅈ⋅\\theta[i]  ⅈ\n",
       "     ╲       ╲  ⎜                                     ╲  ⎜  e⋅ℯ            ⋅ℯ \n",
       "     ╱       ╱  ⎜h̅⋅\\dot{\\theta}[i]⋅\\tilde{c}[i] +    ╱  ⎜- ──────────────────\n",
       "    ╱       ╱   ⎜                                    ╱   ⎝                    \n",
       "   ╱       ╱    ⎜                                   ╱                         \n",
       "  ╱       ╱     ⎜                                   ‾‾‾‾                      \n",
       " ╱       ╱      ⎝                                  j = 0                      \n",
       "╱       ╱                                                                     \n",
       "‾‾‾‾‾‾‾ ‾‾‾‾‾‾‾                                                               \n",
       " i = 1   l = 1                                                                \n",
       "\n",
       "                                                                              \n",
       "                                                                              \n",
       "                                                                              \n",
       "                                                                              \n",
       "                                                                              \n",
       "                                                                              \n",
       "⋅\\theta[j]  ⅈ⋅t⋅varpi[l]                                                      \n",
       "          ⋅ℯ            ⋅E^{(-)}[l]⋅\\tilde{c}[j]⋅\\vec{\\varepsilon}^{(-)}[l]⋅\\v\n",
       "──────────────────────────────────────────────────────────────────────────────\n",
       "                                      2                                       \n",
       "                                                                              \n",
       "                                                                              \n",
       "                                                                              \n",
       "                                                                              \n",
       "                                                                              \n",
       "                                                                              \n",
       "\n",
       "                                                                              \n",
       "                                                                              \n",
       "                                                                              \n",
       "                                                                              \n",
       "                                                                              \n",
       "                                                                              \n",
       "                       -ⅈ⋅\\theta[i]  ⅈ⋅\\theta[j]  -ⅈ⋅t⋅varpi[l]               \n",
       "ec{r}^{(+)}[i, j]   e⋅ℯ            ⋅ℯ           ⋅ℯ             ⋅E^{(+)}[l]⋅\\ti\n",
       "───────────────── - ──────────────────────────────────────────────────────────\n",
       "                                                                            2 \n",
       "                                                                              \n",
       "                                                                              \n",
       "                                                                              \n",
       "                                                                              \n",
       "                                                                              \n",
       "                                                                              \n",
       "\n",
       "                                                                              \n",
       "                                                                              \n",
       "                                                                              \n",
       "                                                                              \n",
       "                                                                              \n",
       "                                                                              \n",
       "                                                                              \n",
       "lde{c}[j]⋅\\vec{\\varepsilon}^{(+)}[l]⋅\\vec{r}^{(-)}[i, j]       -ⅈ⋅\\theta[i]  ⅈ\n",
       "──────────────────────────────────────────────────────── + h̅⋅ℯ            ⋅ℯ \n",
       "                                                                              \n",
       "                                                                              \n",
       "                                                                              \n",
       "                                                                              \n",
       "                                                                              \n",
       "                                                                              \n",
       "                                                                              \n",
       "\n",
       "                                           \n",
       "                                           \n",
       "                                           \n",
       "                                      ⎞    \n",
       "                                      ⎟    \n",
       "                                      ⎟    \n",
       "                                     ⎞⎟    \n",
       "⋅\\theta[j]                           ⎟⎟    \n",
       "          ⋅δ   ⋅\\tilde{c}[j]⋅omega[i]⎟⎟⋅❘i⟩\n",
       "            i,j                      ⎠⎟    \n",
       "                                      ⎟    \n",
       "                                      ⎟    \n",
       "                                      ⎠    \n",
       "                                           \n",
       "                                           \n",
       "                                           "
      ]
     },
     "execution_count": 19,
     "metadata": {},
     "output_type": "execute_result"
    }
   ],
   "source": [
    "rhs_tilde = rhs.subs({AtomicKet(i):1})\n",
    "rhs_tilde = Sum((rhs_tilde.args[0]*exp(-I*theta[i])).expand(), rhs_tilde.args[1])\n",
    "rhs_tilde = rhs_tilde + hbar*thetap[i]*ct[i]\n",
    "\n",
    "rhs_tildes = Sum(rhs_tilde*AtomicKet(i), (l, 1, Nl), (i, 1, Ne))\n",
    "rhs_tildes"
   ]
  },
  {
   "cell_type": "markdown",
   "metadata": {},
   "source": [
    "We can bring the first tem into the $j$ sum"
   ]
  },
  {
   "cell_type": "code",
   "execution_count": 20,
   "metadata": {
    "collapsed": false
   },
   "outputs": [
    {
     "data": {
      "image/png": "[encoded data removed]",
      "text/latex": [
       "$$\\sum_{\\substack{1 \\leq l \\leq N_{l}\\\\1 \\leq i \\leq N_{e}}} \\left(\\sum_{j=0}^{N_{e}} \\left(- \\frac{e E^{(-)}_{l}}{2} e^{- i \\theta_{i}} e^{i \\theta_{j}} e^{i t \\varpi_{l}} \\tilde{c}_{j} \\vec{\\varepsilon}^{(-)}_{l} \\vec{r}^{(+)}_{i,j} - \\frac{e E^{(+)}_{l}}{2} e^{- i \\theta_{i}} e^{i \\theta_{j}} e^{- i t \\varpi_{l}} \\tilde{c}_{j} \\vec{\\varepsilon}^{(+)}_{l} \\vec{r}^{(-)}_{i,j} + \\hbar \\delta_{i, j} \\dot{\\theta}_{j} \\tilde{c}_{j} + \\hbar e^{- i \\theta_{i}} e^{i \\theta_{j}} \\delta_{i, j} \\tilde{c}_{j} \\omega_{i}\\right)\\right) {\\left|i\\right\\rangle }$$"
      ],
      "text/plain": [
       "   Nₑ     N_l                                                                 \n",
       "_______ _______                                                               \n",
       "╲       ╲                                                                     \n",
       " ╲       ╲      ⎛  Nₑ                                                         \n",
       "  ╲       ╲     ⎜ ____                                                        \n",
       "   ╲       ╲    ⎜ ╲                                                           \n",
       "    ╲       ╲   ⎜  ╲   ⎛     -ⅈ⋅\\theta[i]  ⅈ⋅\\theta[j]  ⅈ⋅t⋅varpi[l]          \n",
       "     ╲       ╲  ⎜   ╲  ⎜  e⋅ℯ            ⋅ℯ           ⋅ℯ            ⋅E^{(-)}[l\n",
       "     ╱       ╱  ⎜   ╱  ⎜- ────────────────────────────────────────────────────\n",
       "    ╱       ╱   ⎜  ╱   ⎝                                                      \n",
       "   ╱       ╱    ⎜ ╱                                                           \n",
       "  ╱       ╱     ⎜ ‾‾‾‾                                                        \n",
       " ╱       ╱      ⎝j = 0                                                        \n",
       "╱       ╱                                                                     \n",
       "‾‾‾‾‾‾‾ ‾‾‾‾‾‾‾                                                               \n",
       " i = 1   l = 1                                                                \n",
       "\n",
       "                                                                              \n",
       "                                                                              \n",
       "                                                                              \n",
       "                                                                              \n",
       "                                                                              \n",
       "                                                                              \n",
       "                                                                   -ⅈ⋅\\theta[i\n",
       "]⋅\\tilde{c}[j]⋅\\vec{\\varepsilon}^{(-)}[l]⋅\\vec{r}^{(+)}[i, j]   e⋅ℯ           \n",
       "───────────────────────────────────────────────────────────── - ──────────────\n",
       "    2                                                                         \n",
       "                                                                              \n",
       "                                                                              \n",
       "                                                                              \n",
       "                                                                              \n",
       "                                                                              \n",
       "                                                                              \n",
       "\n",
       "                                                                              \n",
       "                                                                              \n",
       "                                                                              \n",
       "                                                                              \n",
       "                                                                              \n",
       "                                                                              \n",
       "]  ⅈ⋅\\theta[j]  -ⅈ⋅t⋅varpi[l]                                                 \n",
       " ⋅ℯ           ⋅ℯ             ⋅E^{(+)}[l]⋅\\tilde{c}[j]⋅\\vec{\\varepsilon}^{(+)}[\n",
       "──────────────────────────────────────────────────────────────────────────────\n",
       "                                          2                                   \n",
       "                                                                              \n",
       "                                                                              \n",
       "                                                                              \n",
       "                                                                              \n",
       "                                                                              \n",
       "                                                                              \n",
       "\n",
       "                                                                              \n",
       "                                                                              \n",
       "                                                                              \n",
       "                                                                              \n",
       "                                                                              \n",
       "                                                                              \n",
       "                                                                              \n",
       "l]⋅\\vec{r}^{(-)}[i, j]                                              -ⅈ⋅\\theta[\n",
       "────────────────────── + h̅⋅δ   ⋅\\dot{\\theta}[j]⋅\\tilde{c}[j] + h̅⋅ℯ          \n",
       "                             i,j                                              \n",
       "                                                                              \n",
       "                                                                              \n",
       "                                                                              \n",
       "                                                                              \n",
       "                                                                              \n",
       "                                                                              \n",
       "\n",
       "                                                \n",
       "                                                \n",
       "                                                \n",
       "                                           ⎞    \n",
       "                                           ⎟    \n",
       "                                           ⎟    \n",
       "                                          ⎞⎟    \n",
       "i]  ⅈ⋅\\theta[j]                           ⎟⎟    \n",
       "  ⋅ℯ           ⋅δ   ⋅\\tilde{c}[j]⋅omega[i]⎟⎟⋅❘i⟩\n",
       "                 i,j                      ⎠⎟    \n",
       "                                           ⎟    \n",
       "                                           ⎟    \n",
       "                                           ⎠    \n",
       "                                                \n",
       "                                                \n",
       "                                                "
      ]
     },
     "execution_count": 20,
     "metadata": {},
     "output_type": "execute_result"
    }
   ],
   "source": [
    "rhs_tilde2 = Sum(rhs_tilde.args[1].args[0]+rhs_tilde.args[0].subs({i: j})*KroneckerDelta(i,j), rhs_tilde.args[1].args[1])\n",
    "\n",
    "rhs_tildes = Sum(rhs_tilde2*AtomicKet(i), (l, 1, Nl), (i, 1, Ne))\n",
    "rhs_tildes"
   ]
  },
  {
   "cell_type": "markdown",
   "metadata": {},
   "source": [
    "So we can see that the condition for the elimination of explicit time dependence is that $\\dot{\\theta}_j$ is a constant, and that"
   ]
  },
  {
   "cell_type": "code",
   "execution_count": 21,
   "metadata": {
    "collapsed": false
   },
   "outputs": [
    {
     "data": {
      "image/png": "[encoded data removed]",
      "text/latex": [
       "$$t \\varpi_{l} - \\theta_{i} + \\theta_{j}$$"
      ],
      "text/plain": [
       "t⋅varpi[l] - \\theta[i] + \\theta[j]"
      ]
     },
     "execution_count": 21,
     "metadata": {},
     "output_type": "execute_result"
    }
   ],
   "source": [
    "eqs_phase = -theta[i]+theta[j]+t*omega_laser[l]\n",
    "eqs_phase"
   ]
  },
  {
   "cell_type": "markdown",
   "metadata": {},
   "source": [
    "for $j>i$. Notice that equations"
   ]
  },
  {
   "cell_type": "code",
   "execution_count": 22,
   "metadata": {
    "collapsed": false
   },
   "outputs": [
    {
     "data": {
      "image/png": "[encoded data removed]",
      "text/latex": [
       "$$- t \\varpi_{l} - \\theta_{i} + \\theta_{j}$$"
      ],
      "text/plain": [
       "-t⋅varpi[l] - \\theta[i] + \\theta[j]"
      ]
     },
     "execution_count": 22,
     "metadata": {},
     "output_type": "execute_result"
    }
   ],
   "source": [
    "eqs_phase2 = -theta[i]+theta[j]-t*omega_laser[l]\n",
    "eqs_phase2"
   ]
  },
  {
   "cell_type": "markdown",
   "metadata": {},
   "source": [
    "for $i>j$ are equivalent, since these terms are multiplied by $\\vec{r}^{(\\pm)}_{ij}$ respectively, and only one of them is non-zero for given $i, j$.\n",
    "\n",
    "We further make the approximation that not all $N_l$ fields are coupled to all transitions $|i\\rangle\\rightarrow |j\\rangle$. So we define a symbol $\\xi_{lij}$ that is 1 if field $l$ couples the transition $|i\\rangle\\rightarrow |j\\rangle$ and zero otherwise. Thus we can rewrite the right hand side as"
   ]
  },
  {
   "cell_type": "code",
   "execution_count": 23,
   "metadata": {
    "collapsed": false
   },
   "outputs": [
    {
     "data": {
      "image/png": "[encoded data removed]",
      "text/latex": [
       "$$\\sum_{\\substack{1 \\leq l \\leq N_{l}\\\\1 \\leq i \\leq N_{e}}} \\left(\\sum_{j=1}^{N_{e}} \\left(- \\frac{e E^{(-)}_{l}}{2} e^{- i \\theta_{i}} e^{i \\theta_{j}} e^{i t \\varpi_{l}} \\vec{\\varepsilon}^{(-)}_{l} \\vec{r}^{(+)}_{i,j} \\xi_{l,i,j} - \\frac{e E^{(+)}_{l}}{2} e^{- i \\theta_{i}} e^{i \\theta_{j}} e^{- i t \\varpi_{l}} \\vec{\\varepsilon}^{(+)}_{l} \\vec{r}^{(-)}_{i,j} \\xi_{l,i,j} + \\hbar \\delta_{i, j} \\dot{\\theta}_{j} + \\hbar e^{- i \\theta_{i}} e^{i \\theta_{j}} \\delta_{i, j} \\omega_{i}\\right) \\tilde{c}_{j}\\right) {\\left|i\\right\\rangle }$$"
      ],
      "text/plain": [
       "   Nₑ     N_l                                                                 \n",
       "_______ _______                                                               \n",
       "╲       ╲                                                                     \n",
       " ╲       ╲      ⎛  Nₑ                                                         \n",
       "  ╲       ╲     ⎜ ____                                                        \n",
       "   ╲       ╲    ⎜ ╲                                                           \n",
       "    ╲       ╲   ⎜  ╲   ⎛     -ⅈ⋅\\theta[i]  ⅈ⋅\\theta[j]  ⅈ⋅t⋅varpi[l]          \n",
       "     ╲       ╲  ⎜   ╲  ⎜  e⋅ℯ            ⋅ℯ           ⋅ℯ            ⋅E^{(-)}[l\n",
       "     ╱       ╱  ⎜   ╱  ⎜- ────────────────────────────────────────────────────\n",
       "    ╱       ╱   ⎜  ╱   ⎝                                                      \n",
       "   ╱       ╱    ⎜ ╱                                                           \n",
       "  ╱       ╱     ⎜ ‾‾‾‾                                                        \n",
       " ╱       ╱      ⎝j = 1                                                        \n",
       "╱       ╱                                                                     \n",
       "‾‾‾‾‾‾‾ ‾‾‾‾‾‾‾                                                               \n",
       " i = 1   l = 1                                                                \n",
       "\n",
       "                                                                              \n",
       "                                                                              \n",
       "                                                                              \n",
       "                                                                              \n",
       "                                                                              \n",
       "                                                                              \n",
       "                                                                  -ⅈ⋅\\theta[i]\n",
       "]⋅\\vec{\\varepsilon}^{(-)}[l]⋅\\vec{r}^{(+)}[i, j]⋅xi[l, i, j]   e⋅ℯ            \n",
       "──────────────────────────────────────────────────────────── - ───────────────\n",
       "   2                                                                          \n",
       "                                                                              \n",
       "                                                                              \n",
       "                                                                              \n",
       "                                                                              \n",
       "                                                                              \n",
       "                                                                              \n",
       "\n",
       "                                                                              \n",
       "                                                                              \n",
       "                                                                              \n",
       "                                                                              \n",
       "                                                                              \n",
       "                                                                              \n",
       "  ⅈ⋅\\theta[j]  -ⅈ⋅t⋅varpi[l]                                                  \n",
       "⋅ℯ           ⋅ℯ             ⋅E^{(+)}[l]⋅\\vec{\\varepsilon}^{(+)}[l]⋅\\vec{r}^{(-\n",
       "──────────────────────────────────────────────────────────────────────────────\n",
       "                                         2                                    \n",
       "                                                                              \n",
       "                                                                              \n",
       "                                                                              \n",
       "                                                                              \n",
       "                                                                              \n",
       "                                                                              \n",
       "\n",
       "                                                                              \n",
       "                                                                              \n",
       "                                                                              \n",
       "                                                                              \n",
       "                                                                              \n",
       "                                                                              \n",
       "                                                                              \n",
       ")}[i, j]⋅xi[l, i, j]                                 -ⅈ⋅\\theta[i]  ⅈ⋅\\theta[j]\n",
       "──────────────────── + h̅⋅δ   ⋅\\dot{\\theta}[j] + h̅⋅ℯ            ⋅ℯ           \n",
       "                           i,j                                                \n",
       "                                                                              \n",
       "                                                                              \n",
       "                                                                              \n",
       "                                                                              \n",
       "                                                                              \n",
       "                                                                              \n",
       "\n",
       "                                 \n",
       "                                 \n",
       "                                 \n",
       "                            ⎞    \n",
       "                            ⎟    \n",
       "                            ⎟    \n",
       "              ⎞             ⎟    \n",
       "              ⎟             ⎟    \n",
       "⋅δ   ⋅omega[i]⎟⋅\\tilde{c}[j]⎟⋅❘i⟩\n",
       "  i,j         ⎠             ⎟    \n",
       "                            ⎟    \n",
       "                            ⎟    \n",
       "                            ⎠    \n",
       "                                 \n",
       "                                 \n",
       "                                 "
      ]
     },
     "execution_count": 23,
     "metadata": {},
     "output_type": "execute_result"
    }
   ],
   "source": [
    "xi = IndexedBase(\"xi\", shape=(Nl, Ne, Ne))\n",
    "\n",
    "rhs_tilde3=rhs_tilde2.args[0].subs({E0m[l]: E0m[l]*xi[l, i, j], E0p[l]: E0p[l]*xi[l, i, j]})\n",
    "rhs_tilde3=rhs_tilde3.subs({ct[j]:1})*ct[j]\n",
    "\n",
    "rhs_tilde3=Sum(rhs_tilde3, (j, 1, Ne))\n",
    "\n",
    "rhs_tildes = Sum(rhs_tilde3*AtomicKet(i), (l, 1, Nl), (i, 1, Ne))\n",
    "rhs_tildes"
   ]
  },
  {
   "cell_type": "markdown",
   "metadata": {},
   "source": [
    "So it can be seen that this is a Schrödinger equation from an effective Hamiltonian"
   ]
  },
  {
   "cell_type": "code",
   "execution_count": 24,
   "metadata": {
    "collapsed": false
   },
   "outputs": [
    {
     "data": {
      "image/png": "[encoded data removed]",
      "text/latex": [
       "$$\\sum_{\\substack{1 \\leq j \\leq N_{e}\\\\1 \\leq i \\leq N_{e}}} \\left(\\frac{e \\xi_{l,i,j}}{2} \\left(- e^{- i \\theta_{i}} e^{i \\theta_{j}} e^{i t \\varpi_{l}} E^{(-)}_{l} \\vec{\\varepsilon}^{(-)}_{l} \\vec{r}^{(+)}_{i,j} - e^{- i \\theta_{i}} e^{i \\theta_{j}} e^{- i t \\varpi_{l}} E^{(+)}_{l} \\vec{\\varepsilon}^{(+)}_{l} \\vec{r}^{(-)}_{i,j}\\right) + \\hbar \\left(e^{i \\theta_{i}} \\dot{\\theta}_{j} + e^{i \\theta_{j}} \\omega_{i}\\right) e^{- i \\theta_{i}} \\delta_{i, j}\\right)$$"
      ],
      "text/plain": [
       "  Nₑ    Nₑ                                                                    \n",
       " ____  ____                                                                   \n",
       " ╲     ╲                                                                      \n",
       "  ╲     ╲   ⎛  ⎛   -ⅈ⋅\\theta[i]  ⅈ⋅\\theta[j]  ⅈ⋅t⋅varpi[l]                    \n",
       "   ╲     ╲  ⎜e⋅⎝- ℯ            ⋅ℯ           ⋅ℯ            ⋅E^{(-)}[l]⋅\\vec{\\va\n",
       "   ╱     ╱  ⎜─────────────────────────────────────────────────────────────────\n",
       "  ╱     ╱   ⎝                                                                 \n",
       " ╱     ╱                                                                      \n",
       " ‾‾‾‾  ‾‾‾‾                                                                   \n",
       "i = 1 j = 1                                                                   \n",
       "\n",
       "                                                                              \n",
       "                                                                              \n",
       "                                                                              \n",
       "                                          -ⅈ⋅\\theta[i]  ⅈ⋅\\theta[j]  -ⅈ⋅t⋅varp\n",
       "repsilon}^{(-)}[l]⋅\\vec{r}^{(+)}[i, j] - ℯ            ⋅ℯ           ⋅ℯ         \n",
       "──────────────────────────────────────────────────────────────────────────────\n",
       "                                           2                                  \n",
       "                                                                              \n",
       "                                                                              \n",
       "                                                                              \n",
       "\n",
       "                                                                              \n",
       "                                                                              \n",
       "                                                                              \n",
       "i[l]                                                          ⎞               \n",
       "    ⋅E^{(+)}[l]⋅\\vec{\\varepsilon}^{(+)}[l]⋅\\vec{r}^{(-)}[i, j]⎠⋅xi[l, i, j]   \n",
       "─────────────────────────────────────────────────────────────────────────── + \n",
       "                                                                              \n",
       "                                                                              \n",
       "                                                                              \n",
       "                                                                              \n",
       "\n",
       "                                                                             \n",
       "                                                                             \n",
       "                                                                             \n",
       "                                                                            ⎞\n",
       "   ⎛ ⅈ⋅\\theta[i]                    ⅈ⋅\\theta[j]         ⎞  -ⅈ⋅\\theta[i]     ⎟\n",
       "h̅⋅⎝ℯ           ⋅\\dot{\\theta}[j] + ℯ           ⋅omega[i]⎠⋅ℯ            ⋅δ   ⎟\n",
       "                                                                         i,j⎠\n",
       "                                                                             \n",
       "                                                                             \n",
       "                                                                             "
      ]
     },
     "execution_count": 24,
     "metadata": {},
     "output_type": "execute_result"
    }
   ],
   "source": [
    "H_tilde = rhs_tilde3.args[0].subs({ct[j]:1})\n",
    "ss = {xi[l, i, j]: 1, e:1, E0p[l]: E0p[l]*2, E0m[l]: E0m[l]*2}\n",
    "H_tilde = (H_tilde.args[0]+H_tilde.args[1]).factor() + (H_tilde.args[2]+H_tilde.args[3]).subs(ss)*(e*xi[l, i, j]/2)\n",
    "\n",
    "H_tildes = Sum(H_tilde, (j, 1, Ne), (i, 1, Ne))\n",
    "H_tildes"
   ]
  },
  {
   "cell_type": "markdown",
   "metadata": {
    "collapsed": true
   },
   "source": [
    "Then to eliminate the time dependence is"
   ]
  },
  {
   "cell_type": "code",
   "execution_count": 25,
   "metadata": {
    "collapsed": false
   },
   "outputs": [
    {
     "data": {
      "image/png": "[encoded data removed]",
      "text/latex": [
       "$$t \\varpi_{l} - \\theta_{i} + \\theta_{j}$$"
      ],
      "text/plain": [
       "t⋅varpi[l] - \\theta[i] + \\theta[j]"
      ]
     },
     "execution_count": 25,
     "metadata": {},
     "output_type": "execute_result"
    }
   ],
   "source": [
    "eqs_phase"
   ]
  },
  {
   "cell_type": "markdown",
   "metadata": {
    "collapsed": true
   },
   "source": [
    "for all $j > i$ such that $\\xi_{lij}=1$. If these equations are satisfied for some set of $\\theta_i$, then the equations become"
   ]
  },
  {
   "cell_type": "code",
   "execution_count": 26,
   "metadata": {
    "collapsed": false
   },
   "outputs": [
    {
     "data": {
      "image/png": "[encoded data removed]",
      "text/latex": [
       "$$\\sum_{\\substack{1 \\leq l \\leq N_{l}\\\\1 \\leq i \\leq N_{e}}} \\left(\\sum_{j=1}^{N_{e}} \\left(- \\frac{e E^{(+)}_{l}}{2} \\vec{\\varepsilon}^{(+)}_{l} \\vec{r}^{(-)}_{i,j} \\xi_{l,i,j} - \\frac{e E^{(-)}_{l}}{2} \\vec{\\varepsilon}^{(-)}_{l} \\vec{r}^{(+)}_{i,j} \\xi_{l,i,j} + \\hbar \\delta_{i, j} \\dot{\\theta}_{j} + \\hbar \\delta_{i, j} \\omega_{i}\\right) \\tilde{c}_{j}\\right) {\\left|i\\right\\rangle }$$"
      ],
      "text/plain": [
       "   Nₑ     N_l                                                                 \n",
       "_______ _______                                                               \n",
       "╲       ╲                                                                     \n",
       " ╲       ╲      ⎛  Nₑ                                                         \n",
       "  ╲       ╲     ⎜ ____                                                        \n",
       "   ╲       ╲    ⎜ ╲                                                           \n",
       "    ╲       ╲   ⎜  ╲   ⎛  e⋅E^{(+)}[l]⋅\\vec{\\varepsilon}^{(+)}[l]⋅\\vec{r}^{(-)\n",
       "     ╲       ╲  ⎜   ╲  ⎜- ────────────────────────────────────────────────────\n",
       "     ╱       ╱  ⎜   ╱  ⎝                                     2                \n",
       "    ╱       ╱   ⎜  ╱                                                          \n",
       "   ╱       ╱    ⎜ ╱                                                           \n",
       "  ╱       ╱     ⎜ ‾‾‾‾                                                        \n",
       " ╱       ╱      ⎝j = 1                                                        \n",
       "╱       ╱                                                                     \n",
       "‾‾‾‾‾‾‾ ‾‾‾‾‾‾‾                                                               \n",
       " i = 1   l = 1                                                                \n",
       "\n",
       "                                                                              \n",
       "                                                                              \n",
       "                                                                              \n",
       "                                                                              \n",
       "                                                                              \n",
       "                                                                              \n",
       "}[i, j]⋅xi[l, i, j]   e⋅E^{(-)}[l]⋅\\vec{\\varepsilon}^{(-)}[l]⋅\\vec{r}^{(+)}[i,\n",
       "─────────────────── - ────────────────────────────────────────────────────────\n",
       "                                                         2                    \n",
       "                                                                              \n",
       "                                                                              \n",
       "                                                                              \n",
       "                                                                              \n",
       "                                                                              \n",
       "                                                                              \n",
       "                                                                              \n",
       "\n",
       "                                                                              \n",
       "                                                                              \n",
       "                                                                              \n",
       "                                                                          ⎞   \n",
       "                                                                          ⎟   \n",
       "                                                                          ⎟   \n",
       " j]⋅xi[l, i, j]                                             ⎞             ⎟   \n",
       "─────────────── + h̅⋅δ   ⋅\\dot{\\theta}[j] + h̅⋅δ   ⋅omega[i]⎟⋅\\tilde{c}[j]⎟   \n",
       "                      i,j                       i,j         ⎠             ⎟⋅❘i\n",
       "                                                                          ⎟   \n",
       "                                                                          ⎟   \n",
       "                                                                          ⎟   \n",
       "                                                                          ⎠   \n",
       "                                                                              \n",
       "                                                                              \n",
       "                                                                              \n",
       "\n",
       " \n",
       " \n",
       " \n",
       " \n",
       " \n",
       " \n",
       " \n",
       " \n",
       "⟩\n",
       " \n",
       " \n",
       " \n",
       " \n",
       " \n",
       " \n",
       " "
      ]
     },
     "execution_count": 26,
     "metadata": {},
     "output_type": "execute_result"
    }
   ],
   "source": [
    "ss_phase = {exp(-I*theta[i]):1, exp(-I*theta[j]):1, exp(-I*t*omega_laser[l]):1}\n",
    "rhs_tilde4 = Sum(rhs_tilde3.args[0].subs(ss_phase), (j, 1, Ne))\n",
    "\n",
    "rhs_tildes = Sum(rhs_tilde4*AtomicKet(i), (l, 1, Nl), (i, 1, Ne))\n",
    "rhs_tildes"
   ]
  },
  {
   "cell_type": "code",
   "execution_count": 27,
   "metadata": {
    "collapsed": false
   },
   "outputs": [
    {
     "data": {
      "image/png": "[encoded data removed]",
      "text/latex": [
       "$$\\sum_{\\substack{1 \\leq l \\leq N_{l}\\\\1 \\leq i \\leq N_{e}}} \\left(\\sum_{j=1}^{N_{e}} \\left(- \\frac{e \\xi_{l,i,j}}{2} \\left(E^{(+)}_{l} \\vec{\\varepsilon}^{(+)}_{l} \\vec{r}^{(-)}_{i,j} + E^{(-)}_{l} \\vec{\\varepsilon}^{(-)}_{l} \\vec{r}^{(+)}_{i,j}\\right) + \\hbar \\left(\\dot{\\theta}_{j} + \\omega_{i}\\right) \\delta_{i, j}\\right) \\tilde{c}_{j}\\right) {\\left|i\\right\\rangle }$$"
      ],
      "text/plain": [
       "   Nₑ     N_l                                                                 \n",
       "_______ _______                                                               \n",
       "╲       ╲                                                                     \n",
       " ╲       ╲      ⎛  Nₑ                                                         \n",
       "  ╲       ╲     ⎜ ____                                                        \n",
       "   ╲       ╲    ⎜ ╲                                                           \n",
       "    ╲       ╲   ⎜  ╲   ⎛  e⋅(E^{(+)}[l]⋅\\vec{\\varepsilon}^{(+)}[l]⋅\\vec{r}^{(-\n",
       "     ╲       ╲  ⎜   ╲  ⎜- ────────────────────────────────────────────────────\n",
       "     ╱       ╱  ⎜   ╱  ⎝                                                      \n",
       "    ╱       ╱   ⎜  ╱                                                          \n",
       "   ╱       ╱    ⎜ ╱                                                           \n",
       "  ╱       ╱     ⎜ ‾‾‾‾                                                        \n",
       " ╱       ╱      ⎝j = 1                                                        \n",
       "╱       ╱                                                                     \n",
       "‾‾‾‾‾‾‾ ‾‾‾‾‾‾‾                                                               \n",
       " i = 1   l = 1                                                                \n",
       "\n",
       "                                                                              \n",
       "                                                                              \n",
       "                                                                              \n",
       "                                                                              \n",
       "                                                                              \n",
       "                                                                              \n",
       ")}[i, j] + E^{(-)}[l]⋅\\vec{\\varepsilon}^{(-)}[l]⋅\\vec{r}^{(+)}[i, j])⋅xi[l, i,\n",
       "──────────────────────────────────────────────────────────────────────────────\n",
       "              2                                                               \n",
       "                                                                              \n",
       "                                                                              \n",
       "                                                                              \n",
       "                                                                              \n",
       "                                                                              \n",
       "                                                                              \n",
       "                                                                              \n",
       "\n",
       "                                                             \n",
       "                                                             \n",
       "                                                             \n",
       "                                                        ⎞    \n",
       "                                                        ⎟    \n",
       "                                                        ⎟    \n",
       " j]                                       ⎞             ⎟    \n",
       "─── + h̅⋅(\\dot{\\theta}[j] + omega[i])⋅δ   ⎟⋅\\tilde{c}[j]⎟    \n",
       "                                       i,j⎠             ⎟⋅❘i⟩\n",
       "                                                        ⎟    \n",
       "                                                        ⎟    \n",
       "                                                        ⎟    \n",
       "                                                        ⎠    \n",
       "                                                             \n",
       "                                                             \n",
       "                                                             "
      ]
     },
     "execution_count": 27,
     "metadata": {},
     "output_type": "execute_result"
    }
   ],
   "source": [
    "terms = rhs_tilde4.args[0].subs({ct[j]:1}).args\n",
    "rhs_tilde5 = (terms[0]+terms[1]).factor() + (terms[2]+terms[3]).factor()\n",
    "rhs_tilde5 = Sum(rhs_tilde5*ct[j], (j, 1, Ne))\n",
    "\n",
    "rhs_tildes = Sum(rhs_tilde5*AtomicKet(i), (l, 1, Nl), (i, 1, Ne))\n",
    "rhs_tildes"
   ]
  },
  {
   "cell_type": "code",
   "execution_count": 28,
   "metadata": {
    "collapsed": false
   },
   "outputs": [
    {
     "data": {
      "image/png": "[encoded data removed]",
      "text/latex": [
       "$$\\sum_{i=1}^{N_{e}} i \\hbar \\dot{\\tilde{c}}_{i} {\\left|i\\right\\rangle }$$"
      ],
      "text/plain": [
       "  Nₑ                             \n",
       " ___                             \n",
       " ╲                               \n",
       "  ╲   ⅈ⋅h̅⋅\\dot{\\tilde{c}}[i]⋅❘i⟩\n",
       "  ╱                              \n",
       " ╱                               \n",
       " ‾‾‾                             \n",
       "i = 1                            "
      ]
     },
     "execution_count": 28,
     "metadata": {},
     "output_type": "execute_result"
    }
   ],
   "source": [
    "lhs_tildes"
   ]
  },
  {
   "cell_type": "markdown",
   "metadata": {
    "collapsed": false
   },
   "source": [
    "So we can see that this is the Schrödinger equation from an effective hamiltonian"
   ]
  },
  {
   "cell_type": "code",
   "execution_count": 29,
   "metadata": {
    "collapsed": false
   },
   "outputs": [
    {
     "data": {
      "image/png": "[encoded data removed]",
      "text/latex": [
       "$$\\sum_{\\substack{1 \\leq j \\leq N_{e}\\\\1 \\leq i \\leq N_{e}}} \\left(\\sum_{l=1}^{N_{l}} \\left(- \\frac{e \\xi_{l,i,j}}{2} \\left(E^{(+)}_{l} \\vec{\\varepsilon}^{(+)}_{l} \\vec{r}^{(-)}_{i,j} + E^{(-)}_{l} \\vec{\\varepsilon}^{(-)}_{l} \\vec{r}^{(+)}_{i,j}\\right) + \\hbar \\left(\\dot{\\theta}_{j} + \\omega_{i}\\right) \\delta_{i, j}\\right)\\right) {\\left|i\\right\\rangle } {\\left\\langle j\\right|}$$"
      ],
      "text/plain": [
       "   Nₑ      Nₑ                                                                 \n",
       "_______ _______                                                               \n",
       "╲       ╲                                                                     \n",
       " ╲       ╲      ⎛ N_l                                                         \n",
       "  ╲       ╲     ⎜ ____                                                        \n",
       "   ╲       ╲    ⎜ ╲                                                           \n",
       "    ╲       ╲   ⎜  ╲   ⎛  e⋅(E^{(+)}[l]⋅\\vec{\\varepsilon}^{(+)}[l]⋅\\vec{r}^{(-\n",
       "     ╲       ╲  ⎜   ╲  ⎜- ────────────────────────────────────────────────────\n",
       "     ╱       ╱  ⎜   ╱  ⎝                                                      \n",
       "    ╱       ╱   ⎜  ╱                                                          \n",
       "   ╱       ╱    ⎜ ╱                                                           \n",
       "  ╱       ╱     ⎜ ‾‾‾‾                                                        \n",
       " ╱       ╱      ⎝l = 1                                                        \n",
       "╱       ╱                                                                     \n",
       "‾‾‾‾‾‾‾ ‾‾‾‾‾‾‾                                                               \n",
       " i = 1   j = 1                                                                \n",
       "\n",
       "                                                                              \n",
       "                                                                              \n",
       "                                                                              \n",
       "                                                                              \n",
       "                                                                              \n",
       "                                                                              \n",
       ")}[i, j] + E^{(-)}[l]⋅\\vec{\\varepsilon}^{(-)}[l]⋅\\vec{r}^{(+)}[i, j])⋅xi[l, i,\n",
       "──────────────────────────────────────────────────────────────────────────────\n",
       "              2                                                               \n",
       "                                                                              \n",
       "                                                                              \n",
       "                                                                              \n",
       "                                                                              \n",
       "                                                                              \n",
       "                                                                              \n",
       "                                                                              \n",
       "\n",
       "                                                    \n",
       "                                                    \n",
       "                                                    \n",
       "                                           ⎞        \n",
       "                                           ⎟        \n",
       "                                           ⎟        \n",
       " j]                                       ⎞⎟        \n",
       "─── + h̅⋅(\\dot{\\theta}[j] + omega[i])⋅δ   ⎟⎟        \n",
       "                                       i,j⎠⎟⋅❘i⟩⋅⟨j❘\n",
       "                                           ⎟        \n",
       "                                           ⎟        \n",
       "                                           ⎟        \n",
       "                                           ⎠        \n",
       "                                                    \n",
       "                                                    \n",
       "                                                    "
      ]
     },
     "execution_count": 29,
     "metadata": {},
     "output_type": "execute_result"
    }
   ],
   "source": [
    "H_tilde = Sum(rhs_tilde5.args[0].subs({ct[j]:1}), (l, 1, Nl))\n",
    "\n",
    "H_tildes = Sum(H_tilde*AtomicKet(i)*AtomicBra(j), (j, 1, Ne), (i, 1, Ne))\n",
    "H_tildes"
   ]
  },
  {
   "cell_type": "markdown",
   "metadata": {
    "collapsed": true
   },
   "source": [
    "We can define a generalized Rabi frequency $\\Omega_{lij}^{(\\pm\\mp)} \\equiv e\\xi_{lij} E_l^{(\\pm)}\\vec{\\varepsilon}_l^{(\\pm)}\\vec{r}_{ij}^{(\\mp)}/\\hbar$"
   ]
  },
  {
   "cell_type": "code",
   "execution_count": 30,
   "metadata": {
    "collapsed": false
   },
   "outputs": [
    {
     "data": {
      "image/png": "[encoded data removed]",
      "text/latex": [
       "$$\\sum_{\\substack{1 \\leq j \\leq N_{e}\\\\1 \\leq i \\leq N_{e}}} \\left(\\sum_{l=1}^{N_{l}} \\left(\\hbar \\left(\\dot{\\theta}_{j} + \\omega_{i}\\right) \\delta_{i, j} - \\frac{\\hbar \\Omega^{(+-)}_{l,i,j}}{2} - \\frac{\\hbar \\Omega^{(-+)}_{l,i,j}}{2}\\right)\\right) {\\left|i\\right\\rangle } {\\left\\langle j\\right|}$$"
      ],
      "text/plain": [
       "   Nₑ      Nₑ                                                                 \n",
       "_______ _______                                                               \n",
       "╲       ╲                                                                     \n",
       " ╲       ╲      ⎛ N_l                                                         \n",
       "  ╲       ╲     ⎜ ____                                                        \n",
       "   ╲       ╲    ⎜ ╲                                                           \n",
       "    ╲       ╲   ⎜  ╲   ⎛                                       h̅⋅\\Omega^{(+-)\n",
       "     ╲       ╲  ⎜   ╲  ⎜h̅⋅(\\dot{\\theta}[j] + omega[i])⋅δ    - ───────────────\n",
       "     ╱       ╱  ⎜   ╱  ⎝                                 i,j               2  \n",
       "    ╱       ╱   ⎜  ╱                                                          \n",
       "   ╱       ╱    ⎜ ╱                                                           \n",
       "  ╱       ╱     ⎜ ‾‾‾‾                                                        \n",
       " ╱       ╱      ⎝l = 1                                                        \n",
       "╱       ╱                                                                     \n",
       "‾‾‾‾‾‾‾ ‾‾‾‾‾‾‾                                                               \n",
       " i = 1   j = 1                                                                \n",
       "\n",
       "                                                \n",
       "                                                \n",
       "                                                \n",
       "                                       ⎞        \n",
       "                                       ⎟        \n",
       "                                       ⎟        \n",
       "}[l, i, j]   h̅⋅\\Omega^{(-+)}[l, i, j]⎞⎟        \n",
       "────────── - ─────────────────────────⎟⎟        \n",
       "                         2            ⎠⎟⋅❘i⟩⋅⟨j❘\n",
       "                                       ⎟        \n",
       "                                       ⎟        \n",
       "                                       ⎟        \n",
       "                                       ⎠        \n",
       "                                                \n",
       "                                                \n",
       "                                                "
      ]
     },
     "execution_count": 30,
     "metadata": {},
     "output_type": "execute_result"
    }
   ],
   "source": [
    "Omegapm = IndexedBase(r\"\\Omega^{(+-)}\", shape=(Nl, Ne, Ne))\n",
    "Omegamp = IndexedBase(r\"\\Omega^{(-+)}\", shape=(Nl, Ne, Ne))\n",
    "\n",
    "sOmega = {E0p[l]: hbar*Omegapm[l, i, j]/epsilonp[l]/rm[i, j]/e,\n",
    "          E0m[l]: hbar*Omegamp[l, i, j]/epsilonm[l]/rp[i, j]/e,\n",
    "          xi[l, i, j]: 1, e: 1}\n",
    "\n",
    "H_tilde2 = H_tilde.args[0].subs(sOmega)\n",
    "H_tilde2 = Sum(H_tilde2, (l, 1, Nl))\n",
    "\n",
    "H_tildes = Sum(H_tilde2*AtomicKet(i)*AtomicBra(j), (j, 1, Ne), (i, 1, Ne))\n",
    "H_tildes"
   ]
  },
  {
   "cell_type": "markdown",
   "metadata": {
    "collapsed": true
   },
   "source": [
    "Notice that if $\\Omega_{lij}^{(+-)} \\neq 0$, then $\\Omega_{lij}^{(-+)}=0$. However, $\\Omega_{lij}^{(+-)} = (\\Omega_{lji}^{(-+)})^*$.\n",
    "\n",
    "# Time evolution\n",
    "\n",
    "The state of a quantum system is described by its density matrix $\\hat{\\rho}$, which component-wise is"
   ]
  },
  {
   "cell_type": "code",
   "execution_count": 31,
   "metadata": {
    "collapsed": false
   },
   "outputs": [
    {
     "data": {
      "image/png": "[encoded data removed]",
      "text/latex": [
       "$$\\sum_{\\substack{1 \\leq i \\leq N_{e}\\\\1 \\leq j \\leq N_{e}}} \\rho_{i,j} {\\left|i\\right\\rangle } {\\left\\langle j\\right|}$$"
      ],
      "text/plain": [
       "  Nₑ    Nₑ                    \n",
       " ___   ___                    \n",
       " ╲     ╲                      \n",
       "  ╲     ╲   \\rho[i, j]⋅❘i⟩⋅⟨j❘\n",
       "  ╱     ╱                     \n",
       " ╱     ╱                      \n",
       " ‾‾‾   ‾‾‾                    \n",
       "j = 1 i = 1                   "
      ]
     },
     "execution_count": 31,
     "metadata": {},
     "output_type": "execute_result"
    }
   ],
   "source": [
    "rho = IndexedBase(r\"\\rho\", shape=(Ne, Ne))\n",
    "\n",
    "rhos = Sum(rho[i, j]*AtomicKet(i)*AtomicBra(j), (i, 1, Ne), (j, 1, Ne))\n",
    "rhos"
   ]
  },
  {
   "cell_type": "markdown",
   "metadata": {},
   "source": [
    "And in the rotating frame, we have"
   ]
  },
  {
   "cell_type": "code",
   "execution_count": 32,
   "metadata": {
    "collapsed": false
   },
   "outputs": [
    {
     "data": {
      "image/png": "[encoded data removed]",
      "text/latex": [
       "$$\\sum_{\\substack{1 \\leq i \\leq N_{e}\\\\1 \\leq j \\leq N_{e}}} \\tilde{\\rho}_{i,j} {\\left|i\\right\\rangle } {\\left\\langle j\\right|}$$"
      ],
      "text/plain": [
       "  Nₑ    Nₑ                            \n",
       " ___   ___                            \n",
       " ╲     ╲                              \n",
       "  ╲     ╲   \\tilde{\\rho}[i, j]⋅❘i⟩⋅⟨j❘\n",
       "  ╱     ╱                             \n",
       " ╱     ╱                              \n",
       " ‾‾‾   ‾‾‾                            \n",
       "j = 1 i = 1                           "
      ]
     },
     "execution_count": 32,
     "metadata": {},
     "output_type": "execute_result"
    }
   ],
   "source": [
    "rhot = IndexedBase(r\"\\tilde{\\rho}\", shape=(Ne, Ne))\n",
    "\n",
    "rhots = Sum(rhot[i, j]*AtomicKet(i)*AtomicBra(j), (i, 1, Ne), (j, 1, Ne))\n",
    "rhots"
   ]
  },
  {
   "cell_type": "markdown",
   "metadata": {},
   "source": [
    "So that"
   ]
  },
  {
   "cell_type": "code",
   "execution_count": 33,
   "metadata": {
    "collapsed": false
   },
   "outputs": [
    {
     "data": {
      "image/png": "[encoded data removed]",
      "text/latex": [
       "$$\\left[\\begin{matrix}\\tilde{\\rho}_{i,j} & = & e^{i \\left(\\theta_{i} - \\theta_{j}\\right)} \\rho_{i,j}\\end{matrix}\\right]$$"
      ],
      "text/plain": [
       "⎡                        ⅈ⋅(\\theta[i] - \\theta[j])           ⎤\n",
       "⎣\\tilde{\\rho}[i, j]  =  ℯ                         ⋅\\rho[i, j]⎦"
      ]
     },
     "execution_count": 33,
     "metadata": {},
     "output_type": "execute_result"
    }
   ],
   "source": [
    "eqsign = symbols(\"=\")\n",
    "Matrix([rhot[i, j], eqsign, rho[i, j]*exp(I*(theta[i]-theta[j]))]).transpose()"
   ]
  },
  {
   "cell_type": "markdown",
   "metadata": {},
   "source": [
    "The time evolution of the density matrix of our atomic ensemble is given by\n",
    "\\begin{equation}\n",
    "    \\dot{\\hat{\\tilde{\\rho}}} = \\frac{i}{\\hbar} [\\hat{\\tilde{\\rho}}, \\hat{H}]\n",
    "\\end{equation}\n",
    "\n",
    "Which component-wise is"
   ]
  },
  {
   "cell_type": "code",
   "execution_count": 34,
   "metadata": {
    "collapsed": false
   },
   "outputs": [
    {
     "data": {
      "image/png": "[encoded data removed]",
      "text/latex": [
       "$$- i \\delta_{i, k} \\dot{\\theta}_{k} \\rho_{k,j} - i \\delta_{i, k} \\omega_{i} \\rho_{k,j} + i \\delta_{j, k} \\dot{\\theta}_{j} \\rho_{i,k} + i \\delta_{j, k} \\omega_{k} \\rho_{i,k} - \\frac{i \\rho_{i,k}}{2} \\Omega^{(+-)}_{l,k,j} - \\frac{i \\rho_{i,k}}{2} \\Omega^{(-+)}_{l,k,j} + \\frac{i \\rho_{k,j}}{2} \\Omega^{(+-)}_{l,i,k} + \\frac{i \\rho_{k,j}}{2} \\Omega^{(-+)}_{l,i,k}$$"
      ],
      "text/plain": [
       "                                                                              \n",
       "- ⅈ⋅δ   ⋅\\dot{\\theta}[k]⋅\\rho[k, j] - ⅈ⋅δ   ⋅omega[i]⋅\\rho[k, j] + ⅈ⋅δ   ⋅\\dot\n",
       "     i,k                                 i,k                          j,k     \n",
       "\n",
       "                                                      ⅈ⋅\\rho[i, k]⋅\\Omega^{(+-\n",
       "{\\theta}[j]⋅\\rho[i, k] + ⅈ⋅δ   ⋅omega[k]⋅\\rho[i, k] - ────────────────────────\n",
       "                            j,k                                        2      \n",
       "\n",
       ")}[l, k, j]   ⅈ⋅\\rho[i, k]⋅\\Omega^{(-+)}[l, k, j]   ⅈ⋅\\rho[k, j]⋅\\Omega^{(+-)}\n",
       "─────────── - ─────────────────────────────────── + ──────────────────────────\n",
       "                               2                                     2        \n",
       "\n",
       "[l, i, k]   ⅈ⋅\\rho[k, j]⋅\\Omega^{(-+)}[l, i, k]\n",
       "───────── + ───────────────────────────────────\n",
       "                             2                 "
      ]
     },
     "execution_count": 34,
     "metadata": {},
     "output_type": "execute_result"
    }
   ],
   "source": [
    "H_tilde3=H_tilde2.args[0]\n",
    "rhs = I/hbar * (rho[i, k]*H_tilde3.subs({i:k}) - H_tilde3.subs({j:k})*rho[k, j])\n",
    "rhs = rhs.expand()\n",
    "rhs"
   ]
  },
  {
   "cell_type": "code",
   "execution_count": null,
   "metadata": {
    "collapsed": true
   },
   "outputs": [],
   "source": []
  },
  {
   "cell_type": "code",
   "execution_count": null,
   "metadata": {
    "collapsed": true
   },
   "outputs": [],
   "source": []
  }
 ],
 "metadata": {
  "kernelspec": {
   "display_name": "Python 2",
   "language": "python",
   "name": "python2"
  },
  "language_info": {
   "codemirror_mode": {
    "name": "ipython",
    "version": 2
   },
   "file_extension": ".py",
   "mimetype": "text/x-python",
   "name": "python",
   "nbconvert_exporter": "python",
   "pygments_lexer": "ipython2",
   "version": "2.7.13"
  }
 },
 "nbformat": 4,
 "nbformat_minor": 2
}
