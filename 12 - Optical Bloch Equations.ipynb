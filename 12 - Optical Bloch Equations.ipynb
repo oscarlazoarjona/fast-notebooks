{
 "cells": [
  {
   "cell_type": "markdown",
   "metadata": {},
   "source": [
    "# Optical Bloch Equations\n",
    "\n",
    "We will derive here the explicit form of optical Bloch equations in the electric dipole approximation (EDA), the rotating wave approximation (RWA), in the rotating frame (RF)."
   ]
  },
  {
   "cell_type": "code",
   "execution_count": 1,
   "metadata": {
    "collapsed": true
   },
   "outputs": [],
   "source": [
    "from sympy import symbols, IndexedBase, Idx, Sum, init_printing\n",
    "from sympy.physics.quantum import Bra, Ket, State\n",
    "\n",
    "from sympy.physics.quantum import Bra, Ket, State\n",
    "from sympy.core.basic import sympify\n",
    "from sympy.core import Mul\n",
    "from sympy.core.compatibility import string_types, range\n",
    "from sympy.physics.quantum.hilbert import ComplexSpace\n",
    "from sympy import Integer, KroneckerDelta, diff, exp, I, Matrix, pprint\n",
    "from fast.symbolic import Vector3D, dot\n",
    "\n",
    "init_printing()"
   ]
  },
  {
   "cell_type": "code",
   "execution_count": 2,
   "metadata": {
    "collapsed": true
   },
   "outputs": [],
   "source": [
    "class AtomicState(State):\n",
    "    \"\"\"Base class for Qubit and QubitBra.\"\"\"\n",
    "\n",
    "    #-------------------------------------------------------------------------\n",
    "    # Initialization/creation\n",
    "    #-------------------------------------------------------------------------\n",
    "    def __init__(self, *args):\n",
    "        self.thisthis = 2\n",
    "\n",
    "    @classmethod\n",
    "    def _eval_args(cls, args):\n",
    "        # If we are passed a QubitState or subclass, we just take its qubit\n",
    "        # values directly.\n",
    "        if len(args) == 1 and isinstance(args[0], AtomicState):\n",
    "            return args[0].qubit_values\n",
    "\n",
    "        # Turn strings into tuple of strings\n",
    "        if len(args) == 1 and isinstance(args[0], string_types):\n",
    "            args = tuple(args[0])\n",
    "\n",
    "        # args = sympify(args)\n",
    "\n",
    "        # Validate input (must have 0 or 1 input)\n",
    "        # print 111\n",
    "        # for element in args:\n",
    "        #     if not (element == 1 or element == 0):\n",
    "        #         raise ValueError(\n",
    "        #             \"Qubit values must be 0 or 1, got: %r\" % element)\n",
    "        return args\n",
    "\n",
    "    @classmethod\n",
    "    def _eval_hilbert_space(cls, args):\n",
    "        return ComplexSpace(2)**len(args)\n",
    "\n",
    "    #-------------------------------------------------------------------------\n",
    "    # Properties\n",
    "    #-------------------------------------------------------------------------\n",
    "\n",
    "    @property\n",
    "    def dimension(self):\n",
    "        \"\"\"The number of Qubits in the state.\"\"\"\n",
    "        return len(self.qubit_values)\n",
    "\n",
    "    @property\n",
    "    def nqubits(self):\n",
    "        return self.dimension\n",
    "\n",
    "    @property\n",
    "    def qubit_values(self):\n",
    "        \"\"\"Returns the values of the qubits as a tuple.\"\"\"\n",
    "        return self.label\n",
    "\n",
    "\n",
    "class AtomicKet(AtomicState, Ket):\n",
    "    \"\"\"A multi-qubit ket in the computational (z) basis.\"\"\"\n",
    "\n",
    "    @classmethod\n",
    "    def dual_class(self):\n",
    "        return AtomicBra\n",
    "\n",
    "    def _eval_innerproduct_AtomicBra(self, bra, **hints):\n",
    "        if self.label == bra.label:\n",
    "            return Integer(1)\n",
    "        else:\n",
    "            return KroneckerDelta(bra.label[0], self.label[0])\n",
    "\n",
    "class AtomicBra(AtomicState, Bra):\n",
    "    \"\"\"A multi-qubit bra in the computational (z) basis.\"\"\"\n",
    "    @classmethod\n",
    "    def dual_class(self):\n",
    "        return AtomicKet\n",
    "\n",
    "eqsign = symbols(\"=\")"
   ]
  },
  {
   "cell_type": "code",
   "execution_count": 3,
   "metadata": {
    "collapsed": false
   },
   "outputs": [
    {
     "data": {
      "image/png": "[encoded data removed]",
      "text/latex": [
       "$$\\left ( 2 c {{\\vec{a}} \\cdot {\\vec{b}}}, \\quad 2 c {{\\vec{a}} \\cdot {\\vec{b}}}, \\quad 4 c^{2} {{\\vec{a}} \\cdot {\\vec{b}}}\\right )$$"
      ],
      "text/plain": [
       "⎛                     2    ⎞\n",
       "⎝2⋅c⋅a⋅b, 2⋅c⋅a⋅b, 4⋅c ⋅a⋅b⎠"
      ]
     },
     "execution_count": 3,
     "metadata": {},
     "output_type": "execute_result"
    }
   ],
   "source": [
    "a = Vector3D(\"a\")\n",
    "b = Vector3D(\"b\")\n",
    "c = symbols(\"c\")\n",
    "dot(2*c*a, b), dot(a, 2*c*b), dot(2*c*a, 2*c*b)"
   ]
  },
  {
   "cell_type": "markdown",
   "metadata": {},
   "source": [
    "We begin with an undisturbed Hamiltonian $\\hat{H}_0$ with $N_e$ eigenvectors $|i\\rangle$ ordered by their energies $\\mathrm{E}_i= \\hbar \\omega_i$."
   ]
  },
  {
   "cell_type": "code",
   "execution_count": 4,
   "metadata": {
    "collapsed": false
   },
   "outputs": [],
   "source": [
    "hbar, e = symbols(\"hbar e\", positive=True)\n",
    "Ne = symbols(\"N_e\", integer=True)\n",
    "i, j, k = symbols('i j k', cls=Idx)\n",
    "Energy = IndexedBase('\\mathrm{E}', shape=(Ne,))\n",
    "omega_level = IndexedBase('omega', shape=(Ne,))"
   ]
  },
  {
   "cell_type": "code",
   "execution_count": 5,
   "metadata": {
    "collapsed": false
   },
   "outputs": [
    {
     "data": {
      "image/png": "[encoded data removed]",
      "text/latex": [
       "$$\\left ( \\mathrm{E}_{i}, \\quad \\omega_{i}\\right )$$"
      ],
      "text/plain": [
       "(\\mathrm{E}[i], omega[i])"
      ]
     },
     "execution_count": 5,
     "metadata": {},
     "output_type": "execute_result"
    }
   ],
   "source": [
    "Energy[i], omega_level[i]"
   ]
  },
  {
   "cell_type": "code",
   "execution_count": 6,
   "metadata": {
    "collapsed": false
   },
   "outputs": [
    {
     "data": {
      "image/png": "[encoded data removed]",
      "text/latex": [
       "$$\\sum_{\\substack{1 \\leq j \\leq N_{e}\\\\1 \\leq i \\leq N_{e}}} \\hbar \\delta_{i, j} \\omega_{i} {\\left|i\\right\\rangle } {\\left\\langle j\\right|}$$"
      ],
      "text/plain": [
       "  Nₑ    Nₑ                          \n",
       " ___   ___                          \n",
       " ╲     ╲                            \n",
       "  ╲     ╲   h̅⋅δ   ⋅omega[i]⋅❘i⟩⋅⟨j❘\n",
       "  ╱     ╱       i,j                 \n",
       " ╱     ╱                            \n",
       " ‾‾‾   ‾‾‾                          \n",
       "i = 1 j = 1                         "
      ]
     },
     "execution_count": 6,
     "metadata": {},
     "output_type": "execute_result"
    }
   ],
   "source": [
    "H0 = hbar*omega_level[i]*KroneckerDelta(i,j)\n",
    "H0s = Sum( H0*AtomicKet(i)*AtomicBra(j), (j, 1, Ne), (i, 1, Ne))\n",
    "H0s"
   ]
  },
  {
   "cell_type": "markdown",
   "metadata": {},
   "source": [
    "We wish to model the interaction of this atom with an electric field that can be decomposed into $N_l$ discrete, well-defined frequencies."
   ]
  },
  {
   "cell_type": "code",
   "execution_count": 7,
   "metadata": {
    "collapsed": false
   },
   "outputs": [
    {
     "data": {
      "image/png": "[encoded data removed]",
      "text/latex": [
       "$$\\left ( E^{(+)}_{l}, \\quad \\varpi_{l}, \\quad k_{l}\\right )$$"
      ],
      "text/plain": [
       "(E^{(+)}[l], varpi[l], k[l])"
      ]
     },
     "execution_count": 7,
     "metadata": {},
     "output_type": "execute_result"
    }
   ],
   "source": [
    "Nl = symbols(\"N_l\", integer=True)\n",
    "\n",
    "E0p = IndexedBase(\"E^{(+)}\", shape=(Nl,))\n",
    "E0m = IndexedBase(\"E^{(-)}\", shape=(Nl,))\n",
    "omega_laser = IndexedBase(\"varpi\", shape=(Nl,))\n",
    "k_laser = IndexedBase(\"k\", shape=(Nl,))\n",
    "l = symbols(\"l\", cls=Idx)\n",
    "\n",
    "E0p[l], omega_laser[l], k_laser[l]"
   ]
  },
  {
   "cell_type": "code",
   "execution_count": 8,
   "metadata": {
    "collapsed": false
   },
   "outputs": [
    {
     "data": {
      "image/png": "[encoded data removed]",
      "text/latex": [
       "$$\\left ( {\\vec{\\varepsilon^{(+)}_{l}}}, \\quad {\\vec{\\varepsilon^{(-)}_{l}}}\\right )$$"
      ],
      "text/plain": [
       "(\\varepsilon^{(+)}[l], \\varepsilon^{(-)}[l])"
      ]
     },
     "execution_count": 8,
     "metadata": {},
     "output_type": "execute_result"
    }
   ],
   "source": [
    "t, R = symbols(\"t, R\", real=True)\n",
    "epsilonp = Vector3D(IndexedBase(r\"\\varepsilon^{(+)}\", shape=(Nl,)))\n",
    "epsilonm = Vector3D(IndexedBase(r\"\\varepsilon^{(-)}\", shape=(Nl,)))\n",
    "epsilonp[l], epsilonm[l]"
   ]
  },
  {
   "cell_type": "code",
   "execution_count": 9,
   "metadata": {
    "collapsed": false
   },
   "outputs": [
    {
     "data": {
      "image/png": "[encoded data removed]",
      "text/latex": [
       "$${\\vec{\\varepsilon^{(-)}_{0}}}$$"
      ],
      "text/plain": [
       "\\varepsilon^{(-)}[0]"
      ]
     },
     "execution_count": 9,
     "metadata": {},
     "output_type": "execute_result"
    }
   ],
   "source": [
    "epsilonm[0]"
   ]
  },
  {
   "cell_type": "code",
   "execution_count": 10,
   "metadata": {
    "collapsed": false
   },
   "outputs": [
    {
     "data": {
      "image/png": "[encoded data removed]",
      "text/latex": [
       "$$\\sum_{l=1}^{N_{l}} \\left(\\frac{E^{(-)}_{l} {\\vec{\\varepsilon^{(-)}_{l}}}}{2} e^{i t \\varpi_{l}} + \\frac{E^{(+)}_{l} {\\vec{\\varepsilon^{(+)}_{l}}}}{2} e^{- i t \\varpi_{l}}\\right)$$"
      ],
      "text/plain": [
       " N_l                                                                          \n",
       " ____                                                                         \n",
       " ╲                                                                            \n",
       "  ╲   ⎛ ⅈ⋅t⋅varpi[l]                                    -ⅈ⋅t⋅varpi[l]         \n",
       "   ╲  ⎜ℯ            ⋅E^{(-)}[l]⋅\\varepsilon^{(-)}[l]   ℯ             ⋅E^{(+)}[\n",
       "   ╱  ⎜───────────────────────────────────────────── + ───────────────────────\n",
       "  ╱   ⎝                      2                                               2\n",
       " ╱                                                                            \n",
       " ‾‾‾‾                                                                         \n",
       "l = 1                                                                         \n",
       "\n",
       "                        \n",
       "                        \n",
       "                        \n",
       "                       ⎞\n",
       "l]⋅\\varepsilon^{(+)}[l]⎟\n",
       "───────────────────────⎟\n",
       "                       ⎠\n",
       "                        \n",
       "                        \n",
       "                        "
      ]
     },
     "execution_count": 10,
     "metadata": {},
     "output_type": "execute_result"
    }
   ],
   "source": [
    "Ep = E0p[l]*epsilonp[l]/2 * exp(-I*(omega_laser[l]*t))\n",
    "Em = E0m[l]*epsilonm[l]/2 * exp( I*(omega_laser[l]*t))\n",
    "\n",
    "Eps = Sum(Ep, (l, 1, Nl))\n",
    "Ems = Sum(Em, (l, 1, Nl))\n",
    "\n",
    "E = Ep + Em\n",
    "\n",
    "Es = Sum(E, (l, 1, Nl))\n",
    "Es"
   ]
  },
  {
   "cell_type": "markdown",
   "metadata": {},
   "source": [
    "Such that $E_l^{\\pm}=(E_l^{\\mp})^{\\ast}$ are space dependant functions, and $\\vec{\\varepsilon}_l^{\\pm}=(\\vec{\\varepsilon}_l^{\\mp})^{\\ast}$ are space dependant unitary vectors. In particular, if the fields are plane waves,\n",
    "\n",
    "\\begin{equation}\n",
    "    E_l^{\\pm} = E_{0l} \\exp(\\pm i \\vec{k}_l \\cdot \\vec{R})\n",
    "\\end{equation}\n",
    "\n",
    "So, $E_l^{\\pm}$ encode the spacial structure of the fields, and $\\vec{\\varepsilon}_l^{\\pm}$ the spacial structure of the polarization.\n",
    "\n",
    "The atoms have some electric dipole operator"
   ]
  },
  {
   "cell_type": "code",
   "execution_count": 11,
   "metadata": {
    "collapsed": false
   },
   "outputs": [
    {
     "data": {
      "image/png": "[encoded data removed]",
      "text/latex": [
       "$$\\sum_{\\substack{1 \\leq i \\leq N_{e}\\\\1 \\leq j \\leq N_{e}}} - e \\vec{r}_{i,j} {\\left|i\\right\\rangle } {\\left\\langle j\\right|}$$"
      ],
      "text/plain": [
       "  Nₑ    Nₑ                          \n",
       " ___   ___                          \n",
       " ╲     ╲                            \n",
       "  ╲     ╲   -e⋅\\vec{r}[i, j]⋅❘i⟩⋅⟨j❘\n",
       "  ╱     ╱                           \n",
       " ╱     ╱                            \n",
       " ‾‾‾   ‾‾‾                          \n",
       "j = 1 i = 1                         "
      ]
     },
     "execution_count": 11,
     "metadata": {},
     "output_type": "execute_result"
    }
   ],
   "source": [
    "r = IndexedBase(r\"\\vec{r}\", shape=(Ne,Ne))\n",
    "d = Sum(-e*r[i,j]*AtomicKet(i)*AtomicBra(j), (i, 1, Ne), (j,1,Ne))\n",
    "d"
   ]
  },
  {
   "cell_type": "markdown",
   "metadata": {},
   "source": [
    "which we can similarly divide in positive and negative frequency components (that appear in the interaction picture)."
   ]
  },
  {
   "cell_type": "code",
   "execution_count": 12,
   "metadata": {
    "collapsed": false
   },
   "outputs": [
    {
     "data": {
      "image/png": "[encoded data removed]",
      "text/latex": [
       "$$\\left ( \\sum_{\\substack{i + 1 \\leq j \\leq N_{e}\\\\1 \\leq i \\leq N_{e}}} {\\left|i\\right\\rangle }{\\left\\langle j\\right|} {\\vec{r^{(+)}_{i,j}}}, \\quad \\sum_{\\substack{1 \\leq j \\leq N_{e}\\\\j + 1 \\leq i \\leq N_{e}}} {\\left|i\\right\\rangle }{\\left\\langle j\\right|} {\\vec{r^{(-)}_{i,j}}}\\right )$$"
      ],
      "text/plain": [
       "⎛  Nₑ      Nₑ                              Nₑ      Nₑ                      ⎞\n",
       "⎜ ___     ___                             ___     ___                      ⎟\n",
       "⎜ ╲       ╲                               ╲       ╲                        ⎟\n",
       "⎜  ╲       ╲     ❘i⟩⟨j❘⋅r^{(+)}[i, j]      ╲       ╲   ❘i⟩⟨j❘⋅r^{(-)}[i, j]⎟\n",
       "⎜  ╱       ╱                         ,     ╱       ╱                       ⎟\n",
       "⎜ ╱       ╱                               ╱       ╱                        ⎟\n",
       "⎜ ‾‾‾     ‾‾‾                             ‾‾‾     ‾‾‾                      ⎟\n",
       "⎝i = 1 j = i + 1                       i = j + 1 j = 1                     ⎠"
      ]
     },
     "execution_count": 12,
     "metadata": {},
     "output_type": "execute_result"
    }
   ],
   "source": [
    "rp = Vector3D(IndexedBase(r\"r^{(+)}\", shape=(Ne,Ne)))\n",
    "rm = Vector3D(IndexedBase(r\"r^{(-)}\", shape=(Ne,Ne)))\n",
    "\n",
    "#rp = rp[i, j]# *AtomicKet(i)*AtomicBra(j)\n",
    "#rm = rm[i, j]# *AtomicKet(i)*AtomicBra(j)\n",
    "\n",
    "r = rp + rm\n",
    "\n",
    "rps = Sum(rp[i, j]*(AtomicKet(i)*AtomicBra(j)), (j,i+1,Ne), (i, 1, Ne))\n",
    "rms = Sum(rm[i, j]*(AtomicKet(i)*AtomicBra(j)), (j, 1, Ne), (i, j+1, Ne))\n",
    "\n",
    "rps, rms"
   ]
  },
  {
   "cell_type": "code",
   "execution_count": 13,
   "metadata": {
    "collapsed": false
   },
   "outputs": [
    {
     "data": {
      "image/png": "[encoded data removed]",
      "text/latex": [
       "$$\\sum_{\\substack{1 \\leq j \\leq N_{e}\\\\1 \\leq i \\leq N_{e}}} \\left({\\vec{r^{(+)}_{i,j}}} + {\\vec{r^{(-)}_{i,j}}}\\right) {\\left|i\\right\\rangle } {\\left\\langle j\\right|}$$"
      ],
      "text/plain": [
       "  Nₑ    Nₑ                                         \n",
       " ___   ___                                         \n",
       " ╲     ╲                                           \n",
       "  ╲     ╲   (r^{(+)}[i, j] + r^{(-)}[i, j])⋅❘i⟩⋅⟨j❘\n",
       "  ╱     ╱                                          \n",
       " ╱     ╱                                           \n",
       " ‾‾‾   ‾‾‾                                         \n",
       "i = 1 j = 1                                        "
      ]
     },
     "execution_count": 13,
     "metadata": {},
     "output_type": "execute_result"
    }
   ],
   "source": [
    "rs = Sum((rp[i, j]+rm[i, j])*AtomicKet(i)*AtomicBra(j), (j, 1, Ne), (i, 1, Ne))\n",
    "rs"
   ]
  },
  {
   "cell_type": "markdown",
   "metadata": {},
   "source": [
    "Which is a rather elaborate way of saying that the operator can be separated in the components above (+) and below (-) of the diagonal.\n",
    "\n",
    "# The rotating wave approximation\n",
    "In the electric dipole approximation, the interaction hamiltonian is"
   ]
  },
  {
   "cell_type": "code",
   "execution_count": 14,
   "metadata": {
    "collapsed": false
   },
   "outputs": [
    {
     "data": {
      "image/png": "[encoded data removed]",
      "text/latex": [
       "$$\\frac{E^{(+)}_{l}}{2} e^{- i t \\varpi_{l}} {{\\vec{r^{(+)}_{i,j}}} \\cdot {\\vec{\\varepsilon^{(+)}_{l}}}}$$"
      ],
      "text/plain": [
       " -ⅈ⋅t⋅varpi[l]                                              \n",
       "ℯ             ⋅r^{(+)}[i, j]⋅\\varepsilon^{(+)}[l]⋅E^{(+)}[l]\n",
       "────────────────────────────────────────────────────────────\n",
       "                             2                              "
      ]
     },
     "execution_count": 14,
     "metadata": {},
     "output_type": "execute_result"
    }
   ],
   "source": [
    "dot(rp[i, j], Ep)"
   ]
  },
  {
   "cell_type": "code",
   "execution_count": 15,
   "metadata": {
    "collapsed": false
   },
   "outputs": [
    {
     "data": {
      "image/png": "[encoded data removed]",
      "text/latex": [
       "$$\\sum_{\\substack{1 \\leq l \\leq N_{l}\\\\1 \\leq i \\leq N_{e}\\\\1 \\leq j \\leq N_{e}}} \\left(- \\frac{e E^{(-)}_{l}}{2} e^{i t \\varpi_{l}} {{\\vec{r^{(+)}_{i,j}}} \\cdot {\\vec{\\varepsilon^{(-)}_{l}}}} - \\frac{e E^{(-)}_{l}}{2} e^{i t \\varpi_{l}} {{\\vec{r^{(-)}_{i,j}}} \\cdot {\\vec{\\varepsilon^{(-)}_{l}}}} - \\frac{e E^{(+)}_{l}}{2} e^{- i t \\varpi_{l}} {{\\vec{r^{(+)}_{i,j}}} \\cdot {\\vec{\\varepsilon^{(+)}_{l}}}} - \\frac{e E^{(+)}_{l}}{2} e^{- i t \\varpi_{l}} {{\\vec{r^{(-)}_{i,j}}} \\cdot {\\vec{\\varepsilon^{(+)}_{l}}}}\\right) {\\left|i\\right\\rangle } {\\left\\langle j\\right|}$$"
      ],
      "text/plain": [
       "  Nₑ    Nₑ   N_l                                                              \n",
       " ____  ____  ____                                                             \n",
       " ╲     ╲     ╲                                                                \n",
       "  ╲     ╲     ╲   ⎛     ⅈ⋅t⋅varpi[l]                                          \n",
       "   ╲     ╲     ╲  ⎜  e⋅ℯ            ⋅r^{(+)}[i, j]⋅\\varepsilon^{(-)}[l]⋅E^{(-)\n",
       "   ╱     ╱     ╱  ⎜- ─────────────────────────────────────────────────────────\n",
       "  ╱     ╱     ╱   ⎝                                2                          \n",
       " ╱     ╱     ╱                                                                \n",
       " ‾‾‾‾  ‾‾‾‾  ‾‾‾‾                                                             \n",
       "j = 1 i = 1 l = 1                                                             \n",
       "\n",
       "                                                                              \n",
       "                                                                              \n",
       "                                                                              \n",
       "          ⅈ⋅t⋅varpi[l]                                                    -ⅈ⋅t\n",
       "}[l]   e⋅ℯ            ⋅r^{(-)}[i, j]⋅\\varepsilon^{(-)}[l]⋅E^{(-)}[l]   e⋅ℯ    \n",
       "──── - ───────────────────────────────────────────────────────────── - ───────\n",
       "                                     2                                        \n",
       "                                                                              \n",
       "                                                                              \n",
       "                                                                              \n",
       "\n",
       "                                                                              \n",
       "                                                                              \n",
       "                                                                              \n",
       "⋅varpi[l]                                                    -ⅈ⋅t⋅varpi[l]    \n",
       "         ⋅r^{(+)}[i, j]⋅\\varepsilon^{(+)}[l]⋅E^{(+)}[l]   e⋅ℯ             ⋅r^{\n",
       "─────────────────────────────────────────────────────── - ────────────────────\n",
       "                       2                                                      \n",
       "                                                                              \n",
       "                                                                              \n",
       "                                                                              \n",
       "\n",
       "                                                   \n",
       "                                                   \n",
       "                                                   \n",
       "                                          ⎞        \n",
       "(-)}[i, j]⋅\\varepsilon^{(+)}[l]⋅E^{(+)}[l]⎟        \n",
       "──────────────────────────────────────────⎟⋅❘i⟩⋅⟨j❘\n",
       "          2                               ⎠        \n",
       "                                                   \n",
       "                                                   \n",
       "                                                   "
      ]
     },
     "execution_count": 15,
     "metadata": {},
     "output_type": "execute_result"
    }
   ],
   "source": [
    "H1E1 = -e*dot(rp[i, j],Ep)  -e*dot(rp[i, j],Em)  -e*dot(rm[i, j],Ep) -e*dot(rm[i, j],Em)\n",
    "\n",
    "H1E1s = Sum(H1E1*AtomicKet(i)*AtomicBra(j), (l, 1, Nl), (i, 1, Ne), (j, 1, Ne))\n",
    "H1E1s"
   ]
  },
  {
   "cell_type": "markdown",
   "metadata": {},
   "source": [
    "In the rotating wave approximation, this is approximated by"
   ]
  },
  {
   "cell_type": "code",
   "execution_count": 16,
   "metadata": {
    "collapsed": false
   },
   "outputs": [
    {
     "data": {
      "image/png": "[encoded data removed]",
      "text/latex": [
       "$$\\sum_{\\substack{1 \\leq l \\leq N_{l}\\\\1 \\leq j \\leq N_{e}\\\\1 \\leq i \\leq N_{e}}} \\left(- \\frac{e E^{(-)}_{l}}{2} e^{i t \\varpi_{l}} {{\\vec{r^{(+)}_{i,j}}} \\cdot {\\vec{\\varepsilon^{(-)}_{l}}}} - \\frac{e E^{(+)}_{l}}{2} e^{- i t \\varpi_{l}} {{\\vec{r^{(-)}_{i,j}}} \\cdot {\\vec{\\varepsilon^{(+)}_{l}}}}\\right) {\\left|i\\right\\rangle } {\\left\\langle j\\right|}$$"
      ],
      "text/plain": [
       "  Nₑ    Nₑ   N_l                                                              \n",
       " ____  ____  ____                                                             \n",
       " ╲     ╲     ╲                                                                \n",
       "  ╲     ╲     ╲   ⎛     ⅈ⋅t⋅varpi[l]                                          \n",
       "   ╲     ╲     ╲  ⎜  e⋅ℯ            ⋅r^{(+)}[i, j]⋅\\varepsilon^{(-)}[l]⋅E^{(-)\n",
       "   ╱     ╱     ╱  ⎜- ─────────────────────────────────────────────────────────\n",
       "  ╱     ╱     ╱   ⎝                                2                          \n",
       " ╱     ╱     ╱                                                                \n",
       " ‾‾‾‾  ‾‾‾‾  ‾‾‾‾                                                             \n",
       "i = 1 j = 1 l = 1                                                             \n",
       "\n",
       "                                                                              \n",
       "                                                                              \n",
       "                                                                              \n",
       "          -ⅈ⋅t⋅varpi[l]                                              ⎞        \n",
       "}[l]   e⋅ℯ             ⋅r^{(-)}[i, j]⋅\\varepsilon^{(+)}[l]⋅E^{(+)}[l]⎟        \n",
       "──── - ──────────────────────────────────────────────────────────────⎟⋅❘i⟩⋅⟨j❘\n",
       "                                     2                               ⎠        \n",
       "                                                                              \n",
       "                                                                              \n",
       "                                                                              "
      ]
     },
     "execution_count": 16,
     "metadata": {},
     "output_type": "execute_result"
    }
   ],
   "source": [
    "H1E1RWA = -e*dot(rp[i, j], Em)  -e*dot(rm[i, j], Ep)\n",
    "H1E1RWAs = Sum(H1E1RWA*AtomicKet(i)*AtomicBra(j), (l, 1, Nl), (j, 1, Ne), (i, 1, Ne))\n",
    "\n",
    "H1E1RWAs"
   ]
  },
  {
   "cell_type": "markdown",
   "metadata": {},
   "source": [
    "And the full hamiltonian is"
   ]
  },
  {
   "cell_type": "code",
   "execution_count": 17,
   "metadata": {
    "collapsed": false
   },
   "outputs": [
    {
     "data": {
      "image/png": "[encoded data removed]",
      "text/latex": [
       "$$\\sum_{\\substack{1 \\leq l \\leq N_{l}\\\\1 \\leq j \\leq N_{e}\\\\1 \\leq i \\leq N_{e}}} \\left(- \\frac{e E^{(-)}_{l}}{2} e^{i t \\varpi_{l}} {{\\vec{r^{(+)}_{i,j}}} \\cdot {\\vec{\\varepsilon^{(-)}_{l}}}} - \\frac{e E^{(+)}_{l}}{2} e^{- i t \\varpi_{l}} {{\\vec{r^{(-)}_{i,j}}} \\cdot {\\vec{\\varepsilon^{(+)}_{l}}}} + \\hbar \\delta_{i, j} \\omega_{i}\\right) {\\left|i\\right\\rangle } {\\left\\langle j\\right|}$$"
      ],
      "text/plain": [
       "  Nₑ    Nₑ   N_l                                                              \n",
       " ____  ____  ____                                                             \n",
       " ╲     ╲     ╲                                                                \n",
       "  ╲     ╲     ╲   ⎛     ⅈ⋅t⋅varpi[l]                                          \n",
       "   ╲     ╲     ╲  ⎜  e⋅ℯ            ⋅r^{(+)}[i, j]⋅\\varepsilon^{(-)}[l]⋅E^{(-)\n",
       "   ╱     ╱     ╱  ⎜- ─────────────────────────────────────────────────────────\n",
       "  ╱     ╱     ╱   ⎝                                2                          \n",
       " ╱     ╱     ╱                                                                \n",
       " ‾‾‾‾  ‾‾‾‾  ‾‾‾‾                                                             \n",
       "i = 1 j = 1 l = 1                                                             \n",
       "\n",
       "                                                                              \n",
       "                                                                              \n",
       "                                                                              \n",
       "          -ⅈ⋅t⋅varpi[l]                                                       \n",
       "}[l]   e⋅ℯ             ⋅r^{(-)}[i, j]⋅\\varepsilon^{(+)}[l]⋅E^{(+)}[l]         \n",
       "──── - ────────────────────────────────────────────────────────────── + h̅⋅δ  \n",
       "                                     2                                      i,\n",
       "                                                                              \n",
       "                                                                              \n",
       "                                                                              \n",
       "\n",
       "                   \n",
       "                   \n",
       "                   \n",
       "          ⎞        \n",
       "          ⎟        \n",
       " ⋅omega[i]⎟⋅❘i⟩⋅⟨j❘\n",
       "j         ⎠        \n",
       "                   \n",
       "                   \n",
       "                   "
      ]
     },
     "execution_count": 17,
     "metadata": {},
     "output_type": "execute_result"
    }
   ],
   "source": [
    "HE1RWA = H0 + H1E1RWA\n",
    "HE1RWAs = Sum(HE1RWA*AtomicKet(i)*AtomicBra(j), (l, 1, Nl), (j, 1, Ne), (i, 1, Ne))\n",
    "\n",
    "HE1RWAs"
   ]
  },
  {
   "cell_type": "markdown",
   "metadata": {},
   "source": [
    "# The rotating frame\n",
    "We make an arbitrary phase transformation on an arbitrary atomic state"
   ]
  },
  {
   "cell_type": "code",
   "execution_count": 18,
   "metadata": {
    "collapsed": false
   },
   "outputs": [
    {
     "data": {
      "image/png": "[encoded data removed]",
      "text/latex": [
       "$$\\sum_{i=1}^{N_{e}} e^{i t \\theta_{i}} \\tilde{c}_{i} {\\left|i\\right\\rangle }$$"
      ],
      "text/plain": [
       "  Nₑ                                 \n",
       " ___                                 \n",
       " ╲                                   \n",
       "  ╲    ⅈ⋅t⋅\\theta[i]                 \n",
       "  ╱   ℯ             ⋅\\tilde{c}[i]⋅❘i⟩\n",
       " ╱                                   \n",
       " ‾‾‾                                 \n",
       "i = 1                                "
      ]
     },
     "execution_count": 18,
     "metadata": {},
     "output_type": "execute_result"
    }
   ],
   "source": [
    "c = IndexedBase(r\"c\", shape=(Ne,))\n",
    "ct = IndexedBase(r\"\\tilde{c}\", shape=(Ne,))\n",
    "theta = IndexedBase(r\"\\theta\", shape=(Ne,))\n",
    "\n",
    "psi = ct[i]*exp(I*theta[i]*t)*AtomicKet(i)\n",
    "psis = Sum(psi, (i, 1, Ne))\n",
    "psis"
   ]
  },
  {
   "cell_type": "markdown",
   "metadata": {},
   "source": [
    "The Schrödinger equation is"
   ]
  },
  {
   "cell_type": "code",
   "execution_count": 19,
   "metadata": {
    "collapsed": false
   },
   "outputs": [
    {
     "data": {
      "image/png": "[encoded data removed]",
      "text/latex": [
       "$$\\sum_{i=1}^{N_{e}} i \\hbar \\left(e^{i t \\theta_{i}} \\dot{\\tilde{c}}_{i} + i e^{i t \\theta_{i}} \\theta_{i} \\tilde{c}_{i}\\right) {\\left|i\\right\\rangle }$$"
      ],
      "text/plain": [
       "  Nₑ                                                                          \n",
       " ___                                                                          \n",
       " ╲                                                                            \n",
       "  ╲        ⎛ ⅈ⋅t⋅\\theta[i]                         ⅈ⋅t⋅\\theta[i]              \n",
       "  ╱   ⅈ⋅h̅⋅⎝ℯ             ⋅\\dot{\\tilde{c}}[i] + ⅈ⋅ℯ             ⋅\\theta[i]⋅\\ti\n",
       " ╱                                                                            \n",
       " ‾‾‾                                                                          \n",
       "i = 1                                                                         \n",
       "\n",
       "              \n",
       "              \n",
       "              \n",
       "         ⎞    \n",
       "lde{c}[i]⎠⋅❘i⟩\n",
       "              \n",
       "              \n",
       "              "
      ]
     },
     "execution_count": 19,
     "metadata": {},
     "output_type": "execute_result"
    }
   ],
   "source": [
    "ctp = IndexedBase(r\"\\dot{\\tilde{c}}\", shape=(Ne,))\n",
    "thetap = IndexedBase(r\"\\dot{\\theta}\", shape=(Ne,))\n",
    "\n",
    "lhs = I*hbar*(exp(I*theta[i]*t)*ctp[i]+I*theta[i]*exp(I*theta[i]*t)*ct[i])*AtomicKet(i)\n",
    "lhss = Sum(lhs, (i, 1, Ne))\n",
    "lhss"
   ]
  },
  {
   "cell_type": "code",
   "execution_count": 20,
   "metadata": {
    "collapsed": false
   },
   "outputs": [
    {
     "data": {
      "image/png": "[encoded data removed]",
      "text/latex": [
       "$$\\sum_{\\substack{0 \\leq i \\leq N_{e}\\\\0 \\leq l \\leq N_{l}}} \\left(\\sum_{j=0}^{N_{e}} \\left(- \\frac{e E^{(-)}_{l}}{2} e^{i t \\theta_{j}} e^{i t \\varpi_{l}} {{\\vec{r^{(+)}_{i,j}}} \\cdot {\\vec{\\varepsilon^{(-)}_{l}}}} \\tilde{c}_{j} - \\frac{e E^{(+)}_{l}}{2} e^{i t \\theta_{j}} e^{- i t \\varpi_{l}} {{\\vec{r^{(-)}_{i,j}}} \\cdot {\\vec{\\varepsilon^{(+)}_{l}}}} \\tilde{c}_{j} + \\hbar e^{i t \\theta_{j}} \\delta_{i, j} \\tilde{c}_{j} \\omega_{i}\\right)\\right) {\\left|i\\right\\rangle }$$"
      ],
      "text/plain": [
       "  N_l      Nₑ                                                                 \n",
       "_______ _______                                                               \n",
       "╲       ╲                                                                     \n",
       " ╲       ╲      ⎛  Nₑ                                                         \n",
       "  ╲       ╲     ⎜ ____                                                        \n",
       "   ╲       ╲    ⎜ ╲                                                           \n",
       "    ╲       ╲   ⎜  ╲   ⎛     ⅈ⋅t⋅\\theta[j]  ⅈ⋅t⋅varpi[l]                      \n",
       "     ╲       ╲  ⎜   ╲  ⎜  e⋅ℯ             ⋅ℯ            ⋅r^{(+)}[i, j]⋅\\vareps\n",
       "     ╱       ╱  ⎜   ╱  ⎜- ────────────────────────────────────────────────────\n",
       "    ╱       ╱   ⎜  ╱   ⎝                                              2       \n",
       "   ╱       ╱    ⎜ ╱                                                           \n",
       "  ╱       ╱     ⎜ ‾‾‾‾                                                        \n",
       " ╱       ╱      ⎝j = 0                                                        \n",
       "╱       ╱                                                                     \n",
       "‾‾‾‾‾‾‾ ‾‾‾‾‾‾‾                                                               \n",
       " l = 0   i = 0                                                                \n",
       "\n",
       "                                                                              \n",
       "                                                                              \n",
       "                                                                              \n",
       "                                                                              \n",
       "                                                                              \n",
       "                                                                              \n",
       "                                           ⅈ⋅t⋅\\theta[j]  -ⅈ⋅t⋅varpi[l]       \n",
       "ilon^{(-)}[l]⋅E^{(-)}[l]⋅\\tilde{c}[j]   e⋅ℯ             ⋅ℯ             ⋅r^{(-)\n",
       "───────────────────────────────────── - ──────────────────────────────────────\n",
       "                                                                              \n",
       "                                                                              \n",
       "                                                                              \n",
       "                                                                              \n",
       "                                                                              \n",
       "                                                                              \n",
       "                                                                              \n",
       "\n",
       "                                                                              \n",
       "                                                                              \n",
       "                                                                              \n",
       "                                                                              \n",
       "                                                                              \n",
       "                                                                              \n",
       "                                                                              \n",
       "}[i, j]⋅\\varepsilon^{(+)}[l]⋅E^{(+)}[l]⋅\\tilde{c}[j]       ⅈ⋅t⋅\\theta[j]      \n",
       "──────────────────────────────────────────────────── + h̅⋅ℯ             ⋅δ   ⋅\n",
       "      2                                                                   i,j \n",
       "                                                                              \n",
       "                                                                              \n",
       "                                                                              \n",
       "                                                                              \n",
       "                                                                              \n",
       "                                                                              \n",
       "\n",
       "                           \n",
       "                           \n",
       "                           \n",
       "                      ⎞    \n",
       "                      ⎟    \n",
       "                      ⎟    \n",
       "                     ⎞⎟    \n",
       "                     ⎟⎟    \n",
       "\\tilde{c}[j]⋅omega[i]⎟⎟⋅❘i⟩\n",
       "                     ⎠⎟    \n",
       "                      ⎟    \n",
       "                      ⎟    \n",
       "                      ⎠    \n",
       "                           \n",
       "                           \n",
       "                           "
      ]
     },
     "execution_count": 20,
     "metadata": {},
     "output_type": "execute_result"
    }
   ],
   "source": [
    "rhs = HE1RWA.subs({j: k})*psi.subs({i: k})\n",
    "rhs = rhs.expand()\n",
    "rhs = rhs.subs({AtomicKet(k): 1}).subs({AtomicBra(k): 1})\n",
    "rhs = rhs.subs({k: j})\n",
    "rhs = Sum(rhs, (j, 0, Ne))\n",
    "\n",
    "rhss = Sum(rhs*AtomicKet(i), (i, 0, Ne), (l, 0, Nl))\n",
    "rhss"
   ]
  },
  {
   "cell_type": "markdown",
   "metadata": {},
   "source": [
    "And now, component-wise, we multiply by $e^{-i\\theta_i t}$ and add $\\hbar \\theta_i\\tilde{c}_i$"
   ]
  },
  {
   "cell_type": "code",
   "execution_count": 21,
   "metadata": {
    "collapsed": false
   },
   "outputs": [
    {
     "data": {
      "image/png": "[encoded data removed]",
      "text/latex": [
       "$$\\sum_{i=1}^{N_{e}} i \\hbar \\dot{\\tilde{c}}_{i} {\\left|i\\right\\rangle }$$"
      ],
      "text/plain": [
       "  Nₑ                             \n",
       " ___                             \n",
       " ╲                               \n",
       "  ╲   ⅈ⋅h̅⋅\\dot{\\tilde{c}}[i]⋅❘i⟩\n",
       "  ╱                              \n",
       " ╱                               \n",
       " ‾‾‾                             \n",
       "i = 1                            "
      ]
     },
     "execution_count": 21,
     "metadata": {},
     "output_type": "execute_result"
    }
   ],
   "source": [
    "lhs_tilde = lhs.subs({AtomicKet(i):1})*exp(-I*theta[i]*t)\n",
    "lhs_tilde = lhs_tilde.expand()\n",
    "lhs_tilde = lhs_tilde + hbar*theta[i]*ct[i]\n",
    "\n",
    "lhs_tildes = Sum(lhs_tilde*AtomicKet(i), (i, 1, Ne))\n",
    "\n",
    "lhs_tildes"
   ]
  },
  {
   "cell_type": "code",
   "execution_count": 22,
   "metadata": {
    "collapsed": false
   },
   "outputs": [
    {
     "name": "stdout",
     "output_type": "stream",
     "text": [
      "(j, 0, N_e)\n"
     ]
    },
    {
     "data": {
      "image/png": "[encoded data removed]",
      "text/latex": [
       "$$\\sum_{\\substack{1 \\leq l \\leq N_{l}\\\\1 \\leq i \\leq N_{e}}} \\left(\\hbar \\theta_{i} \\tilde{c}_{i} + \\sum_{j=0}^{N_{e}} \\left(- \\frac{e E^{(-)}_{l}}{2} e^{- i t \\theta_{i}} e^{i t \\theta_{j}} e^{i t \\varpi_{l}} {{\\vec{r^{(+)}_{i,j}}} \\cdot {\\vec{\\varepsilon^{(-)}_{l}}}} \\tilde{c}_{j} - \\frac{e E^{(+)}_{l}}{2} e^{- i t \\theta_{i}} e^{i t \\theta_{j}} e^{- i t \\varpi_{l}} {{\\vec{r^{(-)}_{i,j}}} \\cdot {\\vec{\\varepsilon^{(+)}_{l}}}} \\tilde{c}_{j} + \\hbar e^{- i t \\theta_{i}} e^{i t \\theta_{j}} \\delta_{i, j} \\tilde{c}_{j} \\omega_{i}\\right)\\right) {\\left|i\\right\\rangle }$$"
      ],
      "text/plain": [
       "   Nₑ     N_l                                                                 \n",
       "_______ _______                                                               \n",
       "╲       ╲                                                                     \n",
       " ╲       ╲      ⎛                              Nₑ                             \n",
       "  ╲       ╲     ⎜                             ____                            \n",
       "   ╲       ╲    ⎜                             ╲                               \n",
       "    ╲       ╲   ⎜                              ╲   ⎛     -ⅈ⋅t⋅\\theta[i]  ⅈ⋅t⋅\\\n",
       "     ╲       ╲  ⎜                               ╲  ⎜  e⋅ℯ              ⋅ℯ     \n",
       "     ╱       ╱  ⎜h̅⋅\\theta[i]⋅\\tilde{c}[i] +    ╱  ⎜- ────────────────────────\n",
       "    ╱       ╱   ⎜                              ╱   ⎝                          \n",
       "   ╱       ╱    ⎜                             ╱                               \n",
       "  ╱       ╱     ⎜                             ‾‾‾‾                            \n",
       " ╱       ╱      ⎝                            j = 0                            \n",
       "╱       ╱                                                                     \n",
       "‾‾‾‾‾‾‾ ‾‾‾‾‾‾‾                                                               \n",
       " i = 1   l = 1                                                                \n",
       "\n",
       "                                                                              \n",
       "                                                                              \n",
       "                                                                              \n",
       "                                                                              \n",
       "                                                                              \n",
       "                                                                              \n",
       "theta[j]  ⅈ⋅t⋅varpi[l]                                                        \n",
       "        ⋅ℯ            ⋅r^{(+)}[i, j]⋅\\varepsilon^{(-)}[l]⋅E^{(-)}[l]⋅\\tilde{c}\n",
       "──────────────────────────────────────────────────────────────────────────────\n",
       "                            2                                                 \n",
       "                                                                              \n",
       "                                                                              \n",
       "                                                                              \n",
       "                                                                              \n",
       "                                                                              \n",
       "                                                                              \n",
       "\n",
       "                                                                              \n",
       "                                                                              \n",
       "                                                                              \n",
       "                                                                              \n",
       "                                                                              \n",
       "                                                                              \n",
       "         -ⅈ⋅t⋅\\theta[i]  ⅈ⋅t⋅\\theta[j]  -ⅈ⋅t⋅varpi[l]                         \n",
       "[j]   e⋅ℯ              ⋅ℯ             ⋅ℯ             ⋅r^{(-)}[i, j]⋅\\varepsilo\n",
       "─── - ────────────────────────────────────────────────────────────────────────\n",
       "                                                          2                   \n",
       "                                                                              \n",
       "                                                                              \n",
       "                                                                              \n",
       "                                                                              \n",
       "                                                                              \n",
       "                                                                              \n",
       "\n",
       "                                                                              \n",
       "                                                                              \n",
       "                                                                              \n",
       "                                                                              \n",
       "                                                                              \n",
       "                                                                              \n",
       "                                                                              \n",
       "n^{(+)}[l]⋅E^{(+)}[l]⋅\\tilde{c}[j]       -ⅈ⋅t⋅\\theta[i]  ⅈ⋅t⋅\\theta[j]        \n",
       "────────────────────────────────── + h̅⋅ℯ              ⋅ℯ             ⋅δ   ⋅\\t\n",
       "                                                                        i,j   \n",
       "                                                                              \n",
       "                                                                              \n",
       "                                                                              \n",
       "                                                                              \n",
       "                                                                              \n",
       "                                                                              \n",
       "\n",
       "                         \n",
       "                         \n",
       "                         \n",
       "                    ⎞    \n",
       "                    ⎟    \n",
       "                    ⎟    \n",
       "                   ⎞⎟    \n",
       "                   ⎟⎟    \n",
       "ilde{c}[j]⋅omega[i]⎟⎟⋅❘i⟩\n",
       "                   ⎠⎟    \n",
       "                    ⎟    \n",
       "                    ⎟    \n",
       "                    ⎠    \n",
       "                         \n",
       "                         \n",
       "                         "
      ]
     },
     "execution_count": 22,
     "metadata": {},
     "output_type": "execute_result"
    }
   ],
   "source": [
    "rhs_tilde = rhs.subs({AtomicKet(i):1})\n",
    "print rhs_tilde.args[1]\n",
    "rhs_tilde = (rhs_tilde.args[0]*exp(-I*theta[i]*t)).expand()\n",
    "rhs_tilde = Sum(rhs_tilde, (j, 0, Ne))\n",
    "rhs_tilde = rhs_tilde + hbar*theta[i]*ct[i]\n",
    "\n",
    "rhs_tildes = Sum(rhs_tilde*AtomicKet(i), (l, 1, Nl), (i, 1, Ne))\n",
    "rhs_tildes"
   ]
  },
  {
   "cell_type": "markdown",
   "metadata": {},
   "source": [
    "We can bring the first term into the $j$ sum"
   ]
  },
  {
   "cell_type": "code",
   "execution_count": 23,
   "metadata": {
    "collapsed": false
   },
   "outputs": [
    {
     "data": {
      "image/png": "[encoded data removed]",
      "text/latex": [
       "$$\\sum_{\\substack{1 \\leq l \\leq N_{l}\\\\1 \\leq i \\leq N_{e}}} \\left(\\sum_{j=0}^{N_{e}} \\left(- \\frac{e E^{(-)}_{l}}{2} e^{- i t \\theta_{i}} e^{i t \\theta_{j}} e^{i t \\varpi_{l}} {{\\vec{r^{(+)}_{i,j}}} \\cdot {\\vec{\\varepsilon^{(-)}_{l}}}} \\tilde{c}_{j} - \\frac{e E^{(+)}_{l}}{2} e^{- i t \\theta_{i}} e^{i t \\theta_{j}} e^{- i t \\varpi_{l}} {{\\vec{r^{(-)}_{i,j}}} \\cdot {\\vec{\\varepsilon^{(+)}_{l}}}} \\tilde{c}_{j} + \\hbar \\delta_{i, j} \\theta_{j} \\tilde{c}_{j} + \\hbar e^{- i t \\theta_{i}} e^{i t \\theta_{j}} \\delta_{i, j} \\tilde{c}_{j} \\omega_{i}\\right)\\right) {\\left|i\\right\\rangle }$$"
      ],
      "text/plain": [
       "   Nₑ     N_l                                                                 \n",
       "_______ _______                                                               \n",
       "╲       ╲                                                                     \n",
       " ╲       ╲      ⎛  Nₑ                                                         \n",
       "  ╲       ╲     ⎜ ____                                                        \n",
       "   ╲       ╲    ⎜ ╲                                                           \n",
       "    ╲       ╲   ⎜  ╲   ⎛     -ⅈ⋅t⋅\\theta[i]  ⅈ⋅t⋅\\theta[j]  ⅈ⋅t⋅varpi[l]      \n",
       "     ╲       ╲  ⎜   ╲  ⎜  e⋅ℯ              ⋅ℯ             ⋅ℯ            ⋅r^{(+\n",
       "     ╱       ╱  ⎜   ╱  ⎜- ────────────────────────────────────────────────────\n",
       "    ╱       ╱   ⎜  ╱   ⎝                                                      \n",
       "   ╱       ╱    ⎜ ╱                                                           \n",
       "  ╱       ╱     ⎜ ‾‾‾‾                                                        \n",
       " ╱       ╱      ⎝j = 0                                                        \n",
       "╱       ╱                                                                     \n",
       "‾‾‾‾‾‾‾ ‾‾‾‾‾‾‾                                                               \n",
       " i = 1   l = 1                                                                \n",
       "\n",
       "                                                                              \n",
       "                                                                              \n",
       "                                                                              \n",
       "                                                                              \n",
       "                                                                              \n",
       "                                                                              \n",
       "                                                           -ⅈ⋅t⋅\\theta[i]  ⅈ⋅t\n",
       ")}[i, j]⋅\\varepsilon^{(-)}[l]⋅E^{(-)}[l]⋅\\tilde{c}[j]   e⋅ℯ              ⋅ℯ   \n",
       "───────────────────────────────────────────────────── - ──────────────────────\n",
       "2                                                                             \n",
       "                                                                              \n",
       "                                                                              \n",
       "                                                                              \n",
       "                                                                              \n",
       "                                                                              \n",
       "                                                                              \n",
       "\n",
       "                                                                              \n",
       "                                                                              \n",
       "                                                                              \n",
       "                                                                              \n",
       "                                                                              \n",
       "                                                                              \n",
       "⋅\\theta[j]  -ⅈ⋅t⋅varpi[l]                                                     \n",
       "          ⋅ℯ             ⋅r^{(-)}[i, j]⋅\\varepsilon^{(+)}[l]⋅E^{(+)}[l]⋅\\tilde\n",
       "──────────────────────────────────────────────────────────────────────────────\n",
       "                              2                                               \n",
       "                                                                              \n",
       "                                                                              \n",
       "                                                                              \n",
       "                                                                              \n",
       "                                                                              \n",
       "                                                                              \n",
       "\n",
       "                                                                              \n",
       "                                                                              \n",
       "                                                                              \n",
       "                                                                              \n",
       "                                                                              \n",
       "                                                                              \n",
       "                                                                              \n",
       "{c}[j]                                        -ⅈ⋅t⋅\\theta[i]  ⅈ⋅t⋅\\theta[j]   \n",
       "────── + h̅⋅δ   ⋅\\theta[j]⋅\\tilde{c}[j] + h̅⋅ℯ              ⋅ℯ             ⋅δ \n",
       "             i,j                                                             i\n",
       "                                                                              \n",
       "                                                                              \n",
       "                                                                              \n",
       "                                                                              \n",
       "                                                                              \n",
       "                                                                              \n",
       "\n",
       "                              \n",
       "                              \n",
       "                              \n",
       "                         ⎞    \n",
       "                         ⎟    \n",
       "                         ⎟    \n",
       "                        ⎞⎟    \n",
       "                        ⎟⎟    \n",
       "  ⋅\\tilde{c}[j]⋅omega[i]⎟⎟⋅❘i⟩\n",
       ",j                      ⎠⎟    \n",
       "                         ⎟    \n",
       "                         ⎟    \n",
       "                         ⎠    \n",
       "                              \n",
       "                              \n",
       "                              "
      ]
     },
     "execution_count": 23,
     "metadata": {},
     "output_type": "execute_result"
    }
   ],
   "source": [
    "rhs_tilde2 = Sum(rhs_tilde.args[1].args[0]+rhs_tilde.args[0].subs({i: j})*KroneckerDelta(i,j), rhs_tilde.args[1].args[1])\n",
    "\n",
    "rhs_tildes = Sum(rhs_tilde2*AtomicKet(i), (l, 1, Nl), (i, 1, Ne))\n",
    "rhs_tildes"
   ]
  },
  {
   "cell_type": "markdown",
   "metadata": {},
   "source": [
    "The last term in this expression only applears when $i=j$, in which case $\\theta_i = theta_j$, so it has no time dependence. So we can see that the condition for the elimination of explicit time dependence is that"
   ]
  },
  {
   "cell_type": "code",
   "execution_count": 24,
   "metadata": {
    "collapsed": false
   },
   "outputs": [
    {
     "data": {
      "image/png": "[encoded data removed]",
      "text/latex": [
       "$$\\left[\\begin{matrix}- \\theta_{i} + \\theta_{j} + \\varpi_{l} & = & 0\\end{matrix}\\right]$$"
      ],
      "text/plain": [
       "[-\\theta[i] + \\theta[j] + varpi[l]  =  0]"
      ]
     },
     "execution_count": 24,
     "metadata": {},
     "output_type": "execute_result"
    }
   ],
   "source": [
    "eqs_phase = -theta[i]+theta[j]+omega_laser[l]\n",
    "Matrix([eqs_phase, eqsign, 0]).transpose()"
   ]
  },
  {
   "cell_type": "markdown",
   "metadata": {},
   "source": [
    "for $j>i$. Notice that equations"
   ]
  },
  {
   "cell_type": "code",
   "execution_count": 25,
   "metadata": {
    "collapsed": false
   },
   "outputs": [
    {
     "data": {
      "image/png": "[encoded data removed]",
      "text/latex": [
       "$$\\left[\\begin{matrix}- \\theta_{i} + \\theta_{j} - \\varpi_{l} & = & 0\\end{matrix}\\right]$$"
      ],
      "text/plain": [
       "[-\\theta[i] + \\theta[j] - varpi[l]  =  0]"
      ]
     },
     "execution_count": 25,
     "metadata": {},
     "output_type": "execute_result"
    }
   ],
   "source": [
    "eqs_phase2 = -theta[i]+theta[j]-omega_laser[l]\n",
    "Matrix([eqs_phase2, eqsign, 0]).transpose()"
   ]
  },
  {
   "cell_type": "markdown",
   "metadata": {},
   "source": [
    "for $i>j$ are equivalent, since these terms are multiplied by $\\vec{r}^{(\\pm)}_{ij}$ respectively, and only one of them is non-zero for given $i, j$.\n",
    "\n",
    "We further make the approximation that not all $N_l$ fields are coupled to all transitions $|i\\rangle\\rightarrow |j\\rangle$. So we define a symbol $\\xi_{lij}$ that is 1 if field $l$ couples the transition $|i\\rangle\\rightarrow |j\\rangle$ and zero otherwise. Thus we can rewrite the right hand side as"
   ]
  },
  {
   "cell_type": "code",
   "execution_count": 26,
   "metadata": {
    "collapsed": false
   },
   "outputs": [
    {
     "data": {
      "image/png": "[encoded data removed]",
      "text/latex": [
       "$$\\sum_{\\substack{1 \\leq l \\leq N_{l}\\\\1 \\leq i \\leq N_{e}}} \\left(\\sum_{j=1}^{N_{e}} \\left(- \\frac{e E^{(-)}_{l}}{2} e^{- i t \\theta_{i}} e^{i t \\theta_{j}} e^{i t \\varpi_{l}} {{\\vec{r^{(+)}_{i,j}}} \\cdot {\\vec{\\varepsilon^{(-)}_{l}}}} \\xi_{l,i,j} - \\frac{e E^{(+)}_{l}}{2} e^{- i t \\theta_{i}} e^{i t \\theta_{j}} e^{- i t \\varpi_{l}} {{\\vec{r^{(-)}_{i,j}}} \\cdot {\\vec{\\varepsilon^{(+)}_{l}}}} \\xi_{l,i,j} + \\hbar \\delta_{i, j} \\theta_{j} + \\hbar e^{- i t \\theta_{i}} e^{i t \\theta_{j}} \\delta_{i, j} \\omega_{i}\\right) \\tilde{c}_{j}\\right) {\\left|i\\right\\rangle }$$"
      ],
      "text/plain": [
       "   Nₑ     N_l                                                                 \n",
       "_______ _______                                                               \n",
       "╲       ╲                                                                     \n",
       " ╲       ╲      ⎛  Nₑ                                                         \n",
       "  ╲       ╲     ⎜ ____                                                        \n",
       "   ╲       ╲    ⎜ ╲                                                           \n",
       "    ╲       ╲   ⎜  ╲   ⎛     -ⅈ⋅t⋅\\theta[i]  ⅈ⋅t⋅\\theta[j]  ⅈ⋅t⋅varpi[l]      \n",
       "     ╲       ╲  ⎜   ╲  ⎜  e⋅ℯ              ⋅ℯ             ⋅ℯ            ⋅r^{(+\n",
       "     ╱       ╱  ⎜   ╱  ⎜- ────────────────────────────────────────────────────\n",
       "    ╱       ╱   ⎜  ╱   ⎝                                                     2\n",
       "   ╱       ╱    ⎜ ╱                                                           \n",
       "  ╱       ╱     ⎜ ‾‾‾‾                                                        \n",
       " ╱       ╱      ⎝j = 1                                                        \n",
       "╱       ╱                                                                     \n",
       "‾‾‾‾‾‾‾ ‾‾‾‾‾‾‾                                                               \n",
       " i = 1   l = 1                                                                \n",
       "\n",
       "                                                                              \n",
       "                                                                              \n",
       "                                                                              \n",
       "                                                                              \n",
       "                                                                              \n",
       "                                                                              \n",
       "                                                          -ⅈ⋅t⋅\\theta[i]  ⅈ⋅t⋅\n",
       ")}[i, j]⋅\\varepsilon^{(-)}[l]⋅E^{(-)}[l]⋅xi[l, i, j]   e⋅ℯ              ⋅ℯ    \n",
       "──────────────────────────────────────────────────── - ───────────────────────\n",
       "                                                                              \n",
       "                                                                              \n",
       "                                                                              \n",
       "                                                                              \n",
       "                                                                              \n",
       "                                                                              \n",
       "                                                                              \n",
       "\n",
       "                                                                              \n",
       "                                                                              \n",
       "                                                                              \n",
       "                                                                              \n",
       "                                                                              \n",
       "                                                                              \n",
       "\\theta[j]  -ⅈ⋅t⋅varpi[l]                                                      \n",
       "         ⋅ℯ             ⋅r^{(-)}[i, j]⋅\\varepsilon^{(+)}[l]⋅E^{(+)}[l]⋅xi[l, i\n",
       "──────────────────────────────────────────────────────────────────────────────\n",
       "                             2                                                \n",
       "                                                                              \n",
       "                                                                              \n",
       "                                                                              \n",
       "                                                                              \n",
       "                                                                              \n",
       "                                                                              \n",
       "\n",
       "                                                                              \n",
       "                                                                              \n",
       "                                                                              \n",
       "                                                                              \n",
       "                                                                              \n",
       "                                                                              \n",
       "                                                                          ⎞   \n",
       ", j]                           -ⅈ⋅t⋅\\theta[i]  ⅈ⋅t⋅\\theta[j]              ⎟   \n",
       "──── + h̅⋅δ   ⋅\\theta[j] + h̅⋅ℯ              ⋅ℯ             ⋅δ   ⋅omega[i]⎟⋅\\t\n",
       "           i,j                                                i,j         ⎠   \n",
       "                                                                              \n",
       "                                                                              \n",
       "                                                                              \n",
       "                                                                              \n",
       "                                                                              \n",
       "                                                                              \n",
       "\n",
       "               \n",
       "               \n",
       "               \n",
       "          ⎞    \n",
       "          ⎟    \n",
       "          ⎟    \n",
       "          ⎟    \n",
       "          ⎟    \n",
       "ilde{c}[j]⎟⋅❘i⟩\n",
       "          ⎟    \n",
       "          ⎟    \n",
       "          ⎟    \n",
       "          ⎠    \n",
       "               \n",
       "               \n",
       "               "
      ]
     },
     "execution_count": 26,
     "metadata": {},
     "output_type": "execute_result"
    }
   ],
   "source": [
    "xi = IndexedBase(\"xi\", shape=(Nl, Ne, Ne))\n",
    "\n",
    "rhs_tilde3=rhs_tilde2.args[0].subs({E0m[l]: E0m[l]*xi[l, i, j], E0p[l]: E0p[l]*xi[l, i, j]})\n",
    "rhs_tilde3=rhs_tilde3.subs({ct[j]:1})*ct[j]\n",
    "\n",
    "rhs_tilde3=Sum(rhs_tilde3, (j, 1, Ne))\n",
    "\n",
    "rhs_tildes = Sum(rhs_tilde3*AtomicKet(i), (l, 1, Nl), (i, 1, Ne))\n",
    "rhs_tildes"
   ]
  },
  {
   "cell_type": "markdown",
   "metadata": {},
   "source": [
    "So it can be seen that this is a Schrödinger equation from an effective Hamiltonian"
   ]
  },
  {
   "cell_type": "code",
   "execution_count": 27,
   "metadata": {
    "collapsed": false
   },
   "outputs": [
    {
     "data": {
      "image/png": "[encoded data removed]",
      "text/latex": [
       "$$\\sum_{\\substack{1 \\leq j \\leq N_{e}\\\\1 \\leq i \\leq N_{e}}} \\left(\\frac{e \\xi_{l,i,j}}{2} \\left(- e^{- i t \\theta_{i}} e^{i t \\theta_{j}} e^{i t \\varpi_{l}} {{\\vec{r^{(+)}_{i,j}}} \\cdot {\\vec{\\varepsilon^{(-)}_{l}}}} E^{(-)}_{l} - e^{- i t \\theta_{i}} e^{i t \\theta_{j}} e^{- i t \\varpi_{l}} {{\\vec{r^{(-)}_{i,j}}} \\cdot {\\vec{\\varepsilon^{(+)}_{l}}}} E^{(+)}_{l}\\right) + \\hbar \\left(e^{i t \\theta_{i}} \\theta_{j} + e^{i t \\theta_{j}} \\omega_{i}\\right) e^{- i t \\theta_{i}} \\delta_{i, j}\\right)$$"
      ],
      "text/plain": [
       "  Nₑ    Nₑ                                                                    \n",
       " ____  ____                                                                   \n",
       " ╲     ╲                                                                      \n",
       "  ╲     ╲   ⎛  ⎛   -ⅈ⋅t⋅\\theta[i]  ⅈ⋅t⋅\\theta[j]  ⅈ⋅t⋅varpi[l]                \n",
       "   ╲     ╲  ⎜e⋅⎝- ℯ              ⋅ℯ             ⋅ℯ            ⋅r^{(+)}[i, j]⋅\\\n",
       "   ╱     ╱  ⎜─────────────────────────────────────────────────────────────────\n",
       "  ╱     ╱   ⎝                                                                 \n",
       " ╱     ╱                                                                      \n",
       " ‾‾‾‾  ‾‾‾‾                                                                   \n",
       "i = 1 j = 1                                                                   \n",
       "\n",
       "                                                                              \n",
       "                                                                              \n",
       "                                                                              \n",
       "                                  -ⅈ⋅t⋅\\theta[i]  ⅈ⋅t⋅\\theta[j]  -ⅈ⋅t⋅varpi[l]\n",
       "varepsilon^{(-)}[l]⋅E^{(-)}[l] - ℯ              ⋅ℯ             ⋅ℯ             \n",
       "──────────────────────────────────────────────────────────────────────────────\n",
       "                                   2                                          \n",
       "                                                                              \n",
       "                                                                              \n",
       "                                                                              \n",
       "\n",
       "                                                                              \n",
       "                                                                              \n",
       "                                                                              \n",
       "                                              ⎞                               \n",
       "⋅r^{(-)}[i, j]⋅\\varepsilon^{(+)}[l]⋅E^{(+)}[l]⎠⋅xi[l, i, j]      ⎛ ⅈ⋅t⋅\\theta[\n",
       "─────────────────────────────────────────────────────────── + h̅⋅⎝ℯ           \n",
       "                                                                              \n",
       "                                                                              \n",
       "                                                                              \n",
       "                                                                              \n",
       "\n",
       "                                                             \n",
       "                                                             \n",
       "                                                             \n",
       "                                                            ⎞\n",
       "i]              ⅈ⋅t⋅\\theta[j]         ⎞  -ⅈ⋅t⋅\\theta[i]     ⎟\n",
       "  ⋅\\theta[j] + ℯ             ⋅omega[i]⎠⋅ℯ              ⋅δ   ⎟\n",
       "                                                         i,j⎠\n",
       "                                                             \n",
       "                                                             \n",
       "                                                             "
      ]
     },
     "execution_count": 27,
     "metadata": {},
     "output_type": "execute_result"
    }
   ],
   "source": [
    "H_tilde = rhs_tilde3.args[0].subs({ct[j]:1})\n",
    "ss = {xi[l, i, j]: 1, e:1, E0p[l]: E0p[l]*2, E0m[l]: E0m[l]*2}\n",
    "H_tilde = (H_tilde.args[0]+H_tilde.args[1]).factor() + (H_tilde.args[2]+H_tilde.args[3]).subs(ss)*(e*xi[l, i, j]/2)\n",
    "\n",
    "H_tildes = Sum(H_tilde, (j, 1, Ne), (i, 1, Ne))\n",
    "H_tildes"
   ]
  },
  {
   "cell_type": "markdown",
   "metadata": {
    "collapsed": true
   },
   "source": [
    "Then to eliminate the time dependence is"
   ]
  },
  {
   "cell_type": "code",
   "execution_count": 28,
   "metadata": {
    "collapsed": false
   },
   "outputs": [
    {
     "data": {
      "image/png": "[encoded data removed]",
      "text/latex": [
       "$$- \\theta_{i} + \\theta_{j} + \\varpi_{l}$$"
      ],
      "text/plain": [
       "-\\theta[i] + \\theta[j] + varpi[l]"
      ]
     },
     "execution_count": 28,
     "metadata": {},
     "output_type": "execute_result"
    }
   ],
   "source": [
    "eqs_phase"
   ]
  },
  {
   "cell_type": "markdown",
   "metadata": {
    "collapsed": true
   },
   "source": [
    "for all $j > i$ such that $\\xi_{lij}=1$. If these equations are satisfied for some set of $\\theta_i$, then the equations become"
   ]
  },
  {
   "cell_type": "code",
   "execution_count": 29,
   "metadata": {
    "collapsed": false
   },
   "outputs": [
    {
     "data": {
      "image/png": "[encoded data removed]",
      "text/latex": [
       "$$\\sum_{\\substack{1 \\leq l \\leq N_{l}\\\\1 \\leq i \\leq N_{e}}} \\left(\\sum_{j=1}^{N_{e}} \\left(- \\frac{e E^{(-)}_{l}}{2} {{\\vec{r^{(+)}_{i,j}}} \\cdot {\\vec{\\varepsilon^{(-)}_{l}}}} \\xi_{l,i,j} - \\frac{e E^{(+)}_{l}}{2} {{\\vec{r^{(-)}_{i,j}}} \\cdot {\\vec{\\varepsilon^{(+)}_{l}}}} \\xi_{l,i,j} + \\hbar \\delta_{i, j} \\theta_{j} + \\hbar \\delta_{i, j} \\omega_{i}\\right) \\tilde{c}_{j}\\right) {\\left|i\\right\\rangle }$$"
      ],
      "text/plain": [
       "   Nₑ     N_l                                                                 \n",
       "_______ _______                                                               \n",
       "╲       ╲                                                                     \n",
       " ╲       ╲      ⎛  Nₑ                                                         \n",
       "  ╲       ╲     ⎜ ____                                                        \n",
       "   ╲       ╲    ⎜ ╲                                                           \n",
       "    ╲       ╲   ⎜  ╲   ⎛  e⋅r^{(+)}[i, j]⋅\\varepsilon^{(-)}[l]⋅E^{(-)}[l]⋅xi[l\n",
       "     ╲       ╲  ⎜   ╲  ⎜- ────────────────────────────────────────────────────\n",
       "     ╱       ╱  ⎜   ╱  ⎝                               2                      \n",
       "    ╱       ╱   ⎜  ╱                                                          \n",
       "   ╱       ╱    ⎜ ╱                                                           \n",
       "  ╱       ╱     ⎜ ‾‾‾‾                                                        \n",
       " ╱       ╱      ⎝j = 1                                                        \n",
       "╱       ╱                                                                     \n",
       "‾‾‾‾‾‾‾ ‾‾‾‾‾‾‾                                                               \n",
       " i = 1   l = 1                                                                \n",
       "\n",
       "                                                                              \n",
       "                                                                              \n",
       "                                                                              \n",
       "                                                                              \n",
       "                                                                              \n",
       "                                                                              \n",
       ", i, j]   e⋅r^{(-)}[i, j]⋅\\varepsilon^{(+)}[l]⋅E^{(+)}[l]⋅xi[l, i, j]         \n",
       "─────── - ─────────────────────────────────────────────────────────── + h̅⋅δ  \n",
       "                                       2                                    i,\n",
       "                                                                              \n",
       "                                                                              \n",
       "                                                                              \n",
       "                                                                              \n",
       "                                                                              \n",
       "                                                                              \n",
       "                                                                              \n",
       "\n",
       "                                                 \n",
       "                                                 \n",
       "                                                 \n",
       "                                            ⎞    \n",
       "                                            ⎟    \n",
       "                                            ⎟    \n",
       "                              ⎞             ⎟    \n",
       " ⋅\\theta[j] + h̅⋅δ   ⋅omega[i]⎟⋅\\tilde{c}[j]⎟    \n",
       "j                 i,j         ⎠             ⎟⋅❘i⟩\n",
       "                                            ⎟    \n",
       "                                            ⎟    \n",
       "                                            ⎟    \n",
       "                                            ⎠    \n",
       "                                                 \n",
       "                                                 \n",
       "                                                 "
      ]
     },
     "execution_count": 29,
     "metadata": {},
     "output_type": "execute_result"
    }
   ],
   "source": [
    "ss_phase = {exp(-I*theta[i]*t):1, exp(-I*theta[j]*t):1, exp(I*omega_laser[l]*t):1}\n",
    "rhs_tilde4 = Sum(rhs_tilde3.args[0].subs(ss_phase), (j, 1, Ne))\n",
    "\n",
    "rhs_tildes = Sum(rhs_tilde4*AtomicKet(i), (l, 1, Nl), (i, 1, Ne))\n",
    "rhs_tildes"
   ]
  },
  {
   "cell_type": "code",
   "execution_count": 30,
   "metadata": {
    "collapsed": false
   },
   "outputs": [
    {
     "data": {
      "image/png": "[encoded data removed]",
      "text/latex": [
       "$$\\sum_{\\substack{1 \\leq l \\leq N_{l}\\\\1 \\leq i \\leq N_{e}}} \\left(\\sum_{j=1}^{N_{e}} \\left(- \\frac{e \\xi_{l,i,j}}{2} \\left({{\\vec{r^{(+)}_{i,j}}} \\cdot {\\vec{\\varepsilon^{(-)}_{l}}}} E^{(-)}_{l} + {{\\vec{r^{(-)}_{i,j}}} \\cdot {\\vec{\\varepsilon^{(+)}_{l}}}} E^{(+)}_{l}\\right) + \\hbar \\left(\\theta_{j} + \\omega_{i}\\right) \\delta_{i, j}\\right) \\tilde{c}_{j}\\right) {\\left|i\\right\\rangle }$$"
      ],
      "text/plain": [
       "   Nₑ     N_l                                                                 \n",
       "_______ _______                                                               \n",
       "╲       ╲                                                                     \n",
       " ╲       ╲      ⎛  Nₑ                                                         \n",
       "  ╲       ╲     ⎜ ____                                                        \n",
       "   ╲       ╲    ⎜ ╲                                                           \n",
       "    ╲       ╲   ⎜  ╲   ⎛  e⋅(r^{(+)}[i, j]⋅\\varepsilon^{(-)}[l]⋅E^{(-)}[l] + r\n",
       "     ╲       ╲  ⎜   ╲  ⎜- ────────────────────────────────────────────────────\n",
       "     ╱       ╱  ⎜   ╱  ⎝                                                      \n",
       "    ╱       ╱   ⎜  ╱                                                          \n",
       "   ╱       ╱    ⎜ ╱                                                           \n",
       "  ╱       ╱     ⎜ ‾‾‾‾                                                        \n",
       " ╱       ╱      ⎝j = 1                                                        \n",
       "╱       ╱                                                                     \n",
       "‾‾‾‾‾‾‾ ‾‾‾‾‾‾‾                                                               \n",
       " i = 1   l = 1                                                                \n",
       "\n",
       "                                                                              \n",
       "                                                                              \n",
       "                                                                              \n",
       "                                                                              \n",
       "                                                                              \n",
       "                                                                              \n",
       "^{(-)}[i, j]⋅\\varepsilon^{(+)}[l]⋅E^{(+)}[l])⋅xi[l, i, j]                     \n",
       "───────────────────────────────────────────────────────── + h̅⋅(\\theta[j] + om\n",
       "  2                                                                           \n",
       "                                                                              \n",
       "                                                                              \n",
       "                                                                              \n",
       "                                                                              \n",
       "                                                                              \n",
       "                                                                              \n",
       "                                                                              \n",
       "\n",
       "                               \n",
       "                               \n",
       "                               \n",
       "                          ⎞    \n",
       "                          ⎟    \n",
       "                          ⎟    \n",
       "            ⎞             ⎟    \n",
       "ega[i])⋅δ   ⎟⋅\\tilde{c}[j]⎟    \n",
       "         i,j⎠             ⎟⋅❘i⟩\n",
       "                          ⎟    \n",
       "                          ⎟    \n",
       "                          ⎟    \n",
       "                          ⎠    \n",
       "                               \n",
       "                               \n",
       "                               "
      ]
     },
     "execution_count": 30,
     "metadata": {},
     "output_type": "execute_result"
    }
   ],
   "source": [
    "terms = rhs_tilde4.args[0].subs({ct[j]:1}).args\n",
    "rhs_tilde5 = (terms[0]+terms[1]).factor() + (terms[2]+terms[3]).factor()\n",
    "rhs_tilde5 = Sum(rhs_tilde5*ct[j], (j, 1, Ne))\n",
    "\n",
    "rhs_tildes = Sum(rhs_tilde5*AtomicKet(i), (l, 1, Nl), (i, 1, Ne))\n",
    "rhs_tildes"
   ]
  },
  {
   "cell_type": "code",
   "execution_count": 31,
   "metadata": {
    "collapsed": false
   },
   "outputs": [
    {
     "data": {
      "image/png": "[encoded data removed]",
      "text/latex": [
       "$$\\sum_{i=1}^{N_{e}} i \\hbar \\dot{\\tilde{c}}_{i} {\\left|i\\right\\rangle }$$"
      ],
      "text/plain": [
       "  Nₑ                             \n",
       " ___                             \n",
       " ╲                               \n",
       "  ╲   ⅈ⋅h̅⋅\\dot{\\tilde{c}}[i]⋅❘i⟩\n",
       "  ╱                              \n",
       " ╱                               \n",
       " ‾‾‾                             \n",
       "i = 1                            "
      ]
     },
     "execution_count": 31,
     "metadata": {},
     "output_type": "execute_result"
    }
   ],
   "source": [
    "lhs_tildes"
   ]
  },
  {
   "cell_type": "markdown",
   "metadata": {
    "collapsed": false
   },
   "source": [
    "So we can see that this is the Schrödinger equation from an effective hamiltonian"
   ]
  },
  {
   "cell_type": "code",
   "execution_count": 32,
   "metadata": {
    "collapsed": false
   },
   "outputs": [
    {
     "data": {
      "image/png": "[encoded data removed]",
      "text/latex": [
       "$$\\sum_{\\substack{1 \\leq j \\leq N_{e}\\\\1 \\leq i \\leq N_{e}}} \\left(\\sum_{l=1}^{N_{l}} \\left(- \\frac{e \\xi_{l,i,j}}{2} \\left({{\\vec{r^{(+)}_{i,j}}} \\cdot {\\vec{\\varepsilon^{(-)}_{l}}}} E^{(-)}_{l} + {{\\vec{r^{(-)}_{i,j}}} \\cdot {\\vec{\\varepsilon^{(+)}_{l}}}} E^{(+)}_{l}\\right) + \\hbar \\left(\\theta_{j} + \\omega_{i}\\right) \\delta_{i, j}\\right)\\right) {\\left|i\\right\\rangle } {\\left\\langle j\\right|}$$"
      ],
      "text/plain": [
       "   Nₑ      Nₑ                                                                 \n",
       "_______ _______                                                               \n",
       "╲       ╲                                                                     \n",
       " ╲       ╲      ⎛ N_l                                                         \n",
       "  ╲       ╲     ⎜ ____                                                        \n",
       "   ╲       ╲    ⎜ ╲                                                           \n",
       "    ╲       ╲   ⎜  ╲   ⎛  e⋅(r^{(+)}[i, j]⋅\\varepsilon^{(-)}[l]⋅E^{(-)}[l] + r\n",
       "     ╲       ╲  ⎜   ╲  ⎜- ────────────────────────────────────────────────────\n",
       "     ╱       ╱  ⎜   ╱  ⎝                                                      \n",
       "    ╱       ╱   ⎜  ╱                                                          \n",
       "   ╱       ╱    ⎜ ╱                                                           \n",
       "  ╱       ╱     ⎜ ‾‾‾‾                                                        \n",
       " ╱       ╱      ⎝l = 1                                                        \n",
       "╱       ╱                                                                     \n",
       "‾‾‾‾‾‾‾ ‾‾‾‾‾‾‾                                                               \n",
       " i = 1   j = 1                                                                \n",
       "\n",
       "                                                                              \n",
       "                                                                              \n",
       "                                                                              \n",
       "                                                                              \n",
       "                                                                              \n",
       "                                                                              \n",
       "^{(-)}[i, j]⋅\\varepsilon^{(+)}[l]⋅E^{(+)}[l])⋅xi[l, i, j]                     \n",
       "───────────────────────────────────────────────────────── + h̅⋅(\\theta[j] + om\n",
       "  2                                                                           \n",
       "                                                                              \n",
       "                                                                              \n",
       "                                                                              \n",
       "                                                                              \n",
       "                                                                              \n",
       "                                                                              \n",
       "                                                                              \n",
       "\n",
       "                      \n",
       "                      \n",
       "                      \n",
       "             ⎞        \n",
       "             ⎟        \n",
       "             ⎟        \n",
       "            ⎞⎟        \n",
       "ega[i])⋅δ   ⎟⎟        \n",
       "         i,j⎠⎟⋅❘i⟩⋅⟨j❘\n",
       "             ⎟        \n",
       "             ⎟        \n",
       "             ⎟        \n",
       "             ⎠        \n",
       "                      \n",
       "                      \n",
       "                      "
      ]
     },
     "execution_count": 32,
     "metadata": {},
     "output_type": "execute_result"
    }
   ],
   "source": [
    "H_tilde = Sum(rhs_tilde5.args[0].subs({ct[j]:1}), (l, 1, Nl))\n",
    "\n",
    "H_tildes = Sum(H_tilde*AtomicKet(i)*AtomicBra(j), (j, 1, Ne), (i, 1, Ne))\n",
    "H_tildes"
   ]
  },
  {
   "cell_type": "markdown",
   "metadata": {
    "collapsed": true
   },
   "source": [
    "We can define a generalized Rabi frequency\n",
    "\n",
    "$$\\Omega_{lij}^{(\\pm\\mp)} \\equiv -e E_l^{(\\pm)}\\vec{\\varepsilon}_l^{(\\pm)}\\vec{r}_{ij}^{(\\mp)}/\\hbar$$"
   ]
  },
  {
   "cell_type": "code",
   "execution_count": 33,
   "metadata": {
    "collapsed": false
   },
   "outputs": [
    {
     "data": {
      "image/png": "[encoded data removed]",
      "text/latex": [
       "$$\\sum_{\\substack{1 \\leq j \\leq N_{e}\\\\1 \\leq i \\leq N_{e}}} \\left(\\sum_{l=1}^{N_{l}} \\left(\\hbar \\left(\\theta_{j} + \\omega_{i}\\right) \\delta_{i, j} - \\frac{\\xi_{l,i,j}}{2} \\left(\\hbar \\Omega^{(+-)}_{l,i,j} + \\hbar \\Omega^{(-+)}_{l,i,j}\\right)\\right)\\right) {\\left|i\\right\\rangle } {\\left\\langle j\\right|}$$"
      ],
      "text/plain": [
       "   Nₑ      Nₑ                                                                 \n",
       "_______ _______                                                               \n",
       "╲       ╲                                                                     \n",
       " ╲       ╲      ⎛ N_l                                                         \n",
       "  ╲       ╲     ⎜ ____                                                        \n",
       "   ╲       ╲    ⎜ ╲                                                           \n",
       "    ╲       ╲   ⎜  ╲   ⎛                                 (h̅⋅\\Omega^{(+-)}[l, \n",
       "     ╲       ╲  ⎜   ╲  ⎜h̅⋅(\\theta[j] + omega[i])⋅δ    - ─────────────────────\n",
       "     ╱       ╱  ⎜   ╱  ⎝                           i,j                        \n",
       "    ╱       ╱   ⎜  ╱                                                          \n",
       "   ╱       ╱    ⎜ ╱                                                           \n",
       "  ╱       ╱     ⎜ ‾‾‾‾                                                        \n",
       " ╱       ╱      ⎝l = 1                                                        \n",
       "╱       ╱                                                                     \n",
       "‾‾‾‾‾‾‾ ‾‾‾‾‾‾‾                                                               \n",
       " i = 1   j = 1                                                                \n",
       "\n",
       "                                                        \n",
       "                                                        \n",
       "                                                        \n",
       "                                               ⎞        \n",
       "                                               ⎟        \n",
       "                                               ⎟        \n",
       "i, j] + h̅⋅\\Omega^{(-+)}[l, i, j])⋅xi[l, i, j]⎞⎟        \n",
       "──────────────────────────────────────────────⎟⎟        \n",
       "            2                                 ⎠⎟⋅❘i⟩⋅⟨j❘\n",
       "                                               ⎟        \n",
       "                                               ⎟        \n",
       "                                               ⎟        \n",
       "                                               ⎠        \n",
       "                                                        \n",
       "                                                        \n",
       "                                                        "
      ]
     },
     "execution_count": 33,
     "metadata": {},
     "output_type": "execute_result"
    }
   ],
   "source": [
    "Omegapm = IndexedBase(r\"\\Omega^{(+-)}\", shape=(Nl, Ne, Ne))\n",
    "Omegamp = IndexedBase(r\"\\Omega^{(-+)}\", shape=(Nl, Ne, Ne))\n",
    "\n",
    "sOmega = {E0p[l]: hbar*Omegapm[l, i, j]/dot(rm[i, j], epsilonp[l])/e,\n",
    "          E0m[l]: hbar*Omegamp[l, i, j]/dot(rp[i, j], epsilonm[l])/e,\n",
    "          e: 1}\n",
    "\n",
    "H_tilde2 = H_tilde.args[0].subs(sOmega)\n",
    "H_tilde2 = Sum(H_tilde2, (l, 1, Nl))\n",
    "\n",
    "H_tildes = Sum(H_tilde2*AtomicKet(i)*AtomicBra(j), (j, 1, Ne), (i, 1, Ne))\n",
    "H_tildes"
   ]
  },
  {
   "cell_type": "markdown",
   "metadata": {
    "collapsed": true
   },
   "source": [
    "Notice that if $\\Omega_{lij}^{(+-)} \\neq 0$, then $\\Omega_{lij}^{(-+)}=0$. However, $\\Omega_{lij}^{(+-)} = (\\Omega_{lji}^{(-+)})^*$. And we can rewrite this in terms of a single operator\n",
    "\n",
    "$$\\Omega_{lij} = \\frac{e}{\\hbar} \\Big[E_l^{(+)}\\vec{\\varepsilon}_l^{(+)}\\cdot\\vec{r}_{ij}^{(-)} + E_l^{(-)}\\vec{\\varepsilon}_l^{(-)}\\cdot\\vec{r}_{ij}^{(+)}\\Big]$$"
   ]
  },
  {
   "cell_type": "code",
   "execution_count": 34,
   "metadata": {
    "collapsed": false
   },
   "outputs": [
    {
     "data": {
      "image/png": "[encoded data removed]",
      "text/latex": [
       "$$\\sum_{\\substack{1 \\leq j \\leq N_{e}\\\\1 \\leq i \\leq N_{e}}} \\left(\\sum_{l=1}^{N_{l}} \\left(\\hbar \\left(\\theta_{j} + \\omega_{i}\\right) \\delta_{i, j} - \\frac{\\hbar \\Omega_{l,i,j}}{2} \\xi_{l,i,j}\\right)\\right) {\\left|i\\right\\rangle } {\\left\\langle j\\right|}$$"
      ],
      "text/plain": [
       "   Nₑ      Nₑ                                                                 \n",
       "_______ _______                                                               \n",
       "╲       ╲                                                                     \n",
       " ╲       ╲      ⎛ N_l                                                         \n",
       "  ╲       ╲     ⎜ ____                                                        \n",
       "   ╲       ╲    ⎜ ╲                                                           \n",
       "    ╲       ╲   ⎜  ╲   ⎛                                 h̅⋅\\Omega[l, i, j]⋅xi\n",
       "     ╲       ╲  ⎜   ╲  ⎜h̅⋅(\\theta[j] + omega[i])⋅δ    - ─────────────────────\n",
       "     ╱       ╱  ⎜   ╱  ⎝                           i,j                 2      \n",
       "    ╱       ╱   ⎜  ╱                                                          \n",
       "   ╱       ╱    ⎜ ╱                                                           \n",
       "  ╱       ╱     ⎜ ‾‾‾‾                                                        \n",
       " ╱       ╱      ⎝l = 1                                                        \n",
       "╱       ╱                                                                     \n",
       "‾‾‾‾‾‾‾ ‾‾‾‾‾‾‾                                                               \n",
       " i = 1   j = 1                                                                \n",
       "\n",
       "                   \n",
       "                   \n",
       "                   \n",
       "          ⎞        \n",
       "          ⎟        \n",
       "          ⎟        \n",
       "[l, i, j]⎞⎟        \n",
       "─────────⎟⎟        \n",
       "         ⎠⎟⋅❘i⟩⋅⟨j❘\n",
       "          ⎟        \n",
       "          ⎟        \n",
       "          ⎟        \n",
       "          ⎠        \n",
       "                   \n",
       "                   \n",
       "                   "
      ]
     },
     "execution_count": 34,
     "metadata": {},
     "output_type": "execute_result"
    }
   ],
   "source": [
    "Omega = IndexedBase(r\"\\Omega\", shape=(Nl, Ne, Ne))\n",
    "H_tilde3 = H_tilde2.args[0].subs({hbar*Omegapm[l, i, j] + hbar*Omegamp[l, i, j]: hbar*Omega[l, i, j]})\n",
    "H_tilde3 = Sum(H_tilde3, (l, 1, Nl))\n",
    "\n",
    "H_tildes = Sum(H_tilde3*AtomicKet(i)*AtomicBra(j), (j, 1, Ne), (i, 1, Ne))\n",
    "H_tildes"
   ]
  },
  {
   "cell_type": "markdown",
   "metadata": {},
   "source": [
    "# Time evolution\n",
    "\n",
    "The state of a quantum system is described by its density matrix $\\hat{\\rho}$, which component-wise is"
   ]
  },
  {
   "cell_type": "code",
   "execution_count": 35,
   "metadata": {
    "collapsed": false
   },
   "outputs": [
    {
     "data": {
      "image/png": "[encoded data removed]",
      "text/latex": [
       "$$\\sum_{\\substack{1 \\leq i \\leq N_{e}\\\\1 \\leq j \\leq N_{e}}} \\rho_{i,j} {\\left|i\\right\\rangle } {\\left\\langle j\\right|}$$"
      ],
      "text/plain": [
       "  Nₑ    Nₑ                    \n",
       " ___   ___                    \n",
       " ╲     ╲                      \n",
       "  ╲     ╲   \\rho[i, j]⋅❘i⟩⋅⟨j❘\n",
       "  ╱     ╱                     \n",
       " ╱     ╱                      \n",
       " ‾‾‾   ‾‾‾                    \n",
       "j = 1 i = 1                   "
      ]
     },
     "execution_count": 35,
     "metadata": {},
     "output_type": "execute_result"
    }
   ],
   "source": [
    "rho = IndexedBase(r\"\\rho\", shape=(Ne, Ne))\n",
    "\n",
    "rhos = Sum(rho[i, j]*AtomicKet(i)*AtomicBra(j), (i, 1, Ne), (j, 1, Ne))\n",
    "rhos"
   ]
  },
  {
   "cell_type": "markdown",
   "metadata": {},
   "source": [
    "And in the rotating frame, we have"
   ]
  },
  {
   "cell_type": "code",
   "execution_count": 36,
   "metadata": {
    "collapsed": false
   },
   "outputs": [
    {
     "data": {
      "image/png": "[encoded data removed]",
      "text/latex": [
       "$$\\sum_{\\substack{1 \\leq i \\leq N_{e}\\\\1 \\leq j \\leq N_{e}}} \\tilde{\\rho}_{i,j} {\\left|i\\right\\rangle } {\\left\\langle j\\right|}$$"
      ],
      "text/plain": [
       "  Nₑ    Nₑ                            \n",
       " ___   ___                            \n",
       " ╲     ╲                              \n",
       "  ╲     ╲   \\tilde{\\rho}[i, j]⋅❘i⟩⋅⟨j❘\n",
       "  ╱     ╱                             \n",
       " ╱     ╱                              \n",
       " ‾‾‾   ‾‾‾                            \n",
       "j = 1 i = 1                           "
      ]
     },
     "execution_count": 36,
     "metadata": {},
     "output_type": "execute_result"
    }
   ],
   "source": [
    "rhot = IndexedBase(r\"\\tilde{\\rho}\", shape=(Ne, Ne))\n",
    "\n",
    "rhots = Sum(rhot[i, j]*AtomicKet(i)*AtomicBra(j), (i, 1, Ne), (j, 1, Ne))\n",
    "rhots"
   ]
  },
  {
   "cell_type": "markdown",
   "metadata": {},
   "source": [
    "So that"
   ]
  },
  {
   "cell_type": "code",
   "execution_count": 37,
   "metadata": {
    "collapsed": false
   },
   "outputs": [
    {
     "data": {
      "image/png": "[encoded data removed]",
      "text/latex": [
       "$$\\left[\\begin{matrix}\\tilde{\\rho}_{i,j} & = & e^{i \\left(\\theta_{i} - \\theta_{j}\\right)} \\rho_{i,j}\\end{matrix}\\right]$$"
      ],
      "text/plain": [
       "⎡                        ⅈ⋅(\\theta[i] - \\theta[j])           ⎤\n",
       "⎣\\tilde{\\rho}[i, j]  =  ℯ                         ⋅\\rho[i, j]⎦"
      ]
     },
     "execution_count": 37,
     "metadata": {},
     "output_type": "execute_result"
    }
   ],
   "source": [
    "Matrix([rhot[i, j], eqsign, rho[i, j]*exp(I*(theta[i]-theta[j]))]).transpose()"
   ]
  },
  {
   "cell_type": "markdown",
   "metadata": {},
   "source": [
    "The time evolution of the density matrix of our atomic ensemble is given by\n",
    "\\begin{equation}\n",
    "    \\dot{\\hat{\\tilde{\\rho}}} = \\frac{i}{\\hbar} [\\hat{\\tilde{\\rho}}, \\hat{H}]\n",
    "\\end{equation}\n",
    "\n",
    "Which component-wise is"
   ]
  },
  {
   "cell_type": "code",
   "execution_count": 38,
   "metadata": {
    "collapsed": false
   },
   "outputs": [
    {
     "data": {
      "image/png": "[encoded data removed]",
      "text/latex": [
       "$$\\sum_{j=1}^{N_{e}} \\frac{i}{\\hbar} \\left(\\left(\\hbar \\left(\\theta_{j} + \\omega_{k}\\right) \\delta_{j, k} - \\frac{\\hbar \\Omega_{l,k,j}}{2} \\xi_{l,k,j}\\right) \\tilde{\\rho}_{i,k} - \\left(\\hbar \\left(\\theta_{k} + \\omega_{i}\\right) \\delta_{i, k} - \\frac{\\hbar \\Omega_{l,i,k}}{2} \\xi_{l,i,k}\\right) \\tilde{\\rho}_{k,j}\\right)$$"
      ],
      "text/plain": [
       "  Nₑ                                                                          \n",
       "_____                                                                         \n",
       "╲                                                                             \n",
       " ╲      ⎛⎛                                 h̅⋅\\Omega[l, k, j]⋅xi[l, k, j]⎞    \n",
       "  ╲   ⅈ⋅⎜⎜h̅⋅(\\theta[j] + omega[k])⋅δ    - ──────────────────────────────⎟⋅\\ti\n",
       "   ╲    ⎝⎝                           j,k                 2               ⎠    \n",
       "   ╱  ────────────────────────────────────────────────────────────────────────\n",
       "  ╱                                                                           \n",
       " ╱                                                                            \n",
       "╱                                                                             \n",
       "‾‾‾‾‾                                                                         \n",
       "j = 1                                                                         \n",
       "\n",
       "                                                                              \n",
       "                                                                              \n",
       "                                                                              \n",
       "                  ⎛                                 h̅⋅\\Omega[l, i, k]⋅xi[l, i\n",
       "lde{\\rho}[i, k] - ⎜h̅⋅(\\theta[k] + omega[i])⋅δ    - ──────────────────────────\n",
       "                  ⎝                           i,k                 2           \n",
       "──────────────────────────────────────────────────────────────────────────────\n",
       "               h̅                                                             \n",
       "                                                                              \n",
       "                                                                              \n",
       "                                                                              \n",
       "                                                                              \n",
       "\n",
       "                         \n",
       "                         \n",
       "                         \n",
       ", k]⎞                   ⎞\n",
       "────⎟⋅\\tilde{\\rho}[k, j]⎟\n",
       "    ⎠                   ⎠\n",
       "─────────────────────────\n",
       "                         \n",
       "                         \n",
       "                         \n",
       "                         \n",
       "                         "
      ]
     },
     "execution_count": 38,
     "metadata": {},
     "output_type": "execute_result"
    }
   ],
   "source": [
    "H_tilde4 = H_tilde3.args[0]\n",
    "rhs = I/hbar * (rhot[i, k]*H_tilde4.subs({i:k}) - H_tilde4.subs({j:k})*rhot[k, j])\n",
    "#rhs = rhs.expand()\n",
    "rhss = Sum(rhs, (j, 1, Ne))\n",
    "rhss"
   ]
  },
  {
   "cell_type": "markdown",
   "metadata": {},
   "source": [
    "We can regroup this into Rabi frequency terms and detuning terms."
   ]
  },
  {
   "cell_type": "code",
   "execution_count": 39,
   "metadata": {
    "collapsed": false
   },
   "outputs": [
    {
     "data": {
      "image/png": "[encoded data removed]",
      "text/latex": [
       "$$\\sum_{\\substack{1 \\leq k \\leq N_{e}\\\\1 \\leq l \\leq N_{l}}} \\left(i \\left(\\left(\\theta_{j} + \\omega_{k}\\right) \\delta_{j, k} \\tilde{\\rho}_{i,k} - \\left(\\theta_{k} + \\omega_{i}\\right) \\delta_{i, k} \\tilde{\\rho}_{k,j}\\right) + i \\left(- \\frac{\\tilde{\\rho}_{i,k} \\Omega_{l,k,j}}{2} \\xi_{l,k,j} + \\frac{\\tilde{\\rho}_{k,j} \\Omega_{l,i,k}}{2} \\xi_{l,i,k}\\right)\\right)$$"
      ],
      "text/plain": [
       " N_l    Nₑ                                                                    \n",
       " ____  ____                                                                   \n",
       " ╲     ╲                                                                      \n",
       "  ╲     ╲   ⎛                                                                 \n",
       "   ╲     ╲  ⎜ⅈ⋅⎛(\\theta[j] + omega[k])⋅δ   ⋅\\tilde{\\rho}[i, k] - (\\theta[k] + \n",
       "   ╱     ╱  ⎝  ⎝                        j,k                                   \n",
       "  ╱     ╱                                                                     \n",
       " ╱     ╱                                                                      \n",
       " ‾‾‾‾  ‾‾‾‾                                                                   \n",
       "l = 1 k = 1                                                                   \n",
       "\n",
       "                                                                              \n",
       "                                                                              \n",
       "                                                                              \n",
       "                                       ⎛  \\tilde{\\rho}[i, k]⋅\\Omega[l, k, j]⋅x\n",
       "omega[i])⋅δ   ⋅\\tilde{\\rho}[k, j]⎞ + ⅈ⋅⎜- ────────────────────────────────────\n",
       "           i,k                   ⎠     ⎝                        2             \n",
       "                                                                              \n",
       "                                                                              \n",
       "                                                                              \n",
       "                                                                              \n",
       "\n",
       "                                                             \n",
       "                                                             \n",
       "                                                             \n",
       "i[l, k, j]   \\tilde{\\rho}[k, j]⋅\\Omega[l, i, k]⋅xi[l, i, k]⎞⎞\n",
       "────────── + ──────────────────────────────────────────────⎟⎟\n",
       "                                   2                       ⎠⎠\n",
       "                                                             \n",
       "                                                             \n",
       "                                                             \n",
       "                                                             "
      ]
     },
     "execution_count": 39,
     "metadata": {},
     "output_type": "execute_result"
    }
   ],
   "source": [
    "term1 = rhot[i, k]*H_tilde4.subs({i:k})\n",
    "term1_det = term1.args[0].args[0]*term1.args[1]\n",
    "term1_rab = term1.args[0].args[1]*term1.args[1]\n",
    "\n",
    "term2 = - H_tilde4.subs({j:k})*rhot[k, j]\n",
    "term2_rab = term2.args[0].args[0]*term2.args[1]\n",
    "term2_det = term2.args[0].args[1]*term2.args[1]\n",
    "\n",
    "rhs_det = I/hbar*(term1_det + term2_det)\n",
    "rhs_rab = I/hbar*(term1_rab + term2_rab)\n",
    "\n",
    "rhs_det = rhs_det.subs(hbar, 1)\n",
    "rhs_rab = rhs_rab.subs(hbar, 1)\n",
    "\n",
    "rhs2 = rhs_det + rhs_rab\n",
    "rhs2\n",
    "\n",
    "rhss = Sum(rhs2, (k, 1, Ne), (l, 1, Nl))\n",
    "rhss"
   ]
  },
  {
   "cell_type": "markdown",
   "metadata": {},
   "source": [
    "The detuning terms can be simplified using the Kronecker deltas"
   ]
  },
  {
   "cell_type": "code",
   "execution_count": 40,
   "metadata": {
    "collapsed": false
   },
   "outputs": [
    {
     "data": {
      "image/png": "[encoded data removed]",
      "text/latex": [
       "$$\\sum_{l=1}^{N_{l}} \\left(- i \\left(\\theta_{i} - \\theta_{j} + \\omega_{i} - \\omega_{j}\\right) \\tilde{\\rho}_{i,j} + \\sum_{k=1}^{N_{e}} i \\left(- \\frac{\\tilde{\\rho}_{i,k} \\Omega_{l,k,j}}{2} \\xi_{l,k,j} + \\frac{\\tilde{\\rho}_{k,j} \\Omega_{l,i,k}}{2} \\xi_{l,i,k}\\right)\\right)$$"
      ],
      "text/plain": [
       "  N_l                                                                         \n",
       "_______                                                                       \n",
       "╲                                                                             \n",
       " ╲      ⎛                                                                     \n",
       "  ╲     ⎜                                                                     \n",
       "   ╲    ⎜                                                                     \n",
       "    ╲   ⎜                                                                     \n",
       "     ╲  ⎜                                                                     \n",
       "     ╱  ⎜-ⅈ⋅(\\theta[i] - \\theta[j] + omega[i] - omega[j])⋅\\tilde{\\rho}[i, j] +\n",
       "    ╱   ⎜                                                                     \n",
       "   ╱    ⎜                                                                     \n",
       "  ╱     ⎜                                                                     \n",
       " ╱      ⎝                                                                     \n",
       "╱                                                                             \n",
       "‾‾‾‾‾‾‾                                                                       \n",
       " l = 1                                                                        \n",
       "\n",
       "                                                                              \n",
       "                                                                              \n",
       "                                                                              \n",
       "   Nₑ                                                                         \n",
       "  ____                                                                        \n",
       "  ╲                                                                           \n",
       "   ╲     ⎛  \\tilde{\\rho}[i, k]⋅\\Omega[l, k, j]⋅xi[l, k, j]   \\tilde{\\rho}[k, j\n",
       "    ╲  ⅈ⋅⎜- ────────────────────────────────────────────── + ─────────────────\n",
       "    ╱    ⎝                        2                                           \n",
       "   ╱                                                                          \n",
       "  ╱                                                                           \n",
       "  ‾‾‾‾                                                                        \n",
       " k = 1                                                                        \n",
       "                                                                              \n",
       "                                                                              \n",
       "                                                                              \n",
       "\n",
       "                               \n",
       "                               \n",
       "                               \n",
       "                              ⎞\n",
       "                              ⎟\n",
       "                              ⎟\n",
       "]⋅\\Omega[l, i, k]⋅xi[l, i, k]⎞⎟\n",
       "─────────────────────────────⎟⎟\n",
       "     2                       ⎠⎟\n",
       "                              ⎟\n",
       "                              ⎟\n",
       "                              ⎟\n",
       "                              ⎠\n",
       "                               \n",
       "                               \n",
       "                               "
      ]
     },
     "execution_count": 40,
     "metadata": {},
     "output_type": "execute_result"
    }
   ],
   "source": [
    "term1 = rhot[i, k]*H_tilde4.subs({i:k})\n",
    "term1_det = term1.args[0].args[0]*term1.args[1]\n",
    "term1_rab = term1.args[0].args[1]*term1.args[1]\n",
    "\n",
    "term2 = - H_tilde4.subs({j:k})*rhot[k, j]\n",
    "term2_rab = term2.args[0].args[0]*term2.args[1]\n",
    "term2_det = term2.args[0].args[1]*term2.args[1]\n",
    "\n",
    "term1_det = term1_det.subs(k, j)\n",
    "term2_det = term2_det.subs(k, i)\n",
    "\n",
    "rhs_det = I/hbar*(term1_det + term2_det)\n",
    "rhs_rab = I/hbar*(term1_rab + term2_rab)\n",
    "\n",
    "rhs_rab = rhs_rab.subs(hbar, 1)\n",
    "rhs_det = rhs_det.subs(hbar, 1).expand().factor()\n",
    "\n",
    "rhs2 = rhs_det + rhs_rab\n",
    "rhs2\n",
    "\n",
    "rhss = Sum(rhs_det+Sum(rhs_rab, (k, 1, Ne)), (l, 1, Nl))\n",
    "rhss"
   ]
  },
  {
   "cell_type": "markdown",
   "metadata": {
    "collapsed": true
   },
   "source": [
    "where\n",
    "\n",
    "$$\\Omega_{lij} = \\frac{e}{\\hbar} \\Big[E_l^{(+)}\\vec{\\varepsilon}_l^{(+)}\\cdot\\vec{r}_{ij}^{(-)} + E_l^{(-)}\\vec{\\varepsilon}_l^{(-)}\\cdot\\vec{r}_{ij}^{(+)}\\Big]$$"
   ]
  },
  {
   "cell_type": "markdown",
   "metadata": {},
   "source": [
    "We calculate the real and imaginary parts of a complex number of the sort that are involved in the Rabi frequency terms $i x y$, $i x y^*$ with $x$ and $y$ being complex numbers"
   ]
  },
  {
   "cell_type": "code",
   "execution_count": 41,
   "metadata": {
    "collapsed": false
   },
   "outputs": [
    {
     "name": "stdout",
     "output_type": "stream",
     "text": [
      "re(x)*im(y) - re(y)*im(x)\n",
      "-re(x)*im(y) - re(y)*im(x)\n",
      "re(x)*re(y) + im(x)*im(y)\n",
      "re(x)*re(y) - im(x)*im(y)\n"
     ]
    }
   ],
   "source": [
    "from sympy import re, im, symbols, I\n",
    "x, y, z = symbols(\"x y z\")\n",
    "ss_comp = {i: re(i)+I*im(i) for i in [x, y, z]}\n",
    "f = I*x*y\n",
    "f = f.subs(ss_comp)\n",
    "g = I*x*y.conjugate()\n",
    "g = g.subs(ss_comp)\n",
    "\n",
    "print re(g)\n",
    "print re(f)\n",
    "print im(g)\n",
    "print im(f)"
   ]
  },
  {
   "cell_type": "code",
   "execution_count": 42,
   "metadata": {
    "collapsed": false
   },
   "outputs": [
    {
     "name": "stdout",
     "output_type": "stream",
     "text": [
      "-a*im(y)\n",
      "a*re(y)\n"
     ]
    }
   ],
   "source": [
    "a = symbols(\"a\", real=True)\n",
    "h = I*a*y\n",
    "print re(h)\n",
    "print im(h)"
   ]
  },
  {
   "cell_type": "markdown",
   "metadata": {},
   "source": [
    "# Spontaneous decay\n",
    "\n",
    "The interaction of the atom with the vacuum of the electromagnetic field produces excited states to spontaneously decay at rates $\\gamma_{a b}$ according to additional terms in the master equation\n",
    "\n",
    "$$ \\frac{d \\hat{\\tilde{\\rho}}}{d t} = \\cdots + \\sum_{a>b} \\gamma_{a b} \\mathcal{L}(\\sigma_{b a}))\\hat{\\tilde{\\rho}}$$\n",
    "\n",
    "which are of Lindblad form\n",
    "\n",
    "$$\\mathcal{L}(\\sigma_{b a}))\\hat{\\tilde{\\rho}} = \\sigma_{b a} \\hat{\\tilde{\\rho}} \\sigma_{b a}^\\dagger \n",
    "                                                -\\frac{1}{2} \\Big[ \n",
    "                                                 \\sigma_{b a}^\\dagger \\sigma_{b a} \\hat{\\tilde{\\rho}}\n",
    "                                                +\\hat{\\tilde{\\rho}} \\sigma_{b a}^\\dagger \\sigma_{b a} \\Big]$$\n",
    "\n",
    "with\n",
    "\n",
    "$$\\sigma_{b a} = |b\\rangle \\langle a|$$"
   ]
  },
  {
   "cell_type": "code",
   "execution_count": 43,
   "metadata": {
    "collapsed": false
   },
   "outputs": [
    {
     "data": {
      "image/png": "[encoded data removed]",
      "text/latex": [
       "$$\\left ( a, \\quad b\\right )$$"
      ],
      "text/plain": [
       "(a, b)"
      ]
     },
     "execution_count": 43,
     "metadata": {},
     "output_type": "execute_result"
    }
   ],
   "source": [
    "a, b = symbols('a b', cls=Idx)\n",
    "a, b"
   ]
  },
  {
   "cell_type": "code",
   "execution_count": 44,
   "metadata": {
    "collapsed": false
   },
   "outputs": [
    {
     "data": {
      "image/png": "[encoded data removed]",
      "text/latex": [
       "$$\\sum_{\\substack{1 \\leq i \\leq N_{e}\\\\1 \\leq j \\leq N_{e}}} \\left(- \\frac{\\tilde{\\rho}_{i,j}}{2} {\\left|a\\right\\rangle }{\\left\\langle b\\right|} {\\left|b\\right\\rangle }{\\left\\langle a\\right|} {\\left|i\\right\\rangle }{\\left\\langle j\\right|} + \\tilde{\\rho}_{i,j} {\\left|b\\right\\rangle }{\\left\\langle a\\right|} {\\left|i\\right\\rangle }{\\left\\langle j\\right|} {\\left|a\\right\\rangle }{\\left\\langle b\\right|} - \\frac{\\tilde{\\rho}_{i,j}}{2} {\\left|i\\right\\rangle }{\\left\\langle j\\right|} {\\left|a\\right\\rangle }{\\left\\langle b\\right|} {\\left|b\\right\\rangle }{\\left\\langle a\\right|}\\right)$$"
      ],
      "text/plain": [
       "  Nₑ    Nₑ                                                                    \n",
       " ____  ____                                                                   \n",
       " ╲     ╲                                                                      \n",
       "  ╲     ╲   ⎛  \\tilde{\\rho}[i, j]⋅❘a⟩⟨b❘⋅❘b⟩⟨a❘⋅❘i⟩⟨j❘                        \n",
       "   ╲     ╲  ⎜- ─────────────────────────────────────── + \\tilde{\\rho}[i, j]⋅❘b\n",
       "   ╱     ╱  ⎝                     2                                           \n",
       "  ╱     ╱                                                                     \n",
       " ╱     ╱                                                                      \n",
       " ‾‾‾‾  ‾‾‾‾                                                                   \n",
       "j = 1 i = 1                                                                   \n",
       "\n",
       "                                                             \n",
       "                                                             \n",
       "                                                             \n",
       "                     \\tilde{\\rho}[i, j]⋅❘i⟩⟨j❘⋅❘a⟩⟨b❘⋅❘b⟩⟨a❘⎞\n",
       "⟩⟨a❘⋅❘i⟩⟨j❘⋅❘a⟩⟨b❘ - ───────────────────────────────────────⎟\n",
       "                                        2                   ⎠\n",
       "                                                             \n",
       "                                                             \n",
       "                                                             \n",
       "                                                             "
      ]
     },
     "execution_count": 44,
     "metadata": {},
     "output_type": "execute_result"
    }
   ],
   "source": [
    "sig = AtomicKet(b)*AtomicBra(a)\n",
    "rho_ = (rhot[i, j]*(AtomicKet(i)*AtomicBra(j)))\n",
    "lab1 = sig * rho_ * sig.adjoint()\n",
    "lab2 = -sig.adjoint()*sig*rho_/2\n",
    "lab3 = -rho_*sig.adjoint()*sig/2\n",
    "lab = lab1 + lab2 + lab3\n",
    "labs = Sum(lab, (i, 1, Ne), (j, 1, Ne))\n",
    "labs"
   ]
  },
  {
   "cell_type": "code",
   "execution_count": 45,
   "metadata": {
    "collapsed": false
   },
   "outputs": [
    {
     "data": {
      "image/png": "[encoded data removed]",
      "text/latex": [
       "$$\\tilde{\\rho}_{a,a} {\\left|b\\right\\rangle }{\\left\\langle a\\right|} {\\left|a\\right\\rangle }{\\left\\langle a\\right|} {\\left|a\\right\\rangle }{\\left\\langle b\\right|} + \\sum_{j=1}^{N_{e}} - \\frac{\\tilde{\\rho}_{a,j}}{2} {\\left|a\\right\\rangle }{\\left\\langle b\\right|} {\\left|b\\right\\rangle }{\\left\\langle a\\right|} {\\left|a\\right\\rangle }{\\left\\langle j\\right|} + \\sum_{i=1}^{N_{e}} - \\frac{\\tilde{\\rho}_{i,a}}{2} {\\left|i\\right\\rangle }{\\left\\langle a\\right|} {\\left|a\\right\\rangle }{\\left\\langle b\\right|} {\\left|b\\right\\rangle }{\\left\\langle a\\right|}$$"
      ],
      "text/plain": [
       "                                            Nₑ                                \n",
       "                                           ____                               \n",
       "                                           ╲                                  \n",
       "                                            ╲   -\\tilde{\\rho}[a, j]⋅❘a⟩⟨b❘⋅❘b⟩\n",
       "                                             ╲  ──────────────────────────────\n",
       "\\tilde{\\rho}[a, a]⋅❘b⟩⟨a❘⋅❘a⟩⟨a❘⋅❘a⟩⟨b❘ +    ╱                      2         \n",
       "                                            ╱                                 \n",
       "                                           ╱                                  \n",
       "                                           ‾‾‾‾                               \n",
       "                                          j = 1                               \n",
       "\n",
       "                Nₑ                                           \n",
       "               ____                                          \n",
       "               ╲                                             \n",
       "⟨a❘⋅❘a⟩⟨j❘      ╲   -\\tilde{\\rho}[i, a]⋅❘i⟩⟨a❘⋅❘a⟩⟨b❘⋅❘b⟩⟨a❘ \n",
       "───────────      ╲  ─────────────────────────────────────────\n",
       "            +    ╱                      2                    \n",
       "                ╱                                            \n",
       "               ╱                                             \n",
       "               ‾‾‾‾                                          \n",
       "              i = 1                                          "
      ]
     },
     "execution_count": 45,
     "metadata": {},
     "output_type": "execute_result"
    }
   ],
   "source": [
    "lab12 = lab1.subs(i, a).subs(j, a)\n",
    "lab22 = lab2.subs(i, a)\n",
    "lab32 = lab3.subs(j, a)\n",
    "\n",
    "labs2 = lab12 + Sum(lab22, (j, 1, Ne)) + Sum(lab32, (i, 1, Ne))\n",
    "labs2"
   ]
  },
  {
   "cell_type": "code",
   "execution_count": 46,
   "metadata": {
    "collapsed": false
   },
   "outputs": [
    {
     "data": {
      "image/png": "[encoded data removed]",
      "text/latex": [
       "$$\\tilde{\\rho}_{a,a} {\\left|b\\right\\rangle } {\\left\\langle b\\right|} + \\sum_{j=1}^{N_{e}} - \\frac{\\tilde{\\rho}_{a,j}}{2} {\\left|a\\right\\rangle }{\\left\\langle j\\right|} + \\sum_{i=1}^{N_{e}} - \\frac{\\tilde{\\rho}_{i,a}}{2} {\\left|i\\right\\rangle }{\\left\\langle a\\right|}$$"
      ],
      "text/plain": [
       "                               Nₑ                                   Nₑ        \n",
       "                              ____                                 ____       \n",
       "                              ╲                                    ╲          \n",
       "                               ╲   -\\tilde{\\rho}[a, j]⋅❘a⟩⋅⟨j❘      ╲   -\\tild\n",
       "                                ╲  ────────────────────────────      ╲  ──────\n",
       "\\tilde{\\rho}[a, a]⋅❘b⟩⋅⟨b❘ +    ╱               2               +    ╱        \n",
       "                               ╱                                    ╱         \n",
       "                              ╱                                    ╱          \n",
       "                              ‾‾‾‾                                 ‾‾‾‾       \n",
       "                             j = 1                                i = 1       \n",
       "\n",
       "                      \n",
       "                      \n",
       "                      \n",
       "e{\\rho}[i, a]⋅❘i⟩⋅⟨a❘ \n",
       "──────────────────────\n",
       "       2              \n",
       "                      \n",
       "                      \n",
       "                      \n",
       "                      "
      ]
     },
     "execution_count": 46,
     "metadata": {},
     "output_type": "execute_result"
    }
   ],
   "source": [
    "lab13 = rhot[a, a] * AtomicKet(b) * AtomicBra(b)\n",
    "lab23 = -rhot[a, j] * AtomicKet(a) * AtomicBra(j)/2\n",
    "lab33 = -rhot[i, a] * AtomicKet(i) * AtomicBra(a)/2\n",
    "\n",
    "labs3 = lab13 + Sum(lab23, (j, 1, Ne)) + Sum(lab33, (i, 1, Ne))\n",
    "labs3"
   ]
  },
  {
   "cell_type": "markdown",
   "metadata": {},
   "source": [
    "So the lindblad terms are"
   ]
  },
  {
   "cell_type": "code",
   "execution_count": 47,
   "metadata": {
    "collapsed": false,
    "scrolled": true
   },
   "outputs": [
    {
     "data": {
      "image/png": "[encoded data removed]",
      "text/latex": [
       "$$\\sum_{\\substack{1 \\leq b \\leq N_{e}\\\\1 \\leq a \\leq b - 1}} \\gamma_{a,b} \\left(\\tilde{\\rho}_{a,a} {\\left|b\\right\\rangle } {\\left\\langle b\\right|} + \\sum_{j=1}^{N_{e}} - \\frac{\\tilde{\\rho}_{a,j}}{2} {\\left|a\\right\\rangle }{\\left\\langle j\\right|} + \\sum_{i=1}^{N_{e}} - \\frac{\\tilde{\\rho}_{i,a}}{2} {\\left|i\\right\\rangle }{\\left\\langle a\\right|}\\right)$$"
      ],
      "text/plain": [
       " b - 1     Nₑ                                                                 \n",
       "_______ _______                                                               \n",
       "╲       ╲                                                                     \n",
       " ╲       ╲                  ⎛                               Nₑ                \n",
       "  ╲       ╲                 ⎜                              ____               \n",
       "   ╲       ╲                ⎜                              ╲                  \n",
       "    ╲       ╲               ⎜                               ╲   -\\tilde{\\rho}[\n",
       "     ╲       ╲              ⎜                                ╲  ──────────────\n",
       "     ╱       ╱  gamma[a, b]⋅⎜\\tilde{\\rho}[a, a]⋅❘b⟩⋅⟨b❘ +    ╱               2\n",
       "    ╱       ╱               ⎜                               ╱                 \n",
       "   ╱       ╱                ⎜                              ╱                  \n",
       "  ╱       ╱                 ⎜                              ‾‾‾‾               \n",
       " ╱       ╱                  ⎝                             j = 1               \n",
       "╱       ╱                                                                     \n",
       "‾‾‾‾‾‾‾ ‾‾‾‾‾‾‾                                                               \n",
       " a = 1   b = 1                                                                \n",
       "\n",
       "                                                    \n",
       "                                                    \n",
       "                                                    \n",
       "                   Nₑ                              ⎞\n",
       "                  ____                             ⎟\n",
       "                  ╲                                ⎟\n",
       "a, j]⋅❘a⟩⋅⟨j❘      ╲   -\\tilde{\\rho}[i, a]⋅❘i⟩⋅⟨a❘ ⎟\n",
       "──────────────      ╲  ────────────────────────────⎟\n",
       "               +    ╱               2              ⎟\n",
       "                   ╱                               ⎟\n",
       "                  ╱                                ⎟\n",
       "                  ‾‾‾‾                             ⎟\n",
       "                 i = 1                             ⎠\n",
       "                                                    \n",
       "                                                    \n",
       "                                                    "
      ]
     },
     "execution_count": 47,
     "metadata": {},
     "output_type": "execute_result"
    }
   ],
   "source": [
    "gamma = IndexedBase('gamma', shape=(Ne, Ne,))\n",
    "lindblad_terms = Sum(Sum(gamma[a, b] * labs3, (b, 1, Ne)), (a, 1, b-1))\n",
    "lindblad_terms"
   ]
  },
  {
   "cell_type": "code",
   "execution_count": 55,
   "metadata": {
    "collapsed": false
   },
   "outputs": [
    {
     "data": {
      "image/png": "[encoded data removed]",
      "text/latex": [
       "$$\\sum_{\\substack{1 \\leq i \\leq N_{e}\\\\1 \\leq k \\leq N_{e}}} \\left(\\Re{\\tilde{\\rho}_{k,i}} + i \\Im{\\tilde{\\rho}_{k,i}}\\right) A_{i,k}$$"
      ],
      "text/plain": [
       "  Nₑ    Nₑ                                                             \n",
       " ___   ___                                                             \n",
       " ╲     ╲                                                               \n",
       "  ╲     ╲   (re(\\tilde{\\rho}[k, i]) + ⅈ⋅im(\\tilde{\\rho}[k, i]))⋅A[i, k]\n",
       "  ╱     ╱                                                              \n",
       " ╱     ╱                                                               \n",
       " ‾‾‾   ‾‾‾                                                             \n",
       "k = 1 i = 1                                                            "
      ]
     },
     "execution_count": 55,
     "metadata": {},
     "output_type": "execute_result"
    }
   ],
   "source": [
    "A = IndexedBase('A', shape=(Ne, Ne,))\n",
    "\n",
    "Ao = A[i, k]*rhot[k, i]\n",
    "Ao = Ao.subs(rhot[k, i], re(rhot[k, i])+I*im(rhot[k, i]))\n",
    "Sum(Ao, (i, 1, Ne), (k, 1, Ne))"
   ]
  },
  {
   "cell_type": "code",
   "execution_count": 51,
   "metadata": {
    "collapsed": false
   },
   "outputs": [
    {
     "data": {
      "image/png": "[encoded data removed]",
      "text/latex": [
       "$$i$$"
      ],
      "text/plain": [
       "i"
      ]
     },
     "execution_count": 51,
     "metadata": {},
     "output_type": "execute_result"
    }
   ],
   "source": [
    "i"
   ]
  },
  {
   "cell_type": "code",
   "execution_count": null,
   "metadata": {
    "collapsed": true
   },
   "outputs": [],
   "source": []
  }
 ],
 "metadata": {
  "kernelspec": {
   "display_name": "Python 2",
   "language": "python",
   "name": "python2"
  },
  "language_info": {
   "codemirror_mode": {
    "name": "ipython",
    "version": 2
   },
   "file_extension": ".py",
   "mimetype": "text/x-python",
   "name": "python",
   "nbconvert_exporter": "python",
   "pygments_lexer": "ipython2",
   "version": "2.7.13"
  }
 },
 "nbformat": 4,
 "nbformat_minor": 2
}
