{
 "cells": [
  {
   "cell_type": "markdown",
   "metadata": {},
   "source": [
    "# The helicity basis and the dot product"
   ]
  },
  {
   "cell_type": "code",
   "execution_count": 1,
   "metadata": {
    "collapsed": true
   },
   "outputs": [],
   "source": [
    "from sympy import init_printing\n",
    "init_printing() \n",
    "print_ascii=True; print_ascii=False"
   ]
  },
  {
   "cell_type": "code",
   "execution_count": 2,
   "metadata": {
    "collapsed": true
   },
   "outputs": [],
   "source": [
    "from sympy import Symbol,Matrix,symbols\n",
    "from sympy import I,conjugate\n",
    "from sympy import sin,cos,exp,sqrt,pi\n",
    "from sympy import pprint\n",
    "from sympy import simplify\n",
    "\n",
    "from fast.symbolic import define_laser_variables, polarization_vector\n",
    "from fast.symbolic import cartesian_to_helicity, helicity_to_cartesian, helicity_dot_product\n",
    "from fast.symbolic import define_r_components\n",
    "from fast.misc import fprint"
   ]
  },
  {
   "cell_type": "markdown",
   "metadata": {},
   "source": [
    "Two vectors defined through their components in the cartesian basis,"
   ]
  },
  {
   "cell_type": "code",
   "execution_count": 3,
   "metadata": {
    "collapsed": false
   },
   "outputs": [
    {
     "data": {
      "image/png": "[encoded data removed]",
      "text/latex": [
       "$$\\left [ \\left[\\begin{matrix}a_{x}\\\\a_{y}\\\\a_{z}\\end{matrix}\\right], \\quad \\left[\\begin{matrix}b_{x}\\\\b_{y}\\\\b_{z}\\end{matrix}\\right]\\right ]$$"
      ],
      "text/plain": [
       "⎡⎡aₓ ⎤, ⎡bₓ ⎤⎤\n",
       "⎢⎢   ⎥  ⎢   ⎥⎥\n",
       "⎢⎢a_y⎥  ⎢b_y⎥⎥\n",
       "⎢⎢   ⎥  ⎢   ⎥⎥\n",
       "⎣⎣a_z⎦  ⎣b_z⎦⎦"
      ]
     },
     "execution_count": 3,
     "metadata": {},
     "output_type": "execute_result"
    }
   ],
   "source": [
    "a=Matrix(symbols(\"a_x a_y a_z\"))\n",
    "b=Matrix(symbols(\"b_x b_y b_z\"))\n",
    "fprint([a,b], print_ascii=print_ascii)"
   ]
  },
  {
   "cell_type": "markdown",
   "metadata": {},
   "source": [
    "have their dot product is defined as"
   ]
  },
  {
   "cell_type": "code",
   "execution_count": 4,
   "metadata": {
    "collapsed": false
   },
   "outputs": [
    {
     "data": {
      "image/png": "[encoded data removed]",
      "text/latex": [
       "$$a_{x} b_{x} + a_{y} b_{y} + a_{z} b_{z}$$"
      ],
      "text/plain": [
       "aₓ⋅bₓ + a_y⋅b_y + a_z⋅b_z"
      ]
     },
     "execution_count": 4,
     "metadata": {},
     "output_type": "execute_result"
    }
   ],
   "source": [
    "fprint( a.dot(b),  print_ascii=print_ascii)"
   ]
  },
  {
   "cell_type": "markdown",
   "metadata": {},
   "source": [
    "The vectors can be expressed through their components $a_{-1},\\ a_{0},\\ a_{+1}$ and $b_{-1},\\ b_{0},\\ b_{+1}$ in the helicity basis as"
   ]
  },
  {
   "cell_type": "code",
   "execution_count": 5,
   "metadata": {
    "collapsed": false
   },
   "outputs": [
    {
     "data": {
      "image/png": "[encoded data removed]",
      "text/latex": [
       "$$\\left [ \\left[\\begin{matrix}\\frac{\\sqrt{2}}{2} \\left(a_{x} - i a_{y}\\right)\\\\a_{z}\\\\\\frac{\\sqrt{2}}{2} \\left(- a_{x} - i a_{y}\\right)\\end{matrix}\\right], \\quad \\left[\\begin{matrix}\\frac{\\sqrt{2}}{2} \\left(b_{x} - i b_{y}\\right)\\\\b_{z}\\\\\\frac{\\sqrt{2}}{2} \\left(- b_{x} - i b_{y}\\right)\\end{matrix}\\right]\\right ]$$"
      ],
      "text/plain": [
       "⎡⎡√2⋅(aₓ - ⅈ⋅a_y) ⎤  ⎡√2⋅(bₓ - ⅈ⋅b_y) ⎤⎤\n",
       "⎢⎢─────────────── ⎥, ⎢─────────────── ⎥⎥\n",
       "⎢⎢       2        ⎥  ⎢       2        ⎥⎥\n",
       "⎢⎢                ⎥  ⎢                ⎥⎥\n",
       "⎢⎢      a_z       ⎥  ⎢      b_z       ⎥⎥\n",
       "⎢⎢                ⎥  ⎢                ⎥⎥\n",
       "⎢⎢√2⋅(-aₓ - ⅈ⋅a_y)⎥  ⎢√2⋅(-bₓ - ⅈ⋅b_y)⎥⎥\n",
       "⎢⎢────────────────⎥  ⎢────────────────⎥⎥\n",
       "⎣⎣       2        ⎦  ⎣       2        ⎦⎦"
      ]
     },
     "execution_count": 5,
     "metadata": {},
     "output_type": "execute_result"
    }
   ],
   "source": [
    "a_helicity=cartesian_to_helicity(a)\n",
    "b_helicity=cartesian_to_helicity(b)\n",
    "\n",
    "fprint( [a_helicity, b_helicity], print_ascii=print_ascii)"
   ]
  },
  {
   "cell_type": "markdown",
   "metadata": {},
   "source": [
    "The dot product of two vectors in the helicity basis can be prooved to be $\\vec{a}\\cdot\\vec{b}=- a_{-1}b_{+1} +a_{0}   b_{0} -a_{+1} b_{-1}$"
   ]
  },
  {
   "cell_type": "code",
   "execution_count": 6,
   "metadata": {
    "collapsed": false
   },
   "outputs": [
    {
     "data": {
      "image/png": "[encoded data removed]",
      "text/latex": [
       "$$a_{z} b_{z} - \\frac{1}{2} \\left(- a_{x} - i a_{y}\\right) \\left(b_{x} - i b_{y}\\right) - \\frac{1}{2} \\left(a_{x} - i a_{y}\\right) \\left(- b_{x} - i b_{y}\\right)$$"
      ],
      "text/plain": [
       "          (-aₓ - ⅈ⋅a_y)⋅(bₓ - ⅈ⋅b_y)   (aₓ - ⅈ⋅a_y)⋅(-bₓ - ⅈ⋅b_y)\n",
       "a_z⋅b_z - ────────────────────────── - ──────────────────────────\n",
       "                      2                            2             "
      ]
     },
     "execution_count": 6,
     "metadata": {},
     "output_type": "execute_result"
    }
   ],
   "source": [
    "fprint( helicity_dot_product(a_helicity,b_helicity), print_ascii=print_ascii)"
   ]
  },
  {
   "cell_type": "code",
   "execution_count": 7,
   "metadata": {
    "collapsed": false
   },
   "outputs": [
    {
     "data": {
      "image/png": "[encoded data removed]",
      "text/latex": [
       "$$a_{x} b_{x} + a_{y} b_{y} + a_{z} b_{z}$$"
      ],
      "text/plain": [
       "aₓ⋅bₓ + a_y⋅b_y + a_z⋅b_z"
      ]
     },
     "execution_count": 7,
     "metadata": {},
     "output_type": "execute_result"
    }
   ],
   "source": [
    "fprint( simplify( helicity_dot_product(a_helicity,b_helicity) ), print_ascii=print_ascii)"
   ]
  },
  {
   "cell_type": "markdown",
   "metadata": {},
   "source": [
    "# The electric field\n",
    "We define a few important symbols"
   ]
  },
  {
   "cell_type": "code",
   "execution_count": 8,
   "metadata": {
    "collapsed": false
   },
   "outputs": [
    {
     "data": {
      "image/png": "[encoded data removed]",
      "text/latex": [
       "$$\\left [ t, \\quad c, \\quad \\left[\\begin{matrix}X\\\\Y\\\\Z\\end{matrix}\\right]\\right ]$$"
      ],
      "text/plain": [
       "⎡t, c, ⎡X⎤⎤\n",
       "⎢      ⎢ ⎥⎥\n",
       "⎢      ⎢Y⎥⎥\n",
       "⎢      ⎢ ⎥⎥\n",
       "⎣      ⎣Z⎦⎦"
      ]
     },
     "execution_count": 8,
     "metadata": {},
     "output_type": "execute_result"
    }
   ],
   "source": [
    "t,c=symbols(\"t c\",positive=True)\n",
    "X,Y,Z=symbols(\"X Y Z\",real=True)\n",
    "R=Matrix([X,Y,Z])\n",
    "fprint( [t,c,R], print_ascii=print_ascii)"
   ]
  },
  {
   "cell_type": "markdown",
   "metadata": {},
   "source": [
    "We will specify the electric field associated to a plane wave with arbitrary amplitude and frequency"
   ]
  },
  {
   "cell_type": "code",
   "execution_count": 9,
   "metadata": {
    "collapsed": false
   },
   "outputs": [
    {
     "data": {
      "image/png": "[encoded data removed]",
      "text/latex": [
       "$$\\left [ \\left [ E^{1}_{0}\\right ], \\quad \\left [ \\varpi_{1}\\right ]\\right ]$$"
      ],
      "text/plain": [
       "[[E¹₀], [varpi₁]]"
      ]
     },
     "execution_count": 9,
     "metadata": {},
     "output_type": "execute_result"
    }
   ],
   "source": [
    "E0,omega_laser=define_laser_variables(1)\n",
    "fprint( [E0,omega_laser], print_ascii=print_ascii)"
   ]
  },
  {
   "cell_type": "markdown",
   "metadata": {},
   "source": [
    "propagating through an arbitrary wave vector $\\vec{k}$"
   ]
  },
  {
   "cell_type": "code",
   "execution_count": 10,
   "metadata": {
    "collapsed": false
   },
   "outputs": [
    {
     "data": {
      "image/png": "[encoded data removed]",
      "text/latex": [
       "$$\\left[\\begin{matrix}\\frac{\\varpi_{1}}{c} \\sin{\\left (\\theta \\right )} \\cos{\\left (\\phi \\right )}\\\\\\frac{\\varpi_{1}}{c} \\sin{\\left (\\phi \\right )} \\sin{\\left (\\theta \\right )}\\\\\\frac{\\varpi_{1}}{c} \\cos{\\left (\\theta \\right )}\\end{matrix}\\right]$$"
      ],
      "text/plain": [
       "⎡varpi₁⋅sin(θ)⋅cos(φ)⎤\n",
       "⎢────────────────────⎥\n",
       "⎢         c          ⎥\n",
       "⎢                    ⎥\n",
       "⎢varpi₁⋅sin(φ)⋅sin(θ)⎥\n",
       "⎢────────────────────⎥\n",
       "⎢         c          ⎥\n",
       "⎢                    ⎥\n",
       "⎢   varpi₁⋅cos(θ)    ⎥\n",
       "⎢   ─────────────    ⎥\n",
       "⎣         c          ⎦"
      ]
     },
     "execution_count": 10,
     "metadata": {},
     "output_type": "execute_result"
    }
   ],
   "source": [
    "phi,theta,alpha,beta=symbols(\"phi theta alpha beta\")\n",
    "\n",
    "k=omega_laser[0]/c*Matrix([cos(phi)*sin(theta),sin(phi)*sin(theta),cos(theta)])\n",
    "fprint(k, print_ascii=print_ascii)"
   ]
  },
  {
   "cell_type": "markdown",
   "metadata": {},
   "source": [
    "with an arbitrary polarization,"
   ]
  },
  {
   "cell_type": "code",
   "execution_count": 11,
   "metadata": {
    "collapsed": false
   },
   "outputs": [
    {
     "data": {
      "image/png": "[encoded data removed]",
      "text/latex": [
       "$$\\left[\\begin{matrix}\\left(- \\sin{\\left (2 \\alpha \\right )} \\sin{\\left (\\phi \\right )} + \\cos{\\left (2 \\alpha \\right )} \\cos{\\left (\\phi \\right )} \\cos{\\left (\\theta \\right )}\\right) \\cos{\\left (2 \\beta \\right )} + i \\left(- \\sin{\\left (2 \\alpha \\right )} \\cos{\\left (\\phi \\right )} \\cos{\\left (\\theta \\right )} - \\sin{\\left (\\phi \\right )} \\cos{\\left (2 \\alpha \\right )}\\right) \\sin{\\left (2 \\beta \\right )}\\\\\\left(\\sin{\\left (2 \\alpha \\right )} \\cos{\\left (\\phi \\right )} + \\sin{\\left (\\phi \\right )} \\cos{\\left (2 \\alpha \\right )} \\cos{\\left (\\theta \\right )}\\right) \\cos{\\left (2 \\beta \\right )} + i \\left(- \\sin{\\left (2 \\alpha \\right )} \\sin{\\left (\\phi \\right )} \\cos{\\left (\\theta \\right )} + \\cos{\\left (2 \\alpha \\right )} \\cos{\\left (\\phi \\right )}\\right) \\sin{\\left (2 \\beta \\right )}\\\\i \\sin{\\left (2 \\alpha \\right )} \\sin{\\left (2 \\beta \\right )} \\sin{\\left (\\theta \\right )} - \\sin{\\left (\\theta \\right )} \\cos{\\left (2 \\alpha \\right )} \\cos{\\left (2 \\beta \\right )}\\end{matrix}\\right]$$"
      ],
      "text/plain": [
       "⎡(-sin(2⋅α)⋅sin(φ) + cos(2⋅α)⋅cos(φ)⋅cos(θ))⋅cos(2⋅β) + ⅈ⋅(-sin(2⋅α)⋅cos(φ)⋅co\n",
       "⎢                                                                             \n",
       "⎢(sin(2⋅α)⋅cos(φ) + sin(φ)⋅cos(2⋅α)⋅cos(θ))⋅cos(2⋅β) + ⅈ⋅(-sin(2⋅α)⋅sin(φ)⋅cos\n",
       "⎢                                                                             \n",
       "⎣                            ⅈ⋅sin(2⋅α)⋅sin(2⋅β)⋅sin(θ) - sin(θ)⋅cos(2⋅α)⋅cos(\n",
       "\n",
       "s(θ) - sin(φ)⋅cos(2⋅α))⋅sin(2⋅β)⎤\n",
       "                                ⎥\n",
       "(θ) + cos(2⋅α)⋅cos(φ))⋅sin(2⋅β) ⎥\n",
       "                                ⎥\n",
       "2⋅β)                            ⎦"
      ]
     },
     "execution_count": 11,
     "metadata": {},
     "output_type": "execute_result"
    }
   ],
   "source": [
    "ep=polarization_vector(phi,theta,alpha,beta, 1)\n",
    "em=polarization_vector(phi,theta,alpha,beta,-1)\n",
    "fprint(ep, print_ascii=print_ascii)"
   ]
  },
  {
   "cell_type": "code",
   "execution_count": 12,
   "metadata": {
    "collapsed": false
   },
   "outputs": [
    {
     "data": {
      "image/png": "[encoded data removed]",
      "text/latex": [
       "$$\\left[\\begin{matrix}\\left(- \\sin{\\left (2 \\alpha \\right )} \\sin{\\left (\\phi \\right )} + \\cos{\\left (2 \\alpha \\right )} \\cos{\\left (\\phi \\right )} \\cos{\\left (\\theta \\right )}\\right) \\cos{\\left (2 \\beta \\right )} - i \\left(- \\sin{\\left (2 \\alpha \\right )} \\cos{\\left (\\phi \\right )} \\cos{\\left (\\theta \\right )} - \\sin{\\left (\\phi \\right )} \\cos{\\left (2 \\alpha \\right )}\\right) \\sin{\\left (2 \\beta \\right )}\\\\\\left(\\sin{\\left (2 \\alpha \\right )} \\cos{\\left (\\phi \\right )} + \\sin{\\left (\\phi \\right )} \\cos{\\left (2 \\alpha \\right )} \\cos{\\left (\\theta \\right )}\\right) \\cos{\\left (2 \\beta \\right )} - i \\left(- \\sin{\\left (2 \\alpha \\right )} \\sin{\\left (\\phi \\right )} \\cos{\\left (\\theta \\right )} + \\cos{\\left (2 \\alpha \\right )} \\cos{\\left (\\phi \\right )}\\right) \\sin{\\left (2 \\beta \\right )}\\\\- i \\sin{\\left (2 \\alpha \\right )} \\sin{\\left (2 \\beta \\right )} \\sin{\\left (\\theta \\right )} - \\sin{\\left (\\theta \\right )} \\cos{\\left (2 \\alpha \\right )} \\cos{\\left (2 \\beta \\right )}\\end{matrix}\\right]$$"
      ],
      "text/plain": [
       "⎡(-sin(2⋅α)⋅sin(φ) + cos(2⋅α)⋅cos(φ)⋅cos(θ))⋅cos(2⋅β) - ⅈ⋅(-sin(2⋅α)⋅cos(φ)⋅co\n",
       "⎢                                                                             \n",
       "⎢(sin(2⋅α)⋅cos(φ) + sin(φ)⋅cos(2⋅α)⋅cos(θ))⋅cos(2⋅β) - ⅈ⋅(-sin(2⋅α)⋅sin(φ)⋅cos\n",
       "⎢                                                                             \n",
       "⎣                           -ⅈ⋅sin(2⋅α)⋅sin(2⋅β)⋅sin(θ) - sin(θ)⋅cos(2⋅α)⋅cos(\n",
       "\n",
       "s(θ) - sin(φ)⋅cos(2⋅α))⋅sin(2⋅β)⎤\n",
       "                                ⎥\n",
       "(θ) + cos(2⋅α)⋅cos(φ))⋅sin(2⋅β) ⎥\n",
       "                                ⎥\n",
       "2⋅β)                            ⎦"
      ]
     },
     "execution_count": 12,
     "metadata": {},
     "output_type": "execute_result"
    }
   ],
   "source": [
    "fprint(em, print_ascii=print_ascii)"
   ]
  },
  {
   "cell_type": "markdown",
   "metadata": {},
   "source": [
    "The electric field is given by"
   ]
  },
  {
   "cell_type": "code",
   "execution_count": 13,
   "metadata": {
    "collapsed": false
   },
   "outputs": [],
   "source": [
    "arg=k.dot(R)-omega_laser[0]*t\n",
    "E=E0[0]/2*(ep*exp(+arg) + em*exp( -arg))"
   ]
  },
  {
   "cell_type": "markdown",
   "metadata": {},
   "source": [
    "Which can be seen to be orthogonal to the propagation direction."
   ]
  },
  {
   "cell_type": "code",
   "execution_count": 14,
   "metadata": {
    "collapsed": false
   },
   "outputs": [
    {
     "name": "stdout",
     "output_type": "stream",
     "text": [
      "0\n"
     ]
    }
   ],
   "source": [
    "print simplify(E.dot(k))"
   ]
  },
  {
   "cell_type": "markdown",
   "metadata": {},
   "source": [
    "We can simplify this expression by noting that in the cases of our interest the wavelengths of the fields (780 nm and 776 nm) are much longer than the atomic radius (248 pm for rubidium) the spacial variation of the field is relatively insignificant, so a single point to evaluate this field can be taken at $\\vec{R}=0$, and thus the field can be taken as"
   ]
  },
  {
   "cell_type": "code",
   "execution_count": 15,
   "metadata": {
    "collapsed": false
   },
   "outputs": [],
   "source": [
    "arg=-omega_laser[0]*t\n",
    "E=E0[0]/2*(ep*exp(+arg) + em*exp( -arg))"
   ]
  },
  {
   "cell_type": "markdown",
   "metadata": {},
   "source": [
    "# The position operator in the helicity basis.\n",
    "We can write think of the position operator as a vector of operators $\\vec{\\hat{r}}$ that act on a Hilbert space of a given dimension. In this case we will use dimension 2."
   ]
  },
  {
   "cell_type": "code",
   "execution_count": 16,
   "metadata": {
    "collapsed": false
   },
   "outputs": [
    {
     "data": {
      "image/png": "[encoded data removed]",
      "text/latex": [
       "$$\\left [ \\left[\\begin{matrix}0 & x_{12}\\\\x_{21} & 0\\end{matrix}\\right], \\quad \\left[\\begin{matrix}0 & y_{12}\\\\y_{21} & 0\\end{matrix}\\right], \\quad \\left[\\begin{matrix}0 & z_{12}\\\\z_{21} & 0\\end{matrix}\\right]\\right ]$$"
      ],
      "text/plain": [
       "⎡⎡  0     x_{12}⎤, ⎡  0     y_{12}⎤, ⎡  0     z_{12}⎤⎤\n",
       "⎢⎢              ⎥  ⎢              ⎥  ⎢              ⎥⎥\n",
       "⎣⎣x_{21}    0   ⎦  ⎣y_{21}    0   ⎦  ⎣z_{21}    0   ⎦⎦"
      ]
     },
     "execution_count": 16,
     "metadata": {},
     "output_type": "execute_result"
    }
   ],
   "source": [
    "r_cartesian=define_r_components(2)\n",
    "fprint(r_cartesian, print_ascii=print_ascii)"
   ]
  },
  {
   "cell_type": "code",
   "execution_count": 17,
   "metadata": {
    "collapsed": false
   },
   "outputs": [
    {
     "data": {
      "image/png": "[encoded data removed]",
      "text/latex": [
       "$$\\left [ \\left[\\begin{matrix}0 & r_{-1;12}\\\\r_{-1;21} & 0\\end{matrix}\\right], \\quad \\left[\\begin{matrix}0 & r_{0;12}\\\\r_{0;21} & 0\\end{matrix}\\right], \\quad \\left[\\begin{matrix}0 & r_{+1;12}\\\\r_{+1;21} & 0\\end{matrix}\\right]\\right ]$$"
      ],
      "text/plain": [
       "⎡⎡    0      r_{-1;12}⎤, ⎡   0      r_{0;12}⎤, ⎡    0      r_{+1;12}⎤⎤\n",
       "⎢⎢                    ⎥  ⎢                  ⎥  ⎢                    ⎥⎥\n",
       "⎣⎣r_{-1;21}      0    ⎦  ⎣r_{0;21}     0    ⎦  ⎣r_{+1;21}      0    ⎦⎦"
      ]
     },
     "execution_count": 17,
     "metadata": {},
     "output_type": "execute_result"
    }
   ],
   "source": [
    "r_helicity=define_r_components(2,helicity=True)\n",
    "fprint(r_helicity, print_ascii=print_ascii)"
   ]
  },
  {
   "cell_type": "code",
   "execution_count": 18,
   "metadata": {
    "collapsed": false
   },
   "outputs": [
    {
     "data": {
      "image/png": "[encoded data removed]",
      "text/latex": [
       "$$\\left[\\begin{matrix}r_{-1;21}\\\\r_{0;21}\\\\r_{+1;21}\\end{matrix}\\right]$$"
      ],
      "text/plain": [
       "⎡r_{-1;21}⎤\n",
       "⎢         ⎥\n",
       "⎢r_{0;21} ⎥\n",
       "⎢         ⎥\n",
       "⎣r_{+1;21}⎦"
      ]
     },
     "execution_count": 18,
     "metadata": {},
     "output_type": "execute_result"
    }
   ],
   "source": [
    "r_helicity21=Matrix([r_helicity[0][1,0],r_helicity[1][1,0],r_helicity[2][1,0]])\n",
    "fprint(r_helicity21, print_ascii=print_ascii)"
   ]
  },
  {
   "cell_type": "markdown",
   "metadata": {},
   "source": [
    "We take $\\vec{r}_{ij}$ in the helicity basis, and transforming it to the cartesian and taking the complex conjugate basis we get $\\vec{r}_{ji}$, which in turn can be taken back to the helicity basis to obtain $\\vec{r}_{ji}$ in terms of $\\vec{r}_{ij}$ in the helicity basis."
   ]
  },
  {
   "cell_type": "code",
   "execution_count": 19,
   "metadata": {
    "collapsed": false
   },
   "outputs": [
    {
     "data": {
      "image/png": "[encoded data removed]",
      "text/latex": [
       "$$\\left[\\begin{matrix}- r_{+1;21}\\\\r_{0;21}\\\\- r_{-1;21}\\end{matrix}\\right]$$"
      ],
      "text/plain": [
       "⎡-r_{+1;21}⎤\n",
       "⎢          ⎥\n",
       "⎢ r_{0;21} ⎥\n",
       "⎢          ⎥\n",
       "⎣-r_{-1;21}⎦"
      ]
     },
     "execution_count": 19,
     "metadata": {},
     "output_type": "execute_result"
    }
   ],
   "source": [
    "fprint( simplify( cartesian_to_helicity(conjugate(helicity_to_cartesian(r_helicity21))) ), print_ascii=print_ascii)"
   ]
  },
  {
   "cell_type": "markdown",
   "metadata": {},
   "source": [
    "Check whether this actually makes $\\vec{\\hat{r}}$ hermitian."
   ]
  },
  {
   "cell_type": "code",
   "execution_count": 20,
   "metadata": {
    "collapsed": false
   },
   "outputs": [
    {
     "data": {
      "image/png": "[encoded data removed]",
      "text/latex": [
       "$$\\left [ \\left[\\begin{matrix}0 & - r_{+1;21}\\\\r_{-1;21} & 0\\end{matrix}\\right], \\quad \\left[\\begin{matrix}0 & r_{0;21}\\\\r_{0;21} & 0\\end{matrix}\\right], \\quad \\left[\\begin{matrix}0 & - r_{-1;21}\\\\r_{+1;21} & 0\\end{matrix}\\right]\\right ]$$"
      ],
      "text/plain": [
       "⎡⎡    0      -r_{+1;21}⎤, ⎡   0      r_{0;21}⎤, ⎡    0      -r_{-1;21}⎤⎤\n",
       "⎢⎢                     ⎥  ⎢                  ⎥  ⎢                     ⎥⎥\n",
       "⎣⎣r_{-1;21}      0     ⎦  ⎣r_{0;21}     0    ⎦  ⎣r_{+1;21}      0     ⎦⎦"
      ]
     },
     "execution_count": 20,
     "metadata": {},
     "output_type": "execute_result"
    }
   ],
   "source": [
    "r_helicity=define_r_components(2,helicity=True,explicitly_hermitian=True)\n",
    "fprint(r_helicity, print_ascii=print_ascii)"
   ]
  },
  {
   "cell_type": "code",
   "execution_count": 21,
   "metadata": {
    "collapsed": false
   },
   "outputs": [
    {
     "data": {
      "image/png": "[encoded data removed]",
      "text/latex": [
       "$$\\left [ \\left[\\begin{matrix}r_{-1;21}\\\\r_{0;21}\\\\r_{+1;21}\\end{matrix}\\right], \\quad \\left[\\begin{matrix}- r_{+1;21}\\\\r_{0;21}\\\\- r_{-1;21}\\end{matrix}\\right]\\right ]$$"
      ],
      "text/plain": [
       "⎡⎡r_{-1;21}⎤, ⎡-r_{+1;21}⎤⎤\n",
       "⎢⎢         ⎥  ⎢          ⎥⎥\n",
       "⎢⎢r_{0;21} ⎥  ⎢ r_{0;21} ⎥⎥\n",
       "⎢⎢         ⎥  ⎢          ⎥⎥\n",
       "⎣⎣r_{+1;21}⎦  ⎣-r_{-1;21}⎦⎦"
      ]
     },
     "execution_count": 21,
     "metadata": {},
     "output_type": "execute_result"
    }
   ],
   "source": [
    "r_helicity21=Matrix([r_helicity[0][1,0],r_helicity[1][1,0],r_helicity[2][1,0]])\n",
    "r_helicity12=Matrix([r_helicity[0][0,1],r_helicity[1][0,1],r_helicity[2][0,1]])\n",
    "fprint( [r_helicity21,r_helicity12], print_ascii=print_ascii)"
   ]
  },
  {
   "cell_type": "code",
   "execution_count": 22,
   "metadata": {
    "collapsed": false
   },
   "outputs": [
    {
     "data": {
      "image/png": "[encoded data removed]",
      "text/latex": [
       "$$\\left[\\begin{matrix}0\\\\0\\\\0\\end{matrix}\\right]$$"
      ],
      "text/plain": [
       "⎡0⎤\n",
       "⎢ ⎥\n",
       "⎢0⎥\n",
       "⎢ ⎥\n",
       "⎣0⎦"
      ]
     },
     "execution_count": 22,
     "metadata": {},
     "output_type": "execute_result"
    }
   ],
   "source": [
    "fprint( simplify( helicity_to_cartesian(r_helicity21)-helicity_to_cartesian(r_helicity12).conjugate() ), print_ascii=print_ascii)"
   ]
  },
  {
   "cell_type": "markdown",
   "metadata": {},
   "source": [
    "So yes, this makes the $\\vec{\\hat{r}}$ operator hermitian."
   ]
  },
  {
   "cell_type": "code",
   "execution_count": null,
   "metadata": {
    "collapsed": true
   },
   "outputs": [],
   "source": []
  }
 ],
 "metadata": {
  "anaconda-cloud": {},
  "kernelspec": {
   "display_name": "Python 2",
   "language": "python",
   "name": "python2"
  },
  "language_info": {
   "codemirror_mode": {
    "name": "ipython",
    "version": 2
   },
   "file_extension": ".py",
   "mimetype": "text/x-python",
   "name": "python",
   "nbconvert_exporter": "python",
   "pygments_lexer": "ipython2",
   "version": "2.7.13"
  }
 },
 "nbformat": 4,
 "nbformat_minor": 0
}
