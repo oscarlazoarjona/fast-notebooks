{
 "cells": [
  {
   "cell_type": "code",
   "execution_count": 1,
   "metadata": {
    "collapsed": false
   },
   "outputs": [],
   "source": [
    "from fast import *\n",
    "from fast.config import fast_path\n",
    "from matplotlib import pyplot\n",
    "from sympy import sin,cos,exp,sqrt,pi,zeros,I\n",
    "%matplotlib inline\n",
    "init_printing()\n",
    "print_ascii=True; print_ascii=False"
   ]
  },
  {
   "cell_type": "code",
   "execution_count": 2,
   "metadata": {
    "collapsed": false
   },
   "outputs": [],
   "source": [
    "path=fast_path[:-5]+\"/examples/folder_05___Two_level_atom_symbolic/\" \n",
    "name='suite'"
   ]
  },
  {
   "cell_type": "markdown",
   "metadata": {},
   "source": [
    "We will be deriving the optical Bloch equations for a two level system as that in the figure."
   ]
  },
  {
   "cell_type": "code",
   "execution_count": 3,
   "metadata": {
    "collapsed": false
   },
   "outputs": [
    {
     "data": {
      "image/png": "[encoded data removed]",
      "text/plain": [
       "<matplotlib.figure.Figure at 0x7fd054313fd0>"
      ]
     },
     "metadata": {},
     "output_type": "display_data"
    }
   ],
   "source": [
    "fig=pyplot.figure(); ax=fig.add_subplot(111,aspect=\"equal\")\n",
    "\n",
    "p1=[0.5,1]; p2=[1.5,3]\n",
    "draw_state(ax,p1,text=r\"$|1\\rangle$\",l=1.0,alignment='right',label_displacement=0.05,fontsize=25,linewidth=4.0)\n",
    "draw_state(ax,p2,text=r\"$|2\\rangle$\",l=1.0,alignment='right',label_displacement=0.05,fontsize=25,linewidth=4.0)\n",
    "\n",
    "excitation(ax,[p1[0]+0.25,p1[1]],[p2[0]+0.25,p2[1]], fc=\"red\", ec=\"red\",width=0.01, head_width=0.1, head_length=0.1)\n",
    "decay(     ax,[p1[0]-0.25,p1[1]],[p2[0]-0.25,p2[1]], 0.05,10.0,color=\"red\",linewidth=1.0)\n",
    "\n",
    "pyplot.axis('off')\n",
    "pyplot.savefig(path+name+'_diagram.png',bbox_inches=\"tight\")"
   ]
  },
  {
   "cell_type": "markdown",
   "metadata": {},
   "source": [
    "We define the number of states and of radiation fields."
   ]
  },
  {
   "cell_type": "code",
   "execution_count": 4,
   "metadata": {
    "collapsed": true
   },
   "outputs": [],
   "source": [
    "Ne=2\n",
    "Nl=1"
   ]
  },
  {
   "cell_type": "markdown",
   "metadata": {},
   "source": [
    "We define the variables related to the laser field."
   ]
  },
  {
   "cell_type": "code",
   "execution_count": 5,
   "metadata": {
    "collapsed": false
   },
   "outputs": [
    {
     "data": {
      "image/png": "[encoded data removed]",
      "text/latex": [
       "$$\\left [ E^{1}_{0}\\right ]$$"
      ],
      "text/plain": [
       "[E¹₀]"
      ]
     },
     "execution_count": 5,
     "metadata": {},
     "output_type": "execute_result"
    }
   ],
   "source": [
    "E0,omega_laser=define_laser_variables(Nl)\n",
    "fprint(E0,print_ascii=print_ascii)"
   ]
  },
  {
   "cell_type": "code",
   "execution_count": 6,
   "metadata": {
    "collapsed": false
   },
   "outputs": [
    {
     "data": {
      "image/png": "[encoded data removed]",
      "text/latex": [
       "$$\\left [ \\omega^{1}\\right ]$$"
      ],
      "text/plain": [
       "[ω¹]"
      ]
     },
     "execution_count": 6,
     "metadata": {},
     "output_type": "execute_result"
    }
   ],
   "source": [
    "fprint(omega_laser,print_ascii=print_ascii)"
   ]
  },
  {
   "cell_type": "markdown",
   "metadata": {},
   "source": [
    "We define a few important symbols."
   ]
  },
  {
   "cell_type": "code",
   "execution_count": 7,
   "metadata": {
    "collapsed": false
   },
   "outputs": [
    {
     "data": {
      "image/png": "[encoded data removed]",
      "text/latex": [
       "$$\\left [ t, \\quad \\hbar, \\quad e\\right ]$$"
      ],
      "text/plain": [
       "[t, h̅, e]"
      ]
     },
     "execution_count": 7,
     "metadata": {},
     "output_type": "execute_result"
    }
   ],
   "source": [
    "t,hbar,e=symbols(\"t hbar e\",positive=True)\n",
    "fprint([t,hbar,e],print_ascii=print_ascii)"
   ]
  },
  {
   "cell_type": "markdown",
   "metadata": {},
   "source": [
    "We write an electric field propagating trough the $\\hat{x}$ direction polarized in the $\\hat{z}$ direction. First the wave vector:"
   ]
  },
  {
   "cell_type": "code",
   "execution_count": 8,
   "metadata": {
    "collapsed": false
   },
   "outputs": [
    {
     "data": {
      "image/png": "[encoded data removed]",
      "text/latex": [
       "$$\\left[\\begin{matrix}1\\\\0\\\\0\\end{matrix}\\right]$$"
      ],
      "text/plain": [
       "⎡1⎤\n",
       "⎢ ⎥\n",
       "⎢0⎥\n",
       "⎢ ⎥\n",
       "⎣0⎦"
      ]
     },
     "execution_count": 8,
     "metadata": {},
     "output_type": "execute_result"
    }
   ],
   "source": [
    "phi=0; theta=pi/2; alpha=pi/2; beta=0\n",
    "\n",
    "k=Matrix([cos(phi)*sin(theta),sin(phi)*sin(theta),cos(theta)])\n",
    "fprint(k,print_ascii=print_ascii)"
   ]
  },
  {
   "cell_type": "markdown",
   "metadata": {},
   "source": [
    "The polarization vectors."
   ]
  },
  {
   "cell_type": "code",
   "execution_count": 9,
   "metadata": {
    "collapsed": false
   },
   "outputs": [
    {
     "data": {
      "image/png": "[encoded data removed]",
      "text/latex": [
       "$$\\left [ \\left[\\begin{matrix}0\\\\0\\\\1\\end{matrix}\\right], \\quad \\left[\\begin{matrix}0\\\\0\\\\1\\end{matrix}\\right]\\right ]$$"
      ],
      "text/plain": [
       "⎡⎡0⎤, ⎡0⎤⎤\n",
       "⎢⎢ ⎥  ⎢ ⎥⎥\n",
       "⎢⎢0⎥  ⎢0⎥⎥\n",
       "⎢⎢ ⎥  ⎢ ⎥⎥\n",
       "⎣⎣1⎦  ⎣1⎦⎦"
      ]
     },
     "execution_count": 9,
     "metadata": {},
     "output_type": "execute_result"
    }
   ],
   "source": [
    "ep=polarization_vector(phi,theta,alpha,beta, 1)\n",
    "em=polarization_vector(phi,theta,alpha,beta,-1)\n",
    "fprint([ep,em],print_ascii=print_ascii)"
   ]
  },
  {
   "cell_type": "markdown",
   "metadata": {},
   "source": [
    "The electric field (evaluated in $\\vec{R}=0$)."
   ]
  },
  {
   "cell_type": "code",
   "execution_count": 10,
   "metadata": {
    "collapsed": false
   },
   "outputs": [
    {
     "data": {
      "image/png": "[encoded data removed]",
      "text/latex": [
       "$$\\left[\\begin{matrix}0\\\\0\\\\\\frac{E^{1}_{0}}{2} e^{- i \\omega^{1} t} + \\frac{\\overline{E^{1}_{0}}}{2} e^{i \\omega^{1} t}\\end{matrix}\\right]$$"
      ],
      "text/plain": [
       "⎡            0             ⎤\n",
       "⎢                          ⎥\n",
       "⎢            0             ⎥\n",
       "⎢                          ⎥\n",
       "⎢     -ⅈ⋅ω¹⋅t    ⅈ⋅ω¹⋅t ___⎥\n",
       "⎢E¹₀⋅ℯ          ℯ      ⋅E¹₀⎥\n",
       "⎢──────────── + ───────────⎥\n",
       "⎣     2              2     ⎦"
      ]
     },
     "execution_count": 10,
     "metadata": {},
     "output_type": "execute_result"
    }
   ],
   "source": [
    "E_cartesian=(E0[0]/2*ep*exp(-I*omega_laser[0]*t) + E0[0].conjugate()/2*em*exp( I*omega_laser[0]*t))\n",
    "fprint(E_cartesian,print_ascii=print_ascii)"
   ]
  },
  {
   "cell_type": "markdown",
   "metadata": {},
   "source": [
    "We draw this electric field."
   ]
  },
  {
   "cell_type": "code",
   "execution_count": 11,
   "metadata": {
    "collapsed": false
   },
   "outputs": [
    {
     "data": {
      "image/png": "[encoded data removed]",
      "text/plain": [
       "<matplotlib.figure.Figure at 0x7fd02a4d2410>"
      ]
     },
     "metadata": {},
     "output_type": "display_data"
    }
   ],
   "source": [
    "l1=PlaneWave(phi,theta,0,0,color=\"red\")\n",
    "laseres=[l1]\n",
    "Nl=len(laseres)\n",
    "\n",
    "fig = pyplot.figure(); ax = fig.gca(projection='3d')\n",
    "draw_lasers_3d(ax,laseres,path+'lasers.png')"
   ]
  },
  {
   "cell_type": "markdown",
   "metadata": {},
   "source": [
    "We write the electric field in the helicity basis (see notebook \"Vectors in the helicity basis and the electric field\")."
   ]
  },
  {
   "cell_type": "code",
   "execution_count": 12,
   "metadata": {
    "collapsed": false
   },
   "outputs": [
    {
     "data": {
      "image/png": "[encoded data removed]",
      "text/latex": [
       "$$\\left[\\begin{matrix}0\\\\\\frac{E^{1}_{0}}{2} e^{- i \\omega^{1} t} + \\frac{\\overline{E^{1}_{0}}}{2} e^{i \\omega^{1} t}\\\\0\\end{matrix}\\right]$$"
      ],
      "text/plain": [
       "⎡            0             ⎤\n",
       "⎢                          ⎥\n",
       "⎢     -ⅈ⋅ω¹⋅t    ⅈ⋅ω¹⋅t ___⎥\n",
       "⎢E¹₀⋅ℯ          ℯ      ⋅E¹₀⎥\n",
       "⎢──────────── + ───────────⎥\n",
       "⎢     2              2     ⎥\n",
       "⎢                          ⎥\n",
       "⎣            0             ⎦"
      ]
     },
     "execution_count": 12,
     "metadata": {},
     "output_type": "execute_result"
    }
   ],
   "source": [
    "E=cartesian_to_helicity(E_cartesian)\n",
    "fprint(E,print_ascii=print_ascii)"
   ]
  },
  {
   "cell_type": "markdown",
   "metadata": {},
   "source": [
    "We define the position operator in the helicity basis."
   ]
  },
  {
   "cell_type": "code",
   "execution_count": 13,
   "metadata": {
    "collapsed": false
   },
   "outputs": [
    {
     "data": {
      "image/png": "[encoded data removed]",
      "text/latex": [
       "$$\\left [ \\left[\\begin{matrix}0 & - r_{+1;21}\\\\r_{-1;21} & 0\\end{matrix}\\right], \\quad \\left[\\begin{matrix}0 & r_{0;21}\\\\r_{0;21} & 0\\end{matrix}\\right], \\quad \\left[\\begin{matrix}0 & - r_{-1;21}\\\\r_{+1;21} & 0\\end{matrix}\\right]\\right ]$$"
      ],
      "text/plain": [
       "⎡⎡    0      -r_{+1;21}⎤, ⎡   0      r_{0;21}⎤, ⎡    0      -r_{-1;21}⎤⎤\n",
       "⎢⎢                     ⎥  ⎢                  ⎥  ⎢                     ⎥⎥\n",
       "⎣⎣r_{-1;21}      0     ⎦  ⎣r_{0;21}     0    ⎦  ⎣r_{+1;21}      0     ⎦⎦"
      ]
     },
     "execution_count": 13,
     "metadata": {},
     "output_type": "execute_result"
    }
   ],
   "source": [
    "r=define_r_components(Ne,helicity=True,explicitly_hermitian=True)\n",
    "fprint(r,print_ascii=print_ascii)"
   ]
  },
  {
   "cell_type": "markdown",
   "metadata": {},
   "source": [
    "The frequencies of the energy levels, the resonant frequencies, and the decay frequencies."
   ]
  },
  {
   "cell_type": "code",
   "execution_count": 14,
   "metadata": {
    "collapsed": false
   },
   "outputs": [
    {
     "data": {
      "image/png": "[encoded data removed]",
      "text/latex": [
       "$$\\left [ \\omega_{1}, \\quad \\omega_{2}\\right ]$$"
      ],
      "text/plain": [
       "[ω₁, ω₂]"
      ]
     },
     "execution_count": 14,
     "metadata": {},
     "output_type": "execute_result"
    }
   ],
   "source": [
    "omega_level,omega,gamma=define_frequencies(Ne,explicitly_antisymmetric=True)\n",
    "fprint(omega_level,print_ascii=print_ascii)"
   ]
  },
  {
   "cell_type": "code",
   "execution_count": 15,
   "metadata": {
    "collapsed": false
   },
   "outputs": [
    {
     "data": {
      "image/png": "[encoded data removed]",
      "text/latex": [
       "$$\\left[\\begin{matrix}0 & - \\omega_{21}\\\\\\omega_{21} & 0\\end{matrix}\\right]$$"
      ],
      "text/plain": [
       "⎡ 0   -ω₂₁⎤\n",
       "⎢         ⎥\n",
       "⎣ω₂₁   0  ⎦"
      ]
     },
     "execution_count": 15,
     "metadata": {},
     "output_type": "execute_result"
    }
   ],
   "source": [
    "fprint(omega,print_ascii=print_ascii)"
   ]
  },
  {
   "cell_type": "code",
   "execution_count": 16,
   "metadata": {
    "collapsed": false
   },
   "outputs": [
    {
     "data": {
      "image/png": "[encoded data removed]",
      "text/latex": [
       "$$\\left[\\begin{matrix}0 & - \\gamma_{21}\\\\\\gamma_{21} & 0\\end{matrix}\\right]$$"
      ],
      "text/plain": [
       "⎡ 0   -γ₂₁⎤\n",
       "⎢         ⎥\n",
       "⎣γ₂₁   0  ⎦"
      ]
     },
     "execution_count": 16,
     "metadata": {},
     "output_type": "execute_result"
    }
   ],
   "source": [
    "fprint(gamma,print_ascii=print_ascii)"
   ]
  },
  {
   "cell_type": "markdown",
   "metadata": {},
   "source": [
    "The atomic hamiltonian is"
   ]
  },
  {
   "cell_type": "code",
   "execution_count": 17,
   "metadata": {
    "collapsed": false
   },
   "outputs": [
    {
     "data": {
      "image/png": "[encoded data removed]",
      "text/latex": [
       "$$\\left[\\begin{matrix}\\hbar \\omega_{1} & 0\\\\0 & \\hbar \\omega_{2}\\end{matrix}\\right]$$"
      ],
      "text/plain": [
       "⎡h̅⋅ω₁    0  ⎤\n",
       "⎢            ⎥\n",
       "⎣  0    h̅⋅ω₂⎦"
      ]
     },
     "execution_count": 17,
     "metadata": {},
     "output_type": "execute_result"
    }
   ],
   "source": [
    "H0=Matrix([[hbar*omega_level[i]*KroneckerDelta(i,j) for j in range(Ne)] for i in range(Ne)])\n",
    "fprint(H0,print_ascii=print_ascii)"
   ]
  },
  {
   "cell_type": "markdown",
   "metadata": {
    "collapsed": false
   },
   "source": [
    "The interaction hamiltonian is"
   ]
  },
  {
   "cell_type": "code",
   "execution_count": 18,
   "metadata": {
    "collapsed": false
   },
   "outputs": [
    {
     "data": {
      "image/png": "[encoded data removed]",
      "text/latex": [
       "$$\\left[\\begin{matrix}0 & e r_{0;21} \\left(\\frac{E^{1}_{0}}{2} e^{- i \\omega^{1} t} + \\frac{\\overline{E^{1}_{0}}}{2} e^{i \\omega^{1} t}\\right)\\\\e r_{0;21} \\left(\\frac{E^{1}_{0}}{2} e^{- i \\omega^{1} t} + \\frac{\\overline{E^{1}_{0}}}{2} e^{i \\omega^{1} t}\\right) & 0\\end{matrix}\\right]$$"
      ],
      "text/plain": [
       "⎡                                                    ⎛     -ⅈ⋅ω¹⋅t    ⅈ⋅ω¹⋅t _\n",
       "⎢                                                    ⎜E¹₀⋅ℯ          ℯ      ⋅E\n",
       "⎢                   0                     e⋅r_{0;21}⋅⎜──────────── + ─────────\n",
       "⎢                                                    ⎝     2              2   \n",
       "⎢                                                                             \n",
       "⎢           ⎛     -ⅈ⋅ω¹⋅t    ⅈ⋅ω¹⋅t ___⎞                                      \n",
       "⎢           ⎜E¹₀⋅ℯ          ℯ      ⋅E¹₀⎟                                      \n",
       "⎢e⋅r_{0;21}⋅⎜──────────── + ───────────⎟                     0                \n",
       "⎣           ⎝     2              2     ⎠                                      \n",
       "\n",
       "__⎞⎤\n",
       "¹₀⎟⎥\n",
       "──⎟⎥\n",
       "  ⎠⎥\n",
       "   ⎥\n",
       "   ⎥\n",
       "   ⎥\n",
       "   ⎥\n",
       "   ⎦"
      ]
     },
     "execution_count": 18,
     "metadata": {},
     "output_type": "execute_result"
    }
   ],
   "source": [
    "H1=e*helicity_dot_product(E,r)\n",
    "fprint(H1,print_ascii=print_ascii)"
   ]
  },
  {
   "cell_type": "markdown",
   "metadata": {},
   "source": [
    "and the complete hamiltonian is"
   ]
  },
  {
   "cell_type": "code",
   "execution_count": 19,
   "metadata": {
    "collapsed": false
   },
   "outputs": [
    {
     "data": {
      "image/png": "[encoded data removed]",
      "text/latex": [
       "$$\\left[\\begin{matrix}\\hbar \\omega_{1} & e r_{0;21} \\left(\\frac{E^{1}_{0}}{2} e^{- i \\omega^{1} t} + \\frac{\\overline{E^{1}_{0}}}{2} e^{i \\omega^{1} t}\\right)\\\\e r_{0;21} \\left(\\frac{E^{1}_{0}}{2} e^{- i \\omega^{1} t} + \\frac{\\overline{E^{1}_{0}}}{2} e^{i \\omega^{1} t}\\right) & \\hbar \\omega_{2}\\end{matrix}\\right]$$"
      ],
      "text/plain": [
       "⎡                                                    ⎛     -ⅈ⋅ω¹⋅t    ⅈ⋅ω¹⋅t _\n",
       "⎢                                                    ⎜E¹₀⋅ℯ          ℯ      ⋅E\n",
       "⎢                 h̅⋅ω₁                   e⋅r_{0;21}⋅⎜──────────── + ─────────\n",
       "⎢                                                    ⎝     2              2   \n",
       "⎢                                                                             \n",
       "⎢           ⎛     -ⅈ⋅ω¹⋅t    ⅈ⋅ω¹⋅t ___⎞                                      \n",
       "⎢           ⎜E¹₀⋅ℯ          ℯ      ⋅E¹₀⎟                                      \n",
       "⎢e⋅r_{0;21}⋅⎜──────────── + ───────────⎟                   h̅⋅ω₂              \n",
       "⎣           ⎝     2              2     ⎠                                      \n",
       "\n",
       "__⎞⎤\n",
       "¹₀⎟⎥\n",
       "──⎟⎥\n",
       "  ⎠⎥\n",
       "   ⎥\n",
       "   ⎥\n",
       "   ⎥\n",
       "   ⎥\n",
       "   ⎦"
      ]
     },
     "execution_count": 19,
     "metadata": {},
     "output_type": "execute_result"
    }
   ],
   "source": [
    "H=H0+H1\n",
    "fprint(H,print_ascii=print_ascii)"
   ]
  },
  {
   "cell_type": "markdown",
   "metadata": {
    "collapsed": true
   },
   "source": [
    "# Rotating wave approximation\n",
    "Notice that the electric field can be separated by terms with positive and negative frequency:"
   ]
  },
  {
   "cell_type": "code",
   "execution_count": 20,
   "metadata": {
    "collapsed": false
   },
   "outputs": [
    {
     "data": {
      "image/png": "[encoded data removed]",
      "text/latex": [
       "$$\\left [ \\left[\\begin{matrix}0\\\\\\frac{E^{1}_{0}}{2} e^{- i \\omega^{1} t}\\\\0\\end{matrix}\\right], \\quad \\left[\\begin{matrix}0\\\\\\frac{\\overline{E^{1}_{0}}}{2} e^{i \\omega^{1} t}\\\\0\\end{matrix}\\right]\\right ]$$"
      ],
      "text/plain": [
       "⎡⎡     0      ⎤, ⎡     0     ⎤⎤\n",
       "⎢⎢            ⎥  ⎢           ⎥⎥\n",
       "⎢⎢     -ⅈ⋅ω¹⋅t⎥  ⎢ ⅈ⋅ω¹⋅t ___⎥⎥\n",
       "⎢⎢E¹₀⋅ℯ       ⎥  ⎢ℯ      ⋅E¹₀⎥⎥\n",
       "⎢⎢────────────⎥  ⎢───────────⎥⎥\n",
       "⎢⎢     2      ⎥  ⎢     2     ⎥⎥\n",
       "⎢⎢            ⎥  ⎢           ⎥⎥\n",
       "⎣⎣     0      ⎦  ⎣     0     ⎦⎦"
      ]
     },
     "execution_count": 20,
     "metadata": {},
     "output_type": "execute_result"
    }
   ],
   "source": [
    "E_cartesian_p=E0[0]            /2*ep*exp(-I*omega_laser[0]*t)\n",
    "E_cartesian_m=E0[0].conjugate()/2*em*exp( I*omega_laser[0]*t)\n",
    "\n",
    "E_p=cartesian_to_helicity(E_cartesian_p)\n",
    "E_m=cartesian_to_helicity(E_cartesian_m)\n",
    "\n",
    "fprint([E_p,E_m],print_ascii=print_ascii)"
   ]
  },
  {
   "cell_type": "markdown",
   "metadata": {},
   "source": [
    "We check that this decomposition actually equalls the field"
   ]
  },
  {
   "cell_type": "code",
   "execution_count": 21,
   "metadata": {
    "collapsed": false
   },
   "outputs": [
    {
     "data": {
      "image/png": "[encoded data removed]",
      "text/latex": [
       "$$\\left[\\begin{matrix}0\\\\0\\\\0\\end{matrix}\\right]$$"
      ],
      "text/plain": [
       "⎡0⎤\n",
       "⎢ ⎥\n",
       "⎢0⎥\n",
       "⎢ ⎥\n",
       "⎣0⎦"
      ]
     },
     "execution_count": 21,
     "metadata": {},
     "output_type": "execute_result"
    }
   ],
   "source": [
    "fprint( simplify(E-(E_p+E_m)) ,print_ascii=print_ascii)"
   ]
  },
  {
   "cell_type": "markdown",
   "metadata": {},
   "source": [
    "The position operator can also be separated in this way. We go to the interaction picture (with $\\hat{H}_0$ as the undisturbed hamiltonian)"
   ]
  },
  {
   "cell_type": "code",
   "execution_count": 22,
   "metadata": {
    "collapsed": false
   },
   "outputs": [
    {
     "data": {
      "image/png": "[encoded data removed]",
      "text/latex": [
       "$$\\left[\\begin{matrix}0 & - r_{+1;21} e^{- i \\omega_{21} t}\\\\r_{-1;21} e^{i \\omega_{21} t} & 0\\end{matrix}\\right]$$"
      ],
      "text/plain": [
       "⎡                                -ⅈ⋅ω₂₁⋅t⎤\n",
       "⎢        0           -r_{+1;21}⋅ℯ        ⎥\n",
       "⎢                                        ⎥\n",
       "⎢           ⅈ⋅ω₂₁⋅t                      ⎥\n",
       "⎣r_{-1;21}⋅ℯ                  0          ⎦"
      ]
     },
     "execution_count": 22,
     "metadata": {},
     "output_type": "execute_result"
    }
   ],
   "source": [
    "r_I=[ Matrix([[exp(I*omega[i,j]*t)*r[p][i,j] for j in range(Ne)] for i in range(Ne)]) for p in range(3)]\n",
    "fprint(r_I[0],print_ascii=print_ascii)"
   ]
  },
  {
   "cell_type": "code",
   "execution_count": 23,
   "metadata": {
    "collapsed": false
   },
   "outputs": [
    {
     "data": {
      "image/png": "[encoded data removed]",
      "text/latex": [
       "$$\\left[\\begin{matrix}0 & r_{0;21} e^{- i \\omega_{21} t}\\\\r_{0;21} e^{i \\omega_{21} t} & 0\\end{matrix}\\right]$$"
      ],
      "text/plain": [
       "⎡                             -ⅈ⋅ω₂₁⋅t⎤\n",
       "⎢        0          r_{0;21}⋅ℯ        ⎥\n",
       "⎢                                     ⎥\n",
       "⎢          ⅈ⋅ω₂₁⋅t                    ⎥\n",
       "⎣r_{0;21}⋅ℯ                 0         ⎦"
      ]
     },
     "execution_count": 23,
     "metadata": {},
     "output_type": "execute_result"
    }
   ],
   "source": [
    "fprint(r_I[1],print_ascii=print_ascii)"
   ]
  },
  {
   "cell_type": "code",
   "execution_count": 24,
   "metadata": {
    "collapsed": false
   },
   "outputs": [
    {
     "data": {
      "image/png": "[encoded data removed]",
      "text/latex": [
       "$$\\left[\\begin{matrix}0 & - r_{-1;21} e^{- i \\omega_{21} t}\\\\r_{+1;21} e^{i \\omega_{21} t} & 0\\end{matrix}\\right]$$"
      ],
      "text/plain": [
       "⎡                                -ⅈ⋅ω₂₁⋅t⎤\n",
       "⎢        0           -r_{-1;21}⋅ℯ        ⎥\n",
       "⎢                                        ⎥\n",
       "⎢           ⅈ⋅ω₂₁⋅t                      ⎥\n",
       "⎣r_{+1;21}⋅ℯ                  0          ⎦"
      ]
     },
     "execution_count": 24,
     "metadata": {},
     "output_type": "execute_result"
    }
   ],
   "source": [
    "fprint(r_I[2],print_ascii=print_ascii)"
   ]
  },
  {
   "cell_type": "markdown",
   "metadata": {},
   "source": [
    "Which can be decomposed as"
   ]
  },
  {
   "cell_type": "code",
   "execution_count": 25,
   "metadata": {
    "collapsed": false
   },
   "outputs": [
    {
     "data": {
      "image/png": "[encoded data removed]",
      "text/latex": [
       "$$\\left[\\begin{matrix}0 & - r_{+1;21} e^{- i \\omega_{21} t}\\\\0 & 0\\end{matrix}\\right]$$"
      ],
      "text/plain": [
       "⎡               -ⅈ⋅ω₂₁⋅t⎤\n",
       "⎢0  -r_{+1;21}⋅ℯ        ⎥\n",
       "⎢                       ⎥\n",
       "⎣0           0          ⎦"
      ]
     },
     "execution_count": 25,
     "metadata": {},
     "output_type": "execute_result"
    }
   ],
   "source": [
    "r_I_p=[ Matrix([[ delta_greater(j,i)*exp(-I*omega[j,i]*t)*r[p][i,j] for j in range(Ne)]for i in range(Ne)]) for p in range(3)]\n",
    "fprint(r_I_p[0],print_ascii=print_ascii)"
   ]
  },
  {
   "cell_type": "code",
   "execution_count": 26,
   "metadata": {
    "collapsed": false
   },
   "outputs": [
    {
     "data": {
      "image/png": "[encoded data removed]",
      "text/latex": [
       "$$\\left[\\begin{matrix}0 & r_{0;21} e^{- i \\omega_{21} t}\\\\0 & 0\\end{matrix}\\right]$$"
      ],
      "text/plain": [
       "⎡             -ⅈ⋅ω₂₁⋅t⎤\n",
       "⎢0  r_{0;21}⋅ℯ        ⎥\n",
       "⎢                     ⎥\n",
       "⎣0          0         ⎦"
      ]
     },
     "execution_count": 26,
     "metadata": {},
     "output_type": "execute_result"
    }
   ],
   "source": [
    "fprint(r_I_p[1],print_ascii=print_ascii)"
   ]
  },
  {
   "cell_type": "code",
   "execution_count": 27,
   "metadata": {
    "collapsed": false
   },
   "outputs": [
    {
     "data": {
      "image/png": "[encoded data removed]",
      "text/latex": [
       "$$\\left[\\begin{matrix}0 & - r_{-1;21} e^{- i \\omega_{21} t}\\\\0 & 0\\end{matrix}\\right]$$"
      ],
      "text/plain": [
       "⎡               -ⅈ⋅ω₂₁⋅t⎤\n",
       "⎢0  -r_{-1;21}⋅ℯ        ⎥\n",
       "⎢                       ⎥\n",
       "⎣0           0          ⎦"
      ]
     },
     "execution_count": 27,
     "metadata": {},
     "output_type": "execute_result"
    }
   ],
   "source": [
    "fprint(r_I_p[2],print_ascii=print_ascii)"
   ]
  },
  {
   "cell_type": "code",
   "execution_count": 28,
   "metadata": {
    "collapsed": false
   },
   "outputs": [
    {
     "data": {
      "image/png": "[encoded data removed]",
      "text/latex": [
       "$$\\left[\\begin{matrix}0 & 0\\\\r_{-1;21} e^{i \\omega_{21} t} & 0\\end{matrix}\\right]$$"
      ],
      "text/plain": [
       "⎡        0           0⎤\n",
       "⎢                     ⎥\n",
       "⎢           ⅈ⋅ω₂₁⋅t   ⎥\n",
       "⎣r_{-1;21}⋅ℯ         0⎦"
      ]
     },
     "execution_count": 28,
     "metadata": {},
     "output_type": "execute_result"
    }
   ],
   "source": [
    "r_I_m=[ Matrix([[ delta_lesser( j,i)*exp( I*omega[i,j]*t)*r[p][i,j] for j in range(Ne)]for i in range(Ne)]) for p in range(3)]\n",
    "fprint(r_I_m[0],print_ascii=print_ascii)"
   ]
  },
  {
   "cell_type": "code",
   "execution_count": 29,
   "metadata": {
    "collapsed": false
   },
   "outputs": [
    {
     "data": {
      "image/png": "[encoded data removed]",
      "text/latex": [
       "$$\\left[\\begin{matrix}0 & 0\\\\r_{0;21} e^{i \\omega_{21} t} & 0\\end{matrix}\\right]$$"
      ],
      "text/plain": [
       "⎡        0          0⎤\n",
       "⎢                    ⎥\n",
       "⎢          ⅈ⋅ω₂₁⋅t   ⎥\n",
       "⎣r_{0;21}⋅ℯ         0⎦"
      ]
     },
     "execution_count": 29,
     "metadata": {},
     "output_type": "execute_result"
    }
   ],
   "source": [
    "fprint(r_I_m[1],print_ascii=print_ascii)"
   ]
  },
  {
   "cell_type": "code",
   "execution_count": 30,
   "metadata": {
    "collapsed": false
   },
   "outputs": [
    {
     "data": {
      "image/png": "[encoded data removed]",
      "text/latex": [
       "$$\\left[\\begin{matrix}0 & 0\\\\r_{+1;21} e^{i \\omega_{21} t} & 0\\end{matrix}\\right]$$"
      ],
      "text/plain": [
       "⎡        0           0⎤\n",
       "⎢                     ⎥\n",
       "⎢           ⅈ⋅ω₂₁⋅t   ⎥\n",
       "⎣r_{+1;21}⋅ℯ         0⎦"
      ]
     },
     "execution_count": 30,
     "metadata": {},
     "output_type": "execute_result"
    }
   ],
   "source": [
    "fprint(r_I_m[2],print_ascii=print_ascii)"
   ]
  },
  {
   "cell_type": "markdown",
   "metadata": {},
   "source": [
    "that summed equal $\\vec{\\hat{r}}_I$"
   ]
  },
  {
   "cell_type": "code",
   "execution_count": 31,
   "metadata": {
    "collapsed": false
   },
   "outputs": [
    {
     "data": {
      "image/png": "[encoded data removed]",
      "text/latex": [
       "$$\\left [ \\left[\\begin{matrix}0 & 0\\\\0 & 0\\end{matrix}\\right], \\quad \\left[\\begin{matrix}0 & 0\\\\0 & 0\\end{matrix}\\right], \\quad \\left[\\begin{matrix}0 & 0\\\\0 & 0\\end{matrix}\\right]\\right ]$$"
      ],
      "text/plain": [
       "⎡⎡0  0⎤, ⎡0  0⎤, ⎡0  0⎤⎤\n",
       "⎢⎢    ⎥  ⎢    ⎥  ⎢    ⎥⎥\n",
       "⎣⎣0  0⎦  ⎣0  0⎦  ⎣0  0⎦⎦"
      ]
     },
     "execution_count": 31,
     "metadata": {},
     "output_type": "execute_result"
    }
   ],
   "source": [
    "fprint( [r_I[p]-(r_I_p[p]+r_I_m[p]) for p in range(3)] ,print_ascii=print_ascii)"
   ]
  },
  {
   "cell_type": "markdown",
   "metadata": {},
   "source": [
    "Thus the interaction hamiltonian in the interaciton picture is\n",
    "\\begin{equation}\n",
    "    \\hat{H}_{1I}=e\\vec{E}\\cdot \\vec{\\hat{r}}_I= e(\\vec{E}^{(+)}\\cdot \\vec{\\hat{r}}^{(+)}_I + \\vec{E}^{(+)}\\cdot \\vec{\\hat{r}}^{(-)}_I + \\vec{E}^{(-)}\\cdot \\vec{\\hat{r}}^{(+)}_I + \\vec{E}^{(-)}\\cdot \\vec{\\hat{r}}^{(-)}_I)\n",
    "\\end{equation}"
   ]
  },
  {
   "cell_type": "code",
   "execution_count": 32,
   "metadata": {
    "collapsed": false
   },
   "outputs": [
    {
     "data": {
      "image/png": "[encoded data removed]",
      "text/latex": [
       "$$\\left[\\begin{matrix}0 & e r_{0;21} \\left(\\frac{E^{1}_{0}}{2} e^{- i \\omega^{1} t} + \\frac{\\overline{E^{1}_{0}}}{2} e^{i \\omega^{1} t}\\right) e^{- i \\omega_{21} t}\\\\e r_{0;21} \\left(\\frac{E^{1}_{0}}{2} e^{- i \\omega^{1} t} + \\frac{\\overline{E^{1}_{0}}}{2} e^{i \\omega^{1} t}\\right) e^{i \\omega_{21} t} & 0\\end{matrix}\\right]$$"
      ],
      "text/plain": [
       "⎡                                                             ⎛     -ⅈ⋅ω¹⋅t   \n",
       "⎢                                                             ⎜E¹₀⋅ℯ          \n",
       "⎢                       0                          e⋅r_{0;21}⋅⎜──────────── + \n",
       "⎢                                                             ⎝     2         \n",
       "⎢                                                                             \n",
       "⎢           ⎛     -ⅈ⋅ω¹⋅t    ⅈ⋅ω¹⋅t ___⎞                                      \n",
       "⎢           ⎜E¹₀⋅ℯ          ℯ      ⋅E¹₀⎟  ⅈ⋅ω₂₁⋅t                             \n",
       "⎢e⋅r_{0;21}⋅⎜──────────── + ───────────⎟⋅ℯ                                 0  \n",
       "⎣           ⎝     2              2     ⎠                                      \n",
       "\n",
       " ⅈ⋅ω¹⋅t ___⎞          ⎤\n",
       "ℯ      ⋅E¹₀⎟  -ⅈ⋅ω₂₁⋅t⎥\n",
       "───────────⎟⋅ℯ        ⎥\n",
       "     2     ⎠          ⎥\n",
       "                      ⎥\n",
       "                      ⎥\n",
       "                      ⎥\n",
       "                      ⎥\n",
       "                      ⎦"
      ]
     },
     "execution_count": 32,
     "metadata": {},
     "output_type": "execute_result"
    }
   ],
   "source": [
    "H1I=e*helicity_dot_product(E,r_I)\n",
    "fprint(H1I,print_ascii=print_ascii)"
   ]
  },
  {
   "cell_type": "markdown",
   "metadata": {},
   "source": [
    "Since both $\\omega^l$ and $\\omega_{ij}$ are in the order of THz, the terms that have frequencies with the same sign are summed, and thus also of the order of THz. The frequencies in the terms with oposite signs however, are detunings of the order of MHz. Since we are only interested in the coarse-grained evolution of the density matrix, we may omit the fast terms and approximate\n",
    "\n",
    "\\begin{equation}\n",
    "    \\hat{H}_{1I} \\simeq \\hat{H}_{1I,RWA}= e( \\vec{E}^{(+)}\\cdot \\vec{\\hat{r}}^{(-)}_I + \\vec{E}^{(-)}\\cdot \\vec{\\hat{r}}^{(+)}_I )\n",
    "\\end{equation}\n",
    "\n",
    "That is known as the rotating wave approximation (RWA)."
   ]
  },
  {
   "cell_type": "code",
   "execution_count": 33,
   "metadata": {
    "collapsed": false
   },
   "outputs": [
    {
     "data": {
      "image/png": "[encoded data removed]",
      "text/latex": [
       "$$\\left[\\begin{matrix}0 & \\frac{e r_{0;21}}{2} e^{i \\omega^{1} t} e^{- i \\omega_{21} t} \\overline{E^{1}_{0}}\\\\\\frac{e r_{0;21}}{2} E^{1}_{0} e^{- i \\omega^{1} t} e^{i \\omega_{21} t} & 0\\end{matrix}\\right]$$"
      ],
      "text/plain": [
       "⎡                                              ⅈ⋅ω¹⋅t  -ⅈ⋅ω₂₁⋅t ___⎤\n",
       "⎢                                  e⋅r_{0;21}⋅ℯ      ⋅ℯ        ⋅E¹₀⎥\n",
       "⎢               0                  ────────────────────────────────⎥\n",
       "⎢                                                 2                ⎥\n",
       "⎢                                                                  ⎥\n",
       "⎢                -ⅈ⋅ω¹⋅t  ⅈ⋅ω₂₁⋅t                                  ⎥\n",
       "⎢E¹₀⋅e⋅r_{0;21}⋅ℯ       ⋅ℯ                                         ⎥\n",
       "⎢────────────────────────────────                 0                ⎥\n",
       "⎣               2                                                  ⎦"
      ]
     },
     "execution_count": 33,
     "metadata": {},
     "output_type": "execute_result"
    }
   ],
   "source": [
    "H1IRWA=e*(helicity_dot_product(E_p,r_I_m)+helicity_dot_product(E_m,r_I_p))\n",
    "fprint(H1IRWA,print_ascii=print_ascii)"
   ]
  },
  {
   "cell_type": "markdown",
   "metadata": {},
   "source": [
    " Returning to the Schrödinger picture we have."
   ]
  },
  {
   "cell_type": "code",
   "execution_count": 34,
   "metadata": {
    "collapsed": false
   },
   "outputs": [
    {
     "data": {
      "image/png": "[encoded data removed]",
      "text/latex": [
       "$$\\left [ \\left[\\begin{matrix}0 & - r_{+1;21}\\\\0 & 0\\end{matrix}\\right], \\quad \\left[\\begin{matrix}0 & r_{0;21}\\\\0 & 0\\end{matrix}\\right], \\quad \\left[\\begin{matrix}0 & - r_{-1;21}\\\\0 & 0\\end{matrix}\\right]\\right ]$$"
      ],
      "text/plain": [
       "⎡⎡0  -r_{+1;21}⎤, ⎡0  r_{0;21}⎤, ⎡0  -r_{-1;21}⎤⎤\n",
       "⎢⎢             ⎥  ⎢           ⎥  ⎢             ⎥⎥\n",
       "⎣⎣0      0     ⎦  ⎣0     0    ⎦  ⎣0      0     ⎦⎦"
      ]
     },
     "execution_count": 34,
     "metadata": {},
     "output_type": "execute_result"
    }
   ],
   "source": [
    "r_p=[ Matrix([[ delta_greater(j,i)*r[p][i,j] for j in range(Ne)]for i in range(Ne)]) for p in range(3)]\n",
    "fprint(r_p,print_ascii=print_ascii)"
   ]
  },
  {
   "cell_type": "code",
   "execution_count": 35,
   "metadata": {
    "collapsed": false
   },
   "outputs": [
    {
     "data": {
      "image/png": "[encoded data removed]",
      "text/latex": [
       "$$\\left [ \\left[\\begin{matrix}0 & 0\\\\r_{-1;21} & 0\\end{matrix}\\right], \\quad \\left[\\begin{matrix}0 & 0\\\\r_{0;21} & 0\\end{matrix}\\right], \\quad \\left[\\begin{matrix}0 & 0\\\\r_{+1;21} & 0\\end{matrix}\\right]\\right ]$$"
      ],
      "text/plain": [
       "⎡⎡    0      0⎤, ⎡   0      0⎤, ⎡    0      0⎤⎤\n",
       "⎢⎢            ⎥  ⎢           ⎥  ⎢            ⎥⎥\n",
       "⎣⎣r_{-1;21}  0⎦  ⎣r_{0;21}  0⎦  ⎣r_{+1;21}  0⎦⎦"
      ]
     },
     "execution_count": 35,
     "metadata": {},
     "output_type": "execute_result"
    }
   ],
   "source": [
    "r_m=[ Matrix([[ delta_lesser( j,i)*r[p][i,j] for j in range(Ne)]for i in range(Ne)]) for p in range(3)]\n",
    "fprint(r_m,print_ascii=print_ascii)"
   ]
  },
  {
   "cell_type": "code",
   "execution_count": 36,
   "metadata": {
    "collapsed": false
   },
   "outputs": [
    {
     "data": {
      "image/png": "[encoded data removed]",
      "text/latex": [
       "$$\\left [ \\left[\\begin{matrix}0 & 0\\\\0 & 0\\end{matrix}\\right], \\quad \\left[\\begin{matrix}0 & 0\\\\0 & 0\\end{matrix}\\right], \\quad \\left[\\begin{matrix}0 & 0\\\\0 & 0\\end{matrix}\\right]\\right ]$$"
      ],
      "text/plain": [
       "⎡⎡0  0⎤, ⎡0  0⎤, ⎡0  0⎤⎤\n",
       "⎢⎢    ⎥  ⎢    ⎥  ⎢    ⎥⎥\n",
       "⎣⎣0  0⎦  ⎣0  0⎦  ⎣0  0⎦⎦"
      ]
     },
     "execution_count": 36,
     "metadata": {},
     "output_type": "execute_result"
    }
   ],
   "source": [
    "fprint( [r[p]-(r_p[p]+r_m[p]) for p in range(3)] ,print_ascii=print_ascii)"
   ]
  },
  {
   "cell_type": "markdown",
   "metadata": {},
   "source": [
    "Thus the interaction hamiltonian in the Schrödinger picture in the rotating wave approximation is"
   ]
  },
  {
   "cell_type": "code",
   "execution_count": 37,
   "metadata": {
    "collapsed": false
   },
   "outputs": [
    {
     "data": {
      "image/png": "[encoded data removed]",
      "text/latex": [
       "$$\\left[\\begin{matrix}0 & \\frac{e r_{0;21}}{2} e^{i \\omega^{1} t} \\overline{E^{1}_{0}}\\\\\\frac{e r_{0;21}}{2} E^{1}_{0} e^{- i \\omega^{1} t} & 0\\end{matrix}\\right]$$"
      ],
      "text/plain": [
       "⎡                                     ⅈ⋅ω¹⋅t ___⎤\n",
       "⎢                         e⋅r_{0;21}⋅ℯ      ⋅E¹₀⎥\n",
       "⎢           0             ──────────────────────⎥\n",
       "⎢                                   2           ⎥\n",
       "⎢                                               ⎥\n",
       "⎢                -ⅈ⋅ω¹⋅t                        ⎥\n",
       "⎢E¹₀⋅e⋅r_{0;21}⋅ℯ                               ⎥\n",
       "⎢───────────────────────            0           ⎥\n",
       "⎣           2                                   ⎦"
      ]
     },
     "execution_count": 37,
     "metadata": {},
     "output_type": "execute_result"
    }
   ],
   "source": [
    "H1RWA=e*(helicity_dot_product(E_p,r_m)+helicity_dot_product(E_m,r_p))\n",
    "fprint(H1RWA,print_ascii=print_ascii)"
   ]
  },
  {
   "cell_type": "markdown",
   "metadata": {},
   "source": [
    "And the complete hamiltonian in the Schrödinger picture in the rotating wave approximation is"
   ]
  },
  {
   "cell_type": "code",
   "execution_count": 38,
   "metadata": {
    "collapsed": false
   },
   "outputs": [
    {
     "data": {
      "image/png": "[encoded data removed]",
      "text/latex": [
       "$$\\left[\\begin{matrix}\\hbar \\omega_{1} & \\frac{e r_{0;21}}{2} e^{i \\omega^{1} t} \\overline{E^{1}_{0}}\\\\\\frac{e r_{0;21}}{2} E^{1}_{0} e^{- i \\omega^{1} t} & \\hbar \\omega_{2}\\end{matrix}\\right]$$"
      ],
      "text/plain": [
       "⎡                                     ⅈ⋅ω¹⋅t ___⎤\n",
       "⎢                         e⋅r_{0;21}⋅ℯ      ⋅E¹₀⎥\n",
       "⎢         h̅⋅ω₁           ──────────────────────⎥\n",
       "⎢                                   2           ⎥\n",
       "⎢                                               ⎥\n",
       "⎢                -ⅈ⋅ω¹⋅t                        ⎥\n",
       "⎢E¹₀⋅e⋅r_{0;21}⋅ℯ                               ⎥\n",
       "⎢───────────────────────          h̅⋅ω₂         ⎥\n",
       "⎣           2                                   ⎦"
      ]
     },
     "execution_count": 38,
     "metadata": {},
     "output_type": "execute_result"
    }
   ],
   "source": [
    "HRWA=H0+H1RWA\n",
    "fprint(HRWA,print_ascii=print_ascii)"
   ]
  },
  {
   "cell_type": "markdown",
   "metadata": {
    "collapsed": true
   },
   "source": [
    "# Rotating Frame\n",
    "Next we will make a phase transformation in order to eliminate the explicit time dependance of the equations."
   ]
  },
  {
   "cell_type": "code",
   "execution_count": 39,
   "metadata": {
    "collapsed": false
   },
   "outputs": [
    {
     "data": {
      "image/png": "[encoded data removed]",
      "text/latex": [
       "$$\\left [ \\left[\\begin{matrix}\\operatorname{c_{1}}{\\left (t \\right )}\\\\\\operatorname{c_{2}}{\\left (t \\right )}\\end{matrix}\\right], \\quad \\left[\\begin{matrix}\\tilde{c}_{1}{\\left (t \\right )}\\\\\\tilde{c}_{2}{\\left (t \\right )}\\end{matrix}\\right], \\quad \\left[\\begin{matrix}\\theta_{1}\\\\\\theta_{2}\\end{matrix}\\right]\\right ]$$"
      ],
      "text/plain": [
       "⎡⎡c₁(t)⎤, ⎡\\tilde{c}_{1}(t)⎤, ⎡θ₁⎤⎤\n",
       "⎢⎢     ⎥  ⎢                ⎥  ⎢  ⎥⎥\n",
       "⎣⎣c₂(t)⎦  ⎣\\tilde{c}_{2}(t)⎦  ⎣θ₂⎦⎦"
      ]
     },
     "execution_count": 39,
     "metadata": {},
     "output_type": "execute_result"
    }
   ],
   "source": [
    "c,ctilde,phase=define_psi_coefficients(Ne)\n",
    "fprint([c,ctilde,phase], print_ascii=print_ascii)"
   ]
  },
  {
   "cell_type": "code",
   "execution_count": 40,
   "metadata": {
    "collapsed": false
   },
   "outputs": [
    {
     "data": {
      "image/png": "[encoded data removed]",
      "text/latex": [
       "$$\\left[\\begin{matrix}\\tilde{c}_{1}{\\left (t \\right )} e^{i t \\theta_{1}}\\\\\\tilde{c}_{2}{\\left (t \\right )} e^{i t \\theta_{2}}\\end{matrix}\\right]$$"
      ],
      "text/plain": [
       "⎡                  ⅈ⋅t⋅θ₁⎤\n",
       "⎢\\tilde{c}_{1}(t)⋅ℯ      ⎥\n",
       "⎢                        ⎥\n",
       "⎢                  ⅈ⋅t⋅θ₂⎥\n",
       "⎣\\tilde{c}_{2}(t)⋅ℯ      ⎦"
      ]
     },
     "execution_count": 40,
     "metadata": {},
     "output_type": "execute_result"
    }
   ],
   "source": [
    "psi=Matrix([ exp(I*phase[i]*t)*ctilde[i] for i in range(Ne)])\n",
    "fprint(psi, print_ascii=print_ascii)"
   ]
  },
  {
   "cell_type": "markdown",
   "metadata": {},
   "source": [
    "The Schrödinger equation $i\\hbar \\partial_t |\\psi\\rangle=\\hat{H}_{RWA}$ is"
   ]
  },
  {
   "cell_type": "code",
   "execution_count": 41,
   "metadata": {
    "collapsed": false
   },
   "outputs": [
    {
     "data": {
      "image/png": "[encoded data removed]",
      "text/latex": [
       "$$\\left[\\begin{matrix}- \\hbar \\theta_{1} \\tilde{c}_{1}{\\left (t \\right )} e^{i t \\theta_{1}}\\\\- \\hbar \\theta_{2} \\tilde{c}_{2}{\\left (t \\right )} e^{i t \\theta_{2}}\\end{matrix}\\right]$$"
      ],
      "text/plain": [
       "⎡                         ⅈ⋅t⋅θ₁⎤\n",
       "⎢-h̅⋅θ₁⋅\\tilde{c}_{1}(t)⋅ℯ      ⎥\n",
       "⎢                               ⎥\n",
       "⎢                         ⅈ⋅t⋅θ₂⎥\n",
       "⎣-h̅⋅θ₂⋅\\tilde{c}_{2}(t)⋅ℯ      ⎦"
      ]
     },
     "execution_count": 41,
     "metadata": {},
     "output_type": "execute_result"
    }
   ],
   "source": [
    "lhs=Matrix([(I*hbar*Derivative(psi[i],t).doit()).expand() for i in range(Ne)])\n",
    "fprint(lhs, print_ascii=print_ascii)"
   ]
  },
  {
   "cell_type": "code",
   "execution_count": 42,
   "metadata": {
    "collapsed": false
   },
   "outputs": [
    {
     "data": {
      "image/png": "[encoded data removed]",
      "text/latex": [
       "$$\\left[\\begin{matrix}\\frac{e r_{0;21}}{2} \\tilde{c}_{2}{\\left (t \\right )} e^{i \\omega^{1} t} e^{i t \\theta_{2}} \\overline{E^{1}_{0}} + \\hbar \\omega_{1} \\tilde{c}_{1}{\\left (t \\right )} e^{i t \\theta_{1}}\\\\\\frac{e r_{0;21}}{2} E^{1}_{0} \\tilde{c}_{1}{\\left (t \\right )} e^{- i \\omega^{1} t} e^{i t \\theta_{1}} + \\hbar \\omega_{2} \\tilde{c}_{2}{\\left (t \\right )} e^{i t \\theta_{2}}\\end{matrix}\\right]$$"
      ],
      "text/plain": [
       "⎡                             ⅈ⋅ω¹⋅t  ⅈ⋅t⋅θ₂ ___                              \n",
       "⎢e⋅r_{0;21}⋅\\tilde{c}_{2}(t)⋅ℯ      ⋅ℯ      ⋅E¹₀                           ⅈ⋅t\n",
       "⎢─────────────────────────────────────────────── + h̅⋅ω₁⋅\\tilde{c}_{1}(t)⋅ℯ   \n",
       "⎢                       2                                                     \n",
       "⎢                                                                             \n",
       "⎢                                 -ⅈ⋅ω¹⋅t  ⅈ⋅t⋅θ₁                             \n",
       "⎢E¹₀⋅e⋅r_{0;21}⋅\\tilde{c}_{1}(t)⋅ℯ       ⋅ℯ                                 ⅈ⋅\n",
       "⎢──────────────────────────────────────────────── + h̅⋅ω₂⋅\\tilde{c}_{2}(t)⋅ℯ  \n",
       "⎣                       2                                                     \n",
       "\n",
       "    ⎤\n",
       "⋅θ₁ ⎥\n",
       "    ⎥\n",
       "    ⎥\n",
       "    ⎥\n",
       "    ⎥\n",
       "t⋅θ₂⎥\n",
       "    ⎥\n",
       "    ⎦"
      ]
     },
     "execution_count": 42,
     "metadata": {},
     "output_type": "execute_result"
    }
   ],
   "source": [
    "rhs=HRWA*psi\n",
    "fprint(rhs, print_ascii=print_ascii)"
   ]
  },
  {
   "cell_type": "markdown",
   "metadata": {},
   "source": [
    "We multiply each of these equations by $e^{-i \\theta_i t}$ and substracting $i \\theta_i \\tilde{c}_i$"
   ]
  },
  {
   "cell_type": "code",
   "execution_count": 43,
   "metadata": {
    "collapsed": false
   },
   "outputs": [
    {
     "data": {
      "image/png": "[encoded data removed]",
      "text/latex": [
       "$$\\left[\\begin{matrix}0\\\\0\\end{matrix}\\right]$$"
      ],
      "text/plain": [
       "⎡0⎤\n",
       "⎢ ⎥\n",
       "⎣0⎦"
      ]
     },
     "execution_count": 43,
     "metadata": {},
     "output_type": "execute_result"
    }
   ],
   "source": [
    "lhs_new=Matrix([simplify(  lhs[i]*exp(-I*phase[i]*t) +hbar*phase[i]*ctilde[i] ) for i in range(Ne)])\n",
    "fprint(lhs_new, print_ascii=print_ascii)"
   ]
  },
  {
   "cell_type": "code",
   "execution_count": 44,
   "metadata": {
    "collapsed": false
   },
   "outputs": [
    {
     "data": {
      "image/png": "[encoded data removed]",
      "text/latex": [
       "$$\\left[\\begin{matrix}\\frac{e r_{0;21}}{2} \\tilde{c}_{2}{\\left (t \\right )} e^{i \\omega^{1} t} e^{- i t \\theta_{1}} e^{i t \\theta_{2}} \\overline{E^{1}_{0}} + \\hbar \\omega_{1} \\tilde{c}_{1}{\\left (t \\right )} + \\hbar \\theta_{1} \\tilde{c}_{1}{\\left (t \\right )}\\\\\\frac{e r_{0;21}}{2} E^{1}_{0} \\tilde{c}_{1}{\\left (t \\right )} e^{- i \\omega^{1} t} e^{i t \\theta_{1}} e^{- i t \\theta_{2}} + \\hbar \\omega_{2} \\tilde{c}_{2}{\\left (t \\right )} + \\hbar \\theta_{2} \\tilde{c}_{2}{\\left (t \\right )}\\end{matrix}\\right]$$"
      ],
      "text/plain": [
       "⎡                             ⅈ⋅ω¹⋅t  -ⅈ⋅t⋅θ₁  ⅈ⋅t⋅θ₂ ___                     \n",
       "⎢e⋅r_{0;21}⋅\\tilde{c}_{2}(t)⋅ℯ      ⋅ℯ       ⋅ℯ      ⋅E¹₀                     \n",
       "⎢──────────────────────────────────────────────────────── + h̅⋅ω₁⋅\\tilde{c}_{1\n",
       "⎢                           2                                                 \n",
       "⎢                                                                             \n",
       "⎢                                 -ⅈ⋅ω¹⋅t  ⅈ⋅t⋅θ₁  -ⅈ⋅t⋅θ₂                    \n",
       "⎢E¹₀⋅e⋅r_{0;21}⋅\\tilde{c}_{1}(t)⋅ℯ       ⋅ℯ      ⋅ℯ                           \n",
       "⎢───────────────────────────────────────────────────────── + h̅⋅ω₂⋅\\tilde{c}_{\n",
       "⎣                            2                                                \n",
       "\n",
       "                              ⎤\n",
       "                              ⎥\n",
       "}(t) + h̅⋅θ₁⋅\\tilde{c}_{1}(t) ⎥\n",
       "                              ⎥\n",
       "                              ⎥\n",
       "                              ⎥\n",
       "                              ⎥\n",
       "2}(t) + h̅⋅θ₂⋅\\tilde{c}_{2}(t)⎥\n",
       "                              ⎦"
      ]
     },
     "execution_count": 44,
     "metadata": {},
     "output_type": "execute_result"
    }
   ],
   "source": [
    "rhs_new=Matrix([simplify(  rhs[i]*exp(-I*phase[i]*t) +hbar*phase[i]*ctilde[i] ) for i in range(Ne)])\n",
    "fprint(rhs_new, print_ascii=print_ascii)"
   ]
  },
  {
   "cell_type": "markdown",
   "metadata": {},
   "source": [
    "It can be seen that the equations loose their explicit time dependance only if $\\omega^{1} - \\theta_{1} + \\theta_{2}=0$. Which is satisfied if"
   ]
  },
  {
   "cell_type": "code",
   "execution_count": 45,
   "metadata": {
    "collapsed": false
   },
   "outputs": [
    {
     "data": {
      "image/png": "[encoded data removed]",
      "text/latex": [
       "$$\\left \\{ \\theta_{2} : - \\omega^{1} + \\theta_{1}\\right \\}$$"
      ],
      "text/plain": [
       "{θ₂: -ω¹ + θ₁}"
      ]
     },
     "execution_count": 45,
     "metadata": {},
     "output_type": "execute_result"
    }
   ],
   "source": [
    "phase_transformation=solve(omega_laser[0]+phase[1]-phase[0],phase[1],dict=True)[0]\n",
    "fprint(phase_transformation,print_ascii=print_ascii)"
   ]
  },
  {
   "cell_type": "markdown",
   "metadata": {},
   "source": [
    "There is a free parameter $\\theta_1$, which is to be expected, since state vetors $|\\psi\\rangle$ always have a global phase invariance"
   ]
  },
  {
   "cell_type": "code",
   "execution_count": 46,
   "metadata": {
    "collapsed": false
   },
   "outputs": [
    {
     "data": {
      "image/png": "[encoded data removed]",
      "text/latex": [
       "$$\\left[\\begin{matrix}\\tilde{c}_{1}{\\left (t \\right )} e^{i t \\theta_{1}}\\\\\\tilde{c}_{2}{\\left (t \\right )} e^{i t \\left(- \\omega^{1} + \\theta_{1}\\right)}\\end{matrix}\\right]$$"
      ],
      "text/plain": [
       "⎡                      ⅈ⋅t⋅θ₁    ⎤\n",
       "⎢    \\tilde{c}_{1}(t)⋅ℯ          ⎥\n",
       "⎢                                ⎥\n",
       "⎢                  ⅈ⋅t⋅(-ω¹ + θ₁)⎥\n",
       "⎣\\tilde{c}_{2}(t)⋅ℯ              ⎦"
      ]
     },
     "execution_count": 46,
     "metadata": {},
     "output_type": "execute_result"
    }
   ],
   "source": [
    "fprint(psi.subs(phase_transformation),print_ascii=print_ascii)"
   ]
  },
  {
   "cell_type": "markdown",
   "metadata": {},
   "source": [
    "Thus the equations become"
   ]
  },
  {
   "cell_type": "code",
   "execution_count": 47,
   "metadata": {
    "collapsed": false
   },
   "outputs": [
    {
     "data": {
      "image/png": "[encoded data removed]",
      "text/latex": [
       "$$\\left[\\begin{matrix}0\\\\0\\end{matrix}\\right]$$"
      ],
      "text/plain": [
       "⎡0⎤\n",
       "⎢ ⎥\n",
       "⎣0⎦"
      ]
     },
     "execution_count": 47,
     "metadata": {},
     "output_type": "execute_result"
    }
   ],
   "source": [
    "fprint(lhs_new, print_ascii=print_ascii)"
   ]
  },
  {
   "cell_type": "code",
   "execution_count": 48,
   "metadata": {
    "collapsed": false
   },
   "outputs": [
    {
     "data": {
      "image/png": "[encoded data removed]",
      "text/latex": [
       "$$\\left[\\begin{matrix}\\frac{e r_{0;21}}{2} \\tilde{c}_{2}{\\left (t \\right )} \\overline{E^{1}_{0}} + \\hbar \\left(\\omega_{1} + \\theta_{1}\\right) \\tilde{c}_{1}{\\left (t \\right )}\\\\\\frac{e r_{0;21}}{2} E^{1}_{0} \\tilde{c}_{1}{\\left (t \\right )} + \\hbar \\left(- \\omega^{1} + \\omega_{2} + \\theta_{1}\\right) \\tilde{c}_{2}{\\left (t \\right )}\\end{matrix}\\right]$$"
      ],
      "text/plain": [
       "⎡                               ___                                   ⎤\n",
       "⎢   e⋅r_{0;21}⋅\\tilde{c}_{2}(t)⋅E¹₀                                   ⎥\n",
       "⎢   ─────────────────────────────── + h̅⋅(ω₁ + θ₁)⋅\\tilde{c}_{1}(t)   ⎥\n",
       "⎢                  2                                                  ⎥\n",
       "⎢                                                                     ⎥\n",
       "⎢E¹₀⋅e⋅r_{0;21}⋅\\tilde{c}_{1}(t)                                      ⎥\n",
       "⎢─────────────────────────────── + h̅⋅(-ω¹ + ω₂ + θ₁)⋅\\tilde{c}_{2}(t)⎥\n",
       "⎣               2                                                     ⎦"
      ]
     },
     "execution_count": 48,
     "metadata": {},
     "output_type": "execute_result"
    }
   ],
   "source": [
    "rhs_new=simplify(rhs_new.subs(phase_transformation))\n",
    "fprint(rhs_new, print_ascii=print_ascii)"
   ]
  },
  {
   "cell_type": "markdown",
   "metadata": {},
   "source": [
    "It can be seen that this is the Schrödinger equation derived from an effective hamiltonian $\\tilde{H}$"
   ]
  },
  {
   "cell_type": "code",
   "execution_count": 49,
   "metadata": {
    "collapsed": false
   },
   "outputs": [
    {
     "data": {
      "image/png": "[encoded data removed]",
      "text/latex": [
       "$$\\left[\\begin{matrix}\\hbar \\left(\\omega_{1} + \\theta_{1}\\right) & \\frac{e r_{0;21}}{2} \\overline{E^{1}_{0}}\\\\\\frac{e r_{0;21}}{2} E^{1}_{0} & \\hbar \\left(- \\omega^{1} + \\omega_{2} + \\theta_{1}\\right)\\end{matrix}\\right]$$"
      ],
      "text/plain": [
       "⎡                             ___  ⎤\n",
       "⎢                  e⋅r_{0;21}⋅E¹₀  ⎥\n",
       "⎢ h̅⋅(ω₁ + θ₁)     ──────────────  ⎥\n",
       "⎢                        2         ⎥\n",
       "⎢                                  ⎥\n",
       "⎢E¹₀⋅e⋅r_{0;21}                    ⎥\n",
       "⎢──────────────  h̅⋅(-ω¹ + ω₂ + θ₁)⎥\n",
       "⎣      2                           ⎦"
      ]
     },
     "execution_count": 49,
     "metadata": {},
     "output_type": "execute_result"
    }
   ],
   "source": [
    "Htilde=Matrix([ [Derivative(rhs_new[i],ctilde[j]).doit() for j in range(Ne)] for i in range(Ne)])\n",
    "fprint(Htilde, print_ascii=print_ascii)"
   ]
  },
  {
   "cell_type": "markdown",
   "metadata": {},
   "source": [
    "We can see that it is convenient to choose $\\theta_1=-\\omega_1$ to simplify the hamiltonian. Also, we can recognize $\\omega^1-\\omega_2+\\omega_1=\\delta$ as the detuning of the laser field relative to the atomic transition $\\omega_{21}=\\omega_2-\\omega_1$."
   ]
  },
  {
   "cell_type": "code",
   "execution_count": 50,
   "metadata": {
    "collapsed": false
   },
   "outputs": [
    {
     "data": {
      "image/png": "[encoded data removed]",
      "text/latex": [
       "$$\\left[\\begin{matrix}0 & \\frac{e r_{0;21}}{2} \\overline{E^{1}_{0}}\\\\\\frac{e r_{0;21}}{2} E^{1}_{0} & - \\delta \\hbar\\end{matrix}\\right]$$"
      ],
      "text/plain": [
       "⎡                           ___⎤\n",
       "⎢                e⋅r_{0;21}⋅E¹₀⎥\n",
       "⎢      0         ──────────────⎥\n",
       "⎢                      2       ⎥\n",
       "⎢                              ⎥\n",
       "⎢E¹₀⋅e⋅r_{0;21}                ⎥\n",
       "⎢──────────────      -δ⋅h̅     ⎥\n",
       "⎣      2                       ⎦"
      ]
     },
     "execution_count": 50,
     "metadata": {},
     "output_type": "execute_result"
    }
   ],
   "source": [
    "delta=Symbol(\"delta\",real=True)\n",
    "Htilde=Htilde.subs({phase[0]:-omega_level[0]}).subs({omega_laser[0]:delta+omega_level[1]-omega_level[0]})\n",
    "fprint(Htilde, print_ascii=print_ascii)"
   ]
  },
  {
   "cell_type": "markdown",
   "metadata": {},
   "source": [
    "If we define the Rabi frequency $\\Omega =e E_0^1 r_{0;21}/\\hbar$"
   ]
  },
  {
   "cell_type": "code",
   "execution_count": 51,
   "metadata": {
    "collapsed": false
   },
   "outputs": [
    {
     "data": {
      "image/png": "[encoded data removed]",
      "text/latex": [
       "$$\\left[\\begin{matrix}0 & \\frac{\\hbar \\overline{\\Omega}}{2}\\\\\\frac{\\Omega \\hbar}{2} & - \\delta \\hbar\\end{matrix}\\right]$$"
      ],
      "text/plain": [
       "⎡         _ ⎤\n",
       "⎢      h̅⋅Ω ⎥\n",
       "⎢ 0    ──── ⎥\n",
       "⎢       2   ⎥\n",
       "⎢           ⎥\n",
       "⎢Ω⋅h̅       ⎥\n",
       "⎢────  -δ⋅h̅⎥\n",
       "⎣ 2         ⎦"
      ]
     },
     "execution_count": 51,
     "metadata": {},
     "output_type": "execute_result"
    }
   ],
   "source": [
    "Omega=Symbol(\"Omega\",real=False)\n",
    "Htilde=Htilde.subs({E0[0]:Omega*hbar/r[1][1,0]/e})\n",
    "fprint(Htilde,print_ascii=print_ascii)"
   ]
  },
  {
   "cell_type": "markdown",
   "metadata": {},
   "source": [
    "We define the density matrix."
   ]
  },
  {
   "cell_type": "code",
   "execution_count": 52,
   "metadata": {
    "collapsed": false
   },
   "outputs": [
    {
     "data": {
      "image/png": "[encoded data removed]",
      "text/latex": [
       "$$\\left[\\begin{matrix}\\rho_{11} & \\rho_{12}\\\\\\rho_{21} & \\rho_{22}\\end{matrix}\\right]$$"
      ],
      "text/plain": [
       "⎡ρ₁₁  ρ₁₂⎤\n",
       "⎢        ⎥\n",
       "⎣ρ₂₁  ρ₂₂⎦"
      ]
     },
     "execution_count": 52,
     "metadata": {},
     "output_type": "execute_result"
    }
   ],
   "source": [
    "rho=define_density_matrix(Ne)\n",
    "fprint( rho , print_ascii=print_ascii)"
   ]
  },
  {
   "cell_type": "markdown",
   "metadata": {},
   "source": [
    "The hamiltonian part of the equations is\n",
    "\\begin{equation}\n",
    "    \\dot{\\hat{\\rho}}=\\frac{i}{\\hbar}[\\hat{\\rho}, \\hat{\\tilde{H}}]\n",
    "\\end{equation}"
   ]
  },
  {
   "cell_type": "code",
   "execution_count": 53,
   "metadata": {
    "collapsed": false
   },
   "outputs": [
    {
     "data": {
      "image/png": "[encoded data removed]",
      "text/latex": [
       "$$\\left[\\begin{matrix}\\frac{i \\rho_{12}}{2} \\Omega - \\frac{i \\rho_{21}}{2} \\overline{\\Omega} & - i \\delta \\rho_{12} + \\frac{i \\rho_{11}}{2} \\overline{\\Omega} - \\frac{i \\rho_{22}}{2} \\overline{\\Omega}\\\\- \\frac{i \\rho_{11}}{2} \\Omega + \\frac{i \\rho_{22}}{2} \\Omega + i \\delta \\rho_{21} & - \\frac{i \\rho_{12}}{2} \\Omega + \\frac{i \\rho_{21}}{2} \\overline{\\Omega}\\end{matrix}\\right]$$"
      ],
      "text/plain": [
       "⎡                      _                         _         _⎤\n",
       "⎢      ⅈ⋅Ω⋅ρ₁₂   ⅈ⋅ρ₂₁⋅Ω                   ⅈ⋅ρ₁₁⋅Ω   ⅈ⋅ρ₂₂⋅Ω⎥\n",
       "⎢      ─────── - ───────        -ⅈ⋅δ⋅ρ₁₂ + ─────── - ───────⎥\n",
       "⎢         2         2                         2         2   ⎥\n",
       "⎢                                                           ⎥\n",
       "⎢                                                     _     ⎥\n",
       "⎢  ⅈ⋅Ω⋅ρ₁₁   ⅈ⋅Ω⋅ρ₂₂                  ⅈ⋅Ω⋅ρ₁₂   ⅈ⋅ρ₂₁⋅Ω     ⎥\n",
       "⎢- ─────── + ─────── + ⅈ⋅δ⋅ρ₂₁      - ─────── + ───────     ⎥\n",
       "⎣     2         2                        2         2        ⎦"
      ]
     },
     "execution_count": 53,
     "metadata": {},
     "output_type": "execute_result"
    }
   ],
   "source": [
    "hamiltonian_terms=(I/hbar*(rho*Htilde-Htilde*rho)).expand()\n",
    "fprint(hamiltonian_terms,print_ascii=print_ascii)"
   ]
  },
  {
   "cell_type": "markdown",
   "metadata": {},
   "source": [
    "There is only one Lindblad operator, since there is only one spontaneous decay channel."
   ]
  },
  {
   "cell_type": "code",
   "execution_count": 54,
   "metadata": {
    "collapsed": false
   },
   "outputs": [
    {
     "data": {
      "image/png": "[encoded data removed]",
      "text/latex": [
       "$$\\left[\\begin{matrix}\\gamma_{21} \\rho_{22} & - \\frac{\\gamma_{21} \\rho_{12}}{2}\\\\- \\frac{\\gamma_{21} \\rho_{21}}{2} & - \\gamma_{21} \\rho_{22}\\end{matrix}\\right]$$"
      ],
      "text/plain": [
       "⎡           -γ₂₁⋅ρ₁₂ ⎤\n",
       "⎢ γ₂₁⋅ρ₂₂   ─────────⎥\n",
       "⎢               2    ⎥\n",
       "⎢                    ⎥\n",
       "⎢-γ₂₁⋅ρ₂₁            ⎥\n",
       "⎢─────────  -γ₂₁⋅ρ₂₂ ⎥\n",
       "⎣    2               ⎦"
      ]
     },
     "execution_count": 54,
     "metadata": {},
     "output_type": "execute_result"
    }
   ],
   "source": [
    "lindblad_terms=gamma[1,0]*lindblad_operator(ket(1,Ne)*bra(2,Ne),rho)\n",
    "fprint(lindblad_terms, print_ascii=print_ascii)"
   ]
  },
  {
   "cell_type": "markdown",
   "metadata": {},
   "source": [
    "# Optical Bloch Equations\n",
    "$\\textit{The}$ Optical Bloch equations are thus."
   ]
  },
  {
   "cell_type": "code",
   "execution_count": 55,
   "metadata": {
    "collapsed": false
   },
   "outputs": [
    {
     "data": {
      "image/png": "[encoded data removed]",
      "text/latex": [
       "$$\\left[\\begin{matrix}\\frac{i \\rho_{12}}{2} \\Omega + \\gamma_{21} \\rho_{22} - \\frac{i \\rho_{21}}{2} \\overline{\\Omega} & - i \\delta \\rho_{12} - \\frac{\\gamma_{21} \\rho_{12}}{2} + \\frac{i \\rho_{11}}{2} \\overline{\\Omega} - \\frac{i \\rho_{22}}{2} \\overline{\\Omega}\\\\- \\frac{i \\rho_{11}}{2} \\Omega + \\frac{i \\rho_{22}}{2} \\Omega + i \\delta \\rho_{21} - \\frac{\\gamma_{21} \\rho_{21}}{2} & - \\frac{i \\rho_{12}}{2} \\Omega - \\gamma_{21} \\rho_{22} + \\frac{i \\rho_{21}}{2} \\overline{\\Omega}\\end{matrix}\\right]$$"
      ],
      "text/plain": [
       "⎡                                _                                   _        \n",
       "⎢      ⅈ⋅Ω⋅ρ₁₂             ⅈ⋅ρ₂₁⋅Ω                   γ₂₁⋅ρ₁₂   ⅈ⋅ρ₁₁⋅Ω   ⅈ⋅ρ₂₂\n",
       "⎢      ─────── + γ₂₁⋅ρ₂₂ - ───────        -ⅈ⋅δ⋅ρ₁₂ - ─────── + ─────── - ─────\n",
       "⎢         2                   2                         2         2         2 \n",
       "⎢                                                                             \n",
       "⎢                                                                         _   \n",
       "⎢  ⅈ⋅Ω⋅ρ₁₁   ⅈ⋅Ω⋅ρ₂₂             γ₂₁⋅ρ₂₁        ⅈ⋅Ω⋅ρ₁₂             ⅈ⋅ρ₂₁⋅Ω   \n",
       "⎢- ─────── + ─────── + ⅈ⋅δ⋅ρ₂₁ - ───────      - ─────── - γ₂₁⋅ρ₂₂ + ───────   \n",
       "⎣     2         2                   2              2                   2      \n",
       "\n",
       " _⎤\n",
       "⋅Ω⎥\n",
       "──⎥\n",
       "  ⎥\n",
       "  ⎥\n",
       "  ⎥\n",
       "  ⎥\n",
       "  ⎥\n",
       "  ⎦"
      ]
     },
     "execution_count": 55,
     "metadata": {},
     "output_type": "execute_result"
    }
   ],
   "source": [
    "eqs=hamiltonian_terms + lindblad_terms\n",
    "fprint(eqs,print_ascii=print_ascii)"
   ]
  },
  {
   "cell_type": "markdown",
   "metadata": {},
   "source": [
    "which is how most literature will show the equations. However, a more convenient way to express this equations is to explicitly asume a normalized and hermitian density matrix"
   ]
  },
  {
   "cell_type": "code",
   "execution_count": 56,
   "metadata": {
    "collapsed": false
   },
   "outputs": [
    {
     "data": {
      "image/png": "[encoded data removed]",
      "text/latex": [
       "$$\\left[\\begin{matrix}- \\rho_{22} + 1 & \\overline{\\rho_{21}}\\\\\\rho_{21} & \\rho_{22}\\end{matrix}\\right]$$"
      ],
      "text/plain": [
       "⎡          ___⎤\n",
       "⎢-ρ₂₂ + 1  ρ₂₁⎥\n",
       "⎢             ⎥\n",
       "⎣  ρ₂₁     ρ₂₂⎦"
      ]
     },
     "execution_count": 56,
     "metadata": {},
     "output_type": "execute_result"
    }
   ],
   "source": [
    "rho=define_density_matrix(Ne,explicitly_hermitian=True,normalized=True)\n",
    "fprint( rho ,print_ascii=print_ascii)"
   ]
  },
  {
   "cell_type": "code",
   "execution_count": 57,
   "metadata": {
    "collapsed": false
   },
   "outputs": [
    {
     "data": {
      "image/png": "[encoded data removed]",
      "text/latex": [
       "$$\\left[\\begin{matrix}\\frac{i \\Omega}{2} \\overline{\\rho_{21}} + \\gamma_{21} \\rho_{22} - \\frac{i \\rho_{21}}{2} \\overline{\\Omega} & - i \\delta \\overline{\\rho_{21}} - \\frac{\\gamma_{21} \\overline{\\rho_{21}}}{2} - i \\rho_{22} \\overline{\\Omega} + \\frac{i \\overline{\\Omega}}{2}\\\\i \\Omega \\rho_{22} - \\frac{i \\Omega}{2} + i \\delta \\rho_{21} - \\frac{\\gamma_{21} \\rho_{21}}{2} & - \\frac{i \\Omega}{2} \\overline{\\rho_{21}} - \\gamma_{21} \\rho_{22} + \\frac{i \\rho_{21}}{2} \\overline{\\Omega}\\end{matrix}\\right]$$"
      ],
      "text/plain": [
       "⎡       ___                   _                     ___               _⎤\n",
       "⎢   ⅈ⋅Ω⋅ρ₂₁             ⅈ⋅ρ₂₁⋅Ω           ___   γ₂₁⋅ρ₂₁         _   ⅈ⋅Ω⎥\n",
       "⎢   ─────── + γ₂₁⋅ρ₂₂ - ───────     - ⅈ⋅δ⋅ρ₂₁ - ─────── - ⅈ⋅ρ₂₂⋅Ω + ───⎥\n",
       "⎢      2                   2                       2                 2 ⎥\n",
       "⎢                                                                      ⎥\n",
       "⎢                                            ___                   _   ⎥\n",
       "⎢          ⅈ⋅Ω             γ₂₁⋅ρ₂₁       ⅈ⋅Ω⋅ρ₂₁             ⅈ⋅ρ₂₁⋅Ω   ⎥\n",
       "⎢ⅈ⋅Ω⋅ρ₂₂ - ─── + ⅈ⋅δ⋅ρ₂₁ - ───────     - ─────── - γ₂₁⋅ρ₂₂ + ───────   ⎥\n",
       "⎣           2                 2             2                   2      ⎦"
      ]
     },
     "execution_count": 57,
     "metadata": {},
     "output_type": "execute_result"
    }
   ],
   "source": [
    "hamiltonian_terms = (I/hbar*(rho*Htilde-Htilde*rho)).expand()\n",
    "lindblad_terms    =gamma[1,0]*lindblad_operator(ket(1,Ne)*bra(2,Ne),rho)\n",
    "eqs=hamiltonian_terms + lindblad_terms\n",
    "fprint(eqs,print_ascii=print_ascii)"
   ]
  },
  {
   "cell_type": "markdown",
   "metadata": {},
   "source": [
    "and only consider the equations for the populations $\\rho_{ii}$ for $i>1$ and the real and imaginary parts of the coherences below the diagonal."
   ]
  },
  {
   "cell_type": "code",
   "execution_count": 58,
   "metadata": {
    "collapsed": false
   },
   "outputs": [
    {
     "data": {
      "image/png": "[encoded data removed]",
      "text/latex": [
       "$$- \\gamma_{21} \\rho_{22} - \\Re{\\Omega} \\Im{\\rho_{21}} + \\Re{\\rho_{21}} \\Im{\\Omega}$$"
      ],
      "text/plain": [
       "-γ₂₁⋅ρ₂₂ - re(Ω)⋅im(ρ₂₁) + re(ρ₂₁)⋅im(Ω)"
      ]
     },
     "execution_count": 58,
     "metadata": {},
     "output_type": "execute_result"
    }
   ],
   "source": [
    "ss_comp={ rho[i,j]:re(rho[i,j])+I*im(rho[i,j]) for j in range(Ne) for i in range(Ne)}\n",
    "fprint( re(eqs[1,1].subs(ss_comp)) ,print_ascii=print_ascii)"
   ]
  },
  {
   "cell_type": "code",
   "execution_count": 59,
   "metadata": {
    "collapsed": false
   },
   "outputs": [
    {
     "data": {
      "image/png": "[encoded data removed]",
      "text/latex": [
       "$$- \\delta \\Im{\\rho_{21}} - \\frac{\\gamma_{21} \\Re{\\rho_{21}}}{2} - \\rho_{22} \\Im{\\Omega} + \\frac{\\Im{\\Omega}}{2}$$"
      ],
      "text/plain": [
       "             γ₂₁⋅re(ρ₂₁)               im(Ω)\n",
       "-δ⋅im(ρ₂₁) - ─────────── - ρ₂₂⋅im(Ω) + ─────\n",
       "                  2                      2  "
      ]
     },
     "execution_count": 59,
     "metadata": {},
     "output_type": "execute_result"
    }
   ],
   "source": [
    "fprint( re(eqs[1,0].subs(ss_comp)) ,print_ascii=print_ascii)"
   ]
  },
  {
   "cell_type": "code",
   "execution_count": 60,
   "metadata": {
    "collapsed": false
   },
   "outputs": [
    {
     "data": {
      "image/png": "[encoded data removed]",
      "text/latex": [
       "$$\\delta \\Re{\\rho_{21}} - \\frac{\\gamma_{21} \\Im{\\rho_{21}}}{2} + \\rho_{22} \\Re{\\Omega} - \\frac{\\Re{\\Omega}}{2}$$"
      ],
      "text/plain": [
       "            γ₂₁⋅im(ρ₂₁)               re(Ω)\n",
       "δ⋅re(ρ₂₁) - ─────────── + ρ₂₂⋅re(Ω) - ─────\n",
       "                 2                      2  "
      ]
     },
     "execution_count": 60,
     "metadata": {},
     "output_type": "execute_result"
    }
   ],
   "source": [
    "fprint( im(eqs[1,0].subs(ss_comp)) ,print_ascii=print_ascii)"
   ]
  },
  {
   "cell_type": "markdown",
   "metadata": {},
   "source": [
    "If the density matrix is represented as a vector whose components are the these independent components of the density matrix"
   ]
  },
  {
   "cell_type": "code",
   "execution_count": 61,
   "metadata": {
    "collapsed": false
   },
   "outputs": [
    {
     "data": {
      "image/png": "[encoded data removed]",
      "text/latex": [
       "$$\\left[\\begin{matrix}\\rho_{22}\\\\\\Re{\\rho_{21}}\\\\\\Im{\\rho_{21}}\\end{matrix}\\right]$$"
      ],
      "text/plain": [
       "⎡  ρ₂₂  ⎤\n",
       "⎢       ⎥\n",
       "⎢re(ρ₂₁)⎥\n",
       "⎢       ⎥\n",
       "⎣im(ρ₂₁)⎦"
      ]
     },
     "execution_count": 61,
     "metadata": {},
     "output_type": "execute_result"
    }
   ],
   "source": [
    "rho_vect=define_rho_vector(rho,Ne)\n",
    "fprint(rho_vect,print_ascii=print_ascii)"
   ]
  },
  {
   "cell_type": "markdown",
   "metadata": {},
   "source": [
    "Then the equations can be re-written as linear combinations of these components plus an independent term.\n",
    "\\begin{equation}\n",
    "    \\dot{\\vec{\\rho}} = \\hat{A} \\vec{\\rho} + \\vec{b}\n",
    "\\end{equation}\n",
    "with $\\hat{A}$ a linear operator acting in this vector space and $\\vec{b}$ the vector of independent terms."
   ]
  },
  {
   "cell_type": "code",
   "execution_count": 62,
   "metadata": {
    "collapsed": false
   },
   "outputs": [
    {
     "data": {
      "image/png": "[encoded data removed]",
      "text/latex": [
       "$$\\left [ \\left[\\begin{matrix}- \\gamma_{21} & \\Im{\\Omega} & - \\Re{\\Omega}\\\\- \\Im{\\Omega} & - \\frac{\\gamma_{21}}{2} & - \\delta\\\\\\Re{\\Omega} & \\delta & - \\frac{\\gamma_{21}}{2}\\end{matrix}\\right], \\quad \\left[\\begin{matrix}0\\\\- \\frac{\\Im{\\Omega}}{2}\\\\\\frac{\\Re{\\Omega}}{2}\\end{matrix}\\right]\\right ]$$"
      ],
      "text/plain": [
       "⎡⎡ -γ₂₁   im(Ω)  -re(Ω)⎤, ⎡   0   ⎤⎤\n",
       "⎢⎢                     ⎥  ⎢       ⎥⎥\n",
       "⎢⎢        -γ₂₁         ⎥  ⎢-im(Ω) ⎥⎥\n",
       "⎢⎢-im(Ω)  ─────    -δ  ⎥  ⎢───────⎥⎥\n",
       "⎢⎢          2          ⎥  ⎢   2   ⎥⎥\n",
       "⎢⎢                     ⎥  ⎢       ⎥⎥\n",
       "⎢⎢               -γ₂₁  ⎥  ⎢ re(Ω) ⎥⎥\n",
       "⎢⎢re(Ω)     δ    ───── ⎥  ⎢ ───── ⎥⎥\n",
       "⎣⎣                 2   ⎦  ⎣   2   ⎦⎦"
      ]
     },
     "execution_count": 62,
     "metadata": {},
     "output_type": "execute_result"
    }
   ],
   "source": [
    "A,b=calculate_A_b(eqs,rho,Ne)\n",
    "fprint([A,b],print_ascii=print_ascii)"
   ]
  },
  {
   "cell_type": "markdown",
   "metadata": {},
   "source": [
    "Explicitly, this is"
   ]
  },
  {
   "cell_type": "code",
   "execution_count": 63,
   "metadata": {
    "collapsed": false
   },
   "outputs": [
    {
     "data": {
      "image/png": "[encoded data removed]",
      "text/latex": [
       "$$\\left[\\begin{matrix}- \\gamma_{21} \\rho_{22} - \\Re{\\Omega} \\Im{\\rho_{21}} + \\Re{\\rho_{21}} \\Im{\\Omega}\\\\- \\delta \\Im{\\rho_{21}} - \\frac{\\gamma_{21} \\Re{\\rho_{21}}}{2} - \\rho_{22} \\Im{\\Omega} + \\frac{\\Im{\\Omega}}{2}\\\\\\delta \\Re{\\rho_{21}} - \\frac{\\gamma_{21} \\Im{\\rho_{21}}}{2} + \\rho_{22} \\Re{\\Omega} - \\frac{\\Re{\\Omega}}{2}\\end{matrix}\\right]$$"
      ],
      "text/plain": [
       "⎡  -γ₂₁⋅ρ₂₂ - re(Ω)⋅im(ρ₂₁) + re(ρ₂₁)⋅im(Ω)  ⎤\n",
       "⎢                                            ⎥\n",
       "⎢             γ₂₁⋅re(ρ₂₁)               im(Ω)⎥\n",
       "⎢-δ⋅im(ρ₂₁) - ─────────── - ρ₂₂⋅im(Ω) + ─────⎥\n",
       "⎢                  2                      2  ⎥\n",
       "⎢                                            ⎥\n",
       "⎢            γ₂₁⋅im(ρ₂₁)               re(Ω) ⎥\n",
       "⎢δ⋅re(ρ₂₁) - ─────────── + ρ₂₂⋅re(Ω) - ───── ⎥\n",
       "⎣                 2                      2   ⎦"
      ]
     },
     "execution_count": 63,
     "metadata": {},
     "output_type": "execute_result"
    }
   ],
   "source": [
    "eqs_new=A*rho_vect - b\n",
    "fprint(eqs_new,print_ascii=print_ascii)"
   ]
  },
  {
   "cell_type": "markdown",
   "metadata": {},
   "source": [
    "Which is the same as the equations in the previous form."
   ]
  },
  {
   "cell_type": "code",
   "execution_count": 64,
   "metadata": {
    "collapsed": false
   },
   "outputs": [
    {
     "data": {
      "image/png": "[encoded data removed]",
      "text/latex": [
       "$$\\left[\\begin{matrix}0\\\\0\\\\0\\end{matrix}\\right]$$"
      ],
      "text/plain": [
       "⎡0⎤\n",
       "⎢ ⎥\n",
       "⎢0⎥\n",
       "⎢ ⎥\n",
       "⎣0⎦"
      ]
     },
     "execution_count": 64,
     "metadata": {},
     "output_type": "execute_result"
    }
   ],
   "source": [
    "fprint( eqs_new - Matrix([re(eqs[1,1]),re(eqs[1,0]),im(eqs[1,0])]).subs(ss_comp) ,print_ascii=print_ascii)"
   ]
  },
  {
   "cell_type": "markdown",
   "metadata": {},
   "source": [
    "The steady state solution of this equations is"
   ]
  },
  {
   "cell_type": "code",
   "execution_count": 65,
   "metadata": {
    "collapsed": false
   },
   "outputs": [
    {
     "data": {
      "image/png": "[encoded data removed]",
      "text/latex": [
       "$$\\left \\{ \\rho_{22} : \\frac{\\left(\\Re{\\Omega}\\right)^{2} + \\left(\\Im{\\Omega}\\right)^{2}}{4 \\delta^{2} + \\gamma_{21}^{2} + 2 \\left(\\Re{\\Omega}\\right)^{2} + 2 \\left(\\Im{\\Omega}\\right)^{2}}\\right \\}$$"
      ],
      "text/plain": [
       "⎧                2        2            ⎫\n",
       "⎪              re (Ω) + im (Ω)         ⎪\n",
       "⎨ρ₂₂: ─────────────────────────────────⎬\n",
       "⎪        2      2       2          2   ⎪\n",
       "⎩     4⋅δ  + γ₂₁  + 2⋅re (Ω) + 2⋅im (Ω)⎭"
      ]
     },
     "execution_count": 65,
     "metadata": {},
     "output_type": "execute_result"
    }
   ],
   "source": [
    "sol=solve(list(eqs_new),list(rho_vect))\n",
    "fprint( {rho_vect[0]:sol[rho_vect[0]]} ,print_ascii=print_ascii)"
   ]
  },
  {
   "cell_type": "code",
   "execution_count": 66,
   "metadata": {
    "collapsed": false
   },
   "outputs": [
    {
     "data": {
      "image/png": "[encoded data removed]",
      "text/latex": [
       "$$\\left \\{ \\Re{\\rho_{21}} : \\frac{2 \\delta \\Re{\\Omega} + \\gamma_{21} \\Im{\\Omega}}{4 \\delta^{2} + \\gamma_{21}^{2} + 2 \\left(\\Re{\\Omega}\\right)^{2} + 2 \\left(\\Im{\\Omega}\\right)^{2}}\\right \\}$$"
      ],
      "text/plain": [
       "⎧               2⋅δ⋅re(Ω) + γ₂₁⋅im(Ω)      ⎫\n",
       "⎪re(ρ₂₁): ─────────────────────────────────⎪\n",
       "⎨            2      2       2          2   ⎬\n",
       "⎪         4⋅δ  + γ₂₁  + 2⋅re (Ω) + 2⋅im (Ω)⎪\n",
       "⎩                                          ⎭"
      ]
     },
     "execution_count": 66,
     "metadata": {},
     "output_type": "execute_result"
    }
   ],
   "source": [
    "fprint( {rho_vect[1]:sol[rho_vect[1]]} ,print_ascii=print_ascii)"
   ]
  },
  {
   "cell_type": "code",
   "execution_count": 67,
   "metadata": {
    "collapsed": false
   },
   "outputs": [
    {
     "data": {
      "image/png": "[encoded data removed]",
      "text/latex": [
       "$$\\left \\{ \\Im{\\rho_{21}} : \\frac{2 \\delta \\Im{\\Omega} - \\gamma_{21} \\Re{\\Omega}}{4 \\delta^{2} + \\gamma_{21}^{2} + 2 \\left(\\Re{\\Omega}\\right)^{2} + 2 \\left(\\Im{\\Omega}\\right)^{2}}\\right \\}$$"
      ],
      "text/plain": [
       "⎧               2⋅δ⋅im(Ω) - γ₂₁⋅re(Ω)      ⎫\n",
       "⎪im(ρ₂₁): ─────────────────────────────────⎪\n",
       "⎨            2      2       2          2   ⎬\n",
       "⎪         4⋅δ  + γ₂₁  + 2⋅re (Ω) + 2⋅im (Ω)⎪\n",
       "⎩                                          ⎭"
      ]
     },
     "execution_count": 67,
     "metadata": {},
     "output_type": "execute_result"
    }
   ],
   "source": [
    "fprint( {rho_vect[2]:sol[rho_vect[2]]} ,print_ascii=print_ascii)"
   ]
  },
  {
   "cell_type": "markdown",
   "metadata": {},
   "source": [
    "According to literature [1], the solution should be"
   ]
  },
  {
   "cell_type": "code",
   "execution_count": 68,
   "metadata": {
    "collapsed": false
   },
   "outputs": [
    {
     "data": {
      "image/png": "[encoded data removed]",
      "text/latex": [
       "$$\\left [ 0, \\quad 0, \\quad 0\\right ]$$"
      ],
      "text/plain": [
       "[0, 0, 0]"
      ]
     },
     "execution_count": 68,
     "metadata": {},
     "output_type": "execute_result"
    }
   ],
   "source": [
    "s0=2*(re(Omega)**2+im(Omega)**2)/gamma[1,0]**2\n",
    "\n",
    "s=s0/(1+(2*delta/gamma[1,0])**2)\n",
    "\n",
    "\n",
    "rho21=-I*Omega/(2*(gamma[1,0]/2-I*delta)*(1+s))\n",
    "\n",
    "rerho22=( s/(2*(1+s)) ).simplify()\n",
    "rerho21=re(rho21).simplify()\n",
    "imrho21=im(rho21).simplify()\n",
    "\n",
    "test=[ sol[rho[1,1]]-rerho22, sol[re(rho[1,0])]-rerho21, sol[im(rho[1,0])]-imrho21 ]\n",
    "\n",
    "fprint( [testi.subs({Omega:re(Omega)+I*im(Omega)}).factor() for testi in test] ,print_ascii=print_ascii)"
   ]
  },
  {
   "cell_type": "markdown",
   "metadata": {},
   "source": [
    "So our derivation produces the same results as the literature. The saturation intensity is defined as the intensity needed to accumulate $\\frac{1}{4}$ of the population in the excited state when the field is in resonance ($\\delta=0$)."
   ]
  },
  {
   "cell_type": "code",
   "execution_count": 69,
   "metadata": {
    "collapsed": false
   },
   "outputs": [
    {
     "data": {
      "image/png": "[encoded data removed]",
      "text/latex": [
       "$$\\frac{\\left(\\Re{\\Omega}\\right)^{2} + \\left(\\Im{\\Omega}\\right)^{2}}{\\gamma_{21}^{2} + 2 \\left(\\Re{\\Omega}\\right)^{2} + 2 \\left(\\Im{\\Omega}\\right)^{2}} - \\frac{1}{4}$$"
      ],
      "text/plain": [
       "       2        2             \n",
       "     re (Ω) + im (Ω)         1\n",
       "────────────────────────── - ─\n",
       "   2       2          2      4\n",
       "γ₂₁  + 2⋅re (Ω) + 2⋅im (Ω)    "
      ]
     },
     "execution_count": 69,
     "metadata": {},
     "output_type": "execute_result"
    }
   ],
   "source": [
    "saturation_eq=sol[rho[1,1]].subs({delta:0})-1/Integer(4)\n",
    "fprint( saturation_eq ,print_ascii=print_ascii)"
   ]
  },
  {
   "cell_type": "code",
   "execution_count": 70,
   "metadata": {
    "collapsed": false
   },
   "outputs": [
    {
     "data": {
      "image/png": "[encoded data removed]",
      "text/latex": [
       "$$\\frac{2 \\Omega_a^{2} - \\gamma_{21}^{2}}{8 \\Omega_a^{2} + 4 \\gamma_{21}^{2}}$$"
      ],
      "text/plain": [
       "           2      2  \n",
       "  2⋅\\Omegaₐ  - γ₂₁   \n",
       "─────────────────────\n",
       "  ⎛         2      2⎞\n",
       "4⋅⎝2⋅\\Omegaₐ  + γ₂₁ ⎠"
      ]
     },
     "execution_count": 70,
     "metadata": {},
     "output_type": "execute_result"
    }
   ],
   "source": [
    "Omega_amp,alpha=symbols(\"\\Omega_a alpha\",real=True)\n",
    "ss={Omega:Omega_amp*cos(alpha)+I*Omega_amp*sin(alpha)}\n",
    "saturation_eq= saturation_eq.subs(ss).factor().simplify()\n",
    "fprint(saturation_eq,print_ascii=print_ascii)"
   ]
  },
  {
   "cell_type": "code",
   "execution_count": 71,
   "metadata": {
    "collapsed": false
   },
   "outputs": [
    {
     "data": {
      "image/png": "[encoded data removed]",
      "text/latex": [
       "$$\\frac{\\sqrt{2} \\gamma_{21}}{2}$$"
      ],
      "text/plain": [
       "√2⋅γ₂₁\n",
       "──────\n",
       "  2   "
      ]
     },
     "execution_count": 71,
     "metadata": {},
     "output_type": "execute_result"
    }
   ],
   "source": [
    "Omega_sat=solve( saturation_eq ,Omega_amp)[1]\n",
    "fprint(Omega_sat, print_ascii=print_ascii)"
   ]
  },
  {
   "cell_type": "markdown",
   "metadata": {},
   "source": [
    "Since $\\Omega =e E_0^1 r_{0;21}/\\hbar$ it follows that"
   ]
  },
  {
   "cell_type": "code",
   "execution_count": 72,
   "metadata": {
    "collapsed": false
   },
   "outputs": [
    {
     "data": {
      "image/png": "[encoded data removed]",
      "text/latex": [
       "$$\\frac{\\sqrt{2} \\gamma_{21} \\hbar}{2 e r_{0;21}}$$"
      ],
      "text/plain": [
       " √2⋅γ₂₁⋅h̅  \n",
       "────────────\n",
       "2⋅e⋅r_{0;21}"
      ]
     },
     "execution_count": 72,
     "metadata": {},
     "output_type": "execute_result"
    }
   ],
   "source": [
    "E0_sat=Omega_sat*hbar/e/r[1][1,0]\n",
    "fprint(E0_sat, print_ascii=print_ascii)"
   ]
  },
  {
   "cell_type": "markdown",
   "metadata": {},
   "source": [
    "The full width at half maximum of $\\rho_{22}$ is"
   ]
  },
  {
   "cell_type": "code",
   "execution_count": 73,
   "metadata": {
    "collapsed": false
   },
   "outputs": [
    {
     "data": {
      "image/png": "[encoded data removed]",
      "text/latex": [
       "$$\\sqrt{2 \\Omega_a^{2} + \\gamma_{21}^{2}}$$"
      ],
      "text/plain": [
       "   ___________________\n",
       "  ╱          2      2 \n",
       "╲╱  2⋅\\Omegaₐ  + γ₂₁  "
      ]
     },
     "execution_count": 73,
     "metadata": {},
     "output_type": "execute_result"
    }
   ],
   "source": [
    "hm1,hm2=solve(sol[rho[1,1]]-sol[rho[1,1]].subs({delta:0})/2,delta)\n",
    "FWHM=hm2-hm1\n",
    "FWHM=FWHM.subs(ss).simplify()\n",
    "fprint(FWHM, print_ascii=print_ascii)"
   ]
  },
  {
   "cell_type": "markdown",
   "metadata": {},
   "source": [
    "[1]  H.J. Metcalf and P. van der Straten. Laser Cooling and Trapping. Graduate Texts in Contempo-\n",
    "rary Physics. Springer New York, 2001."
   ]
  },
  {
   "cell_type": "code",
   "execution_count": null,
   "metadata": {
    "collapsed": true
   },
   "outputs": [],
   "source": []
  }
 ],
 "metadata": {
  "anaconda-cloud": {},
  "kernelspec": {
   "display_name": "Python 2",
   "language": "python",
   "name": "python2"
  },
  "language_info": {
   "codemirror_mode": {
    "name": "ipython",
    "version": 2
   },
   "file_extension": ".py",
   "mimetype": "text/x-python",
   "name": "python",
   "nbconvert_exporter": "python",
   "pygments_lexer": "ipython2",
   "version": "2.7.13"
  }
 },
 "nbformat": 4,
 "nbformat_minor": 0
}
