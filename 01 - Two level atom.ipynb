{
 "cells": [
  {
   "cell_type": "markdown",
   "metadata": {},
   "source": [
    "### Two level atom\n",
    "We import all the functions of FAST and some other useful stuff."
   ]
  },
  {
   "cell_type": "code",
   "execution_count": null,
   "metadata": {
    "collapsed": true
   },
   "outputs": [],
   "source": [
    "from fast import *\n",
    "from math import pi,sqrt\n",
    "%matplotlib inline\n",
    "from matplotlib import pyplot\n",
    "from fast.config import parallel, use_netcdf, fast_path\n",
    "from numpy import array"
   ]
  },
  {
   "cell_type": "markdown",
   "metadata": {},
   "source": [
    "We establish the basic characteristics of te experiment. The path where we will work, and the name of the experiment."
   ]
  },
  {
   "cell_type": "code",
   "execution_count": null,
   "metadata": {
    "collapsed": true
   },
   "outputs": [],
   "source": [
    "path=fast_path[:-5]+\"/examples/folder_01___Two_level_atom/\" \n",
    "name='suite'"
   ]
  },
  {
   "cell_type": "markdown",
   "metadata": {},
   "source": [
    "The number of states."
   ]
  },
  {
   "cell_type": "code",
   "execution_count": null,
   "metadata": {
    "collapsed": true
   },
   "outputs": [],
   "source": [
    "Ne=2"
   ]
  },
  {
   "cell_type": "markdown",
   "metadata": {},
   "source": [
    "The properties of the atom. The frequencies $\\omega_i$ of the energy levels $E_i=\\hbar \\omega_i$."
   ]
  },
  {
   "cell_type": "code",
   "execution_count": null,
   "metadata": {
    "collapsed": true
   },
   "outputs": [],
   "source": [
    "omega_states=[0.0,100.0]"
   ]
  },
  {
   "cell_type": "markdown",
   "metadata": {},
   "source": [
    "And from these the matrix of transition frequencies is calculated $\\omega_{ij}=\\omega_i-\\omega_j$."
   ]
  },
  {
   "cell_type": "code",
   "execution_count": null,
   "metadata": {
    "collapsed": false
   },
   "outputs": [],
   "source": [
    "omega=[[omega_states[i]-omega_states[j] for j in range(Ne)] for i in range(Ne)]\n",
    "print array(omega)"
   ]
  },
  {
   "cell_type": "markdown",
   "metadata": {},
   "source": [
    "The matrix $\\gamma_{ij}$ of decay frequencies for transitions $|i\\rangle \\rightarrow |j\\rangle$."
   ]
  },
  {
   "cell_type": "code",
   "execution_count": null,
   "metadata": {
    "collapsed": false
   },
   "outputs": [],
   "source": [
    "gamma=1.0\n",
    "gamma=[[0.,-gamma],[gamma,0.]]\n",
    "print array(gamma)"
   ]
  },
  {
   "cell_type": "markdown",
   "metadata": {},
   "source": [
    "The matrix form of the position operator $\\hat{\\vec{r}}$ in the helicity basis (in Bohr radii)."
   ]
  },
  {
   "cell_type": "code",
   "execution_count": null,
   "metadata": {
    "collapsed": false
   },
   "outputs": [],
   "source": [
    "r=[ [[0,1],[1,0]] for p in range(3)]\n",
    "print array(r)"
   ]
  },
  {
   "cell_type": "markdown",
   "metadata": {},
   "source": [
    "We define the lasers."
   ]
  },
  {
   "cell_type": "code",
   "execution_count": null,
   "metadata": {
    "collapsed": false
   },
   "outputs": [],
   "source": [
    "l1=PlaneWave(0,pi/2,0,0,color=\"red\")\n",
    "laseres=[l1]\n",
    "Nl=len(laseres)\n",
    "\n",
    "fig = pyplot.figure(); ax = fig.gca(projection='3d')\n",
    "draw_lasers_3d(ax,laseres,path+'lasers.png')"
   ]
  },
  {
   "cell_type": "markdown",
   "metadata": {},
   "source": [
    "We specify the coupling of the lasers. In this case, the transition $|1\\rangle \\rightarrow |2\\rangle$ is coupled by laser $1$."
   ]
  },
  {
   "cell_type": "code",
   "execution_count": null,
   "metadata": {
    "collapsed": true
   },
   "outputs": [],
   "source": [
    "Lij=[[1,2,[1]]]\n",
    "Lij=formatLij(Lij,Ne)"
   ]
  },
  {
   "cell_type": "markdown",
   "metadata": {},
   "source": [
    "We make a diagram level."
   ]
  },
  {
   "cell_type": "code",
   "execution_count": null,
   "metadata": {
    "collapsed": false
   },
   "outputs": [],
   "source": [
    "fig=pyplot.figure(); ax=fig.add_subplot(111,aspect=\"equal\")\n",
    "\n",
    "p1=[0.5,1]; p2=[1.5,3]\n",
    "draw_state(ax,p1,text=r\"$|1\\rangle$\",l=1.0,alignment='right',label_displacement=0.05,fontsize=25,linewidth=4.0)\n",
    "draw_state(ax,p2,text=r\"$|2\\rangle$\",l=1.0,alignment='right',label_displacement=0.05,fontsize=25,linewidth=4.0)\n",
    "\n",
    "excitation(ax,[p1[0]+0.25,p1[1]],[p2[0]+0.25,p2[1]], fc=\"red\", ec=\"red\",width=0.01, head_width=0.1, head_length=0.1)\n",
    "decay(     ax,[p1[0]-0.25,p1[1]],[p2[0]-0.25,p2[1]], 0.05,10.0,color=\"red\",linewidth=1.0)\n",
    "\n",
    "pyplot.axis('off')\n",
    "pyplot.savefig(path+name+'_diagram.png',bbox_inches=\"tight\")"
   ]
  },
  {
   "cell_type": "markdown",
   "metadata": {},
   "source": [
    "## Time evolution\n",
    "We write the Fortran code of the experiment."
   ]
  },
  {
   "cell_type": "code",
   "execution_count": null,
   "metadata": {
    "collapsed": true
   },
   "outputs": [],
   "source": [
    "tw=write_evolution(path,name+\"_evolution\",laseres,omega,gamma,r,Lij)"
   ]
  },
  {
   "cell_type": "markdown",
   "metadata": {},
   "source": [
    "We compile it."
   ]
  },
  {
   "cell_type": "code",
   "execution_count": null,
   "metadata": {
    "collapsed": true
   },
   "outputs": [],
   "source": [
    "tc=compile_code(path,name+\"_evolution\",lapack=True,parallel=parallel)"
   ]
  },
  {
   "cell_type": "markdown",
   "metadata": {},
   "source": [
    "We specify the intensity of the laser (as the electric field amplitude). And the detuning."
   ]
  },
  {
   "cell_type": "code",
   "execution_count": null,
   "metadata": {
    "collapsed": true
   },
   "outputs": [],
   "source": [
    "delta1=-1.0; E00=1.0"
   ]
  },
  {
   "cell_type": "markdown",
   "metadata": {},
   "source": [
    "We run the time evolution with these parameters."
   ]
  },
  {
   "cell_type": "code",
   "execution_count": null,
   "metadata": {
    "collapsed": true
   },
   "outputs": [],
   "source": [
    "tr=run_evolution(path,name+\"_evolution\",[E00],[delta1],  2000,  0.01,Ne,use_netcdf=use_netcdf)"
   ]
  },
  {
   "cell_type": "markdown",
   "metadata": {},
   "source": [
    "We read the results."
   ]
  },
  {
   "cell_type": "code",
   "execution_count": null,
   "metadata": {
    "collapsed": true
   },
   "outputs": [],
   "source": [
    "t,rho22,rho21_real,rho21_imag = read_result(path,name+\"_evolution\",N=Ne,use_netcdf=use_netcdf)"
   ]
  },
  {
   "cell_type": "markdown",
   "metadata": {},
   "source": [
    "We plot the components we have just read."
   ]
  },
  {
   "cell_type": "code",
   "execution_count": null,
   "metadata": {
    "collapsed": false
   },
   "outputs": [],
   "source": [
    "fig=pyplot.figure(); ax=fig.add_subplot(111)\n",
    "ax.plot(t,rho22,'k-'      ,label=r\"$\\rho_{22}$\")\n",
    "ax.plot(t,rho21_real,'b-' ,label=r\"$\\mathfrak{Re}\\rho_{21}$\")\n",
    "ax.plot(t,rho21_imag,'r-' ,label=r\"$\\mathfrak{Im}\\rho_{21}$\")\n",
    "\n",
    "ax.set_ylim([None,0.6])\n",
    "ax.legend(loc=0,fontsize=15)\n",
    "ax.set_xlabel(r\"$t$\",fontsize=20)\n",
    "\n",
    "pyplot.savefig(path+'evolution_evo.png',bbox_inches='tight',figsize=25)"
   ]
  },
  {
   "cell_type": "markdown",
   "metadata": {},
   "source": [
    "We run the time evolution many times now varying the detuning of the laser."
   ]
  },
  {
   "cell_type": "code",
   "execution_count": null,
   "metadata": {
    "collapsed": true
   },
   "outputs": [],
   "source": [
    "tr=run_evolution(path,name+\"_evolution\",[E00],[-20.0],  2000,  0.01,Ne,spectrum_of_laser=1,N_delta=401,frequency_end=20.0,use_netcdf=use_netcdf)\n",
    "\n",
    "delta,rho22,rho21_real,rho21_imag = read_result(path,name+\"_evolution\",N=Ne,use_netcdf=use_netcdf)"
   ]
  },
  {
   "cell_type": "code",
   "execution_count": null,
   "metadata": {
    "collapsed": false
   },
   "outputs": [],
   "source": [
    "fig=pyplot.figure(); ax=fig.add_subplot(111)\n",
    "ax.plot(delta,rho22,'k-'         ,label=r\"$\\rho_{22}$\")\n",
    "ax.plot(delta,rho21_real,'b-'    ,label=r\"$\\mathfrak{Re}\\rho_{21}$\")\n",
    "ax.plot(delta,rho21_imag,'r-'    ,label=r\"$\\mathfrak{Im}\\rho_{21}$\")\n",
    "ax.legend(loc=0,fontsize=15)\n",
    "ax.set_xlabel(r\"$\\delta$\",fontsize=20)\n",
    "\n",
    "ax.set_xlim([-20,20])\n",
    "pyplot.savefig(path+'spectrum_'+name+'_evolution.png',bbox_inches='tight')"
   ]
  },
  {
   "cell_type": "markdown",
   "metadata": {},
   "source": [
    "## Steady state\n",
    "We write the Fortran code of the experiment."
   ]
  },
  {
   "cell_type": "code",
   "execution_count": null,
   "metadata": {
    "collapsed": false
   },
   "outputs": [],
   "source": [
    "tw=write_stationary(path,name+\"_steady\",laseres,omega,gamma,r,Lij)"
   ]
  },
  {
   "cell_type": "markdown",
   "metadata": {},
   "source": [
    "We compile it."
   ]
  },
  {
   "cell_type": "code",
   "execution_count": null,
   "metadata": {
    "collapsed": true
   },
   "outputs": [],
   "source": [
    "tc=compile_code(path,name+\"_steady\",lapack=True, parallel=parallel)"
   ]
  },
  {
   "cell_type": "markdown",
   "metadata": {},
   "source": [
    "We explain the initial detuning and the electric field amplitude."
   ]
  },
  {
   "cell_type": "code",
   "execution_count": null,
   "metadata": {
    "collapsed": true
   },
   "outputs": [],
   "source": [
    "delta=-20; E00=1.0"
   ]
  },
  {
   "cell_type": "markdown",
   "metadata": {},
   "source": [
    "We run the spectroscopy."
   ]
  },
  {
   "cell_type": "code",
   "execution_count": null,
   "metadata": {
    "collapsed": true
   },
   "outputs": [],
   "source": [
    "tr=run_stationary(path,name+\"_steady\",[E00],[delta],spectrum_of_laser=1,N_delta=401,frequency_end=20.0,use_netcdf=use_netcdf)\n",
    "\n",
    "delta,rho22,rho21_real,rho21_imag = read_result(path,name+\"_steady\",N=Ne,use_netcdf=use_netcdf)"
   ]
  },
  {
   "cell_type": "code",
   "execution_count": null,
   "metadata": {
    "collapsed": false
   },
   "outputs": [],
   "source": [
    "fig=pyplot.figure(); ax = fig.add_subplot(111)\n",
    "ax.plot(delta,rho22,'k-'         ,label=r\"$\\rho_{22}$\")\n",
    "ax.plot(delta,rho21_real,'b-'    ,label=r\"$\\mathfrak{Re}\\rho_{21}$\")\n",
    "ax.plot(delta,rho21_imag,'r-'    ,label=r\"$\\mathfrak{Im}\\rho_{21}$\")\n",
    "ax.legend(loc=0,fontsize=15)\n",
    "ax.set_xlabel(r\"$\\delta$\",fontsize=20)\n",
    "\n",
    "ax.set_xlim([-20,20])\n",
    "pyplot.savefig(path+'spectrum_'+name+'.png',bbox_inches='tight')"
   ]
  },
  {
   "cell_type": "markdown",
   "metadata": {},
   "source": [
    "### Power broadening."
   ]
  },
  {
   "cell_type": "code",
   "execution_count": null,
   "metadata": {
    "collapsed": false
   },
   "outputs": [],
   "source": [
    "if True:\n",
    "    delta1=-20.0\n",
    "\n",
    "    fig=pyplot.figure(); ax = fig.add_subplot(111)\n",
    "    E0=[0.25, 0.5, 1.0, 3.0, 10.0]\n",
    "    colors=['m','b','g',\"orange\",'r']\n",
    "    for i in range(len(E0)):\n",
    "        tr=run_stationary(path,name+\"_steady\",[E0[i]],[delta1],spectrum_of_laser=1,N_delta=401,frequency_end=20.0,use_netcdf=use_netcdf)\n",
    "        delta,rho22,rho21_real,rho21_imag = read_result(path,name+\"_steady\",N=Ne,use_netcdf=use_netcdf)\n",
    "        \n",
    "        ax.plot(delta,rho22,'-',color=colors[i],label=r\"$E_0=\"+str(E0[i])+\"$\")\n",
    "        \n",
    "        Omega=E0[i]\n",
    "        gamma=1.0\n",
    "        \n",
    "        hwfm=sqrt(gamma**2+ 2*(Omega)**2)/2\n",
    "        ax.plot([-hwfm,hwfm],[rho22[200]/2,rho22[200]/2],color=colors[i])\n",
    "        \n",
    "        a=0.025\n",
    "        ax.plot([-hwfm,-hwfm],[rho22[200]/2+a*rho22[200],rho22[200]/2-a*rho22[200]],color=colors[i])\n",
    "        ax.plot([ hwfm, hwfm],[rho22[200]/2+a*rho22[200],rho22[200]/2-a*rho22[200]],color=colors[i])\n",
    "\n",
    "    ax.legend(loc=0,fontsize=12)\n",
    "    ax.set_xlim([-20,20])\n",
    "    ax.set_xlabel(r\"$\\delta$\",fontsize=22)\n",
    "    ax.set_ylabel(r\"$\\rho_{22}$\",fontsize=22)\n",
    "\n",
    "    pyplot.savefig(path+name+'_power_broadening.png',bbox_inches='tight')"
   ]
  },
  {
   "cell_type": "code",
   "execution_count": null,
   "metadata": {
    "collapsed": true
   },
   "outputs": [],
   "source": [
    "pyplot.close(\"all\")"
   ]
  },
  {
   "cell_type": "code",
   "execution_count": null,
   "metadata": {
    "collapsed": true
   },
   "outputs": [],
   "source": []
  }
 ],
 "metadata": {
  "kernelspec": {
   "display_name": "Python 2",
   "language": "python",
   "name": "python2"
  },
  "language_info": {
   "codemirror_mode": {
    "name": "ipython",
    "version": 2
   },
   "file_extension": ".py",
   "mimetype": "text/x-python",
   "name": "python",
   "nbconvert_exporter": "python",
   "pygments_lexer": "ipython2",
   "version": "2.7.13"
  }
 },
 "nbformat": 4,
 "nbformat_minor": 2
}
