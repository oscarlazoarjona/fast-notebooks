{
 "cells": [
  {
   "cell_type": "markdown",
   "metadata": {},
   "source": [
    "# Three level atom (ladder)"
   ]
  },
  {
   "cell_type": "markdown",
   "metadata": {},
   "source": [
    "We import all FAST functions and other useful things."
   ]
  },
  {
   "cell_type": "code",
   "execution_count": null,
   "metadata": {
    "collapsed": false
   },
   "outputs": [],
   "source": [
    "from fast import *\n",
    "%matplotlib inline\n",
    "from math import pi\n",
    "from matplotlib import pyplot\n",
    "from fast.config import parallel, use_netcdf, fast_path\n",
    "from numpy import array"
   ]
  },
  {
   "cell_type": "markdown",
   "metadata": {},
   "source": [
    "We establish the basic characteristics of the experiment. The path in which we will work, and the name of the experiment."
   ]
  },
  {
   "cell_type": "code",
   "execution_count": null,
   "metadata": {
    "collapsed": false
   },
   "outputs": [],
   "source": [
    "path=fast_path[:-5]+\"/examples/folder_02___Three_level_atom_ladder/\" \n",
    "name='suite'"
   ]
  },
  {
   "cell_type": "markdown",
   "metadata": {},
   "source": [
    "The number of states."
   ]
  },
  {
   "cell_type": "code",
   "execution_count": null,
   "metadata": {
    "collapsed": false
   },
   "outputs": [],
   "source": [
    "Ne=3"
   ]
  },
  {
   "cell_type": "markdown",
   "metadata": {},
   "source": [
    "We define the properties of the atom."
   ]
  },
  {
   "cell_type": "code",
   "execution_count": null,
   "metadata": {
    "collapsed": false
   },
   "outputs": [],
   "source": [
    "omega_states=[0,200,500]\n",
    "omega=[[omega_states[i]-omega_states[j] for j in range(Ne)] for i in range(Ne)]\n",
    "print array(omega)"
   ]
  },
  {
   "cell_type": "code",
   "execution_count": null,
   "metadata": {
    "collapsed": false
   },
   "outputs": [],
   "source": [
    "gamma21=6.0\n",
    "gamma32=0.6\n",
    "gamma31=0.0\n",
    "\n",
    "gamma=[[0.0,       -gamma21,    -gamma31],\n",
    "       [gamma21,    0.0,        -gamma32],\n",
    "       [gamma31,    gamma32,     0.0    ]]\n",
    "print array(gamma)"
   ]
  },
  {
   "cell_type": "code",
   "execution_count": null,
   "metadata": {
    "collapsed": false
   },
   "outputs": [],
   "source": [
    "r=[ [[0,1,0],\n",
    "     [1,0,1],\n",
    "     [0,1,0]] for i in range(3)]\n",
    "print array(r)"
   ]
  },
  {
   "cell_type": "markdown",
   "metadata": {},
   "source": [
    "We define the lasers."
   ]
  },
  {
   "cell_type": "code",
   "execution_count": null,
   "metadata": {
    "collapsed": false
   },
   "outputs": [],
   "source": [
    "l1=PlaneWave(0,pi/2,0,0 ,color='red')\n",
    "l2=PlaneWave(pi,pi/2,0,0,color='blue')\n",
    "lasers=[l1,l2]\n",
    "Nl=len(lasers)\n",
    "fig = pyplot.figure(); ax = fig.gca(projection='3d')\n",
    "draw_lasers_3d(ax,lasers,name=path+name+'_lasers.png')"
   ]
  },
  {
   "cell_type": "markdown",
   "metadata": {},
   "source": [
    "We specify the couplings between the states. In this case, the transition\n",
    "$|1\\rangle \\rightarrow |2\\rangle$ is coupled by laser 1, and\n",
    "$|2\\rangle \\rightarrow |3\\rangle$ is coupled by laser 2."
   ]
  },
  {
   "cell_type": "code",
   "execution_count": null,
   "metadata": {
    "collapsed": false
   },
   "outputs": [],
   "source": [
    "Lij=[[1,2,[1]],[2,3,[2]]]\n",
    "Lij=formatLij(Lij,Ne)\n",
    "print array(Lij)"
   ]
  },
  {
   "cell_type": "markdown",
   "metadata": {},
   "source": [
    "We draw a level diagram."
   ]
  },
  {
   "cell_type": "code",
   "execution_count": null,
   "metadata": {
    "collapsed": false
   },
   "outputs": [],
   "source": [
    "fig=pyplot.figure(); ax=fig.add_subplot(111,aspect=\"equal\")\n",
    "\n",
    "p1=[0.5,0]; p2=[1.5,2]; p3=[2.5,5]\n",
    "draw_state(ax,p1,text=r\"$|1\\rangle$\",l=1.0,alignment='right',label_displacement=0.05,fontsize=25,linewidth=3.0)\n",
    "draw_state(ax,p2,text=r\"$|2\\rangle$\",l=1.0,alignment='right',label_displacement=0.05,fontsize=25,linewidth=3.0)\n",
    "draw_state(ax,p3,text=r\"$|3\\rangle$\",l=1.0,alignment='right',label_displacement=0.05,fontsize=25,linewidth=3.0)\n",
    "\n",
    "excitation(ax,[p1[0]+0.25,p1[1]],[p2[0]+0.25,p2[1]], fc=\"red\", ec=\"red\",width=0.02, head_width=0.2, head_length=0.2)\n",
    "decay(     ax,[p1[0]-0.25,p1[1]],[p2[0]-0.25,p2[1]], 0.05,10.0,color=\"red\",linewidth=1.0)\n",
    "\n",
    "excitation(ax,[p2[0]+0.25,p2[1]],[p3[0]+0.25,p3[1]], fc=\"blue\", ec=\"blue\",width=0.02, head_width=0.2, head_length=0.2)\n",
    "decay(     ax,[p2[0]-0.25,p2[1]],[p3[0]-0.25,p3[1]], 0.05,20.0,color=\"blue\",linewidth=1.0)\n",
    "\n",
    "ax.set_xlim([0,3.5])\n",
    "ax.set_ylim([-0.05,5.05])\n",
    "pyplot.axis('off')\n",
    "pyplot.savefig(path+name+'_diagram.png',bbox_inches=\"tight\")"
   ]
  },
  {
   "cell_type": "markdown",
   "metadata": {},
   "source": [
    "## Time evolution"
   ]
  },
  {
   "cell_type": "markdown",
   "metadata": {},
   "source": [
    "We write the Fortran code."
   ]
  },
  {
   "cell_type": "code",
   "execution_count": null,
   "metadata": {
    "collapsed": false
   },
   "outputs": [],
   "source": [
    "tw=write_evolution(path,name+\"_evolution\",lasers,omega,gamma,r,Lij)"
   ]
  },
  {
   "cell_type": "markdown",
   "metadata": {},
   "source": [
    "We compile it."
   ]
  },
  {
   "cell_type": "code",
   "execution_count": null,
   "metadata": {
    "collapsed": false
   },
   "outputs": [],
   "source": [
    "tc=compile_code(path,name+\"_evolution\",lapack=True,parallel=parallel)"
   ]
  },
  {
   "cell_type": "markdown",
   "metadata": {},
   "source": [
    "We give the detuning of the first laser and the ampliude of the electric field."
   ]
  },
  {
   "cell_type": "code",
   "execution_count": null,
   "metadata": {
    "collapsed": false
   },
   "outputs": [],
   "source": [
    "delta1=1.0; E00=1.0"
   ]
  },
  {
   "cell_type": "markdown",
   "metadata": {},
   "source": [
    "We run the time evolution."
   ]
  },
  {
   "cell_type": "code",
   "execution_count": null,
   "metadata": {
    "collapsed": false
   },
   "outputs": [],
   "source": [
    "tr=run_evolution(path,name+\"_evolution\",[ 15*E00, 5*E00],[delta1,0.0],  3000,  0.002,Ne,rho0=[0.0,1.0],use_netcdf=use_netcdf)"
   ]
  },
  {
   "cell_type": "markdown",
   "metadata": {},
   "source": [
    "We read the resultas and we plot them."
   ]
  },
  {
   "cell_type": "code",
   "execution_count": null,
   "metadata": {
    "collapsed": false
   },
   "outputs": [],
   "source": [
    "t,rho22   =read_result(path,name+\"_evolution\",i=2,j=2,s=+1,N=Ne,use_netcdf=use_netcdf)\n",
    "t,rho33   =read_result(path,name+\"_evolution\",i=3,j=3,s=+1,N=Ne,use_netcdf=use_netcdf)\n",
    "\n",
    "t,rho21_re=read_result(path,name+\"_evolution\",i=2,j=1,s=+1,N=Ne,use_netcdf=use_netcdf)\n",
    "t,rho21_im=read_result(path,name+\"_evolution\",i=2,j=1,s=-1,N=Ne,use_netcdf=use_netcdf)\n",
    "\n",
    "t,rho31_re=read_result(path,name+\"_evolution\",i=3,j=1,s=+1,N=Ne,use_netcdf=use_netcdf)\n",
    "t,rho31_im=read_result(path,name+\"_evolution\",i=3,j=1,s=-1,N=Ne,use_netcdf=use_netcdf)\n",
    "\n",
    "t,rho32_re=read_result(path,name+\"_evolution\",i=3,j=2,s=+1,N=Ne,use_netcdf=use_netcdf)\n",
    "t,rho32_im=read_result(path,name+\"_evolution\",i=3,j=2,s=-1,N=Ne,use_netcdf=use_netcdf)\n",
    "\n",
    "fig=pyplot.figure(); ax=fig.add_subplot(111)\n",
    "ax.plot(t,rho22,'b-'    ,label=r\"$\\rho_{22}$\")\n",
    "ax.plot(t,rho33,'r-'    ,label=r\"$\\rho_{33}$\")\n",
    "ax.plot(t,rho21_re,'g-' ,label=r\"$\\mathfrak{Re}\\rho_{21}$\")\n",
    "ax.plot(t,rho21_im,'g--',label=r\"$\\mathfrak{Im}\\rho_{21}$\")\n",
    "ax.plot(t,rho31_re,'c-' ,label=r\"$\\mathfrak{Re}\\rho_{31}$\")\n",
    "ax.plot(t,rho31_im,'c--',label=r\"$\\mathfrak{Im}\\rho_{31}$\")\n",
    "ax.plot(t,rho32_re,'m-' ,label=r\"$\\mathfrak{Re}\\rho_{32}$\")\n",
    "ax.plot(t,rho32_im,'m--',label=r\"$\\mathfrak{Im}\\rho_{32}$\")\n",
    "\n",
    "ax.legend(loc=0,ncol=2,fontsize=14)\n",
    "\n",
    "pyplot.savefig(path+'evolution_'+name+'.png',bbox_inches='tight')"
   ]
  },
  {
   "cell_type": "markdown",
   "metadata": {},
   "source": [
    "### Autler-Townes splitting"
   ]
  },
  {
   "cell_type": "markdown",
   "metadata": {},
   "source": [
    "In this scheme we mantain the first laser in high power, and vary the detuning of the second laser (on low power) to obtain a spectrum."
   ]
  },
  {
   "cell_type": "code",
   "execution_count": null,
   "metadata": {
    "collapsed": false
   },
   "outputs": [],
   "source": [
    "fig=pyplot.figure(); ax=fig.add_subplot(111)\n",
    "\n",
    "E0    =[2.0,10.0,15.0,20.0,30.0]\n",
    "colors=['m', 'b', 'g', \"orange\", 'r']\n",
    "for i in range(len(E0)):\n",
    "    tr=run_evolution(path,name+\"_evolution\",[E0[i],5.0],[0.0,-75.0],  3000,  0.01,\n",
    "                    Ne,spectrum_of_laser=2,N_delta=401,frequency_end=75.0,use_netcdf=use_netcdf)\n",
    "    \n",
    "    delta,rho33=read_result(path,name+\"_evolution\",i=3,j=3,s= 1,N=Ne,use_netcdf=use_netcdf)\n",
    "    \n",
    "    ax.plot(delta,rho33,'-',color=colors[i],label=r\"$E_0^1=\"+str(int(E0[i]))+\"$\")\n",
    "\n",
    "ax.set_xlim([-75.0,75.0])\n",
    "ax.set_xlabel(r\"$\\delta^2$\",fontsize=20)\n",
    "ax.set_ylabel(r\"$\\rho_{33}$\",fontsize=20)\n",
    "ax.legend(loc=0,fontsize=14)\n",
    "pyplot.savefig(path+name+'_spectrum_evolution.png',bbox_inches='tight')"
   ]
  },
  {
   "cell_type": "markdown",
   "metadata": {},
   "source": [
    "## Steady state"
   ]
  },
  {
   "cell_type": "markdown",
   "metadata": {},
   "source": [
    "We write the Fortran code of the experiment."
   ]
  },
  {
   "cell_type": "code",
   "execution_count": null,
   "metadata": {
    "collapsed": false
   },
   "outputs": [],
   "source": [
    "tw=write_stationary(path,name+\"_steady\",lasers,omega,gamma,r,Lij)"
   ]
  },
  {
   "cell_type": "markdown",
   "metadata": {},
   "source": [
    "We compile it."
   ]
  },
  {
   "cell_type": "code",
   "execution_count": null,
   "metadata": {
    "collapsed": false
   },
   "outputs": [],
   "source": [
    "tc=compile_code(path,name+\"_steady\",lapack=True,parallel=parallel)"
   ]
  },
  {
   "cell_type": "markdown",
   "metadata": {},
   "source": [
    "We repeat the same spectra using the steady state."
   ]
  },
  {
   "cell_type": "code",
   "execution_count": null,
   "metadata": {
    "collapsed": false
   },
   "outputs": [],
   "source": [
    "fig=pyplot.figure(); ax=fig.add_subplot(111)\n",
    "\n",
    "E0    =[2.0,10.0,15.0,20.0,30.0]\n",
    "colors=['m', 'b', 'g', \"orange\", 'r']\n",
    "for i in range(len(E0)):\n",
    "    tr=run_stationary(path,name+\"_steady\",[E0[i],5.0],[0.0,-75.0],\n",
    "                  spectrum_of_laser=2,N_delta=401,frequency_end=75.0,use_netcdf=use_netcdf)\n",
    "    \n",
    "    delta,rho33=read_result(path,name+\"_steady\",i=3,j=3,s= 1,N=Ne,use_netcdf=use_netcdf)\n",
    "    \n",
    "    ax.plot(delta,rho33,'-',color=colors[i],label=r\"$E_0^1=\"+str(int(E0[i]))+\"$\")\n",
    "\n",
    "ax.set_xlim([-75.0,75.0])\n",
    "ax.set_xlabel(r\"$\\delta^2$\",fontsize=20)\n",
    "ax.set_ylabel(r\"$\\rho_{33}$\",fontsize=20)\n",
    "ax.legend(loc=0,fontsize=14)\n",
    "pyplot.savefig(path+name+'_spectrum_steady.png',bbox_inches='tight')"
   ]
  },
  {
   "cell_type": "code",
   "execution_count": null,
   "metadata": {
    "collapsed": false
   },
   "outputs": [],
   "source": [
    "pyplot.close(\"all\")"
   ]
  },
  {
   "cell_type": "code",
   "execution_count": null,
   "metadata": {
    "collapsed": true
   },
   "outputs": [],
   "source": []
  }
 ],
 "metadata": {
  "anaconda-cloud": {},
  "kernelspec": {
   "display_name": "Python 2",
   "language": "python",
   "name": "python2"
  },
  "language_info": {
   "codemirror_mode": {
    "name": "ipython",
    "version": 2
   },
   "file_extension": ".py",
   "mimetype": "text/x-python",
   "name": "python",
   "nbconvert_exporter": "python",
   "pygments_lexer": "ipython2",
   "version": "2.7.13"
  }
 },
 "nbformat": 4,
 "nbformat_minor": 0
}
