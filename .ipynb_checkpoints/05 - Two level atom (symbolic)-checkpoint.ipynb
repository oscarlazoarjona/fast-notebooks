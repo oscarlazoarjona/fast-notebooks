{
 "cells": [
  {
   "cell_type": "code",
   "execution_count": 1,
   "metadata": {
    "collapsed": true
   },
   "outputs": [],
   "source": [
    "from fast import *\n",
    "init_printing()\n",
    "use_unicode=True#; use_unicode=False"
   ]
  },
  {
   "cell_type": "code",
   "execution_count": 2,
   "metadata": {
    "collapsed": false
   },
   "outputs": [],
   "source": [
    "from sympy import sin,cos,exp,sqrt,pi,zeros,I"
   ]
  },
  {
   "cell_type": "markdown",
   "metadata": {},
   "source": [
    "We define the number of states and of radiation fields."
   ]
  },
  {
   "cell_type": "code",
   "execution_count": 3,
   "metadata": {
    "collapsed": true
   },
   "outputs": [],
   "source": [
    "Ne=2\n",
    "Nl=1"
   ]
  },
  {
   "cell_type": "markdown",
   "metadata": {},
   "source": [
    "We define the variables related to the laser field."
   ]
  },
  {
   "cell_type": "code",
   "execution_count": 4,
   "metadata": {
    "collapsed": false
   },
   "outputs": [
    {
     "name": "stdout",
     "output_type": "stream",
     "text": [
      "[E¹₀]\n"
     ]
    }
   ],
   "source": [
    "E0,omega_laser=define_laser_variables(Nl)\n",
    "pprint(E0,use_unicode=use_unicode)"
   ]
  },
  {
   "cell_type": "code",
   "execution_count": 5,
   "metadata": {
    "collapsed": false
   },
   "outputs": [
    {
     "name": "stdout",
     "output_type": "stream",
     "text": [
      "[ω¹]\n"
     ]
    }
   ],
   "source": [
    "pprint(omega_laser,use_unicode=use_unicode)"
   ]
  },
  {
   "cell_type": "markdown",
   "metadata": {},
   "source": [
    "We define a few important symbols."
   ]
  },
  {
   "cell_type": "code",
   "execution_count": 6,
   "metadata": {
    "collapsed": false
   },
   "outputs": [
    {
     "name": "stdout",
     "output_type": "stream",
     "text": [
      "[t, h̅, e]\n"
     ]
    }
   ],
   "source": [
    "t,hbar,e=symbols(\"t hbar e\",positive=True)\n",
    "pprint([t,hbar,e],use_unicode=use_unicode)"
   ]
  },
  {
   "cell_type": "markdown",
   "metadata": {},
   "source": [
    "We write an electric field propagating trough the $\\hat{x}$ direction polarized in the $\\hat{z}$ direction. First the wave vector:"
   ]
  },
  {
   "cell_type": "code",
   "execution_count": 7,
   "metadata": {
    "collapsed": false
   },
   "outputs": [
    {
     "name": "stdout",
     "output_type": "stream",
     "text": [
      "⎡1⎤\n",
      "⎢ ⎥\n",
      "⎢0⎥\n",
      "⎢ ⎥\n",
      "⎣0⎦\n"
     ]
    }
   ],
   "source": [
    "phi=0; theta=pi/2; alpha=pi/2; beta=0\n",
    "\n",
    "k=Matrix([cos(phi)*sin(theta),sin(phi)*sin(theta),cos(theta)])\n",
    "pprint(k,use_unicode=use_unicode)"
   ]
  },
  {
   "cell_type": "markdown",
   "metadata": {},
   "source": [
    "The polarization vectors."
   ]
  },
  {
   "cell_type": "code",
   "execution_count": 8,
   "metadata": {
    "collapsed": false
   },
   "outputs": [
    {
     "name": "stdout",
     "output_type": "stream",
     "text": [
      "⎡⎡0⎤, ⎡0⎤⎤\n",
      "⎢⎢ ⎥  ⎢ ⎥⎥\n",
      "⎢⎢0⎥  ⎢0⎥⎥\n",
      "⎢⎢ ⎥  ⎢ ⎥⎥\n",
      "⎣⎣1⎦  ⎣1⎦⎦\n"
     ]
    }
   ],
   "source": [
    "ep=polarization_vector(phi,theta,alpha,beta, 1)\n",
    "em=polarization_vector(phi,theta,alpha,beta,-1)\n",
    "pprint([ep,em],use_unicode=use_unicode)"
   ]
  },
  {
   "cell_type": "markdown",
   "metadata": {},
   "source": [
    "The electric field (evaluated in $\\vec{R}=0$)."
   ]
  },
  {
   "cell_type": "code",
   "execution_count": 9,
   "metadata": {
    "collapsed": false
   },
   "outputs": [
    {
     "name": "stdout",
     "output_type": "stream",
     "text": [
      "⎡            0             ⎤\n",
      "⎢                          ⎥\n",
      "⎢            0             ⎥\n",
      "⎢                          ⎥\n",
      "⎢     -ⅈ⋅ω¹⋅t    ⅈ⋅ω¹⋅t ___⎥\n",
      "⎢E¹₀⋅ℯ          ℯ      ⋅E¹₀⎥\n",
      "⎢──────────── + ───────────⎥\n",
      "⎣     2              2     ⎦\n"
     ]
    }
   ],
   "source": [
    "E_cartesian=(E0[0]/2*ep*exp(-I*omega_laser[0]*t) + E0[0].conjugate()/2*em*exp( I*omega_laser[0]*t))\n",
    "pprint(E_cartesian,use_unicode=use_unicode)"
   ]
  },
  {
   "cell_type": "markdown",
   "metadata": {},
   "source": [
    "We write the electric field in the helicity basis."
   ]
  },
  {
   "cell_type": "code",
   "execution_count": 10,
   "metadata": {
    "collapsed": false
   },
   "outputs": [
    {
     "name": "stdout",
     "output_type": "stream",
     "text": [
      "⎡            0             ⎤\n",
      "⎢                          ⎥\n",
      "⎢     -ⅈ⋅ω¹⋅t    ⅈ⋅ω¹⋅t ___⎥\n",
      "⎢E¹₀⋅ℯ          ℯ      ⋅E¹₀⎥\n",
      "⎢──────────── + ───────────⎥\n",
      "⎢     2              2     ⎥\n",
      "⎢                          ⎥\n",
      "⎣            0             ⎦\n"
     ]
    }
   ],
   "source": [
    "E=cartesian_to_helicity(E_cartesian)\n",
    "pprint(E,use_unicode=use_unicode)"
   ]
  },
  {
   "cell_type": "markdown",
   "metadata": {},
   "source": [
    "We define the position operator."
   ]
  },
  {
   "cell_type": "code",
   "execution_count": 11,
   "metadata": {
    "collapsed": false
   },
   "outputs": [
    {
     "name": "stdout",
     "output_type": "stream",
     "text": [
      "⎡⎡    0      -r_{+1;21}⎤, ⎡   0      r_{0;21}⎤, ⎡    0      -r_{-1;21}⎤⎤\n",
      "⎢⎢                     ⎥  ⎢                  ⎥  ⎢                     ⎥⎥\n",
      "⎣⎣r_{-1;21}      0     ⎦  ⎣r_{0;21}     0    ⎦  ⎣r_{+1;21}      0     ⎦⎦\n"
     ]
    }
   ],
   "source": [
    "r=define_r_components(Ne,helicity=True,explicitly_hermitian=True)\n",
    "pprint(r,use_unicode=use_unicode)"
   ]
  },
  {
   "cell_type": "markdown",
   "metadata": {},
   "source": [
    "The frequencies of the energy levels, the resonant frequencies, and the decay frequencies."
   ]
  },
  {
   "cell_type": "code",
   "execution_count": 12,
   "metadata": {
    "collapsed": false
   },
   "outputs": [
    {
     "name": "stdout",
     "output_type": "stream",
     "text": [
      "[ω₁, ω₂]\n"
     ]
    }
   ],
   "source": [
    "omega_level,omega,gamma=define_frequencies(Ne,explicitly_antisymmetric=True)\n",
    "pprint(omega_level,use_unicode=use_unicode)"
   ]
  },
  {
   "cell_type": "code",
   "execution_count": 13,
   "metadata": {
    "collapsed": false
   },
   "outputs": [
    {
     "name": "stdout",
     "output_type": "stream",
     "text": [
      "⎡ 0   -ω₂₁⎤\n",
      "⎢         ⎥\n",
      "⎣ω₂₁   0  ⎦\n"
     ]
    }
   ],
   "source": [
    "pprint(omega,use_unicode=use_unicode)"
   ]
  },
  {
   "cell_type": "code",
   "execution_count": 14,
   "metadata": {
    "collapsed": false
   },
   "outputs": [
    {
     "name": "stdout",
     "output_type": "stream",
     "text": [
      "⎡ 0   -γ₂₁⎤\n",
      "⎢         ⎥\n",
      "⎣γ₂₁   0  ⎦\n"
     ]
    }
   ],
   "source": [
    "pprint(gamma,use_unicode=use_unicode)"
   ]
  },
  {
   "cell_type": "markdown",
   "metadata": {},
   "source": [
    "The atomic hamiltonian is"
   ]
  },
  {
   "cell_type": "code",
   "execution_count": 15,
   "metadata": {
    "collapsed": false
   },
   "outputs": [
    {
     "name": "stdout",
     "output_type": "stream",
     "text": [
      "⎡h̅⋅ω₁    0  ⎤\n",
      "⎢            ⎥\n",
      "⎣  0    h̅⋅ω₂⎦\n"
     ]
    }
   ],
   "source": [
    "H0=Matrix([[hbar*omega_level[i]*KroneckerDelta(i,j) for j in range(Ne)] for i in range(Ne)])\n",
    "pprint(H0,use_unicode=use_unicode)"
   ]
  },
  {
   "cell_type": "markdown",
   "metadata": {
    "collapsed": false
   },
   "source": [
    "The interaction hamiltonian is"
   ]
  },
  {
   "cell_type": "code",
   "execution_count": 16,
   "metadata": {
    "collapsed": false
   },
   "outputs": [
    {
     "name": "stdout",
     "output_type": "stream",
     "text": [
      "⎡                                                    ⎛     -ⅈ⋅ω¹⋅t    ⅈ⋅ω¹⋅t ___⎞⎤\n",
      "⎢                                                    ⎜E¹₀⋅ℯ          ℯ      ⋅E¹₀⎟⎥\n",
      "⎢                   0                     e⋅r_{0;21}⋅⎜──────────── + ───────────⎟⎥\n",
      "⎢                                                    ⎝     2              2     ⎠⎥\n",
      "⎢                                                                                ⎥\n",
      "⎢           ⎛     -ⅈ⋅ω¹⋅t    ⅈ⋅ω¹⋅t ___⎞                                         ⎥\n",
      "⎢           ⎜E¹₀⋅ℯ          ℯ      ⋅E¹₀⎟                                         ⎥\n",
      "⎢e⋅r_{0;21}⋅⎜──────────── + ───────────⎟                     0                   ⎥\n",
      "⎣           ⎝     2              2     ⎠                                         ⎦\n"
     ]
    }
   ],
   "source": [
    "H1=e*helicity_dot_product(E,r)\n",
    "pprint(H1,num_columns=120,use_unicode=use_unicode)"
   ]
  },
  {
   "cell_type": "markdown",
   "metadata": {},
   "source": [
    "and the complete hamiltonian is"
   ]
  },
  {
   "cell_type": "code",
   "execution_count": 17,
   "metadata": {
    "collapsed": false
   },
   "outputs": [
    {
     "name": "stdout",
     "output_type": "stream",
     "text": [
      "⎡                                                    ⎛     -ⅈ⋅ω¹⋅t    ⅈ⋅ω¹⋅t ___⎞⎤\n",
      "⎢                                                    ⎜E¹₀⋅ℯ          ℯ      ⋅E¹₀⎟⎥\n",
      "⎢                 h̅⋅ω₁                   e⋅r_{0;21}⋅⎜──────────── + ───────────⎟⎥\n",
      "⎢                                                    ⎝     2              2     ⎠⎥\n",
      "⎢                                                                                ⎥\n",
      "⎢           ⎛     -ⅈ⋅ω¹⋅t    ⅈ⋅ω¹⋅t ___⎞                                         ⎥\n",
      "⎢           ⎜E¹₀⋅ℯ          ℯ      ⋅E¹₀⎟                                         ⎥\n",
      "⎢e⋅r_{0;21}⋅⎜──────────── + ───────────⎟                   h̅⋅ω₂                 ⎥\n",
      "⎣           ⎝     2              2     ⎠                                         ⎦\n"
     ]
    }
   ],
   "source": [
    "H=H0+H1\n",
    "pprint(H,num_columns=120,use_unicode=use_unicode)"
   ]
  },
  {
   "cell_type": "markdown",
   "metadata": {
    "collapsed": true
   },
   "source": [
    "# Rotating wave approximation\n",
    "Notice that the electric field can be separated by terms with positive and negative frequency:"
   ]
  },
  {
   "cell_type": "code",
   "execution_count": 18,
   "metadata": {
    "collapsed": false
   },
   "outputs": [
    {
     "name": "stdout",
     "output_type": "stream",
     "text": [
      "⎡⎡     0      ⎤, ⎡     0     ⎤⎤\n",
      "⎢⎢            ⎥  ⎢           ⎥⎥\n",
      "⎢⎢     -ⅈ⋅ω¹⋅t⎥  ⎢ ⅈ⋅ω¹⋅t ___⎥⎥\n",
      "⎢⎢E¹₀⋅ℯ       ⎥  ⎢ℯ      ⋅E¹₀⎥⎥\n",
      "⎢⎢────────────⎥  ⎢───────────⎥⎥\n",
      "⎢⎢     2      ⎥  ⎢     2     ⎥⎥\n",
      "⎢⎢            ⎥  ⎢           ⎥⎥\n",
      "⎣⎣     0      ⎦  ⎣     0     ⎦⎦\n"
     ]
    }
   ],
   "source": [
    "E_cartesian_p=E0[0]            /2*ep*exp(-I*omega_laser[0]*t)\n",
    "E_cartesian_m=E0[0].conjugate()/2*em*exp( I*omega_laser[0]*t)\n",
    "\n",
    "E_p=cartesian_to_helicity(E_cartesian_p)\n",
    "E_m=cartesian_to_helicity(E_cartesian_m)\n",
    "\n",
    "pprint([E_p,E_m],use_unicode=use_unicode)"
   ]
  },
  {
   "cell_type": "code",
   "execution_count": 19,
   "metadata": {
    "collapsed": false
   },
   "outputs": [
    {
     "name": "stdout",
     "output_type": "stream",
     "text": [
      "⎡0⎤\n",
      "⎢ ⎥\n",
      "⎢0⎥\n",
      "⎢ ⎥\n",
      "⎣0⎦\n"
     ]
    }
   ],
   "source": [
    "pprint( simplify(E-(E_p+E_m)) ,use_unicode=use_unicode)"
   ]
  },
  {
   "cell_type": "markdown",
   "metadata": {},
   "source": [
    "The position operator can also be separated in this way. We go to the interaction picture (with $\\hat{H}_0$ as the undisturbed hamiltonian)"
   ]
  },
  {
   "cell_type": "code",
   "execution_count": 20,
   "metadata": {
    "collapsed": false
   },
   "outputs": [
    {
     "name": "stdout",
     "output_type": "stream",
     "text": [
      "⎡                                -ⅈ⋅ω₂₁⋅t⎤\n",
      "⎢        0           -r_{+1;21}⋅ℯ        ⎥\n",
      "⎢                                        ⎥\n",
      "⎢           ⅈ⋅ω₂₁⋅t                      ⎥\n",
      "⎣r_{-1;21}⋅ℯ                  0          ⎦\n"
     ]
    }
   ],
   "source": [
    "r_I=[ Matrix([[exp(I*omega[i,j]*t)*r[p][i,j] for j in range(Ne)] for i in range(Ne)]) for p in range(3)]\n",
    "pprint(r_I[0],use_unicode=use_unicode)"
   ]
  },
  {
   "cell_type": "code",
   "execution_count": 21,
   "metadata": {
    "collapsed": false
   },
   "outputs": [
    {
     "name": "stdout",
     "output_type": "stream",
     "text": [
      "⎡                             -ⅈ⋅ω₂₁⋅t⎤\n",
      "⎢        0          r_{0;21}⋅ℯ        ⎥\n",
      "⎢                                     ⎥\n",
      "⎢          ⅈ⋅ω₂₁⋅t                    ⎥\n",
      "⎣r_{0;21}⋅ℯ                 0         ⎦\n"
     ]
    }
   ],
   "source": [
    "pprint(r_I[1],use_unicode=use_unicode)"
   ]
  },
  {
   "cell_type": "code",
   "execution_count": 22,
   "metadata": {
    "collapsed": false
   },
   "outputs": [
    {
     "name": "stdout",
     "output_type": "stream",
     "text": [
      "⎡                                -ⅈ⋅ω₂₁⋅t⎤\n",
      "⎢        0           -r_{-1;21}⋅ℯ        ⎥\n",
      "⎢                                        ⎥\n",
      "⎢           ⅈ⋅ω₂₁⋅t                      ⎥\n",
      "⎣r_{+1;21}⋅ℯ                  0          ⎦\n"
     ]
    }
   ],
   "source": [
    "pprint(r_I[2],use_unicode=use_unicode)"
   ]
  },
  {
   "cell_type": "markdown",
   "metadata": {},
   "source": [
    "Which can be decomposed as"
   ]
  },
  {
   "cell_type": "code",
   "execution_count": 23,
   "metadata": {
    "collapsed": false
   },
   "outputs": [
    {
     "name": "stdout",
     "output_type": "stream",
     "text": [
      "⎡               -ⅈ⋅ω₂₁⋅t⎤\n",
      "⎢0  -r_{+1;21}⋅ℯ        ⎥\n",
      "⎢                       ⎥\n",
      "⎣0           0          ⎦\n"
     ]
    }
   ],
   "source": [
    "r_I_p=[ Matrix([[ delta_greater(j,i)*exp(-I*omega[j,i]*t)*r[p][i,j] for j in range(Ne)]for i in range(Ne)]) for p in range(3)]\n",
    "pprint(r_I_p[0],use_unicode=use_unicode)"
   ]
  },
  {
   "cell_type": "code",
   "execution_count": 24,
   "metadata": {
    "collapsed": false
   },
   "outputs": [
    {
     "name": "stdout",
     "output_type": "stream",
     "text": [
      "⎡             -ⅈ⋅ω₂₁⋅t⎤\n",
      "⎢0  r_{0;21}⋅ℯ        ⎥\n",
      "⎢                     ⎥\n",
      "⎣0          0         ⎦\n"
     ]
    }
   ],
   "source": [
    "pprint(r_I_p[1],use_unicode=use_unicode)"
   ]
  },
  {
   "cell_type": "code",
   "execution_count": 25,
   "metadata": {
    "collapsed": false
   },
   "outputs": [
    {
     "name": "stdout",
     "output_type": "stream",
     "text": [
      "⎡               -ⅈ⋅ω₂₁⋅t⎤\n",
      "⎢0  -r_{-1;21}⋅ℯ        ⎥\n",
      "⎢                       ⎥\n",
      "⎣0           0          ⎦\n"
     ]
    }
   ],
   "source": [
    "pprint(r_I_p[2],use_unicode=use_unicode)"
   ]
  },
  {
   "cell_type": "code",
   "execution_count": 26,
   "metadata": {
    "collapsed": false
   },
   "outputs": [
    {
     "name": "stdout",
     "output_type": "stream",
     "text": [
      "⎡        0           0⎤\n",
      "⎢                     ⎥\n",
      "⎢           ⅈ⋅ω₂₁⋅t   ⎥\n",
      "⎣r_{-1;21}⋅ℯ         0⎦\n"
     ]
    }
   ],
   "source": [
    "r_I_m=[ Matrix([[ delta_lesser( j,i)*exp( I*omega[i,j]*t)*r[p][i,j] for j in range(Ne)]for i in range(Ne)]) for p in range(3)]\n",
    "pprint(r_I_m[0],use_unicode=use_unicode)"
   ]
  },
  {
   "cell_type": "code",
   "execution_count": 27,
   "metadata": {
    "collapsed": false
   },
   "outputs": [
    {
     "name": "stdout",
     "output_type": "stream",
     "text": [
      "⎡        0          0⎤\n",
      "⎢                    ⎥\n",
      "⎢          ⅈ⋅ω₂₁⋅t   ⎥\n",
      "⎣r_{0;21}⋅ℯ         0⎦\n"
     ]
    }
   ],
   "source": [
    "pprint(r_I_m[1],use_unicode=use_unicode)"
   ]
  },
  {
   "cell_type": "code",
   "execution_count": 28,
   "metadata": {
    "collapsed": false
   },
   "outputs": [
    {
     "name": "stdout",
     "output_type": "stream",
     "text": [
      "⎡        0           0⎤\n",
      "⎢                     ⎥\n",
      "⎢           ⅈ⋅ω₂₁⋅t   ⎥\n",
      "⎣r_{+1;21}⋅ℯ         0⎦\n"
     ]
    }
   ],
   "source": [
    "pprint(r_I_m[2],use_unicode=use_unicode)"
   ]
  },
  {
   "cell_type": "markdown",
   "metadata": {},
   "source": [
    "that summed equal $\\vec{\\hat{r}}_I$"
   ]
  },
  {
   "cell_type": "code",
   "execution_count": 29,
   "metadata": {
    "collapsed": false
   },
   "outputs": [
    {
     "name": "stdout",
     "output_type": "stream",
     "text": [
      "⎡⎡0  0⎤, ⎡0  0⎤, ⎡0  0⎤⎤\n",
      "⎢⎢    ⎥  ⎢    ⎥  ⎢    ⎥⎥\n",
      "⎣⎣0  0⎦  ⎣0  0⎦  ⎣0  0⎦⎦\n"
     ]
    }
   ],
   "source": [
    "pprint( [r_I[p]-(r_I_p[p]+r_I_m[p]) for p in range(3)] ,use_unicode=use_unicode)"
   ]
  },
  {
   "cell_type": "markdown",
   "metadata": {},
   "source": [
    "Thus the interaction hamiltonian in the interaciton picture is\n",
    "\\begin{equation}\n",
    "    \\hat{H}_{1I}=e\\vec{E}\\cdot \\vec{\\hat{r}}_I= e(\\vec{E}^{(+)}\\cdot \\vec{\\hat{r}}^{(+)}_I + \\vec{E}^{(+)}\\cdot \\vec{\\hat{r}}^{(-)}_I + \\vec{E}^{(-)}\\cdot \\vec{\\hat{r}}^{(+)}_I + \\vec{E}^{(-)}\\cdot \\vec{\\hat{r}}^{(-)}_I)\n",
    "\\end{equation}"
   ]
  },
  {
   "cell_type": "code",
   "execution_count": 30,
   "metadata": {
    "collapsed": false
   },
   "outputs": [
    {
     "name": "stdout",
     "output_type": "stream",
     "text": [
      "⎡                                                             ⎛     -ⅈ⋅ω¹⋅t    ⅈ⋅ω¹⋅t ___⎞          ⎤\n",
      "⎢                                                             ⎜E¹₀⋅ℯ          ℯ      ⋅E¹₀⎟  -ⅈ⋅ω₂₁⋅t⎥\n",
      "⎢                       0                          e⋅r_{0;21}⋅⎜──────────── + ───────────⎟⋅ℯ        ⎥\n",
      "⎢                                                             ⎝     2              2     ⎠          ⎥\n",
      "⎢                                                                                                   ⎥\n",
      "⎢           ⎛     -ⅈ⋅ω¹⋅t    ⅈ⋅ω¹⋅t ___⎞                                                            ⎥\n",
      "⎢           ⎜E¹₀⋅ℯ          ℯ      ⋅E¹₀⎟  ⅈ⋅ω₂₁⋅t                                                   ⎥\n",
      "⎢e⋅r_{0;21}⋅⎜──────────── + ───────────⎟⋅ℯ                                 0                        ⎥\n",
      "⎣           ⎝     2              2     ⎠                                                            ⎦\n"
     ]
    }
   ],
   "source": [
    "H1I=e*helicity_dot_product(E,r_I)\n",
    "pprint(H1I,num_columns=120,use_unicode=use_unicode)"
   ]
  },
  {
   "cell_type": "markdown",
   "metadata": {},
   "source": [
    "Since both $\\omega^l$ and $\\omega_{ij}$ are in the order of THz, the terms that have frequencies with the same sign are summed, and thus also of the order of THz. The frequencies in the terms with oposite signs however, are detunings of the order of MHz. Since we are only interested in the coarse-grained evolution of the density matrix, we may omit the fast terms and approximate\n",
    "\n",
    "\\begin{equation}\n",
    "    \\hat{H}_{1I} \\simeq \\hat{H}_{1I,RWA}= e( \\vec{E}^{(+)}\\cdot \\vec{\\hat{r}}^{(-)}_I + \\vec{E}^{(-)}\\cdot \\vec{\\hat{r}}^{(+)}_I )\n",
    "\\end{equation}\n",
    "\n",
    "That is known as the rotating wave approximation (RWA)."
   ]
  },
  {
   "cell_type": "code",
   "execution_count": 31,
   "metadata": {
    "collapsed": false
   },
   "outputs": [
    {
     "name": "stdout",
     "output_type": "stream",
     "text": [
      "⎡                                              ⅈ⋅ω¹⋅t  -ⅈ⋅ω₂₁⋅t ___⎤\n",
      "⎢                                  e⋅r_{0;21}⋅ℯ      ⋅ℯ        ⋅E¹₀⎥\n",
      "⎢               0                  ────────────────────────────────⎥\n",
      "⎢                                                 2                ⎥\n",
      "⎢                                                                  ⎥\n",
      "⎢                -ⅈ⋅ω¹⋅t  ⅈ⋅ω₂₁⋅t                                  ⎥\n",
      "⎢E¹₀⋅e⋅r_{0;21}⋅ℯ       ⋅ℯ                                         ⎥\n",
      "⎢────────────────────────────────                 0                ⎥\n",
      "⎣               2                                                  ⎦\n"
     ]
    }
   ],
   "source": [
    "H1IRWA=e*(helicity_dot_product(E_p,r_I_m)+helicity_dot_product(E_m,r_I_p))\n",
    "pprint(H1IRWA,use_unicode=use_unicode)"
   ]
  },
  {
   "cell_type": "markdown",
   "metadata": {},
   "source": [
    " Returning to the Schrödinger picture we have."
   ]
  },
  {
   "cell_type": "code",
   "execution_count": 32,
   "metadata": {
    "collapsed": false
   },
   "outputs": [
    {
     "name": "stdout",
     "output_type": "stream",
     "text": [
      "⎡⎡0  -r_{+1;21}⎤, ⎡0  r_{0;21}⎤, ⎡0  -r_{-1;21}⎤⎤\n",
      "⎢⎢             ⎥  ⎢           ⎥  ⎢             ⎥⎥\n",
      "⎣⎣0      0     ⎦  ⎣0     0    ⎦  ⎣0      0     ⎦⎦\n"
     ]
    }
   ],
   "source": [
    "r_p=[ Matrix([[ delta_greater(j,i)*r[p][i,j] for j in range(Ne)]for i in range(Ne)]) for p in range(3)]\n",
    "pprint(r_p,use_unicode=use_unicode)"
   ]
  },
  {
   "cell_type": "code",
   "execution_count": 33,
   "metadata": {
    "collapsed": false
   },
   "outputs": [
    {
     "name": "stdout",
     "output_type": "stream",
     "text": [
      "⎡⎡    0      0⎤, ⎡   0      0⎤, ⎡    0      0⎤⎤\n",
      "⎢⎢            ⎥  ⎢           ⎥  ⎢            ⎥⎥\n",
      "⎣⎣r_{-1;21}  0⎦  ⎣r_{0;21}  0⎦  ⎣r_{+1;21}  0⎦⎦\n"
     ]
    }
   ],
   "source": [
    "r_m=[ Matrix([[ delta_lesser( j,i)*r[p][i,j] for j in range(Ne)]for i in range(Ne)]) for p in range(3)]\n",
    "pprint(r_m,use_unicode=use_unicode)"
   ]
  },
  {
   "cell_type": "code",
   "execution_count": 34,
   "metadata": {
    "collapsed": false
   },
   "outputs": [
    {
     "name": "stdout",
     "output_type": "stream",
     "text": [
      "⎡⎡0  0⎤, ⎡0  0⎤, ⎡0  0⎤⎤\n",
      "⎢⎢    ⎥  ⎢    ⎥  ⎢    ⎥⎥\n",
      "⎣⎣0  0⎦  ⎣0  0⎦  ⎣0  0⎦⎦\n"
     ]
    }
   ],
   "source": [
    "pprint( [r[p]-(r_p[p]+r_m[p]) for p in range(3)] ,use_unicode=use_unicode)"
   ]
  },
  {
   "cell_type": "markdown",
   "metadata": {},
   "source": [
    "Thus the interaction hamiltonian in the Schrödinger picture in the rotating wave approximation is"
   ]
  },
  {
   "cell_type": "code",
   "execution_count": 35,
   "metadata": {
    "collapsed": false
   },
   "outputs": [
    {
     "name": "stdout",
     "output_type": "stream",
     "text": [
      "⎡                                     ⅈ⋅ω¹⋅t ___⎤\n",
      "⎢                         e⋅r_{0;21}⋅ℯ      ⋅E¹₀⎥\n",
      "⎢           0             ──────────────────────⎥\n",
      "⎢                                   2           ⎥\n",
      "⎢                                               ⎥\n",
      "⎢                -ⅈ⋅ω¹⋅t                        ⎥\n",
      "⎢E¹₀⋅e⋅r_{0;21}⋅ℯ                               ⎥\n",
      "⎢───────────────────────            0           ⎥\n",
      "⎣           2                                   ⎦\n"
     ]
    }
   ],
   "source": [
    "H1RWA=e*(helicity_dot_product(E_p,r_m)+helicity_dot_product(E_m,r_p))\n",
    "pprint(H1RWA,use_unicode=use_unicode)"
   ]
  },
  {
   "cell_type": "markdown",
   "metadata": {},
   "source": [
    "And the complete hamiltonian in the Schrödinger picture in the rotating wave approximation is"
   ]
  },
  {
   "cell_type": "code",
   "execution_count": 36,
   "metadata": {
    "collapsed": false
   },
   "outputs": [
    {
     "name": "stdout",
     "output_type": "stream",
     "text": [
      "⎡                                     ⅈ⋅ω¹⋅t ___⎤\n",
      "⎢                         e⋅r_{0;21}⋅ℯ      ⋅E¹₀⎥\n",
      "⎢         h̅⋅ω₁           ──────────────────────⎥\n",
      "⎢                                   2           ⎥\n",
      "⎢                                               ⎥\n",
      "⎢                -ⅈ⋅ω¹⋅t                        ⎥\n",
      "⎢E¹₀⋅e⋅r_{0;21}⋅ℯ                               ⎥\n",
      "⎢───────────────────────          h̅⋅ω₂         ⎥\n",
      "⎣           2                                   ⎦\n"
     ]
    }
   ],
   "source": [
    "HRWA=H0+H1RWA\n",
    "pprint(HRWA,use_unicode=use_unicode)"
   ]
  },
  {
   "cell_type": "markdown",
   "metadata": {
    "collapsed": true
   },
   "source": [
    "# Rotating Frame\n",
    "Next we will make a phase transformation in order to eliminate the explicit time dependance of the equations."
   ]
  },
  {
   "cell_type": "code",
   "execution_count": 37,
   "metadata": {
    "collapsed": false
   },
   "outputs": [
    {
     "name": "stdout",
     "output_type": "stream",
     "text": [
      "⎡⎡c₁(t)⎤, ⎡\\tilde{c}_{1}(t)⎤, ⎡θ₁⎤⎤\n",
      "⎢⎢     ⎥  ⎢                ⎥  ⎢  ⎥⎥\n",
      "⎣⎣c₂(t)⎦  ⎣\\tilde{c}_{2}(t)⎦  ⎣θ₂⎦⎦\n"
     ]
    }
   ],
   "source": [
    "c,ctilde,phase=define_psi_coefficients(Ne)\n",
    "pprint([c,ctilde,phase],use_unicode=use_unicode)"
   ]
  },
  {
   "cell_type": "code",
   "execution_count": 38,
   "metadata": {
    "collapsed": false
   },
   "outputs": [
    {
     "name": "stdout",
     "output_type": "stream",
     "text": [
      "⎡                  ⅈ⋅t⋅θ₁⎤\n",
      "⎢\\tilde{c}_{1}(t)⋅ℯ      ⎥\n",
      "⎢                        ⎥\n",
      "⎢                  ⅈ⋅t⋅θ₂⎥\n",
      "⎣\\tilde{c}_{2}(t)⋅ℯ      ⎦\n"
     ]
    }
   ],
   "source": [
    "psi=Matrix([ exp(I*phase[i]*t)*ctilde[i] for i in range(Ne)])\n",
    "pprint(psi,use_unicode=use_unicode)"
   ]
  },
  {
   "cell_type": "markdown",
   "metadata": {},
   "source": [
    "The Schrödinger equation $i\\hbar \\partial_t |\\psi\\rangle=\\hat{H}_{RWA}$ is"
   ]
  },
  {
   "cell_type": "code",
   "execution_count": 39,
   "metadata": {
    "collapsed": false
   },
   "outputs": [
    {
     "name": "stdout",
     "output_type": "stream",
     "text": [
      "⎡                         ⅈ⋅t⋅θ₁⎤\n",
      "⎢-h̅⋅θ₁⋅\\tilde{c}_{1}(t)⋅ℯ      ⎥\n",
      "⎢                               ⎥\n",
      "⎢                         ⅈ⋅t⋅θ₂⎥\n",
      "⎣-h̅⋅θ₂⋅\\tilde{c}_{2}(t)⋅ℯ      ⎦\n"
     ]
    }
   ],
   "source": [
    "lhs=Matrix([(I*hbar*Derivative(psi[i],t).doit()).expand() for i in range(Ne)])\n",
    "pprint(lhs,use_unicode=use_unicode)"
   ]
  },
  {
   "cell_type": "code",
   "execution_count": 40,
   "metadata": {
    "collapsed": false
   },
   "outputs": [
    {
     "name": "stdout",
     "output_type": "stream",
     "text": [
      "⎡                             ⅈ⋅ω¹⋅t  ⅈ⋅t⋅θ₂ ___                                  ⎤\n",
      "⎢e⋅r_{0;21}⋅\\tilde{c}_{2}(t)⋅ℯ      ⋅ℯ      ⋅E¹₀                           ⅈ⋅t⋅θ₁ ⎥\n",
      "⎢─────────────────────────────────────────────── + h̅⋅ω₁⋅\\tilde{c}_{1}(t)⋅ℯ       ⎥\n",
      "⎢                       2                                                         ⎥\n",
      "⎢                                                                                 ⎥\n",
      "⎢                                 -ⅈ⋅ω¹⋅t  ⅈ⋅t⋅θ₁                                 ⎥\n",
      "⎢E¹₀⋅e⋅r_{0;21}⋅\\tilde{c}_{1}(t)⋅ℯ       ⋅ℯ                                 ⅈ⋅t⋅θ₂⎥\n",
      "⎢──────────────────────────────────────────────── + h̅⋅ω₂⋅\\tilde{c}_{2}(t)⋅ℯ      ⎥\n",
      "⎣                       2                                                         ⎦\n"
     ]
    }
   ],
   "source": [
    "rhs=HRWA*psi\n",
    "pprint(rhs,num_columns=120,use_unicode=use_unicode)"
   ]
  },
  {
   "cell_type": "markdown",
   "metadata": {},
   "source": [
    "We multiply each of these equations by $e^{-i \\theta_i t}$ and substracting $i \\theta_i \\tilde{c}_i$"
   ]
  },
  {
   "cell_type": "code",
   "execution_count": 41,
   "metadata": {
    "collapsed": false
   },
   "outputs": [
    {
     "name": "stdout",
     "output_type": "stream",
     "text": [
      "⎡0⎤\n",
      "⎢ ⎥\n",
      "⎣0⎦\n"
     ]
    }
   ],
   "source": [
    "lhs_new=Matrix([simplify(  lhs[i]*exp(-I*phase[i]*t) +hbar*phase[i]*ctilde[i] ) for i in range(Ne)])\n",
    "pprint(lhs_new,use_unicode=use_unicode)"
   ]
  },
  {
   "cell_type": "code",
   "execution_count": 42,
   "metadata": {
    "collapsed": false
   },
   "outputs": [
    {
     "name": "stdout",
     "output_type": "stream",
     "text": [
      "⎡                             ⅈ⋅ω¹⋅t  -ⅈ⋅t⋅θ₁  ⅈ⋅t⋅θ₂ ___                                                   ⎤\n",
      "⎢e⋅r_{0;21}⋅\\tilde{c}_{2}(t)⋅ℯ      ⋅ℯ       ⋅ℯ      ⋅E¹₀                                                   ⎥\n",
      "⎢──────────────────────────────────────────────────────── + h̅⋅ω₁⋅\\tilde{c}_{1}(t) + h̅⋅θ₁⋅\\tilde{c}_{1}(t) ⎥\n",
      "⎢                           2                                                                               ⎥\n",
      "⎢                                                                                                           ⎥\n",
      "⎢                                 -ⅈ⋅ω¹⋅t  ⅈ⋅t⋅θ₁  -ⅈ⋅t⋅θ₂                                                  ⎥\n",
      "⎢E¹₀⋅e⋅r_{0;21}⋅\\tilde{c}_{1}(t)⋅ℯ       ⋅ℯ      ⋅ℯ                                                         ⎥\n",
      "⎢───────────────────────────────────────────────────────── + h̅⋅ω₂⋅\\tilde{c}_{2}(t) + h̅⋅θ₂⋅\\tilde{c}_{2}(t)⎥\n",
      "⎣                            2                                                                              ⎦\n"
     ]
    }
   ],
   "source": [
    "rhs_new=Matrix([simplify(  rhs[i]*exp(-I*phase[i]*t) +hbar*phase[i]*ctilde[i] ) for i in range(Ne)])\n",
    "pprint(rhs_new,num_columns=120,use_unicode=use_unicode)"
   ]
  },
  {
   "cell_type": "markdown",
   "metadata": {},
   "source": [
    "It can be seen that the equations loose their explicit time dependance only if $\\omega^{1} - \\theta_{1} + \\theta_{2}=0$. Which is satisfied if"
   ]
  },
  {
   "cell_type": "code",
   "execution_count": 43,
   "metadata": {
    "collapsed": false
   },
   "outputs": [
    {
     "name": "stdout",
     "output_type": "stream",
     "text": [
      "{θ₂: -ω¹ + θ₁}\n"
     ]
    }
   ],
   "source": [
    "phase_transformation=solve(omega_laser[0]+phase[1]-phase[0],phase[1],dict=True)[0]\n",
    "pprint(phase_transformation,use_unicode=use_unicode)"
   ]
  },
  {
   "cell_type": "markdown",
   "metadata": {},
   "source": [
    "There is a free parameter $\\theta_1$, which is to be expected, since state vetors $|\\psi\\rangle$ always have a global phase invariance"
   ]
  },
  {
   "cell_type": "code",
   "execution_count": 44,
   "metadata": {
    "collapsed": false
   },
   "outputs": [
    {
     "name": "stdout",
     "output_type": "stream",
     "text": [
      "⎡                      ⅈ⋅t⋅θ₁    ⎤\n",
      "⎢    \\tilde{c}_{1}(t)⋅ℯ          ⎥\n",
      "⎢                                ⎥\n",
      "⎢                  ⅈ⋅t⋅(-ω¹ + θ₁)⎥\n",
      "⎣\\tilde{c}_{2}(t)⋅ℯ              ⎦\n"
     ]
    }
   ],
   "source": [
    "pprint(psi.subs(phase_transformation),use_unicode=use_unicode)"
   ]
  },
  {
   "cell_type": "markdown",
   "metadata": {},
   "source": [
    "Thus the equations become"
   ]
  },
  {
   "cell_type": "code",
   "execution_count": 45,
   "metadata": {
    "collapsed": false
   },
   "outputs": [
    {
     "name": "stdout",
     "output_type": "stream",
     "text": [
      "⎡0⎤\n",
      "⎢ ⎥\n",
      "⎣0⎦\n"
     ]
    }
   ],
   "source": [
    "pprint(lhs_new,use_unicode=use_unicode)"
   ]
  },
  {
   "cell_type": "code",
   "execution_count": 46,
   "metadata": {
    "collapsed": false
   },
   "outputs": [
    {
     "name": "stdout",
     "output_type": "stream",
     "text": [
      "⎡                               ___                                   ⎤\n",
      "⎢   e⋅r_{0;21}⋅\\tilde{c}_{2}(t)⋅E¹₀                                   ⎥\n",
      "⎢   ─────────────────────────────── + h̅⋅(ω₁ + θ₁)⋅\\tilde{c}_{1}(t)   ⎥\n",
      "⎢                  2                                                  ⎥\n",
      "⎢                                                                     ⎥\n",
      "⎢E¹₀⋅e⋅r_{0;21}⋅\\tilde{c}_{1}(t)                                      ⎥\n",
      "⎢─────────────────────────────── + h̅⋅(-ω¹ + ω₂ + θ₁)⋅\\tilde{c}_{2}(t)⎥\n",
      "⎣               2                                                     ⎦\n"
     ]
    }
   ],
   "source": [
    "rhs_new=simplify(rhs_new.subs(phase_transformation))\n",
    "pprint(rhs_new,use_unicode=use_unicode)"
   ]
  },
  {
   "cell_type": "markdown",
   "metadata": {},
   "source": [
    "It can be seen that this is the Schrödinger equation derived from an effective hamiltonian $\\tilde{H}$"
   ]
  },
  {
   "cell_type": "code",
   "execution_count": 47,
   "metadata": {
    "collapsed": false
   },
   "outputs": [
    {
     "name": "stdout",
     "output_type": "stream",
     "text": [
      "⎡                             ___  ⎤\n",
      "⎢                  e⋅r_{0;21}⋅E¹₀  ⎥\n",
      "⎢ h̅⋅(ω₁ + θ₁)     ──────────────  ⎥\n",
      "⎢                        2         ⎥\n",
      "⎢                                  ⎥\n",
      "⎢E¹₀⋅e⋅r_{0;21}                    ⎥\n",
      "⎢──────────────  h̅⋅(-ω¹ + ω₂ + θ₁)⎥\n",
      "⎣      2                           ⎦\n"
     ]
    }
   ],
   "source": [
    "Htilde=Matrix([ [Derivative(rhs_new[i],ctilde[j]).doit() for j in range(Ne)] for i in range(Ne)])\n",
    "pprint(Htilde,use_unicode=use_unicode)"
   ]
  },
  {
   "cell_type": "markdown",
   "metadata": {},
   "source": [
    "We can see that it is convenient to choose $\\theta_1=-\\omega_1$ to simplify the hamiltonian. Also, we can recognize $\\omega^1-\\omega_2+\\omega_1=\\delta$ as the detuning of the laser field relative to the atomic transition $\\omega_{21}=\\omega_2-\\omega_1$."
   ]
  },
  {
   "cell_type": "code",
   "execution_count": 48,
   "metadata": {
    "collapsed": false
   },
   "outputs": [
    {
     "name": "stdout",
     "output_type": "stream",
     "text": [
      "⎡                           ___⎤\n",
      "⎢                e⋅r_{0;21}⋅E¹₀⎥\n",
      "⎢      0         ──────────────⎥\n",
      "⎢                      2       ⎥\n",
      "⎢                              ⎥\n",
      "⎢E¹₀⋅e⋅r_{0;21}                ⎥\n",
      "⎢──────────────      -δ⋅h̅     ⎥\n",
      "⎣      2                       ⎦\n"
     ]
    }
   ],
   "source": [
    "delta=Symbol(\"delta\",real=True)\n",
    "Htilde=Htilde.subs({phase[0]:-omega_level[0]}).subs({omega_laser[0]:delta+omega_level[1]-omega_level[0]})\n",
    "pprint(Htilde,use_unicode=use_unicode)"
   ]
  },
  {
   "cell_type": "markdown",
   "metadata": {},
   "source": [
    "If we define the Rabi frequency $\\Omega =e E_0^1 r_{0;21}/\\hbar$"
   ]
  },
  {
   "cell_type": "code",
   "execution_count": 49,
   "metadata": {
    "collapsed": false
   },
   "outputs": [
    {
     "name": "stdout",
     "output_type": "stream",
     "text": [
      "⎡         _ ⎤\n",
      "⎢      h̅⋅Ω ⎥\n",
      "⎢ 0    ──── ⎥\n",
      "⎢       2   ⎥\n",
      "⎢           ⎥\n",
      "⎢Ω⋅h̅       ⎥\n",
      "⎢────  -δ⋅h̅⎥\n",
      "⎣ 2         ⎦\n"
     ]
    }
   ],
   "source": [
    "Omega=Symbol(\"Omega\",real=False)\n",
    "Htilde=Htilde.subs({E0[0]:Omega*hbar/r[1][1,0]/e})\n",
    "pprint(Htilde,use_unicode=use_unicode)"
   ]
  },
  {
   "cell_type": "markdown",
   "metadata": {},
   "source": [
    "We define the density matrix."
   ]
  },
  {
   "cell_type": "code",
   "execution_count": 50,
   "metadata": {
    "collapsed": false
   },
   "outputs": [
    {
     "name": "stdout",
     "output_type": "stream",
     "text": [
      "⎡ρ₁₁  ρ₁₂⎤\n",
      "⎢        ⎥\n",
      "⎣ρ₂₁  ρ₂₂⎦\n"
     ]
    }
   ],
   "source": [
    "rho=define_density_matrix(Ne)\n",
    "pprint( rho ,use_unicode=use_unicode)"
   ]
  },
  {
   "cell_type": "markdown",
   "metadata": {},
   "source": [
    "The hamiltonian part of the equations is\n",
    "\\begin{equation}\n",
    "    \\dot{\\hat{\\rho}}=\\frac{i}{\\hbar}[\\hat{\\rho}, \\hat{\\tilde{H}}]\n",
    "\\end{equation}"
   ]
  },
  {
   "cell_type": "code",
   "execution_count": 51,
   "metadata": {
    "collapsed": false
   },
   "outputs": [
    {
     "name": "stdout",
     "output_type": "stream",
     "text": [
      "⎡                      _                         _         _⎤\n",
      "⎢      ⅈ⋅Ω⋅ρ₁₂   ⅈ⋅ρ₂₁⋅Ω                   ⅈ⋅ρ₁₁⋅Ω   ⅈ⋅ρ₂₂⋅Ω⎥\n",
      "⎢      ─────── - ───────        -ⅈ⋅δ⋅ρ₁₂ + ─────── - ───────⎥\n",
      "⎢         2         2                         2         2   ⎥\n",
      "⎢                                                           ⎥\n",
      "⎢                                                     _     ⎥\n",
      "⎢  ⅈ⋅Ω⋅ρ₁₁   ⅈ⋅Ω⋅ρ₂₂                  ⅈ⋅Ω⋅ρ₁₂   ⅈ⋅ρ₂₁⋅Ω     ⎥\n",
      "⎢- ─────── + ─────── + ⅈ⋅δ⋅ρ₂₁      - ─────── + ───────     ⎥\n",
      "⎣     2         2                        2         2        ⎦\n"
     ]
    }
   ],
   "source": [
    "hamiltonian_terms=(I/hbar*(rho*Htilde-Htilde*rho)).expand()\n",
    "pprint(hamiltonian_terms,use_unicode=use_unicode)"
   ]
  },
  {
   "cell_type": "markdown",
   "metadata": {},
   "source": [
    "There is only one Lindblad operator, since there is only one spontaneous decay channel."
   ]
  },
  {
   "cell_type": "code",
   "execution_count": 52,
   "metadata": {
    "collapsed": false
   },
   "outputs": [
    {
     "name": "stdout",
     "output_type": "stream",
     "text": [
      "⎡           -γ₂₁⋅ρ₁₂ ⎤\n",
      "⎢ γ₂₁⋅ρ₂₂   ─────────⎥\n",
      "⎢               2    ⎥\n",
      "⎢                    ⎥\n",
      "⎢-γ₂₁⋅ρ₂₁            ⎥\n",
      "⎢─────────  -γ₂₁⋅ρ₂₂ ⎥\n",
      "⎣    2               ⎦\n"
     ]
    }
   ],
   "source": [
    "lindblad_terms=gamma[1,0]*lindblad_operator(ket(1,Ne)*bra(2,Ne),rho)\n",
    "pprint(lindblad_terms, num_columns=120,use_unicode=use_unicode)"
   ]
  },
  {
   "cell_type": "markdown",
   "metadata": {},
   "source": [
    "# Optical Bloch Equations\n",
    "The Optical Bloch equations are thus."
   ]
  },
  {
   "cell_type": "code",
   "execution_count": 53,
   "metadata": {
    "collapsed": false
   },
   "outputs": [
    {
     "name": "stdout",
     "output_type": "stream",
     "text": [
      "⎡                                _                                   _         _⎤\n",
      "⎢      ⅈ⋅Ω⋅ρ₁₂             ⅈ⋅ρ₂₁⋅Ω                   γ₂₁⋅ρ₁₂   ⅈ⋅ρ₁₁⋅Ω   ⅈ⋅ρ₂₂⋅Ω⎥\n",
      "⎢      ─────── + γ₂₁⋅ρ₂₂ - ───────        -ⅈ⋅δ⋅ρ₁₂ - ─────── + ─────── - ───────⎥\n",
      "⎢         2                   2                         2         2         2   ⎥\n",
      "⎢                                                                               ⎥\n",
      "⎢                                                                         _     ⎥\n",
      "⎢  ⅈ⋅Ω⋅ρ₁₁   ⅈ⋅Ω⋅ρ₂₂             γ₂₁⋅ρ₂₁        ⅈ⋅Ω⋅ρ₁₂             ⅈ⋅ρ₂₁⋅Ω     ⎥\n",
      "⎢- ─────── + ─────── + ⅈ⋅δ⋅ρ₂₁ - ───────      - ─────── - γ₂₁⋅ρ₂₂ + ───────     ⎥\n",
      "⎣     2         2                   2              2                   2        ⎦\n"
     ]
    }
   ],
   "source": [
    "eqs=hamiltonian_terms + lindblad_terms\n",
    "pprint(eqs,num_columns=120,use_unicode=use_unicode)"
   ]
  },
  {
   "cell_type": "markdown",
   "metadata": {},
   "source": [
    "which is how most literature will show the equations. However, a more convenient way to express this equations is to explicitly asume a normalized and hermitian density matrix"
   ]
  },
  {
   "cell_type": "code",
   "execution_count": 54,
   "metadata": {
    "collapsed": false
   },
   "outputs": [
    {
     "name": "stdout",
     "output_type": "stream",
     "text": [
      "⎡          ___⎤\n",
      "⎢-ρ₂₂ + 1  ρ₂₁⎥\n",
      "⎢             ⎥\n",
      "⎣  ρ₂₁     ρ₂₂⎦\n"
     ]
    }
   ],
   "source": [
    "rho=define_density_matrix(Ne,explicitly_hermitian=True,normalized=True)\n",
    "pprint( rho ,use_unicode=use_unicode)"
   ]
  },
  {
   "cell_type": "code",
   "execution_count": 55,
   "metadata": {
    "collapsed": false
   },
   "outputs": [
    {
     "name": "stdout",
     "output_type": "stream",
     "text": [
      "⎡       ___                   _                     ___               _⎤\n",
      "⎢   ⅈ⋅Ω⋅ρ₂₁             ⅈ⋅ρ₂₁⋅Ω           ___   γ₂₁⋅ρ₂₁         _   ⅈ⋅Ω⎥\n",
      "⎢   ─────── + γ₂₁⋅ρ₂₂ - ───────     - ⅈ⋅δ⋅ρ₂₁ - ─────── - ⅈ⋅ρ₂₂⋅Ω + ───⎥\n",
      "⎢      2                   2                       2                 2 ⎥\n",
      "⎢                                                                      ⎥\n",
      "⎢                                            ___                   _   ⎥\n",
      "⎢          ⅈ⋅Ω             γ₂₁⋅ρ₂₁       ⅈ⋅Ω⋅ρ₂₁             ⅈ⋅ρ₂₁⋅Ω   ⎥\n",
      "⎢ⅈ⋅Ω⋅ρ₂₂ - ─── + ⅈ⋅δ⋅ρ₂₁ - ───────     - ─────── - γ₂₁⋅ρ₂₂ + ───────   ⎥\n",
      "⎣           2                 2             2                   2      ⎦\n"
     ]
    }
   ],
   "source": [
    "hamiltonian_terms = (I/hbar*(rho*Htilde-Htilde*rho)).expand()\n",
    "lindblad_terms    =gamma[1,0]*lindblad_operator(ket(1,Ne)*bra(2,Ne),rho)\n",
    "eqs=hamiltonian_terms + lindblad_terms\n",
    "pprint(eqs,num_columns=120,use_unicode=use_unicode)"
   ]
  },
  {
   "cell_type": "markdown",
   "metadata": {},
   "source": [
    "and only consider the equations for the populations $\\rho_{ii}$ for $i>1$ and the real and imaginary parts of the coherences below the diagonal."
   ]
  },
  {
   "cell_type": "code",
   "execution_count": 56,
   "metadata": {
    "collapsed": false
   },
   "outputs": [
    {
     "name": "stdout",
     "output_type": "stream",
     "text": [
      "-γ₂₁⋅ρ₂₂ - re(Ω)⋅im(ρ₂₁) + re(ρ₂₁)⋅im(Ω)\n"
     ]
    }
   ],
   "source": [
    "ss_comp={ rho[i,j]:re(rho[i,j])+I*im(rho[i,j]) for j in range(Ne) for i in range(Ne)}\n",
    "pprint( re(eqs[1,1].subs(ss_comp)) ,use_unicode=use_unicode)"
   ]
  },
  {
   "cell_type": "code",
   "execution_count": 57,
   "metadata": {
    "collapsed": false
   },
   "outputs": [
    {
     "name": "stdout",
     "output_type": "stream",
     "text": [
      "             γ₂₁⋅re(ρ₂₁)               im(Ω)\n",
      "-δ⋅im(ρ₂₁) - ─────────── - ρ₂₂⋅im(Ω) + ─────\n",
      "                  2                      2  \n"
     ]
    }
   ],
   "source": [
    "pprint( re(eqs[1,0].subs(ss_comp)) ,use_unicode=use_unicode)"
   ]
  },
  {
   "cell_type": "code",
   "execution_count": 58,
   "metadata": {
    "collapsed": false
   },
   "outputs": [
    {
     "name": "stdout",
     "output_type": "stream",
     "text": [
      "            γ₂₁⋅im(ρ₂₁)               re(Ω)\n",
      "δ⋅re(ρ₂₁) - ─────────── + ρ₂₂⋅re(Ω) - ─────\n",
      "                 2                      2  \n"
     ]
    }
   ],
   "source": [
    "pprint( im(eqs[1,0].subs(ss_comp)) ,use_unicode=use_unicode)"
   ]
  },
  {
   "cell_type": "markdown",
   "metadata": {},
   "source": [
    "If the density matrix is represented as a vector whose components are the these independent components of the density matrix"
   ]
  },
  {
   "cell_type": "code",
   "execution_count": 59,
   "metadata": {
    "collapsed": false
   },
   "outputs": [
    {
     "name": "stdout",
     "output_type": "stream",
     "text": [
      "⎡  ρ₂₂  ⎤\n",
      "⎢       ⎥\n",
      "⎢re(ρ₂₁)⎥\n",
      "⎢       ⎥\n",
      "⎣im(ρ₂₁)⎦\n"
     ]
    }
   ],
   "source": [
    "rho_vect=define_rho_vector(rho,Ne)\n",
    "pprint(rho_vect,use_unicode=use_unicode)"
   ]
  },
  {
   "cell_type": "markdown",
   "metadata": {},
   "source": [
    "Then the equations can be re-written as linear combinations of these components plus an independent term.\n",
    "\\begin{equation}\n",
    "    \\dot{\\vec{\\rho}} = \\hat{A} \\vec{\\rho} + \\vec{b}\n",
    "\\end{equation}\n",
    "with $\\hat{A}$ a linear operator acting in this vector space and $\\vec{b}$ the vector of independent terms."
   ]
  },
  {
   "cell_type": "code",
   "execution_count": 60,
   "metadata": {
    "collapsed": false
   },
   "outputs": [
    {
     "name": "stdout",
     "output_type": "stream",
     "text": [
      "⎡⎡ -γ₂₁   im(Ω)  -re(Ω)⎤, ⎡   0   ⎤⎤\n",
      "⎢⎢                     ⎥  ⎢       ⎥⎥\n",
      "⎢⎢        -γ₂₁         ⎥  ⎢-im(Ω) ⎥⎥\n",
      "⎢⎢-im(Ω)  ─────    -δ  ⎥  ⎢───────⎥⎥\n",
      "⎢⎢          2          ⎥  ⎢   2   ⎥⎥\n",
      "⎢⎢                     ⎥  ⎢       ⎥⎥\n",
      "⎢⎢               -γ₂₁  ⎥  ⎢ re(Ω) ⎥⎥\n",
      "⎢⎢re(Ω)     δ    ───── ⎥  ⎢ ───── ⎥⎥\n",
      "⎣⎣                 2   ⎦  ⎣   2   ⎦⎦\n"
     ]
    }
   ],
   "source": [
    "A,b=calculate_A_b(eqs,rho,Ne)\n",
    "pprint([A,b],use_unicode=use_unicode)"
   ]
  },
  {
   "cell_type": "markdown",
   "metadata": {},
   "source": [
    "Explicitly, this is"
   ]
  },
  {
   "cell_type": "code",
   "execution_count": 61,
   "metadata": {
    "collapsed": false
   },
   "outputs": [
    {
     "name": "stdout",
     "output_type": "stream",
     "text": [
      "⎡  -γ₂₁⋅ρ₂₂ - re(Ω)⋅im(ρ₂₁) + re(ρ₂₁)⋅im(Ω)  ⎤\n",
      "⎢                                            ⎥\n",
      "⎢             γ₂₁⋅re(ρ₂₁)               im(Ω)⎥\n",
      "⎢-δ⋅im(ρ₂₁) - ─────────── - ρ₂₂⋅im(Ω) + ─────⎥\n",
      "⎢                  2                      2  ⎥\n",
      "⎢                                            ⎥\n",
      "⎢            γ₂₁⋅im(ρ₂₁)               re(Ω) ⎥\n",
      "⎢δ⋅re(ρ₂₁) - ─────────── + ρ₂₂⋅re(Ω) - ───── ⎥\n",
      "⎣                 2                      2   ⎦\n"
     ]
    }
   ],
   "source": [
    "eqs_new=A*rho_vect - b\n",
    "pprint(eqs_new,use_unicode=use_unicode)"
   ]
  },
  {
   "cell_type": "markdown",
   "metadata": {},
   "source": [
    "Which is the same as the equations in the previous form."
   ]
  },
  {
   "cell_type": "code",
   "execution_count": 62,
   "metadata": {
    "collapsed": false
   },
   "outputs": [
    {
     "name": "stdout",
     "output_type": "stream",
     "text": [
      "⎡0⎤\n",
      "⎢ ⎥\n",
      "⎢0⎥\n",
      "⎢ ⎥\n",
      "⎣0⎦\n"
     ]
    }
   ],
   "source": [
    "pprint( eqs_new - Matrix([re(eqs[1,1]),re(eqs[1,0]),im(eqs[1,0])]).subs(ss_comp) ,use_unicode=use_unicode)"
   ]
  },
  {
   "cell_type": "markdown",
   "metadata": {},
   "source": [
    "The steady state solution of this equations is"
   ]
  },
  {
   "cell_type": "code",
   "execution_count": 63,
   "metadata": {
    "collapsed": false
   },
   "outputs": [
    {
     "name": "stdout",
     "output_type": "stream",
     "text": [
      "⎧                2        2            ⎫\n",
      "⎪              re (Ω) + im (Ω)         ⎪\n",
      "⎨ρ₂₂: ─────────────────────────────────⎬\n",
      "⎪        2      2       2          2   ⎪\n",
      "⎩     4⋅δ  + γ₂₁  + 2⋅re (Ω) + 2⋅im (Ω)⎭\n",
      "⎧               2⋅δ⋅re(Ω) + γ₂₁⋅im(Ω)      ⎫\n",
      "⎪re(ρ₂₁): ─────────────────────────────────⎪\n",
      "⎨            2      2       2          2   ⎬\n",
      "⎪         4⋅δ  + γ₂₁  + 2⋅re (Ω) + 2⋅im (Ω)⎪\n",
      "⎩                                          ⎭\n",
      "⎧               2⋅δ⋅im(Ω) - γ₂₁⋅re(Ω)      ⎫\n",
      "⎪im(ρ₂₁): ─────────────────────────────────⎪\n",
      "⎨            2      2       2          2   ⎬\n",
      "⎪         4⋅δ  + γ₂₁  + 2⋅re (Ω) + 2⋅im (Ω)⎪\n",
      "⎩                                          ⎭\n"
     ]
    }
   ],
   "source": [
    "sol=solve(list(eqs_new),list(rho_vect))\n",
    "for mu in range(3):\n",
    "    pprint( {rho_vect[mu]:sol[rho_vect[mu]]} ,num_columns=120,use_unicode=use_unicode)"
   ]
  },
  {
   "cell_type": "markdown",
   "metadata": {},
   "source": [
    "According to literature [1], the solution should be"
   ]
  },
  {
   "cell_type": "code",
   "execution_count": 64,
   "metadata": {
    "collapsed": false
   },
   "outputs": [
    {
     "name": "stdout",
     "output_type": "stream",
     "text": [
      "[0, 0, 0]\n"
     ]
    }
   ],
   "source": [
    "s0=2*(re(Omega)**2+im(Omega)**2)/gamma[1,0]**2\n",
    "\n",
    "s=s0/(1+(2*delta/gamma[1,0])**2)\n",
    "\n",
    "\n",
    "rho21=-I*Omega/(2*(gamma[1,0]/2-I*delta)*(1+s))\n",
    "\n",
    "rerho22=( s/(2*(1+s)) ).simplify()\n",
    "rerho21=re(rho21).simplify()\n",
    "imrho21=im(rho21).simplify()\n",
    "\n",
    "test=[ sol[rho[1,1]]-rerho22, sol[re(rho[1,0])]-rerho21, sol[im(rho[1,0])]-imrho21 ]\n",
    "\n",
    "pprint( [testi.subs({Omega:re(Omega)+I*im(Omega)}).factor() for testi in test] ,use_unicode=use_unicode)"
   ]
  },
  {
   "cell_type": "markdown",
   "metadata": {},
   "source": [
    "So our development produces the same results as the literature."
   ]
  },
  {
   "cell_type": "markdown",
   "metadata": {},
   "source": [
    "The saturation intensity is defined as the intensity needed to accumulate $\\frac{1}{4}$ of the population in the excited state when the field is in resonance ($\\delta=0$)."
   ]
  },
  {
   "cell_type": "code",
   "execution_count": 65,
   "metadata": {
    "collapsed": false
   },
   "outputs": [
    {
     "name": "stdout",
     "output_type": "stream",
     "text": [
      "       2        2             \n",
      "     re (Ω) + im (Ω)         1\n",
      "────────────────────────── - ─\n",
      "   2       2          2      4\n",
      "γ₂₁  + 2⋅re (Ω) + 2⋅im (Ω)    \n"
     ]
    }
   ],
   "source": [
    "saturation_eq=sol[rho[1,1]].subs({delta:0})-1/Integer(4)\n",
    "pprint( saturation_eq ,use_unicode=use_unicode)"
   ]
  },
  {
   "cell_type": "code",
   "execution_count": 66,
   "metadata": {
    "collapsed": false
   },
   "outputs": [
    {
     "name": "stdout",
     "output_type": "stream",
     "text": [
      "           2      2  \n",
      "  2⋅\\Omegaₐ  - γ₂₁   \n",
      "─────────────────────\n",
      "  ⎛         2      2⎞\n",
      "4⋅⎝2⋅\\Omegaₐ  + γ₂₁ ⎠\n"
     ]
    }
   ],
   "source": [
    "Omega_amp,alpha=symbols(\"\\Omega_a alpha\",real=True)\n",
    "ss={Omega:Omega_amp*cos(alpha)+I*Omega_amp*sin(alpha)}\n",
    "saturation_eq= saturation_eq.subs(ss).factor().simplify()\n",
    "pprint(saturation_eq,use_unicode=use_unicode)"
   ]
  },
  {
   "cell_type": "code",
   "execution_count": 67,
   "metadata": {
    "collapsed": false
   },
   "outputs": [
    {
     "name": "stdout",
     "output_type": "stream",
     "text": [
      "√2⋅γ₂₁\n",
      "──────\n",
      "  2   \n"
     ]
    }
   ],
   "source": [
    "Omega_sat=solve( saturation_eq ,Omega_amp)[1]\n",
    "pprint(Omega_sat,use_unicode=use_unicode)"
   ]
  },
  {
   "cell_type": "markdown",
   "metadata": {},
   "source": [
    "Since $\\Omega =e E_0^1 r_{0;21}/\\hbar$ it follows that"
   ]
  },
  {
   "cell_type": "code",
   "execution_count": 68,
   "metadata": {
    "collapsed": false
   },
   "outputs": [
    {
     "name": "stdout",
     "output_type": "stream",
     "text": [
      " √2⋅γ₂₁⋅h̅  \n",
      "────────────\n",
      "2⋅e⋅r_{0;21}\n"
     ]
    }
   ],
   "source": [
    "E0_sat=Omega_sat*hbar/e/r[1][1,0]\n",
    "pprint(E0_sat,use_unicode=use_unicode)"
   ]
  },
  {
   "cell_type": "markdown",
   "metadata": {},
   "source": [
    "The full width at half maximum of $\\rho_{22}$ is"
   ]
  },
  {
   "cell_type": "code",
   "execution_count": 69,
   "metadata": {
    "collapsed": false
   },
   "outputs": [
    {
     "name": "stdout",
     "output_type": "stream",
     "text": [
      "   ___________________\n",
      "  ╱          2      2 \n",
      "╲╱  2⋅\\Omegaₐ  + γ₂₁  \n"
     ]
    }
   ],
   "source": [
    "hm1,hm2=solve(sol[rho[1,1]]-sol[rho[1,1]].subs({delta:0})/2,delta)\n",
    "FWHM=hm2-hm1\n",
    "FWHM=FWHM.subs(ss).simplify()\n",
    "pprint(FWHM,use_unicode=use_unicode)"
   ]
  },
  {
   "cell_type": "markdown",
   "metadata": {},
   "source": [
    "[1]  H.J. Metcalf and P. van der Straten. Laser Cooling and Trapping. Graduate Texts in Contempo-\n",
    "rary Physics. Springer New York, 2001."
   ]
  },
  {
   "cell_type": "code",
   "execution_count": null,
   "metadata": {
    "collapsed": true
   },
   "outputs": [],
   "source": []
  }
 ],
 "metadata": {
  "anaconda-cloud": {},
  "kernelspec": {
   "display_name": "Python 2",
   "language": "python",
   "name": "python2"
  },
  "language_info": {
   "codemirror_mode": {
    "name": "ipython",
    "version": 2
   },
   "file_extension": ".py",
   "mimetype": "text/x-python",
   "name": "python",
   "nbconvert_exporter": "python",
   "pygments_lexer": "ipython2",
   "version": "2.7.13"
  }
 },
 "nbformat": 4,
 "nbformat_minor": 0
}
