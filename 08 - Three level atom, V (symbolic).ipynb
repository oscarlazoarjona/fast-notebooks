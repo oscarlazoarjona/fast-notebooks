{
 "cells": [
  {
   "cell_type": "code",
   "execution_count": 1,
   "metadata": {
    "collapsed": true
   },
   "outputs": [],
   "source": [
    "from fast import *\n",
    "from fast.config import fast_path\n",
    "from matplotlib import pyplot\n",
    "from sympy import sin,cos,exp,sqrt,pi,zeros,I\n",
    "from numpy import array\n",
    "%matplotlib inline\n",
    "init_printing()\n",
    "print_ascii=True; print_ascii=False"
   ]
  },
  {
   "cell_type": "code",
   "execution_count": 2,
   "metadata": {
    "collapsed": false
   },
   "outputs": [],
   "source": [
    "path=fast_path[:-5]+\"/examples/folder_08___Three_level_atom_V_symbolic/\" \n",
    "name='suite'"
   ]
  },
  {
   "cell_type": "markdown",
   "metadata": {},
   "source": [
    "We will be deriving the optical Bloch equations for a three level system in a V configuration as that in the figure."
   ]
  },
  {
   "cell_type": "code",
   "execution_count": 3,
   "metadata": {
    "collapsed": false
   },
   "outputs": [
    {
     "data": {
      "image/png": "[encoded data removed]",
      "text/plain": [
       "<matplotlib.figure.Figure at 0x7f1d7e531110>"
      ]
     },
     "metadata": {},
     "output_type": "display_data"
    }
   ],
   "source": [
    "fig=pyplot.figure(); ax=fig.add_subplot(111,aspect=\"equal\")\n",
    "\n",
    "p1=[1.5,1]; p2=[0.5,2.5]; p3=[2.5,3.5]\n",
    "draw_state(ax,p1,text=r\"$|1\\rangle$\",l=1.0,alignment='right',label_displacement=0.05,fontsize=25,linewidth=4.0)\n",
    "draw_state(ax,p2,text=r\"$|2\\rangle$\",l=1.0,alignment='right',label_displacement=0.05,fontsize=25,linewidth=4.0)\n",
    "draw_state(ax,p3,text=r\"$|3\\rangle$\",l=1.0,alignment='right',label_displacement=0.05,fontsize=25,linewidth=4.0)\n",
    "\n",
    "excitation(ax,[p1[0]+0.25,p1[1]],[p2[0]+0.25,p2[1]], fc=\"r\", ec=\"r\",width=0.01, head_width=0.2, head_length=0.2)\n",
    "excitation(ax,[p1[0]+0.25,p1[1]],[p3[0]+0.25,p3[1]], fc=\"b\", ec=\"b\",width=0.01, head_width=0.2, head_length=0.2)\n",
    "\n",
    "decay(     ax,[p1[0]-0.25,p1[1]],[p2[0]-0.25,p2[1]], 0.05,10.0,color=\"r\",linewidth=1.0)\n",
    "decay(     ax,[p1[0]-0.25,p1[1]],[p3[0]-0.25,p3[1]], 0.05,10.0,color=\"b\",linewidth=1.0)\n",
    "\n",
    "pyplot.axis('off')\n",
    "pyplot.savefig(path+name+'_diagram.png',bbox_inches=\"tight\")"
   ]
  },
  {
   "cell_type": "markdown",
   "metadata": {},
   "source": [
    "We define the number of states and of radiation fields."
   ]
  },
  {
   "cell_type": "code",
   "execution_count": 4,
   "metadata": {
    "collapsed": true
   },
   "outputs": [],
   "source": [
    "Ne=3\n",
    "Nl=2"
   ]
  },
  {
   "cell_type": "markdown",
   "metadata": {},
   "source": [
    "We define the variables related to the laser field."
   ]
  },
  {
   "cell_type": "code",
   "execution_count": 5,
   "metadata": {
    "collapsed": false
   },
   "outputs": [
    {
     "data": {
      "image/png": "[encoded data removed]",
      "text/latex": [
       "$$\\left [ E^{1}_{0}, \\quad E^{2}_{0}\\right ]$$"
      ],
      "text/plain": [
       "[E¹₀, E²₀]"
      ]
     },
     "execution_count": 5,
     "metadata": {},
     "output_type": "execute_result"
    }
   ],
   "source": [
    "E0,omega_laser=define_laser_variables(Nl)\n",
    "fprint(E0, print_ascii=print_ascii)"
   ]
  },
  {
   "cell_type": "code",
   "execution_count": 6,
   "metadata": {
    "collapsed": false
   },
   "outputs": [
    {
     "data": {
      "image/png": "[encoded data removed]",
      "text/latex": [
       "$$\\left [ \\varpi_{1}, \\quad \\varpi_{2}\\right ]$$"
      ],
      "text/plain": [
       "[varpi₁, varpi₂]"
      ]
     },
     "execution_count": 6,
     "metadata": {},
     "output_type": "execute_result"
    }
   ],
   "source": [
    "fprint(omega_laser, print_ascii=print_ascii)"
   ]
  },
  {
   "cell_type": "markdown",
   "metadata": {},
   "source": [
    "We define a few important symbols."
   ]
  },
  {
   "cell_type": "code",
   "execution_count": 7,
   "metadata": {
    "collapsed": false
   },
   "outputs": [
    {
     "data": {
      "image/png": "[encoded data removed]",
      "text/latex": [
       "$$\\left [ t, \\quad \\hbar, \\quad e\\right ]$$"
      ],
      "text/plain": [
       "[t, h̅, e]"
      ]
     },
     "execution_count": 7,
     "metadata": {},
     "output_type": "execute_result"
    }
   ],
   "source": [
    "t,hbar,e=symbols(\"t hbar e\",positive=True)\n",
    "fprint([t,hbar,e], print_ascii=print_ascii)"
   ]
  },
  {
   "cell_type": "markdown",
   "metadata": {},
   "source": [
    "We write two electric fields propagating trough the $\\hat{x}$ direction polarized in the $\\hat{z}$ direction. First the wave vectors:"
   ]
  },
  {
   "cell_type": "code",
   "execution_count": 8,
   "metadata": {
    "collapsed": false
   },
   "outputs": [
    {
     "data": {
      "image/png": "[encoded data removed]",
      "text/latex": [
       "$$\\left [ \\left[\\begin{matrix}1\\\\0\\\\0\\end{matrix}\\right], \\quad \\left[\\begin{matrix}-1\\\\0\\\\0\\end{matrix}\\right]\\right ]$$"
      ],
      "text/plain": [
       "⎡⎡1⎤, ⎡-1⎤⎤\n",
       "⎢⎢ ⎥  ⎢  ⎥⎥\n",
       "⎢⎢0⎥  ⎢0 ⎥⎥\n",
       "⎢⎢ ⎥  ⎢  ⎥⎥\n",
       "⎣⎣0⎦  ⎣0 ⎦⎦"
      ]
     },
     "execution_count": 8,
     "metadata": {},
     "output_type": "execute_result"
    }
   ],
   "source": [
    "phi1=0 ; theta1=pi/2; alpha1=pi/2; beta1=0\n",
    "phi2=pi; theta2=pi/2; alpha2=pi/2; beta2=0\n",
    "\n",
    "k1=Matrix([cos(phi1)*sin(theta1),sin(phi1)*sin(theta1),cos(theta1)])\n",
    "k2=Matrix([cos(phi2)*sin(theta2),sin(phi2)*sin(theta2),cos(theta2)])\n",
    "\n",
    "fprint([k1,k2],print_ascii=print_ascii)"
   ]
  },
  {
   "cell_type": "markdown",
   "metadata": {},
   "source": [
    "The polarization vectors."
   ]
  },
  {
   "cell_type": "code",
   "execution_count": 9,
   "metadata": {
    "collapsed": false
   },
   "outputs": [
    {
     "data": {
      "image/png": "[encoded data removed]",
      "text/latex": [
       "$$\\left [ \\left [ \\left[\\begin{matrix}0\\\\0\\\\1\\end{matrix}\\right], \\quad \\left[\\begin{matrix}0\\\\0\\\\1\\end{matrix}\\right]\\right ], \\quad \\left [ \\left[\\begin{matrix}0\\\\0\\\\1\\end{matrix}\\right], \\quad \\left[\\begin{matrix}0\\\\0\\\\1\\end{matrix}\\right]\\right ]\\right ]$$"
      ],
      "text/plain": [
       "⎡⎡⎡0⎤, ⎡0⎤⎤, ⎡⎡0⎤, ⎡0⎤⎤⎤\n",
       "⎢⎢⎢ ⎥  ⎢ ⎥⎥  ⎢⎢ ⎥  ⎢ ⎥⎥⎥\n",
       "⎢⎢⎢0⎥  ⎢0⎥⎥  ⎢⎢0⎥  ⎢0⎥⎥⎥\n",
       "⎢⎢⎢ ⎥  ⎢ ⎥⎥  ⎢⎢ ⎥  ⎢ ⎥⎥⎥\n",
       "⎣⎣⎣1⎦  ⎣1⎦⎦  ⎣⎣1⎦  ⎣1⎦⎦⎦"
      ]
     },
     "execution_count": 9,
     "metadata": {},
     "output_type": "execute_result"
    }
   ],
   "source": [
    "ep1=polarization_vector(phi1,theta1,alpha1,beta1, 1)\n",
    "ep2=polarization_vector(phi2,theta2,alpha2,beta2, 1)\n",
    "\n",
    "em1=ep1.conjugate()\n",
    "em2=ep2.conjugate()\n",
    "\n",
    "ep=[ep1,ep2]\n",
    "em=[em1,em2]\n",
    "\n",
    "fprint([ep,em], print_ascii=print_ascii)"
   ]
  },
  {
   "cell_type": "markdown",
   "metadata": {},
   "source": [
    "The electric field (evaluated in $\\vec{R}=0$)."
   ]
  },
  {
   "cell_type": "code",
   "execution_count": 10,
   "metadata": {
    "collapsed": false
   },
   "outputs": [
    {
     "data": {
      "image/png": "[encoded data removed]",
      "text/latex": [
       "$$\\left [ \\left[\\begin{matrix}0\\\\0\\\\\\frac{E^{1}_{0}}{2} e^{- i t \\varpi_{1}} + \\frac{\\overline{E^{1}_{0}}}{2} e^{i t \\varpi_{1}}\\end{matrix}\\right], \\quad \\left[\\begin{matrix}0\\\\0\\\\\\frac{E^{2}_{0}}{2} e^{- i t \\varpi_{2}} + \\frac{\\overline{E^{2}_{0}}}{2} e^{i t \\varpi_{2}}\\end{matrix}\\right]\\right ]$$"
      ],
      "text/plain": [
       "⎡⎡                0                 ⎤, ⎡                0                 ⎤⎤\n",
       "⎢⎢                                  ⎥  ⎢                                  ⎥⎥\n",
       "⎢⎢                0                 ⎥  ⎢                0                 ⎥⎥\n",
       "⎢⎢                                  ⎥  ⎢                                  ⎥⎥\n",
       "⎢⎢     -ⅈ⋅t⋅varpi₁    ⅈ⋅t⋅varpi₁ ___⎥  ⎢     -ⅈ⋅t⋅varpi₂    ⅈ⋅t⋅varpi₂ ___⎥⎥\n",
       "⎢⎢E¹₀⋅ℯ              ℯ          ⋅E¹₀⎥  ⎢E²₀⋅ℯ              ℯ          ⋅E²₀⎥⎥\n",
       "⎢⎢──────────────── + ───────────────⎥  ⎢──────────────── + ───────────────⎥⎥\n",
       "⎣⎣       2                  2       ⎦  ⎣       2                  2       ⎦⎦"
      ]
     },
     "execution_count": 10,
     "metadata": {},
     "output_type": "execute_result"
    }
   ],
   "source": [
    "zero_vect=Matrix([0,0,0])\n",
    "E_cartesian = [(E0[l]*ep[l]*exp(-I*omega_laser[l]*t) + E0[l].conjugate()*em[l]*exp( I*omega_laser[l]*t))/2 \n",
    "                    for l in range(Nl)]\n",
    "\n",
    "fprint(E_cartesian, print_ascii=print_ascii)"
   ]
  },
  {
   "cell_type": "code",
   "execution_count": 11,
   "metadata": {
    "collapsed": false
   },
   "outputs": [
    {
     "data": {
      "image/png": "[encoded data removed]",
      "text/plain": [
       "<matplotlib.figure.Figure at 0x7f1da83a8fd0>"
      ]
     },
     "metadata": {},
     "output_type": "display_data"
    }
   ],
   "source": [
    "l1=PlaneWave(phi1,theta1,alpha1,beta1,color=\"red\")\n",
    "l2=PlaneWave(phi2,theta2,alpha2,beta2,color=\"blue\")\n",
    "\n",
    "laseres=[l1,l2]\n",
    "Nl=len(laseres)\n",
    "\n",
    "fig = pyplot.figure(); ax = fig.gca(projection='3d')\n",
    "draw_lasers_3d(ax,laseres,path+'lasers.png')"
   ]
  },
  {
   "cell_type": "markdown",
   "metadata": {},
   "source": [
    "We write the electric field in the helicity basis (see notebook \"Vectors in the helicity basis and the electric field\")."
   ]
  },
  {
   "cell_type": "code",
   "execution_count": 12,
   "metadata": {
    "collapsed": false
   },
   "outputs": [
    {
     "data": {
      "image/png": "[encoded data removed]",
      "text/latex": [
       "$$\\left [ \\left[\\begin{matrix}0\\\\\\frac{E^{1}_{0}}{2} e^{- i t \\varpi_{1}} + \\frac{\\overline{E^{1}_{0}}}{2} e^{i t \\varpi_{1}}\\\\0\\end{matrix}\\right], \\quad \\left[\\begin{matrix}0\\\\\\frac{E^{2}_{0}}{2} e^{- i t \\varpi_{2}} + \\frac{\\overline{E^{2}_{0}}}{2} e^{i t \\varpi_{2}}\\\\0\\end{matrix}\\right]\\right ]$$"
      ],
      "text/plain": [
       "⎡⎡                0                 ⎤, ⎡                0                 ⎤⎤\n",
       "⎢⎢                                  ⎥  ⎢                                  ⎥⎥\n",
       "⎢⎢     -ⅈ⋅t⋅varpi₁    ⅈ⋅t⋅varpi₁ ___⎥  ⎢     -ⅈ⋅t⋅varpi₂    ⅈ⋅t⋅varpi₂ ___⎥⎥\n",
       "⎢⎢E¹₀⋅ℯ              ℯ          ⋅E¹₀⎥  ⎢E²₀⋅ℯ              ℯ          ⋅E²₀⎥⎥\n",
       "⎢⎢──────────────── + ───────────────⎥  ⎢──────────────── + ───────────────⎥⎥\n",
       "⎢⎢       2                  2       ⎥  ⎢       2                  2       ⎥⎥\n",
       "⎢⎢                                  ⎥  ⎢                                  ⎥⎥\n",
       "⎣⎣                0                 ⎦  ⎣                0                 ⎦⎦"
      ]
     },
     "execution_count": 12,
     "metadata": {},
     "output_type": "execute_result"
    }
   ],
   "source": [
    "E=[cartesian_to_helicity(E_cartesian[l]) for l in range(Nl)]\n",
    "fprint(E, print_ascii=print_ascii)"
   ]
  },
  {
   "cell_type": "markdown",
   "metadata": {},
   "source": [
    "We define the position operator."
   ]
  },
  {
   "cell_type": "code",
   "execution_count": 13,
   "metadata": {
    "collapsed": false
   },
   "outputs": [
    {
     "data": {
      "image/png": "[encoded data removed]",
      "text/latex": [
       "$$\\left [ \\left[\\begin{matrix}0 & - r_{+1;21} & - r_{+1;31}\\\\r_{-1;21} & 0 & 0\\\\r_{-1;31} & 0 & 0\\end{matrix}\\right], \\quad \\left[\\begin{matrix}0 & r_{0;21} & r_{0;31}\\\\r_{0;21} & 0 & 0\\\\r_{0;31} & 0 & 0\\end{matrix}\\right], \\quad \\left[\\begin{matrix}0 & - r_{-1;21} & - r_{-1;31}\\\\r_{+1;21} & 0 & 0\\\\r_{+1;31} & 0 & 0\\end{matrix}\\right]\\right ]$$"
      ],
      "text/plain": [
       "⎡⎡    0      -r_{+1;21}  -r_{+1;31}⎤, ⎡   0      r_{0;21}  r_{0;31}⎤, ⎡    0  \n",
       "⎢⎢                                 ⎥  ⎢                            ⎥  ⎢       \n",
       "⎢⎢r_{-1;21}      0           0     ⎥  ⎢r_{0;21}     0         0    ⎥  ⎢r_{+1;2\n",
       "⎢⎢                                 ⎥  ⎢                            ⎥  ⎢       \n",
       "⎣⎣r_{-1;31}      0           0     ⎦  ⎣r_{0;31}     0         0    ⎦  ⎣r_{+1;3\n",
       "\n",
       "    -r_{-1;21}  -r_{-1;31}⎤⎤\n",
       "                          ⎥⎥\n",
       "1}      0           0     ⎥⎥\n",
       "                          ⎥⎥\n",
       "1}      0           0     ⎦⎦"
      ]
     },
     "execution_count": 13,
     "metadata": {},
     "output_type": "execute_result"
    }
   ],
   "source": [
    "r=define_r_components(Ne,helicity=True,explicitly_hermitian=True)\n",
    "#Ladder means that r_{p;31}=0\n",
    "r=[ri.subs({r[0][2,1]:0,r[1][2,1]:0,r[2][2,1]:0}) for ri in r]\n",
    "fprint(r, print_ascii=print_ascii)"
   ]
  },
  {
   "cell_type": "markdown",
   "metadata": {},
   "source": [
    "The frequencies of the energy levels, the resonant frequencies, and the decay frequencies."
   ]
  },
  {
   "cell_type": "code",
   "execution_count": 14,
   "metadata": {
    "collapsed": false
   },
   "outputs": [
    {
     "data": {
      "image/png": "[encoded data removed]",
      "text/latex": [
       "$$\\left [ \\omega_{1}, \\quad \\omega_{2}, \\quad \\omega_{3}\\right ]$$"
      ],
      "text/plain": [
       "[ω₁, ω₂, ω₃]"
      ]
     },
     "execution_count": 14,
     "metadata": {},
     "output_type": "execute_result"
    }
   ],
   "source": [
    "omega_level,omega,gamma=define_frequencies(Ne,explicitly_antisymmetric=True)\n",
    "#Ladder means gamma31=0\n",
    "gamma=gamma.subs({gamma[2,1]:0})\n",
    "fprint(omega_level, print_ascii=print_ascii)"
   ]
  },
  {
   "cell_type": "code",
   "execution_count": 15,
   "metadata": {
    "collapsed": false
   },
   "outputs": [
    {
     "data": {
      "image/png": "[encoded data removed]",
      "text/latex": [
       "$$\\left[\\begin{matrix}0 & - \\omega_{21} & - \\omega_{31}\\\\\\omega_{21} & 0 & - \\omega_{32}\\\\\\omega_{31} & \\omega_{32} & 0\\end{matrix}\\right]$$"
      ],
      "text/plain": [
       "⎡ 0   -ω₂₁  -ω₃₁⎤\n",
       "⎢               ⎥\n",
       "⎢ω₂₁   0    -ω₃₂⎥\n",
       "⎢               ⎥\n",
       "⎣ω₃₁  ω₃₂    0  ⎦"
      ]
     },
     "execution_count": 15,
     "metadata": {},
     "output_type": "execute_result"
    }
   ],
   "source": [
    "fprint(omega, print_ascii=print_ascii)"
   ]
  },
  {
   "cell_type": "code",
   "execution_count": 16,
   "metadata": {
    "collapsed": false
   },
   "outputs": [
    {
     "data": {
      "image/png": "[encoded data removed]",
      "text/latex": [
       "$$\\left[\\begin{matrix}0 & - \\gamma_{21} & - \\gamma_{31}\\\\\\gamma_{21} & 0 & 0\\\\\\gamma_{31} & 0 & 0\\end{matrix}\\right]$$"
      ],
      "text/plain": [
       "⎡ 0   -γ₂₁  -γ₃₁⎤\n",
       "⎢               ⎥\n",
       "⎢γ₂₁   0     0  ⎥\n",
       "⎢               ⎥\n",
       "⎣γ₃₁   0     0  ⎦"
      ]
     },
     "execution_count": 16,
     "metadata": {},
     "output_type": "execute_result"
    }
   ],
   "source": [
    "fprint(gamma, print_ascii=print_ascii)"
   ]
  },
  {
   "cell_type": "markdown",
   "metadata": {},
   "source": [
    "The atomic hamiltonian is"
   ]
  },
  {
   "cell_type": "code",
   "execution_count": 17,
   "metadata": {
    "collapsed": false
   },
   "outputs": [
    {
     "data": {
      "image/png": "[encoded data removed]",
      "text/latex": [
       "$$\\left[\\begin{matrix}\\hbar \\omega_{1} & 0 & 0\\\\0 & \\hbar \\omega_{2} & 0\\\\0 & 0 & \\hbar \\omega_{3}\\end{matrix}\\right]$$"
      ],
      "text/plain": [
       "⎡h̅⋅ω₁    0      0  ⎤\n",
       "⎢                   ⎥\n",
       "⎢  0    h̅⋅ω₂    0  ⎥\n",
       "⎢                   ⎥\n",
       "⎣  0      0    h̅⋅ω₃⎦"
      ]
     },
     "execution_count": 17,
     "metadata": {},
     "output_type": "execute_result"
    }
   ],
   "source": [
    "H0=Matrix([[hbar*omega_level[i]*KroneckerDelta(i,j) for j in range(Ne)] for i in range(Ne)])\n",
    "fprint(H0, print_ascii=print_ascii)"
   ]
  },
  {
   "cell_type": "markdown",
   "metadata": {
    "collapsed": false
   },
   "source": [
    "The interaction hamiltonian is"
   ]
  },
  {
   "cell_type": "code",
   "execution_count": 18,
   "metadata": {
    "collapsed": false
   },
   "outputs": [
    {
     "data": {
      "image/png": "[encoded data removed]",
      "text/latex": [
       "$$\\left[\\begin{matrix}0 & e r_{0;21} \\left(\\frac{E^{1}_{0}}{2} e^{- i t \\varpi_{1}} + \\frac{\\overline{E^{1}_{0}}}{2} e^{i t \\varpi_{1}}\\right) + e r_{0;21} \\left(\\frac{E^{2}_{0}}{2} e^{- i t \\varpi_{2}} + \\frac{\\overline{E^{2}_{0}}}{2} e^{i t \\varpi_{2}}\\right) & e r_{0;31} \\left(\\frac{E^{1}_{0}}{2} e^{- i t \\varpi_{1}} + \\frac{\\overline{E^{1}_{0}}}{2} e^{i t \\varpi_{1}}\\right) + e r_{0;31} \\left(\\frac{E^{2}_{0}}{2} e^{- i t \\varpi_{2}} + \\frac{\\overline{E^{2}_{0}}}{2} e^{i t \\varpi_{2}}\\right)\\\\e r_{0;21} \\left(\\frac{E^{1}_{0}}{2} e^{- i t \\varpi_{1}} + \\frac{\\overline{E^{1}_{0}}}{2} e^{i t \\varpi_{1}}\\right) + e r_{0;21} \\left(\\frac{E^{2}_{0}}{2} e^{- i t \\varpi_{2}} + \\frac{\\overline{E^{2}_{0}}}{2} e^{i t \\varpi_{2}}\\right) & 0 & 0\\\\e r_{0;31} \\left(\\frac{E^{1}_{0}}{2} e^{- i t \\varpi_{1}} + \\frac{\\overline{E^{1}_{0}}}{2} e^{i t \\varpi_{1}}\\right) + e r_{0;31} \\left(\\frac{E^{2}_{0}}{2} e^{- i t \\varpi_{2}} + \\frac{\\overline{E^{2}_{0}}}{2} e^{i t \\varpi_{2}}\\right) & 0 & 0\\end{matrix}\\right]$$"
      ],
      "text/plain": [
       "⎡                                                                             \n",
       "⎢                                                                             \n",
       "⎢                                                0                            \n",
       "⎢                                                                             \n",
       "⎢                                                                             \n",
       "⎢           ⎛     -ⅈ⋅t⋅varpi₁    ⅈ⋅t⋅varpi₁ ___⎞              ⎛     -ⅈ⋅t⋅varpi\n",
       "⎢           ⎜E¹₀⋅ℯ              ℯ          ⋅E¹₀⎟              ⎜E²₀⋅ℯ          \n",
       "⎢e⋅r_{0;21}⋅⎜──────────────── + ───────────────⎟ + e⋅r_{0;21}⋅⎜───────────────\n",
       "⎢           ⎝       2                  2       ⎠              ⎝       2       \n",
       "⎢                                                                             \n",
       "⎢           ⎛     -ⅈ⋅t⋅varpi₁    ⅈ⋅t⋅varpi₁ ___⎞              ⎛     -ⅈ⋅t⋅varpi\n",
       "⎢           ⎜E¹₀⋅ℯ              ℯ          ⋅E¹₀⎟              ⎜E²₀⋅ℯ          \n",
       "⎢e⋅r_{0;31}⋅⎜──────────────── + ───────────────⎟ + e⋅r_{0;31}⋅⎜───────────────\n",
       "⎣           ⎝       2                  2       ⎠              ⎝       2       \n",
       "\n",
       "                                 ⎛     -ⅈ⋅t⋅varpi₁    ⅈ⋅t⋅varpi₁ ___⎞         \n",
       "                                 ⎜E¹₀⋅ℯ              ℯ          ⋅E¹₀⎟         \n",
       "                      e⋅r_{0;21}⋅⎜──────────────── + ───────────────⎟ + e⋅r_{0\n",
       "                                 ⎝       2                  2       ⎠         \n",
       "                                                                              \n",
       "₂    ⅈ⋅t⋅varpi₂ ___⎞                                                          \n",
       "    ℯ          ⋅E²₀⎟                                                          \n",
       "─ + ───────────────⎟                                                  0       \n",
       "           2       ⎠                                                          \n",
       "                                                                              \n",
       "₂    ⅈ⋅t⋅varpi₂ ___⎞                                                          \n",
       "    ℯ          ⋅E²₀⎟                                                          \n",
       "─ + ───────────────⎟                                                  0       \n",
       "           2       ⎠                                                          \n",
       "\n",
       "     ⎛     -ⅈ⋅t⋅varpi₂    ⅈ⋅t⋅varpi₂ ___⎞             ⎛     -ⅈ⋅t⋅varpi₁    ⅈ⋅t\n",
       "     ⎜E²₀⋅ℯ              ℯ          ⋅E²₀⎟             ⎜E¹₀⋅ℯ              ℯ   \n",
       ";21}⋅⎜──────────────── + ───────────────⎟  e⋅r_{0;31}⋅⎜──────────────── + ────\n",
       "     ⎝       2                  2       ⎠             ⎝       2               \n",
       "                                                                              \n",
       "                                                                              \n",
       "                                                                              \n",
       "                                                                              \n",
       "                                                                              \n",
       "                                                                              \n",
       "                                                                              \n",
       "                                                                              \n",
       "                                                                              \n",
       "                                                                              \n",
       "\n",
       "⋅varpi₁ ___⎞              ⎛     -ⅈ⋅t⋅varpi₂    ⅈ⋅t⋅varpi₂ ___⎞⎤\n",
       "       ⋅E¹₀⎟              ⎜E²₀⋅ℯ              ℯ          ⋅E²₀⎟⎥\n",
       "───────────⎟ + e⋅r_{0;31}⋅⎜──────────────── + ───────────────⎟⎥\n",
       "   2       ⎠              ⎝       2                  2       ⎠⎥\n",
       "                                                              ⎥\n",
       "                                                              ⎥\n",
       "                                                              ⎥\n",
       "             0                                                ⎥\n",
       "                                                              ⎥\n",
       "                                                              ⎥\n",
       "                                                              ⎥\n",
       "                                                              ⎥\n",
       "             0                                                ⎥\n",
       "                                                              ⎦"
      ]
     },
     "execution_count": 18,
     "metadata": {},
     "output_type": "execute_result"
    }
   ],
   "source": [
    "zero_matrix=zeros(Ne,Ne)\n",
    "H1=sum([ e*helicity_dot_product(E[l],r) for l in range(Nl)],zero_matrix)\n",
    "fprint(H1, print_ascii=print_ascii)"
   ]
  },
  {
   "cell_type": "markdown",
   "metadata": {},
   "source": [
    "and the complete hamiltonian is"
   ]
  },
  {
   "cell_type": "code",
   "execution_count": 19,
   "metadata": {
    "collapsed": false
   },
   "outputs": [
    {
     "data": {
      "image/png": "[encoded data removed]",
      "text/latex": [
       "$$\\left[\\begin{matrix}\\hbar \\omega_{1} & e r_{0;21} \\left(\\frac{E^{1}_{0}}{2} e^{- i t \\varpi_{1}} + \\frac{\\overline{E^{1}_{0}}}{2} e^{i t \\varpi_{1}}\\right) + e r_{0;21} \\left(\\frac{E^{2}_{0}}{2} e^{- i t \\varpi_{2}} + \\frac{\\overline{E^{2}_{0}}}{2} e^{i t \\varpi_{2}}\\right) & e r_{0;31} \\left(\\frac{E^{1}_{0}}{2} e^{- i t \\varpi_{1}} + \\frac{\\overline{E^{1}_{0}}}{2} e^{i t \\varpi_{1}}\\right) + e r_{0;31} \\left(\\frac{E^{2}_{0}}{2} e^{- i t \\varpi_{2}} + \\frac{\\overline{E^{2}_{0}}}{2} e^{i t \\varpi_{2}}\\right)\\\\e r_{0;21} \\left(\\frac{E^{1}_{0}}{2} e^{- i t \\varpi_{1}} + \\frac{\\overline{E^{1}_{0}}}{2} e^{i t \\varpi_{1}}\\right) + e r_{0;21} \\left(\\frac{E^{2}_{0}}{2} e^{- i t \\varpi_{2}} + \\frac{\\overline{E^{2}_{0}}}{2} e^{i t \\varpi_{2}}\\right) & \\hbar \\omega_{2} & 0\\\\e r_{0;31} \\left(\\frac{E^{1}_{0}}{2} e^{- i t \\varpi_{1}} + \\frac{\\overline{E^{1}_{0}}}{2} e^{i t \\varpi_{1}}\\right) + e r_{0;31} \\left(\\frac{E^{2}_{0}}{2} e^{- i t \\varpi_{2}} + \\frac{\\overline{E^{2}_{0}}}{2} e^{i t \\varpi_{2}}\\right) & 0 & \\hbar \\omega_{3}\\end{matrix}\\right]$$"
      ],
      "text/plain": [
       "⎡                                                                             \n",
       "⎢                                                                             \n",
       "⎢                                              h̅⋅ω₁                          \n",
       "⎢                                                                             \n",
       "⎢                                                                             \n",
       "⎢           ⎛     -ⅈ⋅t⋅varpi₁    ⅈ⋅t⋅varpi₁ ___⎞              ⎛     -ⅈ⋅t⋅varpi\n",
       "⎢           ⎜E¹₀⋅ℯ              ℯ          ⋅E¹₀⎟              ⎜E²₀⋅ℯ          \n",
       "⎢e⋅r_{0;21}⋅⎜──────────────── + ───────────────⎟ + e⋅r_{0;21}⋅⎜───────────────\n",
       "⎢           ⎝       2                  2       ⎠              ⎝       2       \n",
       "⎢                                                                             \n",
       "⎢           ⎛     -ⅈ⋅t⋅varpi₁    ⅈ⋅t⋅varpi₁ ___⎞              ⎛     -ⅈ⋅t⋅varpi\n",
       "⎢           ⎜E¹₀⋅ℯ              ℯ          ⋅E¹₀⎟              ⎜E²₀⋅ℯ          \n",
       "⎢e⋅r_{0;31}⋅⎜──────────────── + ───────────────⎟ + e⋅r_{0;31}⋅⎜───────────────\n",
       "⎣           ⎝       2                  2       ⎠              ⎝       2       \n",
       "\n",
       "                                 ⎛     -ⅈ⋅t⋅varpi₁    ⅈ⋅t⋅varpi₁ ___⎞         \n",
       "                                 ⎜E¹₀⋅ℯ              ℯ          ⋅E¹₀⎟         \n",
       "                      e⋅r_{0;21}⋅⎜──────────────── + ───────────────⎟ + e⋅r_{0\n",
       "                                 ⎝       2                  2       ⎠         \n",
       "                                                                              \n",
       "₂    ⅈ⋅t⋅varpi₂ ___⎞                                                          \n",
       "    ℯ          ⋅E²₀⎟                                                          \n",
       "─ + ───────────────⎟                                                h̅⋅ω₂     \n",
       "           2       ⎠                                                          \n",
       "                                                                              \n",
       "₂    ⅈ⋅t⋅varpi₂ ___⎞                                                          \n",
       "    ℯ          ⋅E²₀⎟                                                          \n",
       "─ + ───────────────⎟                                                  0       \n",
       "           2       ⎠                                                          \n",
       "\n",
       "     ⎛     -ⅈ⋅t⋅varpi₂    ⅈ⋅t⋅varpi₂ ___⎞             ⎛     -ⅈ⋅t⋅varpi₁    ⅈ⋅t\n",
       "     ⎜E²₀⋅ℯ              ℯ          ⋅E²₀⎟             ⎜E¹₀⋅ℯ              ℯ   \n",
       ";21}⋅⎜──────────────── + ───────────────⎟  e⋅r_{0;31}⋅⎜──────────────── + ────\n",
       "     ⎝       2                  2       ⎠             ⎝       2               \n",
       "                                                                              \n",
       "                                                                              \n",
       "                                                                              \n",
       "                                                                              \n",
       "                                                                              \n",
       "                                                                              \n",
       "                                                                              \n",
       "                                                                              \n",
       "                                                                              \n",
       "                                                                              \n",
       "\n",
       "⋅varpi₁ ___⎞              ⎛     -ⅈ⋅t⋅varpi₂    ⅈ⋅t⋅varpi₂ ___⎞⎤\n",
       "       ⋅E¹₀⎟              ⎜E²₀⋅ℯ              ℯ          ⋅E²₀⎟⎥\n",
       "───────────⎟ + e⋅r_{0;31}⋅⎜──────────────── + ───────────────⎟⎥\n",
       "   2       ⎠              ⎝       2                  2       ⎠⎥\n",
       "                                                              ⎥\n",
       "                                                              ⎥\n",
       "                                                              ⎥\n",
       "             0                                                ⎥\n",
       "                                                              ⎥\n",
       "                                                              ⎥\n",
       "                                                              ⎥\n",
       "                                                              ⎥\n",
       "           h̅⋅ω₃                                              ⎥\n",
       "                                                              ⎦"
      ]
     },
     "execution_count": 19,
     "metadata": {},
     "output_type": "execute_result"
    }
   ],
   "source": [
    "H=H0+H1\n",
    "fprint(H, print_ascii=print_ascii)"
   ]
  },
  {
   "cell_type": "markdown",
   "metadata": {
    "collapsed": true
   },
   "source": [
    "# Rotating wave approximation\n",
    "Notice that the electric field can be separated by terms with positive and negative frequency:"
   ]
  },
  {
   "cell_type": "code",
   "execution_count": 20,
   "metadata": {
    "collapsed": false
   },
   "outputs": [
    {
     "data": {
      "image/png": "[encoded data removed]",
      "text/latex": [
       "$$\\left [ \\left [ \\left[\\begin{matrix}0\\\\\\frac{E^{1}_{0}}{2} e^{- i t \\varpi_{1}}\\\\0\\end{matrix}\\right], \\quad \\left[\\begin{matrix}0\\\\\\frac{E^{2}_{0}}{2} e^{- i t \\varpi_{2}}\\\\0\\end{matrix}\\right]\\right ], \\quad \\left [ \\left[\\begin{matrix}0\\\\\\frac{\\overline{E^{1}_{0}}}{2} e^{i t \\varpi_{1}}\\\\0\\end{matrix}\\right], \\quad \\left[\\begin{matrix}0\\\\\\frac{\\overline{E^{2}_{0}}}{2} e^{i t \\varpi_{2}}\\\\0\\end{matrix}\\right]\\right ]\\right ]$$"
      ],
      "text/plain": [
       "⎡⎡⎡       0        ⎤, ⎡       0        ⎤⎤, ⎡⎡       0       ⎤, ⎡       0      \n",
       "⎢⎢⎢                ⎥  ⎢                ⎥⎥  ⎢⎢               ⎥  ⎢              \n",
       "⎢⎢⎢     -ⅈ⋅t⋅varpi₁⎥  ⎢     -ⅈ⋅t⋅varpi₂⎥⎥  ⎢⎢ ⅈ⋅t⋅varpi₁ ___⎥  ⎢ ⅈ⋅t⋅varpi₂ __\n",
       "⎢⎢⎢E¹₀⋅ℯ           ⎥  ⎢E²₀⋅ℯ           ⎥⎥  ⎢⎢ℯ          ⋅E¹₀⎥  ⎢ℯ          ⋅E²\n",
       "⎢⎢⎢────────────────⎥  ⎢────────────────⎥⎥  ⎢⎢───────────────⎥  ⎢──────────────\n",
       "⎢⎢⎢       2        ⎥  ⎢       2        ⎥⎥  ⎢⎢       2       ⎥  ⎢       2      \n",
       "⎢⎢⎢                ⎥  ⎢                ⎥⎥  ⎢⎢               ⎥  ⎢              \n",
       "⎣⎣⎣       0        ⎦  ⎣       0        ⎦⎦  ⎣⎣       0       ⎦  ⎣       0      \n",
       "\n",
       " ⎤⎤⎤\n",
       " ⎥⎥⎥\n",
       "_⎥⎥⎥\n",
       "₀⎥⎥⎥\n",
       "─⎥⎥⎥\n",
       " ⎥⎥⎥\n",
       " ⎥⎥⎥\n",
       " ⎦⎦⎦"
      ]
     },
     "execution_count": 20,
     "metadata": {},
     "output_type": "execute_result"
    }
   ],
   "source": [
    "E_cartesian_p=[E0[l]/2*ep[l]*exp(-I*omega_laser[l]*t) for l in range(Nl)]\n",
    "E_cartesian_m=[E0[l].conjugate()/2*em[l]*exp( I*omega_laser[l]*t) for l in range(Nl)]\n",
    "\n",
    "E_p=[cartesian_to_helicity(E_cartesian_p[l]) for l in range(Nl)]\n",
    "E_m=[cartesian_to_helicity(E_cartesian_m[l]) for l in range(Nl)]\n",
    "\n",
    "fprint([E_p,E_m], print_ascii=print_ascii)"
   ]
  },
  {
   "cell_type": "code",
   "execution_count": 21,
   "metadata": {
    "collapsed": false
   },
   "outputs": [
    {
     "data": {
      "image/png": "[encoded data removed]",
      "text/latex": [
       "$$\\left[\\begin{matrix}0\\\\0\\\\0\\end{matrix}\\right]$$"
      ],
      "text/plain": [
       "⎡0⎤\n",
       "⎢ ⎥\n",
       "⎢0⎥\n",
       "⎢ ⎥\n",
       "⎣0⎦"
      ]
     },
     "execution_count": 21,
     "metadata": {},
     "output_type": "execute_result"
    }
   ],
   "source": [
    "fprint( simplify(sum([E[l] for l in range(Nl)],zero_vect)-(sum([E_p[l]+E_m[l] for l in range(Nl)],zero_vect) )), print_ascii=print_ascii)"
   ]
  },
  {
   "cell_type": "markdown",
   "metadata": {},
   "source": [
    "The position operator can also be separated in this way. We go to the interaction picture (with $\\hat{H}_0$ as the undisturbed hamiltonian)"
   ]
  },
  {
   "cell_type": "code",
   "execution_count": 22,
   "metadata": {
    "collapsed": false
   },
   "outputs": [
    {
     "data": {
      "image/png": "[encoded data removed]",
      "text/latex": [
       "$$\\left[\\begin{matrix}0 & - r_{+1;21} e^{- i \\omega_{21} t} & - r_{+1;31} e^{- i \\omega_{31} t}\\\\r_{-1;21} e^{i \\omega_{21} t} & 0 & 0\\\\r_{-1;31} e^{i \\omega_{31} t} & 0 & 0\\end{matrix}\\right]$$"
      ],
      "text/plain": [
       "⎡                                -ⅈ⋅ω₂₁⋅t              -ⅈ⋅ω₃₁⋅t⎤\n",
       "⎢        0           -r_{+1;21}⋅ℯ          -r_{+1;31}⋅ℯ        ⎥\n",
       "⎢                                                              ⎥\n",
       "⎢           ⅈ⋅ω₂₁⋅t                                            ⎥\n",
       "⎢r_{-1;21}⋅ℯ                  0                     0          ⎥\n",
       "⎢                                                              ⎥\n",
       "⎢           ⅈ⋅ω₃₁⋅t                                            ⎥\n",
       "⎣r_{-1;31}⋅ℯ                  0                     0          ⎦"
      ]
     },
     "execution_count": 22,
     "metadata": {},
     "output_type": "execute_result"
    }
   ],
   "source": [
    "r_I=[ Matrix([[exp(I*omega[i,j]*t)*r[p][i,j] for j in range(Ne)] for i in range(Ne)]) for p in range(3)]\n",
    "fprint(r_I[0], print_ascii=print_ascii)"
   ]
  },
  {
   "cell_type": "code",
   "execution_count": 23,
   "metadata": {
    "collapsed": false
   },
   "outputs": [
    {
     "data": {
      "image/png": "[encoded data removed]",
      "text/latex": [
       "$$\\left[\\begin{matrix}0 & r_{0;21} e^{- i \\omega_{21} t} & r_{0;31} e^{- i \\omega_{31} t}\\\\r_{0;21} e^{i \\omega_{21} t} & 0 & 0\\\\r_{0;31} e^{i \\omega_{31} t} & 0 & 0\\end{matrix}\\right]$$"
      ],
      "text/plain": [
       "⎡                             -ⅈ⋅ω₂₁⋅t            -ⅈ⋅ω₃₁⋅t⎤\n",
       "⎢        0          r_{0;21}⋅ℯ          r_{0;31}⋅ℯ        ⎥\n",
       "⎢                                                         ⎥\n",
       "⎢          ⅈ⋅ω₂₁⋅t                                        ⎥\n",
       "⎢r_{0;21}⋅ℯ                 0                   0         ⎥\n",
       "⎢                                                         ⎥\n",
       "⎢          ⅈ⋅ω₃₁⋅t                                        ⎥\n",
       "⎣r_{0;31}⋅ℯ                 0                   0         ⎦"
      ]
     },
     "execution_count": 23,
     "metadata": {},
     "output_type": "execute_result"
    }
   ],
   "source": [
    "fprint(r_I[1], print_ascii=print_ascii)"
   ]
  },
  {
   "cell_type": "code",
   "execution_count": 24,
   "metadata": {
    "collapsed": false
   },
   "outputs": [
    {
     "data": {
      "image/png": "[encoded data removed]",
      "text/latex": [
       "$$\\left[\\begin{matrix}0 & - r_{-1;21} e^{- i \\omega_{21} t} & - r_{-1;31} e^{- i \\omega_{31} t}\\\\r_{+1;21} e^{i \\omega_{21} t} & 0 & 0\\\\r_{+1;31} e^{i \\omega_{31} t} & 0 & 0\\end{matrix}\\right]$$"
      ],
      "text/plain": [
       "⎡                                -ⅈ⋅ω₂₁⋅t              -ⅈ⋅ω₃₁⋅t⎤\n",
       "⎢        0           -r_{-1;21}⋅ℯ          -r_{-1;31}⋅ℯ        ⎥\n",
       "⎢                                                              ⎥\n",
       "⎢           ⅈ⋅ω₂₁⋅t                                            ⎥\n",
       "⎢r_{+1;21}⋅ℯ                  0                     0          ⎥\n",
       "⎢                                                              ⎥\n",
       "⎢           ⅈ⋅ω₃₁⋅t                                            ⎥\n",
       "⎣r_{+1;31}⋅ℯ                  0                     0          ⎦"
      ]
     },
     "execution_count": 24,
     "metadata": {},
     "output_type": "execute_result"
    }
   ],
   "source": [
    "fprint(r_I[2], print_ascii=print_ascii)"
   ]
  },
  {
   "cell_type": "markdown",
   "metadata": {},
   "source": [
    "Which can be decomposed in positive and negative frequencies as"
   ]
  },
  {
   "cell_type": "code",
   "execution_count": 25,
   "metadata": {
    "collapsed": false
   },
   "outputs": [
    {
     "data": {
      "image/png": "[encoded data removed]",
      "text/latex": [
       "$$\\left[\\begin{matrix}0 & - r_{+1;21} e^{- i \\omega_{21} t} & - r_{+1;31} e^{- i \\omega_{31} t}\\\\0 & 0 & 0\\\\0 & 0 & 0\\end{matrix}\\right]$$"
      ],
      "text/plain": [
       "⎡               -ⅈ⋅ω₂₁⋅t              -ⅈ⋅ω₃₁⋅t⎤\n",
       "⎢0  -r_{+1;21}⋅ℯ          -r_{+1;31}⋅ℯ        ⎥\n",
       "⎢                                             ⎥\n",
       "⎢0           0                     0          ⎥\n",
       "⎢                                             ⎥\n",
       "⎣0           0                     0          ⎦"
      ]
     },
     "execution_count": 25,
     "metadata": {},
     "output_type": "execute_result"
    }
   ],
   "source": [
    "r_I_p=[ Matrix([[ delta_greater(j,i)*exp(-I*omega[j,i]*t)*r[p][i,j] for j in range(Ne)]for i in range(Ne)]) for p in range(3)]\n",
    "fprint(r_I_p[0], print_ascii=print_ascii)"
   ]
  },
  {
   "cell_type": "code",
   "execution_count": 26,
   "metadata": {
    "collapsed": false
   },
   "outputs": [
    {
     "data": {
      "image/png": "[encoded data removed]",
      "text/latex": [
       "$$\\left[\\begin{matrix}0 & r_{0;21} e^{- i \\omega_{21} t} & r_{0;31} e^{- i \\omega_{31} t}\\\\0 & 0 & 0\\\\0 & 0 & 0\\end{matrix}\\right]$$"
      ],
      "text/plain": [
       "⎡             -ⅈ⋅ω₂₁⋅t            -ⅈ⋅ω₃₁⋅t⎤\n",
       "⎢0  r_{0;21}⋅ℯ          r_{0;31}⋅ℯ        ⎥\n",
       "⎢                                         ⎥\n",
       "⎢0          0                   0         ⎥\n",
       "⎢                                         ⎥\n",
       "⎣0          0                   0         ⎦"
      ]
     },
     "execution_count": 26,
     "metadata": {},
     "output_type": "execute_result"
    }
   ],
   "source": [
    "fprint(r_I_p[1], print_ascii=print_ascii)"
   ]
  },
  {
   "cell_type": "code",
   "execution_count": 27,
   "metadata": {
    "collapsed": false
   },
   "outputs": [
    {
     "data": {
      "image/png": "[encoded data removed]",
      "text/latex": [
       "$$\\left[\\begin{matrix}0 & - r_{-1;21} e^{- i \\omega_{21} t} & - r_{-1;31} e^{- i \\omega_{31} t}\\\\0 & 0 & 0\\\\0 & 0 & 0\\end{matrix}\\right]$$"
      ],
      "text/plain": [
       "⎡               -ⅈ⋅ω₂₁⋅t              -ⅈ⋅ω₃₁⋅t⎤\n",
       "⎢0  -r_{-1;21}⋅ℯ          -r_{-1;31}⋅ℯ        ⎥\n",
       "⎢                                             ⎥\n",
       "⎢0           0                     0          ⎥\n",
       "⎢                                             ⎥\n",
       "⎣0           0                     0          ⎦"
      ]
     },
     "execution_count": 27,
     "metadata": {},
     "output_type": "execute_result"
    }
   ],
   "source": [
    "fprint(r_I_p[2], print_ascii=print_ascii)"
   ]
  },
  {
   "cell_type": "code",
   "execution_count": 28,
   "metadata": {
    "collapsed": false
   },
   "outputs": [
    {
     "data": {
      "image/png": "[encoded data removed]",
      "text/latex": [
       "$$\\left[\\begin{matrix}0 & 0 & 0\\\\r_{-1;21} e^{i \\omega_{21} t} & 0 & 0\\\\r_{-1;31} e^{i \\omega_{31} t} & 0 & 0\\end{matrix}\\right]$$"
      ],
      "text/plain": [
       "⎡        0           0  0⎤\n",
       "⎢                        ⎥\n",
       "⎢           ⅈ⋅ω₂₁⋅t      ⎥\n",
       "⎢r_{-1;21}⋅ℯ         0  0⎥\n",
       "⎢                        ⎥\n",
       "⎢           ⅈ⋅ω₃₁⋅t      ⎥\n",
       "⎣r_{-1;31}⋅ℯ         0  0⎦"
      ]
     },
     "execution_count": 28,
     "metadata": {},
     "output_type": "execute_result"
    }
   ],
   "source": [
    "r_I_m=[ Matrix([[ delta_lesser( j,i)*exp( I*omega[i,j]*t)*r[p][i,j] for j in range(Ne)]for i in range(Ne)]) for p in range(3)]\n",
    "fprint(r_I_m[0], print_ascii=print_ascii)"
   ]
  },
  {
   "cell_type": "code",
   "execution_count": 29,
   "metadata": {
    "collapsed": false
   },
   "outputs": [
    {
     "data": {
      "image/png": "[encoded data removed]",
      "text/latex": [
       "$$\\left[\\begin{matrix}0 & 0 & 0\\\\r_{0;21} e^{i \\omega_{21} t} & 0 & 0\\\\r_{0;31} e^{i \\omega_{31} t} & 0 & 0\\end{matrix}\\right]$$"
      ],
      "text/plain": [
       "⎡        0          0  0⎤\n",
       "⎢                       ⎥\n",
       "⎢          ⅈ⋅ω₂₁⋅t      ⎥\n",
       "⎢r_{0;21}⋅ℯ         0  0⎥\n",
       "⎢                       ⎥\n",
       "⎢          ⅈ⋅ω₃₁⋅t      ⎥\n",
       "⎣r_{0;31}⋅ℯ         0  0⎦"
      ]
     },
     "execution_count": 29,
     "metadata": {},
     "output_type": "execute_result"
    }
   ],
   "source": [
    "fprint(r_I_m[1], print_ascii=print_ascii)"
   ]
  },
  {
   "cell_type": "code",
   "execution_count": 30,
   "metadata": {
    "collapsed": false
   },
   "outputs": [
    {
     "data": {
      "image/png": "[encoded data removed]",
      "text/latex": [
       "$$\\left[\\begin{matrix}0 & 0 & 0\\\\r_{+1;21} e^{i \\omega_{21} t} & 0 & 0\\\\r_{+1;31} e^{i \\omega_{31} t} & 0 & 0\\end{matrix}\\right]$$"
      ],
      "text/plain": [
       "⎡        0           0  0⎤\n",
       "⎢                        ⎥\n",
       "⎢           ⅈ⋅ω₂₁⋅t      ⎥\n",
       "⎢r_{+1;21}⋅ℯ         0  0⎥\n",
       "⎢                        ⎥\n",
       "⎢           ⅈ⋅ω₃₁⋅t      ⎥\n",
       "⎣r_{+1;31}⋅ℯ         0  0⎦"
      ]
     },
     "execution_count": 30,
     "metadata": {},
     "output_type": "execute_result"
    }
   ],
   "source": [
    "fprint(r_I_m[2], print_ascii=print_ascii)"
   ]
  },
  {
   "cell_type": "markdown",
   "metadata": {},
   "source": [
    "that summed equal $\\vec{\\hat{r}}_I$"
   ]
  },
  {
   "cell_type": "code",
   "execution_count": 31,
   "metadata": {
    "collapsed": false
   },
   "outputs": [
    {
     "data": {
      "image/png": "[encoded data removed]",
      "text/latex": [
       "$$\\left [ \\left[\\begin{matrix}0 & 0 & 0\\\\0 & 0 & 0\\\\0 & 0 & 0\\end{matrix}\\right], \\quad \\left[\\begin{matrix}0 & 0 & 0\\\\0 & 0 & 0\\\\0 & 0 & 0\\end{matrix}\\right], \\quad \\left[\\begin{matrix}0 & 0 & 0\\\\0 & 0 & 0\\\\0 & 0 & 0\\end{matrix}\\right]\\right ]$$"
      ],
      "text/plain": [
       "⎡⎡0  0  0⎤, ⎡0  0  0⎤, ⎡0  0  0⎤⎤\n",
       "⎢⎢       ⎥  ⎢       ⎥  ⎢       ⎥⎥\n",
       "⎢⎢0  0  0⎥  ⎢0  0  0⎥  ⎢0  0  0⎥⎥\n",
       "⎢⎢       ⎥  ⎢       ⎥  ⎢       ⎥⎥\n",
       "⎣⎣0  0  0⎦  ⎣0  0  0⎦  ⎣0  0  0⎦⎦"
      ]
     },
     "execution_count": 31,
     "metadata": {},
     "output_type": "execute_result"
    }
   ],
   "source": [
    "fprint( [r_I[p]-(r_I_p[p]+r_I_m[p]) for p in range(3)] , print_ascii=print_ascii)"
   ]
  },
  {
   "cell_type": "markdown",
   "metadata": {},
   "source": [
    "Thus the interaction hamiltonian in the interaciton picture is\n",
    "\\begin{equation}\n",
    "    \\hat{H}_{1I}=e\\vec{E}\\cdot \\vec{\\hat{r}}_I= e(\\vec{E}^{(+)}\\cdot \\vec{\\hat{r}}^{(+)}_I + \\vec{E}^{(+)}\\cdot \\vec{\\hat{r}}^{(-)}_I + \\vec{E}^{(-)}\\cdot \\vec{\\hat{r}}^{(+)}_I + \\vec{E}^{(-)}\\cdot \\vec{\\hat{r}}^{(-)}_I)\n",
    "\\end{equation}"
   ]
  },
  {
   "cell_type": "code",
   "execution_count": 32,
   "metadata": {
    "collapsed": false
   },
   "outputs": [
    {
     "data": {
      "image/png": "[encoded data removed]",
      "text/latex": [
       "$$\\left[\\begin{matrix}0 & e r_{0;21} \\left(\\frac{E^{1}_{0}}{2} e^{- i t \\varpi_{1}} + \\frac{\\overline{E^{1}_{0}}}{2} e^{i t \\varpi_{1}}\\right) e^{- i \\omega_{21} t} + e r_{0;21} \\left(\\frac{E^{2}_{0}}{2} e^{- i t \\varpi_{2}} + \\frac{\\overline{E^{2}_{0}}}{2} e^{i t \\varpi_{2}}\\right) e^{- i \\omega_{21} t} & e r_{0;31} \\left(\\frac{E^{1}_{0}}{2} e^{- i t \\varpi_{1}} + \\frac{\\overline{E^{1}_{0}}}{2} e^{i t \\varpi_{1}}\\right) e^{- i \\omega_{31} t} + e r_{0;31} \\left(\\frac{E^{2}_{0}}{2} e^{- i t \\varpi_{2}} + \\frac{\\overline{E^{2}_{0}}}{2} e^{i t \\varpi_{2}}\\right) e^{- i \\omega_{31} t}\\\\e r_{0;21} \\left(\\frac{E^{1}_{0}}{2} e^{- i t \\varpi_{1}} + \\frac{\\overline{E^{1}_{0}}}{2} e^{i t \\varpi_{1}}\\right) e^{i \\omega_{21} t} + e r_{0;21} \\left(\\frac{E^{2}_{0}}{2} e^{- i t \\varpi_{2}} + \\frac{\\overline{E^{2}_{0}}}{2} e^{i t \\varpi_{2}}\\right) e^{i \\omega_{21} t} & 0 & 0\\\\e r_{0;31} \\left(\\frac{E^{1}_{0}}{2} e^{- i t \\varpi_{1}} + \\frac{\\overline{E^{1}_{0}}}{2} e^{i t \\varpi_{1}}\\right) e^{i \\omega_{31} t} + e r_{0;31} \\left(\\frac{E^{2}_{0}}{2} e^{- i t \\varpi_{2}} + \\frac{\\overline{E^{2}_{0}}}{2} e^{i t \\varpi_{2}}\\right) e^{i \\omega_{31} t} & 0 & 0\\end{matrix}\\right]$$"
      ],
      "text/plain": [
       "⎡                                                                             \n",
       "⎢                                                                             \n",
       "⎢                                                         0                   \n",
       "⎢                                                                             \n",
       "⎢                                                                             \n",
       "⎢           ⎛     -ⅈ⋅t⋅varpi₁    ⅈ⋅t⋅varpi₁ ___⎞                       ⎛     -\n",
       "⎢           ⎜E¹₀⋅ℯ              ℯ          ⋅E¹₀⎟  ⅈ⋅ω₂₁⋅t              ⎜E²₀⋅ℯ \n",
       "⎢e⋅r_{0;21}⋅⎜──────────────── + ───────────────⎟⋅ℯ        + e⋅r_{0;21}⋅⎜──────\n",
       "⎢           ⎝       2                  2       ⎠                       ⎝      \n",
       "⎢                                                                             \n",
       "⎢           ⎛     -ⅈ⋅t⋅varpi₁    ⅈ⋅t⋅varpi₁ ___⎞                       ⎛     -\n",
       "⎢           ⎜E¹₀⋅ℯ              ℯ          ⋅E¹₀⎟  ⅈ⋅ω₃₁⋅t              ⎜E²₀⋅ℯ \n",
       "⎢e⋅r_{0;31}⋅⎜──────────────── + ───────────────⎟⋅ℯ        + e⋅r_{0;31}⋅⎜──────\n",
       "⎣           ⎝       2                  2       ⎠                       ⎝      \n",
       "\n",
       "                                                   ⎛     -ⅈ⋅t⋅varpi₁    ⅈ⋅t⋅va\n",
       "                                                   ⎜E¹₀⋅ℯ              ℯ      \n",
       "                                        e⋅r_{0;21}⋅⎜──────────────── + ───────\n",
       "                                                   ⎝       2                  \n",
       "                                                                              \n",
       "ⅈ⋅t⋅varpi₂    ⅈ⋅t⋅varpi₂ ___⎞                                                 \n",
       "             ℯ          ⋅E²₀⎟  ⅈ⋅ω₂₁⋅t                                        \n",
       "────────── + ───────────────⎟⋅ℯ                                               \n",
       " 2                  2       ⎠                                                 \n",
       "                                                                              \n",
       "ⅈ⋅t⋅varpi₂    ⅈ⋅t⋅varpi₂ ___⎞                                                 \n",
       "             ℯ          ⋅E²₀⎟  ⅈ⋅ω₃₁⋅t                                        \n",
       "────────── + ───────────────⎟⋅ℯ                                               \n",
       " 2                  2       ⎠                                                 \n",
       "\n",
       "rpi₁ ___⎞                        ⎛     -ⅈ⋅t⋅varpi₂    ⅈ⋅t⋅varpi₂ ___⎞         \n",
       "    ⋅E¹₀⎟  -ⅈ⋅ω₂₁⋅t              ⎜E²₀⋅ℯ              ℯ          ⋅E²₀⎟  -ⅈ⋅ω₂₁⋅\n",
       "────────⎟⋅ℯ         + e⋅r_{0;21}⋅⎜──────────────── + ───────────────⎟⋅ℯ       \n",
       "2       ⎠                        ⎝       2                  2       ⎠         \n",
       "                                                                              \n",
       "                                                                              \n",
       "                                                                              \n",
       "                    0                                                         \n",
       "                                                                              \n",
       "                                                                              \n",
       "                                                                              \n",
       "                                                                              \n",
       "                    0                                                         \n",
       "                                                                              \n",
       "\n",
       "              ⎛     -ⅈ⋅t⋅varpi₁    ⅈ⋅t⋅varpi₁ ___⎞                        ⎛   \n",
       "t             ⎜E¹₀⋅ℯ              ℯ          ⋅E¹₀⎟  -ⅈ⋅ω₃₁⋅t              ⎜E²₀\n",
       "   e⋅r_{0;31}⋅⎜──────────────── + ───────────────⎟⋅ℯ         + e⋅r_{0;31}⋅⎜───\n",
       "              ⎝       2                  2       ⎠                        ⎝   \n",
       "                                                                              \n",
       "                                                                              \n",
       "                                                                              \n",
       "                                                             0                \n",
       "                                                                              \n",
       "                                                                              \n",
       "                                                                              \n",
       "                                                                              \n",
       "                                                             0                \n",
       "                                                                              \n",
       "\n",
       "  -ⅈ⋅t⋅varpi₂    ⅈ⋅t⋅varpi₂ ___⎞          ⎤\n",
       "⋅ℯ              ℯ          ⋅E²₀⎟  -ⅈ⋅ω₃₁⋅t⎥\n",
       "───────────── + ───────────────⎟⋅ℯ        ⎥\n",
       "    2                  2       ⎠          ⎥\n",
       "                                          ⎥\n",
       "                                          ⎥\n",
       "                                          ⎥\n",
       "                                          ⎥\n",
       "                                          ⎥\n",
       "                                          ⎥\n",
       "                                          ⎥\n",
       "                                          ⎥\n",
       "                                          ⎥\n",
       "                                          ⎦"
      ]
     },
     "execution_count": 32,
     "metadata": {},
     "output_type": "execute_result"
    }
   ],
   "source": [
    "H1I=sum([ e*helicity_dot_product(E[l],r_I) for l in range(Nl)],zero_matrix)\n",
    "fprint(H1I, print_ascii=print_ascii)"
   ]
  },
  {
   "cell_type": "markdown",
   "metadata": {},
   "source": [
    "Since both $\\omega^l$ and $\\omega_{ij}$ are in the order of THz, the terms that have frequencies with the same sign are summed, and thus also of the order of THz. The frequencies in the terms with oposite signs however, are detunings of the order of MHz. Since we are only interested in the coarse-grained evolution of the density matrix, we may omit the fast terms and approximate\n",
    "\n",
    "\\begin{equation}\n",
    "    \\hat{H}_{1I} \\simeq \\hat{H}_{1I,RWA}= e( \\vec{E}^{(+)}\\cdot \\vec{\\hat{r}}^{(-)}_I + \\vec{E}^{(-)}\\cdot \\vec{\\hat{r}}^{(+)}_I )\n",
    "\\end{equation}\n",
    "\n",
    "That is known as the rotating wave approximation (RWA)."
   ]
  },
  {
   "cell_type": "code",
   "execution_count": 33,
   "metadata": {
    "collapsed": false
   },
   "outputs": [
    {
     "data": {
      "image/png": "[encoded data removed]",
      "text/latex": [
       "$$\\left[\\begin{matrix}0 & \\frac{e r_{0;21}}{2} e^{- i \\omega_{21} t} e^{i t \\varpi_{1}} \\overline{E^{1}_{0}} + \\frac{e r_{0;21}}{2} e^{- i \\omega_{21} t} e^{i t \\varpi_{2}} \\overline{E^{2}_{0}} & \\frac{e r_{0;31}}{2} e^{- i \\omega_{31} t} e^{i t \\varpi_{1}} \\overline{E^{1}_{0}} + \\frac{e r_{0;31}}{2} e^{- i \\omega_{31} t} e^{i t \\varpi_{2}} \\overline{E^{2}_{0}}\\\\\\frac{e r_{0;21}}{2} E^{1}_{0} e^{i \\omega_{21} t} e^{- i t \\varpi_{1}} + \\frac{e r_{0;21}}{2} E^{2}_{0} e^{i \\omega_{21} t} e^{- i t \\varpi_{2}} & 0 & 0\\\\\\frac{e r_{0;31}}{2} E^{1}_{0} e^{i \\omega_{31} t} e^{- i t \\varpi_{1}} + \\frac{e r_{0;31}}{2} E^{2}_{0} e^{i \\omega_{31} t} e^{- i t \\varpi_{2}} & 0 & 0\\end{matrix}\\right]$$"
      ],
      "text/plain": [
       "⎡                                                                             \n",
       "⎢                                                                             \n",
       "⎢                                     0                                       \n",
       "⎢                                                                             \n",
       "⎢                                                                             \n",
       "⎢                ⅈ⋅ω₂₁⋅t  -ⅈ⋅t⋅varpi₁                   ⅈ⋅ω₂₁⋅t  -ⅈ⋅t⋅varpi₂  \n",
       "⎢E¹₀⋅e⋅r_{0;21}⋅ℯ       ⋅ℯ              E²₀⋅e⋅r_{0;21}⋅ℯ       ⋅ℯ             \n",
       "⎢──────────────────────────────────── + ────────────────────────────────────  \n",
       "⎢                 2                                      2                    \n",
       "⎢                                                                             \n",
       "⎢                ⅈ⋅ω₃₁⋅t  -ⅈ⋅t⋅varpi₁                   ⅈ⋅ω₃₁⋅t  -ⅈ⋅t⋅varpi₂  \n",
       "⎢E¹₀⋅e⋅r_{0;31}⋅ℯ       ⋅ℯ              E²₀⋅e⋅r_{0;31}⋅ℯ       ⋅ℯ             \n",
       "⎢──────────────────────────────────── + ────────────────────────────────────  \n",
       "⎣                 2                                      2                    \n",
       "\n",
       "            -ⅈ⋅ω₂₁⋅t  ⅈ⋅t⋅varpi₁ ___               -ⅈ⋅ω₂₁⋅t  ⅈ⋅t⋅varpi₂ ___   \n",
       "e⋅r_{0;21}⋅ℯ        ⋅ℯ          ⋅E¹₀   e⋅r_{0;21}⋅ℯ        ⋅ℯ          ⋅E²₀  e\n",
       "──────────────────────────────────── + ────────────────────────────────────  ─\n",
       "                 2                                      2                     \n",
       "                                                                              \n",
       "                                                                              \n",
       "                                                                              \n",
       "                                     0                                        \n",
       "                                                                              \n",
       "                                                                              \n",
       "                                                                              \n",
       "                                                                              \n",
       "                                     0                                        \n",
       "                                                                              \n",
       "\n",
       "           -ⅈ⋅ω₃₁⋅t  ⅈ⋅t⋅varpi₁ ___               -ⅈ⋅ω₃₁⋅t  ⅈ⋅t⋅varpi₂ ___⎤\n",
       "⋅r_{0;31}⋅ℯ        ⋅ℯ          ⋅E¹₀   e⋅r_{0;31}⋅ℯ        ⋅ℯ          ⋅E²₀⎥\n",
       "─────────────────────────────────── + ────────────────────────────────────⎥\n",
       "                2                                      2                  ⎥\n",
       "                                                                          ⎥\n",
       "                                                                          ⎥\n",
       "                                                                          ⎥\n",
       "                                    0                                     ⎥\n",
       "                                                                          ⎥\n",
       "                                                                          ⎥\n",
       "                                                                          ⎥\n",
       "                                                                          ⎥\n",
       "                                    0                                     ⎥\n",
       "                                                                          ⎦"
      ]
     },
     "execution_count": 33,
     "metadata": {},
     "output_type": "execute_result"
    }
   ],
   "source": [
    "H1IRWA=sum( [ (e*(helicity_dot_product(E_p[l],r_I_m)+helicity_dot_product(E_m[l],r_I_p))) for l in range(Nl)],zero_matrix)\n",
    "fprint(H1IRWA, print_ascii=print_ascii)"
   ]
  },
  {
   "cell_type": "markdown",
   "metadata": {},
   "source": [
    "For instance, the $(\\hat{H}_{1I,RWA})_{21}$ element is"
   ]
  },
  {
   "cell_type": "code",
   "execution_count": 34,
   "metadata": {
    "collapsed": false
   },
   "outputs": [
    {
     "data": {
      "image/png": "[encoded data removed]",
      "text/latex": [
       "$$\\frac{e r_{0;21}}{2} E^{1}_{0} e^{i \\omega_{21} t} e^{- i t \\varpi_{1}} + \\frac{e r_{0;21}}{2} E^{2}_{0} e^{i \\omega_{21} t} e^{- i t \\varpi_{2}}$$"
      ],
      "text/plain": [
       "                ⅈ⋅ω₂₁⋅t  -ⅈ⋅t⋅varpi₁                   ⅈ⋅ω₂₁⋅t  -ⅈ⋅t⋅varpi₂\n",
       "E¹₀⋅e⋅r_{0;21}⋅ℯ       ⋅ℯ              E²₀⋅e⋅r_{0;21}⋅ℯ       ⋅ℯ           \n",
       "──────────────────────────────────── + ────────────────────────────────────\n",
       "                 2                                      2                  "
      ]
     },
     "execution_count": 34,
     "metadata": {},
     "output_type": "execute_result"
    }
   ],
   "source": [
    "fprint(H1IRWA[1,0].expand(), print_ascii=print_ascii)"
   ]
  },
  {
   "cell_type": "markdown",
   "metadata": {},
   "source": [
    "But if the detuning $\\omega_{21}-\\omega^1 \\ll \\omega_{21}-\\omega^2$ (the second field is far detuned from the $1 \\rightarrow 2$ transition), then $\\omega_{21}-\\omega^2$ may be also considered too high a frequency to be relevant to coarse-grained evolution. So we might neclect that term in $(\\hat{H}_{1I,RWA})_{21}$ and similarly neglect the $\\omega_{31}-\\omega^2$ for term in $(\\hat{H}_{1I,RWA})_{31}$:"
   ]
  },
  {
   "cell_type": "code",
   "execution_count": 35,
   "metadata": {
    "collapsed": false
   },
   "outputs": [
    {
     "data": {
      "image/png": "[encoded data removed]",
      "text/latex": [
       "$$\\frac{e r_{0;31}}{2} E^{1}_{0} e^{i \\omega_{31} t} e^{- i t \\varpi_{1}} + \\frac{e r_{0;31}}{2} E^{2}_{0} e^{i \\omega_{31} t} e^{- i t \\varpi_{2}}$$"
      ],
      "text/plain": [
       "                ⅈ⋅ω₃₁⋅t  -ⅈ⋅t⋅varpi₁                   ⅈ⋅ω₃₁⋅t  -ⅈ⋅t⋅varpi₂\n",
       "E¹₀⋅e⋅r_{0;31}⋅ℯ       ⋅ℯ              E²₀⋅e⋅r_{0;31}⋅ℯ       ⋅ℯ           \n",
       "──────────────────────────────────── + ────────────────────────────────────\n",
       "                 2                                      2                  "
      ]
     },
     "execution_count": 35,
     "metadata": {},
     "output_type": "execute_result"
    }
   ],
   "source": [
    "fprint(H1IRWA[2,0].expand(), print_ascii=print_ascii)"
   ]
  },
  {
   "cell_type": "markdown",
   "metadata": {},
   "source": [
    "In other words, if the detunings in our experiments allow the approximmation, we might choose which frequency components $\\omega^l$ excite which transitions. Let us say that $L_{ij}$ is the set of $l$ such that $\\omega^l$ excites the transition $i\\rightarrow j$"
   ]
  },
  {
   "cell_type": "code",
   "execution_count": 36,
   "metadata": {
    "collapsed": false
   },
   "outputs": [
    {
     "name": "stdout",
     "output_type": "stream",
     "text": [
      "[[[] [1] [2]]\n",
      " [[1] [] []]\n",
      " [[2] [] []]]\n"
     ]
    }
   ],
   "source": [
    "Lij=[[1,2,[1]],[1,3,[2]]]\n",
    "Lij=formatLij(Lij,Ne)\n",
    "print array(Lij)"
   ]
  },
  {
   "cell_type": "markdown",
   "metadata": {},
   "source": [
    "Thus the interacion hamiltonian in the interaction picture can be approximated as"
   ]
  },
  {
   "cell_type": "code",
   "execution_count": 37,
   "metadata": {
    "collapsed": false
   },
   "outputs": [
    {
     "data": {
      "image/png": "[encoded data removed]",
      "text/latex": [
       "$$\\left[\\begin{matrix}0 & \\frac{e r_{0;21}}{2} e^{- i \\omega_{21} t} e^{i t \\varpi_{1}} \\overline{E^{1}_{0}} & \\frac{e r_{0;31}}{2} e^{- i \\omega_{31} t} e^{i t \\varpi_{2}} \\overline{E^{2}_{0}}\\\\\\frac{e r_{0;21}}{2} E^{1}_{0} e^{i \\omega_{21} t} e^{- i t \\varpi_{1}} & 0 & 0\\\\\\frac{e r_{0;31}}{2} E^{2}_{0} e^{i \\omega_{31} t} e^{- i t \\varpi_{2}} & 0 & 0\\end{matrix}\\right]$$"
      ],
      "text/plain": [
       "⎡                                                  -ⅈ⋅ω₂₁⋅t  ⅈ⋅t⋅varpi₁ ___   \n",
       "⎢                                      e⋅r_{0;21}⋅ℯ        ⋅ℯ          ⋅E¹₀  e\n",
       "⎢                 0                    ────────────────────────────────────  ─\n",
       "⎢                                                       2                     \n",
       "⎢                                                                             \n",
       "⎢                ⅈ⋅ω₂₁⋅t  -ⅈ⋅t⋅varpi₁                                         \n",
       "⎢E¹₀⋅e⋅r_{0;21}⋅ℯ       ⋅ℯ                                                    \n",
       "⎢────────────────────────────────────                   0                     \n",
       "⎢                 2                                                           \n",
       "⎢                                                                             \n",
       "⎢                ⅈ⋅ω₃₁⋅t  -ⅈ⋅t⋅varpi₂                                         \n",
       "⎢E²₀⋅e⋅r_{0;31}⋅ℯ       ⋅ℯ                                                    \n",
       "⎢────────────────────────────────────                   0                     \n",
       "⎣                 2                                                           \n",
       "\n",
       "           -ⅈ⋅ω₃₁⋅t  ⅈ⋅t⋅varpi₂ ___⎤\n",
       "⋅r_{0;31}⋅ℯ        ⋅ℯ          ⋅E²₀⎥\n",
       "───────────────────────────────────⎥\n",
       "                2                  ⎥\n",
       "                                   ⎥\n",
       "                                   ⎥\n",
       "                                   ⎥\n",
       "                0                  ⎥\n",
       "                                   ⎥\n",
       "                                   ⎥\n",
       "                                   ⎥\n",
       "                                   ⎥\n",
       "                0                  ⎥\n",
       "                                   ⎦"
      ]
     },
     "execution_count": 37,
     "metadata": {},
     "output_type": "execute_result"
    }
   ],
   "source": [
    "H1IRWA =sum([ e*( helicity_dot_product( E_p[l],vector_element(r_I_m,i,j)) ) * ket(i+1,Ne)*bra(j+1,Ne) \n",
    "            for l in range(Nl) for j in range(Ne) for i in range(Ne) if l+1 in Lij[i][j] ],zero_matrix)\n",
    "H1IRWA+=sum([ e*( helicity_dot_product( E_m[l],vector_element(r_I_p,i,j)) ) * ket(i+1,Ne)*bra(j+1,Ne) \n",
    "            for l in range(Nl) for j in range(Ne) for i in range(Ne) if l+1 in Lij[i][j] ],zero_matrix)\n",
    "\n",
    "fprint(H1IRWA, print_ascii=print_ascii)"
   ]
  },
  {
   "cell_type": "markdown",
   "metadata": {},
   "source": [
    "Returning to the Schrödinger picture we have."
   ]
  },
  {
   "cell_type": "code",
   "execution_count": 38,
   "metadata": {
    "collapsed": false
   },
   "outputs": [
    {
     "data": {
      "image/png": "[encoded data removed]",
      "text/latex": [
       "$$\\left [ \\left[\\begin{matrix}0 & - r_{+1;21} & - r_{+1;31}\\\\0 & 0 & 0\\\\0 & 0 & 0\\end{matrix}\\right], \\quad \\left[\\begin{matrix}0 & r_{0;21} & r_{0;31}\\\\0 & 0 & 0\\\\0 & 0 & 0\\end{matrix}\\right], \\quad \\left[\\begin{matrix}0 & - r_{-1;21} & - r_{-1;31}\\\\0 & 0 & 0\\\\0 & 0 & 0\\end{matrix}\\right]\\right ]$$"
      ],
      "text/plain": [
       "⎡⎡0  -r_{+1;21}  -r_{+1;31}⎤, ⎡0  r_{0;21}  r_{0;31}⎤, ⎡0  -r_{-1;21}  -r_{-1;\n",
       "⎢⎢                         ⎥  ⎢                     ⎥  ⎢                      \n",
       "⎢⎢0      0           0     ⎥  ⎢0     0         0    ⎥  ⎢0      0           0  \n",
       "⎢⎢                         ⎥  ⎢                     ⎥  ⎢                      \n",
       "⎣⎣0      0           0     ⎦  ⎣0     0         0    ⎦  ⎣0      0           0  \n",
       "\n",
       "31}⎤⎤\n",
       "   ⎥⎥\n",
       "   ⎥⎥\n",
       "   ⎥⎥\n",
       "   ⎦⎦"
      ]
     },
     "execution_count": 38,
     "metadata": {},
     "output_type": "execute_result"
    }
   ],
   "source": [
    "r_p=[ Matrix([[ delta_greater(j,i)*r[p][i,j] for j in range(Ne)]for i in range(Ne)]) for p in range(3)]\n",
    "fprint(r_p, print_ascii=print_ascii)"
   ]
  },
  {
   "cell_type": "code",
   "execution_count": 39,
   "metadata": {
    "collapsed": false
   },
   "outputs": [
    {
     "data": {
      "image/png": "[encoded data removed]",
      "text/latex": [
       "$$\\left [ \\left[\\begin{matrix}0 & 0 & 0\\\\r_{-1;21} & 0 & 0\\\\r_{-1;31} & 0 & 0\\end{matrix}\\right], \\quad \\left[\\begin{matrix}0 & 0 & 0\\\\r_{0;21} & 0 & 0\\\\r_{0;31} & 0 & 0\\end{matrix}\\right], \\quad \\left[\\begin{matrix}0 & 0 & 0\\\\r_{+1;21} & 0 & 0\\\\r_{+1;31} & 0 & 0\\end{matrix}\\right]\\right ]$$"
      ],
      "text/plain": [
       "⎡⎡    0      0  0⎤, ⎡   0      0  0⎤, ⎡    0      0  0⎤⎤\n",
       "⎢⎢               ⎥  ⎢              ⎥  ⎢               ⎥⎥\n",
       "⎢⎢r_{-1;21}  0  0⎥  ⎢r_{0;21}  0  0⎥  ⎢r_{+1;21}  0  0⎥⎥\n",
       "⎢⎢               ⎥  ⎢              ⎥  ⎢               ⎥⎥\n",
       "⎣⎣r_{-1;31}  0  0⎦  ⎣r_{0;31}  0  0⎦  ⎣r_{+1;31}  0  0⎦⎦"
      ]
     },
     "execution_count": 39,
     "metadata": {},
     "output_type": "execute_result"
    }
   ],
   "source": [
    "r_m=[ Matrix([[ delta_lesser( j,i)*r[p][i,j] for j in range(Ne)]for i in range(Ne)]) for p in range(3)]\n",
    "fprint(r_m, print_ascii=print_ascii)"
   ]
  },
  {
   "cell_type": "code",
   "execution_count": 40,
   "metadata": {
    "collapsed": false
   },
   "outputs": [
    {
     "data": {
      "image/png": "[encoded data removed]",
      "text/latex": [
       "$$\\left [ \\left[\\begin{matrix}0 & 0 & 0\\\\0 & 0 & 0\\\\0 & 0 & 0\\end{matrix}\\right], \\quad \\left[\\begin{matrix}0 & 0 & 0\\\\0 & 0 & 0\\\\0 & 0 & 0\\end{matrix}\\right], \\quad \\left[\\begin{matrix}0 & 0 & 0\\\\0 & 0 & 0\\\\0 & 0 & 0\\end{matrix}\\right]\\right ]$$"
      ],
      "text/plain": [
       "⎡⎡0  0  0⎤, ⎡0  0  0⎤, ⎡0  0  0⎤⎤\n",
       "⎢⎢       ⎥  ⎢       ⎥  ⎢       ⎥⎥\n",
       "⎢⎢0  0  0⎥  ⎢0  0  0⎥  ⎢0  0  0⎥⎥\n",
       "⎢⎢       ⎥  ⎢       ⎥  ⎢       ⎥⎥\n",
       "⎣⎣0  0  0⎦  ⎣0  0  0⎦  ⎣0  0  0⎦⎦"
      ]
     },
     "execution_count": 40,
     "metadata": {},
     "output_type": "execute_result"
    }
   ],
   "source": [
    "fprint( [r[p]-(r_p[p]+r_m[p]) for p in range(3)] , print_ascii=print_ascii)"
   ]
  },
  {
   "cell_type": "markdown",
   "metadata": {},
   "source": [
    "Thus the interaction hamiltonian in the Schrödinger picture in the rotating wave approximation is"
   ]
  },
  {
   "cell_type": "code",
   "execution_count": 41,
   "metadata": {
    "collapsed": false
   },
   "outputs": [
    {
     "data": {
      "image/png": "[encoded data removed]",
      "text/latex": [
       "$$\\left[\\begin{matrix}0 & \\frac{e r_{0;21}}{2} e^{i t \\varpi_{1}} \\overline{E^{1}_{0}} & \\frac{e r_{0;31}}{2} e^{i t \\varpi_{2}} \\overline{E^{2}_{0}}\\\\\\frac{e r_{0;21}}{2} E^{1}_{0} e^{- i t \\varpi_{1}} & 0 & 0\\\\\\frac{e r_{0;31}}{2} E^{2}_{0} e^{- i t \\varpi_{2}} & 0 & 0\\end{matrix}\\right]$$"
      ],
      "text/plain": [
       "⎡                                         ⅈ⋅t⋅varpi₁ ___              ⅈ⋅t⋅varp\n",
       "⎢                             e⋅r_{0;21}⋅ℯ          ⋅E¹₀  e⋅r_{0;31}⋅ℯ        \n",
       "⎢             0               ──────────────────────────  ────────────────────\n",
       "⎢                                         2                           2       \n",
       "⎢                                                                             \n",
       "⎢                -ⅈ⋅t⋅varpi₁                                                  \n",
       "⎢E¹₀⋅e⋅r_{0;21}⋅ℯ                                                             \n",
       "⎢───────────────────────────              0                           0       \n",
       "⎢             2                                                               \n",
       "⎢                                                                             \n",
       "⎢                -ⅈ⋅t⋅varpi₂                                                  \n",
       "⎢E²₀⋅e⋅r_{0;31}⋅ℯ                                                             \n",
       "⎢───────────────────────────              0                           0       \n",
       "⎣             2                                                               \n",
       "\n",
       "i₂ ___⎤\n",
       "  ⋅E²₀⎥\n",
       "──────⎥\n",
       "      ⎥\n",
       "      ⎥\n",
       "      ⎥\n",
       "      ⎥\n",
       "      ⎥\n",
       "      ⎥\n",
       "      ⎥\n",
       "      ⎥\n",
       "      ⎥\n",
       "      ⎥\n",
       "      ⎦"
      ]
     },
     "execution_count": 41,
     "metadata": {},
     "output_type": "execute_result"
    }
   ],
   "source": [
    "H1RWA =sum([ e*( helicity_dot_product( E_p[l],vector_element(r_m,i,j)) ) * ket(i+1,Ne)*bra(j+1,Ne) \n",
    "            for l in range(Nl) for j in range(Ne) for i in range(Ne) if l+1 in Lij[i][j] ],zero_matrix)\n",
    "H1RWA+=sum([ e*( helicity_dot_product( E_m[l],vector_element(r_p,i,j)) ) * ket(i+1,Ne)*bra(j+1,Ne) \n",
    "            for l in range(Nl) for j in range(Ne) for i in range(Ne) if l+1 in Lij[i][j] ],zero_matrix)\n",
    "\n",
    "fprint(H1RWA, print_ascii=print_ascii)"
   ]
  },
  {
   "cell_type": "markdown",
   "metadata": {},
   "source": [
    "And the complete hamiltonian in the Schrödinger picture in the rotating wave approximation is"
   ]
  },
  {
   "cell_type": "code",
   "execution_count": 42,
   "metadata": {
    "collapsed": false
   },
   "outputs": [
    {
     "data": {
      "image/png": "[encoded data removed]",
      "text/latex": [
       "$$\\left[\\begin{matrix}\\hbar \\omega_{1} & \\frac{e r_{0;21}}{2} e^{i t \\varpi_{1}} \\overline{E^{1}_{0}} & \\frac{e r_{0;31}}{2} e^{i t \\varpi_{2}} \\overline{E^{2}_{0}}\\\\\\frac{e r_{0;21}}{2} E^{1}_{0} e^{- i t \\varpi_{1}} & \\hbar \\omega_{2} & 0\\\\\\frac{e r_{0;31}}{2} E^{2}_{0} e^{- i t \\varpi_{2}} & 0 & \\hbar \\omega_{3}\\end{matrix}\\right]$$"
      ],
      "text/plain": [
       "⎡                                         ⅈ⋅t⋅varpi₁ ___              ⅈ⋅t⋅varp\n",
       "⎢                             e⋅r_{0;21}⋅ℯ          ⋅E¹₀  e⋅r_{0;31}⋅ℯ        \n",
       "⎢           h̅⋅ω₁             ──────────────────────────  ────────────────────\n",
       "⎢                                         2                           2       \n",
       "⎢                                                                             \n",
       "⎢                -ⅈ⋅t⋅varpi₁                                                  \n",
       "⎢E¹₀⋅e⋅r_{0;21}⋅ℯ                                                             \n",
       "⎢───────────────────────────            h̅⋅ω₂                         0       \n",
       "⎢             2                                                               \n",
       "⎢                                                                             \n",
       "⎢                -ⅈ⋅t⋅varpi₂                                                  \n",
       "⎢E²₀⋅e⋅r_{0;31}⋅ℯ                                                             \n",
       "⎢───────────────────────────              0                         h̅⋅ω₃     \n",
       "⎣             2                                                               \n",
       "\n",
       "i₂ ___⎤\n",
       "  ⋅E²₀⎥\n",
       "──────⎥\n",
       "      ⎥\n",
       "      ⎥\n",
       "      ⎥\n",
       "      ⎥\n",
       "      ⎥\n",
       "      ⎥\n",
       "      ⎥\n",
       "      ⎥\n",
       "      ⎥\n",
       "      ⎥\n",
       "      ⎦"
      ]
     },
     "execution_count": 42,
     "metadata": {},
     "output_type": "execute_result"
    }
   ],
   "source": [
    "HRWA=H0+H1RWA\n",
    "fprint(HRWA, print_ascii=print_ascii)"
   ]
  },
  {
   "cell_type": "markdown",
   "metadata": {
    "collapsed": true
   },
   "source": [
    "# Rotating Frame\n",
    "Next we will make a phase transformation in order to eliminate the explicit time dependance of the equations."
   ]
  },
  {
   "cell_type": "code",
   "execution_count": 43,
   "metadata": {
    "collapsed": false
   },
   "outputs": [
    {
     "data": {
      "image/png": "[encoded data removed]",
      "text/latex": [
       "$$\\left [ \\left[\\begin{matrix}\\operatorname{c_{1}}{\\left (t \\right )}\\\\\\operatorname{c_{2}}{\\left (t \\right )}\\\\\\operatorname{c_{3}}{\\left (t \\right )}\\end{matrix}\\right], \\quad \\left[\\begin{matrix}\\tilde{c}_{1}{\\left (t \\right )}\\\\\\tilde{c}_{2}{\\left (t \\right )}\\\\\\tilde{c}_{3}{\\left (t \\right )}\\end{matrix}\\right], \\quad \\left[\\begin{matrix}\\theta_{1}\\\\\\theta_{2}\\\\\\theta_{3}\\end{matrix}\\right]\\right ]$$"
      ],
      "text/plain": [
       "⎡⎡c₁(t)⎤, ⎡\\tilde{c}_{1}(t)⎤, ⎡θ₁⎤⎤\n",
       "⎢⎢     ⎥  ⎢                ⎥  ⎢  ⎥⎥\n",
       "⎢⎢c₂(t)⎥  ⎢\\tilde{c}_{2}(t)⎥  ⎢θ₂⎥⎥\n",
       "⎢⎢     ⎥  ⎢                ⎥  ⎢  ⎥⎥\n",
       "⎣⎣c₃(t)⎦  ⎣\\tilde{c}_{3}(t)⎦  ⎣θ₃⎦⎦"
      ]
     },
     "execution_count": 43,
     "metadata": {},
     "output_type": "execute_result"
    }
   ],
   "source": [
    "c,ctilde,phase=define_psi_coefficients(Ne)\n",
    "fprint([c,ctilde,phase], print_ascii=print_ascii)"
   ]
  },
  {
   "cell_type": "code",
   "execution_count": 44,
   "metadata": {
    "collapsed": false
   },
   "outputs": [
    {
     "data": {
      "image/png": "[encoded data removed]",
      "text/latex": [
       "$$\\left[\\begin{matrix}\\tilde{c}_{1}{\\left (t \\right )} e^{i t \\theta_{1}}\\\\\\tilde{c}_{2}{\\left (t \\right )} e^{i t \\theta_{2}}\\\\\\tilde{c}_{3}{\\left (t \\right )} e^{i t \\theta_{3}}\\end{matrix}\\right]$$"
      ],
      "text/plain": [
       "⎡                  ⅈ⋅t⋅θ₁⎤\n",
       "⎢\\tilde{c}_{1}(t)⋅ℯ      ⎥\n",
       "⎢                        ⎥\n",
       "⎢                  ⅈ⋅t⋅θ₂⎥\n",
       "⎢\\tilde{c}_{2}(t)⋅ℯ      ⎥\n",
       "⎢                        ⎥\n",
       "⎢                  ⅈ⋅t⋅θ₃⎥\n",
       "⎣\\tilde{c}_{3}(t)⋅ℯ      ⎦"
      ]
     },
     "execution_count": 44,
     "metadata": {},
     "output_type": "execute_result"
    }
   ],
   "source": [
    "psi=Matrix([ exp(I*phase[i]*t)*ctilde[i] for i in range(Ne)])\n",
    "fprint(psi, print_ascii=print_ascii)"
   ]
  },
  {
   "cell_type": "markdown",
   "metadata": {},
   "source": [
    "The Schrödinger equation $i\\hbar \\partial_t |\\psi\\rangle=\\hat{H}_{RWA}$ is"
   ]
  },
  {
   "cell_type": "code",
   "execution_count": 45,
   "metadata": {
    "collapsed": false
   },
   "outputs": [
    {
     "data": {
      "image/png": "[encoded data removed]",
      "text/latex": [
       "$$\\left[\\begin{matrix}- \\hbar \\theta_{1} \\tilde{c}_{1}{\\left (t \\right )} e^{i t \\theta_{1}}\\\\- \\hbar \\theta_{2} \\tilde{c}_{2}{\\left (t \\right )} e^{i t \\theta_{2}}\\\\- \\hbar \\theta_{3} \\tilde{c}_{3}{\\left (t \\right )} e^{i t \\theta_{3}}\\end{matrix}\\right]$$"
      ],
      "text/plain": [
       "⎡                         ⅈ⋅t⋅θ₁⎤\n",
       "⎢-h̅⋅θ₁⋅\\tilde{c}_{1}(t)⋅ℯ      ⎥\n",
       "⎢                               ⎥\n",
       "⎢                         ⅈ⋅t⋅θ₂⎥\n",
       "⎢-h̅⋅θ₂⋅\\tilde{c}_{2}(t)⋅ℯ      ⎥\n",
       "⎢                               ⎥\n",
       "⎢                         ⅈ⋅t⋅θ₃⎥\n",
       "⎣-h̅⋅θ₃⋅\\tilde{c}_{3}(t)⋅ℯ      ⎦"
      ]
     },
     "execution_count": 45,
     "metadata": {},
     "output_type": "execute_result"
    }
   ],
   "source": [
    "lhs=Matrix([(I*hbar*Derivative(psi[i],t).doit()).expand() for i in range(Ne)])\n",
    "fprint(lhs, print_ascii=print_ascii)"
   ]
  },
  {
   "cell_type": "code",
   "execution_count": 46,
   "metadata": {
    "collapsed": false
   },
   "outputs": [],
   "source": [
    "rhs=HRWA*psi"
   ]
  },
  {
   "cell_type": "markdown",
   "metadata": {},
   "source": [
    "We multiply each of these equations by $e^{-i \\theta_i t}$ and substracting $i \\theta_i \\tilde{c}_i$"
   ]
  },
  {
   "cell_type": "code",
   "execution_count": 47,
   "metadata": {
    "collapsed": false
   },
   "outputs": [
    {
     "data": {
      "image/png": "[encoded data removed]",
      "text/latex": [
       "$$\\left[\\begin{matrix}0\\\\0\\\\0\\end{matrix}\\right]$$"
      ],
      "text/plain": [
       "⎡0⎤\n",
       "⎢ ⎥\n",
       "⎢0⎥\n",
       "⎢ ⎥\n",
       "⎣0⎦"
      ]
     },
     "execution_count": 47,
     "metadata": {},
     "output_type": "execute_result"
    }
   ],
   "source": [
    "lhs_new=Matrix([simplify(  lhs[i]*exp(-I*phase[i]*t) +hbar*phase[i]*ctilde[i] ) for i in range(Ne)])\n",
    "fprint(lhs_new, print_ascii=print_ascii)"
   ]
  },
  {
   "cell_type": "code",
   "execution_count": 48,
   "metadata": {
    "collapsed": false
   },
   "outputs": [
    {
     "data": {
      "image/png": "[encoded data removed]",
      "text/latex": [
       "$$\\left[\\begin{matrix}\\frac{e r_{0;21}}{2} \\tilde{c}_{2}{\\left (t \\right )} e^{- i t \\theta_{1}} e^{i t \\theta_{2}} e^{i t \\varpi_{1}} \\overline{E^{1}_{0}} + \\frac{e r_{0;31}}{2} \\tilde{c}_{3}{\\left (t \\right )} e^{- i t \\theta_{1}} e^{i t \\theta_{3}} e^{i t \\varpi_{2}} \\overline{E^{2}_{0}} + \\hbar \\omega_{1} \\tilde{c}_{1}{\\left (t \\right )} + \\hbar \\theta_{1} \\tilde{c}_{1}{\\left (t \\right )}\\\\\\frac{e r_{0;21}}{2} E^{1}_{0} \\tilde{c}_{1}{\\left (t \\right )} e^{i t \\theta_{1}} e^{- i t \\theta_{2}} e^{- i t \\varpi_{1}} + \\hbar \\omega_{2} \\tilde{c}_{2}{\\left (t \\right )} + \\hbar \\theta_{2} \\tilde{c}_{2}{\\left (t \\right )}\\\\\\frac{e r_{0;31}}{2} E^{2}_{0} \\tilde{c}_{1}{\\left (t \\right )} e^{i t \\theta_{1}} e^{- i t \\theta_{3}} e^{- i t \\varpi_{2}} + \\hbar \\omega_{3} \\tilde{c}_{3}{\\left (t \\right )} + \\hbar \\theta_{3} \\tilde{c}_{3}{\\left (t \\right )}\\end{matrix}\\right]$$"
      ],
      "text/plain": [
       "⎡                             -ⅈ⋅t⋅θ₁  ⅈ⋅t⋅θ₂  ⅈ⋅t⋅varpi₁ ___                 \n",
       "⎢e⋅r_{0;21}⋅\\tilde{c}_{2}(t)⋅ℯ       ⋅ℯ      ⋅ℯ          ⋅E¹₀   e⋅r_{0;31}⋅\\ti\n",
       "⎢──────────────────────────────────────────────────────────── + ──────────────\n",
       "⎢                             2                                               \n",
       "⎢                                                                             \n",
       "⎢                                                                ⅈ⋅t⋅θ₁  -ⅈ⋅t⋅\n",
       "⎢                               E¹₀⋅e⋅r_{0;21}⋅\\tilde{c}_{1}(t)⋅ℯ      ⋅ℯ     \n",
       "⎢                               ──────────────────────────────────────────────\n",
       "⎢                                                             2               \n",
       "⎢                                                                             \n",
       "⎢                                                                ⅈ⋅t⋅θ₁  -ⅈ⋅t⋅\n",
       "⎢                               E²₀⋅e⋅r_{0;31}⋅\\tilde{c}_{1}(t)⋅ℯ      ⋅ℯ     \n",
       "⎢                               ──────────────────────────────────────────────\n",
       "⎣                                                             2               \n",
       "\n",
       "               -ⅈ⋅t⋅θ₁  ⅈ⋅t⋅θ₃  ⅈ⋅t⋅varpi₂ ___                                \n",
       "lde{c}_{3}(t)⋅ℯ       ⋅ℯ      ⋅ℯ          ⋅E²₀                                \n",
       "────────────────────────────────────────────── + h̅⋅ω₁⋅\\tilde{c}_{1}(t) + h̅⋅θ\n",
       "               2                                                              \n",
       "                                                                              \n",
       "θ₂  -ⅈ⋅t⋅varpi₁                                                               \n",
       "  ⋅ℯ                                                                          \n",
       "─────────────── + h̅⋅ω₂⋅\\tilde{c}_{2}(t) + h̅⋅θ₂⋅\\tilde{c}_{2}(t)             \n",
       "                                                                              \n",
       "                                                                              \n",
       "θ₃  -ⅈ⋅t⋅varpi₂                                                               \n",
       "  ⋅ℯ                                                                          \n",
       "─────────────── + h̅⋅ω₃⋅\\tilde{c}_{3}(t) + h̅⋅θ₃⋅\\tilde{c}_{3}(t)             \n",
       "                                                                              \n",
       "\n",
       "                  ⎤\n",
       "                  ⎥\n",
       "₁⋅\\tilde{c}_{1}(t)⎥\n",
       "                  ⎥\n",
       "                  ⎥\n",
       "                  ⎥\n",
       "                  ⎥\n",
       "                  ⎥\n",
       "                  ⎥\n",
       "                  ⎥\n",
       "                  ⎥\n",
       "                  ⎥\n",
       "                  ⎥\n",
       "                  ⎦"
      ]
     },
     "execution_count": 48,
     "metadata": {},
     "output_type": "execute_result"
    }
   ],
   "source": [
    "rhs_new=Matrix([simplify(  rhs[i]*exp(-I*phase[i]*t) +hbar*phase[i]*ctilde[i] ).expand() for i in range(Ne)])\n",
    "fprint(rhs_new, print_ascii=print_ascii)"
   ]
  },
  {
   "cell_type": "markdown",
   "metadata": {},
   "source": [
    "It can be seen that the equations loose their explicit time dependance only if $\\omega^{1} - \\theta_{1} + \\theta_{2}=0$ and $\\omega^{2} - \\theta_{1} + \\theta_{3}=0$. Which is satisfied if"
   ]
  },
  {
   "cell_type": "code",
   "execution_count": 49,
   "metadata": {
    "collapsed": false
   },
   "outputs": [
    {
     "data": {
      "image/png": "[encoded data removed]",
      "text/latex": [
       "$$\\left \\{ \\theta_{2} : \\theta_{1} - \\varpi_{1}, \\quad \\theta_{3} : \\theta_{1} - \\varpi_{2}\\right \\}$$"
      ],
      "text/plain": [
       "{θ₂: θ₁ - varpi₁, θ₃: θ₁ - varpi₂}"
      ]
     },
     "execution_count": 49,
     "metadata": {},
     "output_type": "execute_result"
    }
   ],
   "source": [
    "phase_transformation=solve([omega_laser[0]-phase[0]+phase[1],omega_laser[1]-phase[0]+phase[2]],[phase[1],phase[2]],\n",
    "                           dict=True)[0]\n",
    "fprint(phase_transformation, print_ascii=print_ascii)"
   ]
  },
  {
   "cell_type": "markdown",
   "metadata": {},
   "source": [
    "There is a free parameter $\\theta_1$, which is to be expected, since state vetors $|\\psi\\rangle$ always have a global phase invariance"
   ]
  },
  {
   "cell_type": "code",
   "execution_count": 50,
   "metadata": {
    "collapsed": false
   },
   "outputs": [
    {
     "data": {
      "image/png": "[encoded data removed]",
      "text/latex": [
       "$$\\left[\\begin{matrix}\\tilde{c}_{1}{\\left (t \\right )} e^{i t \\theta_{1}}\\\\\\tilde{c}_{2}{\\left (t \\right )} e^{i t \\left(\\theta_{1} - \\varpi_{1}\\right)}\\\\\\tilde{c}_{3}{\\left (t \\right )} e^{i t \\left(\\theta_{1} - \\varpi_{2}\\right)}\\end{matrix}\\right]$$"
      ],
      "text/plain": [
       "⎡                       ⅈ⋅t⋅θ₁      ⎤\n",
       "⎢     \\tilde{c}_{1}(t)⋅ℯ            ⎥\n",
       "⎢                                   ⎥\n",
       "⎢                  ⅈ⋅t⋅(θ₁ - varpi₁)⎥\n",
       "⎢\\tilde{c}_{2}(t)⋅ℯ                 ⎥\n",
       "⎢                                   ⎥\n",
       "⎢                  ⅈ⋅t⋅(θ₁ - varpi₂)⎥\n",
       "⎣\\tilde{c}_{3}(t)⋅ℯ                 ⎦"
      ]
     },
     "execution_count": 50,
     "metadata": {},
     "output_type": "execute_result"
    }
   ],
   "source": [
    "fprint(psi.subs(phase_transformation), print_ascii=print_ascii)"
   ]
  },
  {
   "cell_type": "markdown",
   "metadata": {},
   "source": [
    "Thus the equations become"
   ]
  },
  {
   "cell_type": "code",
   "execution_count": 51,
   "metadata": {
    "collapsed": false
   },
   "outputs": [
    {
     "data": {
      "image/png": "[encoded data removed]",
      "text/latex": [
       "$$\\left[\\begin{matrix}0\\\\0\\\\0\\end{matrix}\\right]$$"
      ],
      "text/plain": [
       "⎡0⎤\n",
       "⎢ ⎥\n",
       "⎢0⎥\n",
       "⎢ ⎥\n",
       "⎣0⎦"
      ]
     },
     "execution_count": 51,
     "metadata": {},
     "output_type": "execute_result"
    }
   ],
   "source": [
    "fprint(lhs_new, print_ascii=print_ascii)"
   ]
  },
  {
   "cell_type": "code",
   "execution_count": 52,
   "metadata": {
    "collapsed": false
   },
   "outputs": [
    {
     "data": {
      "image/png": "[encoded data removed]",
      "text/latex": [
       "$$\\left[\\begin{matrix}\\frac{e r_{0;21}}{2} \\tilde{c}_{2}{\\left (t \\right )} \\overline{E^{1}_{0}} + \\frac{e r_{0;31}}{2} \\tilde{c}_{3}{\\left (t \\right )} \\overline{E^{2}_{0}} + \\hbar \\omega_{1} \\tilde{c}_{1}{\\left (t \\right )} + \\hbar \\theta_{1} \\tilde{c}_{1}{\\left (t \\right )}\\\\\\frac{e r_{0;21}}{2} E^{1}_{0} \\tilde{c}_{1}{\\left (t \\right )} + \\hbar \\omega_{2} \\tilde{c}_{2}{\\left (t \\right )} + \\hbar \\theta_{1} \\tilde{c}_{2}{\\left (t \\right )} - \\hbar \\varpi_{1} \\tilde{c}_{2}{\\left (t \\right )}\\\\\\frac{e r_{0;31}}{2} E^{2}_{0} \\tilde{c}_{1}{\\left (t \\right )} + \\hbar \\omega_{3} \\tilde{c}_{3}{\\left (t \\right )} + \\hbar \\theta_{1} \\tilde{c}_{3}{\\left (t \\right )} - \\hbar \\varpi_{2} \\tilde{c}_{3}{\\left (t \\right )}\\end{matrix}\\right]$$"
      ],
      "text/plain": [
       "⎡                            ___                               ___            \n",
       "⎢e⋅r_{0;21}⋅\\tilde{c}_{2}(t)⋅E¹₀   e⋅r_{0;31}⋅\\tilde{c}_{3}(t)⋅E²₀            \n",
       "⎢─────────────────────────────── + ─────────────────────────────── + h̅⋅ω₁⋅\\ti\n",
       "⎢               2                                 2                           \n",
       "⎢                                                                             \n",
       "⎢  E¹₀⋅e⋅r_{0;21}⋅\\tilde{c}_{1}(t)                                            \n",
       "⎢  ─────────────────────────────── + h̅⋅ω₂⋅\\tilde{c}_{2}(t) + h̅⋅θ₁⋅\\tilde{c}_\n",
       "⎢                 2                                                           \n",
       "⎢                                                                             \n",
       "⎢  E²₀⋅e⋅r_{0;31}⋅\\tilde{c}_{1}(t)                                            \n",
       "⎢  ─────────────────────────────── + h̅⋅ω₃⋅\\tilde{c}_{3}(t) + h̅⋅θ₁⋅\\tilde{c}_\n",
       "⎣                 2                                                           \n",
       "\n",
       "                                      ⎤\n",
       "                                      ⎥\n",
       "lde{c}_{1}(t) + h̅⋅θ₁⋅\\tilde{c}_{1}(t)⎥\n",
       "                                      ⎥\n",
       "                                      ⎥\n",
       "                                      ⎥\n",
       "{2}(t) - h̅⋅varpi₁⋅\\tilde{c}_{2}(t)   ⎥\n",
       "                                      ⎥\n",
       "                                      ⎥\n",
       "                                      ⎥\n",
       "{3}(t) - h̅⋅varpi₂⋅\\tilde{c}_{3}(t)   ⎥\n",
       "                                      ⎦"
      ]
     },
     "execution_count": 52,
     "metadata": {},
     "output_type": "execute_result"
    }
   ],
   "source": [
    "rhs_new=simplify(rhs_new.subs(phase_transformation)).expand()\n",
    "fprint(rhs_new, print_ascii=print_ascii)"
   ]
  },
  {
   "cell_type": "markdown",
   "metadata": {},
   "source": [
    "It can be seen that this is the Schrödinger equation derived from an effective hamiltonian $\\tilde{H}$"
   ]
  },
  {
   "cell_type": "code",
   "execution_count": 53,
   "metadata": {
    "collapsed": false
   },
   "outputs": [
    {
     "data": {
      "image/png": "[encoded data removed]",
      "text/latex": [
       "$$\\left[\\begin{matrix}\\hbar \\omega_{1} + \\hbar \\theta_{1} & \\frac{e r_{0;21}}{2} \\overline{E^{1}_{0}} & \\frac{e r_{0;31}}{2} \\overline{E^{2}_{0}}\\\\\\frac{e r_{0;21}}{2} E^{1}_{0} & \\hbar \\omega_{2} + \\hbar \\theta_{1} - \\hbar \\varpi_{1} & 0\\\\\\frac{e r_{0;31}}{2} E^{2}_{0} & 0 & \\hbar \\omega_{3} + \\hbar \\theta_{1} - \\hbar \\varpi_{2}\\end{matrix}\\right]$$"
      ],
      "text/plain": [
       "⎡                                ___                        ___      ⎤\n",
       "⎢                     e⋅r_{0;21}⋅E¹₀             e⋅r_{0;31}⋅E²₀      ⎥\n",
       "⎢h̅⋅ω₁ + h̅⋅θ₁        ──────────────             ──────────────      ⎥\n",
       "⎢                           2                          2             ⎥\n",
       "⎢                                                                    ⎥\n",
       "⎢E¹₀⋅e⋅r_{0;21}                                                      ⎥\n",
       "⎢──────────────  h̅⋅ω₂ + h̅⋅θ₁ - h̅⋅varpi₁              0            ⎥\n",
       "⎢      2                                                             ⎥\n",
       "⎢                                                                    ⎥\n",
       "⎢E²₀⋅e⋅r_{0;31}                                                      ⎥\n",
       "⎢──────────────              0              h̅⋅ω₃ + h̅⋅θ₁ - h̅⋅varpi₂⎥\n",
       "⎣      2                                                             ⎦"
      ]
     },
     "execution_count": 53,
     "metadata": {},
     "output_type": "execute_result"
    }
   ],
   "source": [
    "Htilde=Matrix([ [Derivative(rhs_new[i],ctilde[j]).doit() for j in range(Ne)] for i in range(Ne)])\n",
    "fprint(Htilde, print_ascii=print_ascii)"
   ]
  },
  {
   "cell_type": "markdown",
   "metadata": {},
   "source": [
    "We can see that it is convenient to choose $\\theta_1=-\\omega_1$ to simplify the hamiltonian. Also, we can recognize $\\omega^1-\\omega_3+\\omega_1=\\delta^1$ as the detuning of the first field relative to the atomic transition $\\omega_{21}=\\omega_2-\\omega_1$, and the same for $\\omega^2-\\omega_3+\\omega_2=\\delta^2$."
   ]
  },
  {
   "cell_type": "code",
   "execution_count": 54,
   "metadata": {
    "collapsed": false
   },
   "outputs": [
    {
     "data": {
      "image/png": "[encoded data removed]",
      "text/latex": [
       "$$\\left[\\begin{matrix}0 & \\frac{e r_{0;21}}{2} \\overline{E^{1}_{0}} & \\frac{e r_{0;31}}{2} \\overline{E^{2}_{0}}\\\\\\frac{e r_{0;21}}{2} E^{1}_{0} & - \\delta_{1} \\hbar & 0\\\\\\frac{e r_{0;31}}{2} E^{2}_{0} & 0 & - \\delta_{2} \\hbar\\end{matrix}\\right]$$"
      ],
      "text/plain": [
       "⎡                           ___             ___⎤\n",
       "⎢                e⋅r_{0;21}⋅E¹₀  e⋅r_{0;31}⋅E²₀⎥\n",
       "⎢      0         ──────────────  ──────────────⎥\n",
       "⎢                      2               2       ⎥\n",
       "⎢                                              ⎥\n",
       "⎢E¹₀⋅e⋅r_{0;21}                                ⎥\n",
       "⎢──────────────      -δ₁⋅h̅            0       ⎥\n",
       "⎢      2                                       ⎥\n",
       "⎢                                              ⎥\n",
       "⎢E²₀⋅e⋅r_{0;31}                                ⎥\n",
       "⎢──────────────        0             -δ₂⋅h̅    ⎥\n",
       "⎣      2                                       ⎦"
      ]
     },
     "execution_count": 54,
     "metadata": {},
     "output_type": "execute_result"
    }
   ],
   "source": [
    "delta1,delta2=symbols(\"delta1 delta2\",real=True)\n",
    "Htilde=Htilde.subs({phase[0]:-omega_level[0]})\n",
    "Htilde=Htilde.subs({omega_laser[0]:delta1+omega_level[1]-omega_level[0]})\n",
    "Htilde=Htilde.subs({omega_laser[1]:delta2+omega_level[2]-omega_level[0]})\n",
    "\n",
    "Htilde=Htilde.expand()\n",
    "\n",
    "fprint(Htilde, print_ascii=print_ascii)"
   ]
  },
  {
   "cell_type": "markdown",
   "metadata": {},
   "source": [
    "If we define the Rabi frequencies $\\Omega_1 =e E_0^1 r_{0;21}/\\hbar$ and $\\Omega_2 =e E_0^2 r_{0;32}/\\hbar$"
   ]
  },
  {
   "cell_type": "code",
   "execution_count": 55,
   "metadata": {
    "collapsed": false
   },
   "outputs": [
    {
     "data": {
      "image/png": "[encoded data removed]",
      "text/latex": [
       "$$\\left[\\begin{matrix}0 & \\frac{\\hbar \\overline{\\Omega_{1}}}{2} & \\frac{\\hbar \\overline{\\Omega_{2}}}{2}\\\\\\frac{\\Omega_{1} \\hbar}{2} & - \\delta_{1} \\hbar & 0\\\\\\frac{\\Omega_{2} \\hbar}{2} & 0 & - \\delta_{2} \\hbar\\end{matrix}\\right]$$"
      ],
      "text/plain": [
       "⎡          __      __ ⎤\n",
       "⎢       h̅⋅Ω₁   h̅⋅Ω₂ ⎥\n",
       "⎢  0    ─────   ───── ⎥\n",
       "⎢         2       2   ⎥\n",
       "⎢                     ⎥\n",
       "⎢Ω₁⋅h̅                ⎥\n",
       "⎢─────  -δ₁⋅h̅    0   ⎥\n",
       "⎢  2                  ⎥\n",
       "⎢                     ⎥\n",
       "⎢Ω₂⋅h̅                ⎥\n",
       "⎢─────    0     -δ₂⋅h̅⎥\n",
       "⎣  2                  ⎦"
      ]
     },
     "execution_count": 55,
     "metadata": {},
     "output_type": "execute_result"
    }
   ],
   "source": [
    "Omega1,Omega2=symbols(\"Omega1 Omega2\",real=True)\n",
    "Omega1,Omega2=symbols(\"Omega1 Omega2\")\n",
    "Htilde=Htilde.subs({E0[0]:Omega1*hbar/r[1][1,0]/e})\n",
    "Htilde=Htilde.subs({E0[1]:Omega2*hbar/r[1][2,0]/e})\n",
    "\n",
    "fprint(Htilde, print_ascii=print_ascii)"
   ]
  },
  {
   "cell_type": "markdown",
   "metadata": {},
   "source": [
    "We define the density matrix."
   ]
  },
  {
   "cell_type": "code",
   "execution_count": 56,
   "metadata": {
    "collapsed": false
   },
   "outputs": [
    {
     "data": {
      "image/png": "[encoded data removed]",
      "text/latex": [
       "$$\\left[\\begin{matrix}\\rho_{11} & \\rho_{12} & \\rho_{13}\\\\\\rho_{21} & \\rho_{22} & \\rho_{23}\\\\\\rho_{31} & \\rho_{32} & \\rho_{33}\\end{matrix}\\right]$$"
      ],
      "text/plain": [
       "⎡ρ₁₁  ρ₁₂  ρ₁₃⎤\n",
       "⎢             ⎥\n",
       "⎢ρ₂₁  ρ₂₂  ρ₂₃⎥\n",
       "⎢             ⎥\n",
       "⎣ρ₃₁  ρ₃₂  ρ₃₃⎦"
      ]
     },
     "execution_count": 56,
     "metadata": {},
     "output_type": "execute_result"
    }
   ],
   "source": [
    "rho=define_density_matrix(Ne)\n",
    "fprint( rho , print_ascii=print_ascii)"
   ]
  },
  {
   "cell_type": "markdown",
   "metadata": {},
   "source": [
    "The hamiltonian part of the equations is\n",
    "\\begin{equation}\n",
    "    \\dot{\\hat{\\rho}}=\\frac{i}{\\hbar}[\\hat{\\rho}, \\hat{\\tilde{H}}]\n",
    "\\end{equation}"
   ]
  },
  {
   "cell_type": "code",
   "execution_count": 57,
   "metadata": {
    "collapsed": false
   },
   "outputs": [
    {
     "data": {
      "image/png": "[encoded data removed]",
      "text/latex": [
       "$$\\left[\\begin{matrix}\\frac{i \\Omega_{1}}{2} \\rho_{12} + \\frac{i \\Omega_{2}}{2} \\rho_{13} - \\frac{i \\rho_{21}}{2} \\overline{\\Omega_{1}} - \\frac{i \\rho_{31}}{2} \\overline{\\Omega_{2}} & - i \\delta_{1} \\rho_{12} + \\frac{i \\rho_{11}}{2} \\overline{\\Omega_{1}} - \\frac{i \\rho_{22}}{2} \\overline{\\Omega_{1}} - \\frac{i \\rho_{32}}{2} \\overline{\\Omega_{2}} & - i \\delta_{2} \\rho_{13} + \\frac{i \\rho_{11}}{2} \\overline{\\Omega_{2}} - \\frac{i \\rho_{23}}{2} \\overline{\\Omega_{1}} - \\frac{i \\rho_{33}}{2} \\overline{\\Omega_{2}}\\\\- \\frac{i \\Omega_{1}}{2} \\rho_{11} + \\frac{i \\Omega_{1}}{2} \\rho_{22} + \\frac{i \\Omega_{2}}{2} \\rho_{23} + i \\delta_{1} \\rho_{21} & - \\frac{i \\Omega_{1}}{2} \\rho_{12} + \\frac{i \\rho_{21}}{2} \\overline{\\Omega_{1}} & - \\frac{i \\Omega_{1}}{2} \\rho_{13} + i \\delta_{1} \\rho_{23} - i \\delta_{2} \\rho_{23} + \\frac{i \\rho_{21}}{2} \\overline{\\Omega_{2}}\\\\\\frac{i \\Omega_{1}}{2} \\rho_{32} - \\frac{i \\Omega_{2}}{2} \\rho_{11} + \\frac{i \\Omega_{2}}{2} \\rho_{33} + i \\delta_{2} \\rho_{31} & - \\frac{i \\Omega_{2}}{2} \\rho_{12} - i \\delta_{1} \\rho_{32} + i \\delta_{2} \\rho_{32} + \\frac{i \\rho_{31}}{2} \\overline{\\Omega_{1}} & - \\frac{i \\Omega_{2}}{2} \\rho_{13} + \\frac{i \\rho_{31}}{2} \\overline{\\Omega_{2}}\\end{matrix}\\right]$$"
      ],
      "text/plain": [
       "⎡                             __         __                     __         __ \n",
       "⎢ ⅈ⋅Ω₁⋅ρ₁₂   ⅈ⋅Ω₂⋅ρ₁₃   ⅈ⋅ρ₂₁⋅Ω₁   ⅈ⋅ρ₃₁⋅Ω₂               ⅈ⋅ρ₁₁⋅Ω₁   ⅈ⋅ρ₂₂⋅Ω₁ \n",
       "⎢ ──────── + ──────── - ──────── - ────────   -ⅈ⋅δ₁⋅ρ₁₂ + ──────── - ──────── \n",
       "⎢    2          2          2          2                      2          2     \n",
       "⎢                                                                             \n",
       "⎢                                                                           __\n",
       "⎢  ⅈ⋅Ω₁⋅ρ₁₁   ⅈ⋅Ω₁⋅ρ₂₂   ⅈ⋅Ω₂⋅ρ₂₃                          ⅈ⋅Ω₁⋅ρ₁₂   ⅈ⋅ρ₂₁⋅Ω₁\n",
       "⎢- ──────── + ──────── + ──────── + ⅈ⋅δ₁⋅ρ₂₁             - ──────── + ────────\n",
       "⎢     2          2          2                                 2          2    \n",
       "⎢                                                                             \n",
       "⎢                                                                             \n",
       "⎢ ⅈ⋅Ω₁⋅ρ₃₂   ⅈ⋅Ω₂⋅ρ₁₁   ⅈ⋅Ω₂⋅ρ₃₃                ⅈ⋅Ω₂⋅ρ₁₂                      \n",
       "⎢ ──────── - ──────── + ──────── + ⅈ⋅δ₂⋅ρ₃₁   - ──────── - ⅈ⋅δ₁⋅ρ₃₂ + ⅈ⋅δ₂⋅ρ₃₂\n",
       "⎣    2          2          2                       2                          \n",
       "\n",
       "        __                     __         __         __ ⎤\n",
       "  ⅈ⋅ρ₃₂⋅Ω₂               ⅈ⋅ρ₁₁⋅Ω₂   ⅈ⋅ρ₂₃⋅Ω₁   ⅈ⋅ρ₃₃⋅Ω₂ ⎥\n",
       "- ────────   -ⅈ⋅δ₂⋅ρ₁₃ + ──────── - ──────── - ──────── ⎥\n",
       "     2                      2          2          2     ⎥\n",
       "                                                        ⎥\n",
       "                                                      __⎥\n",
       "               ⅈ⋅Ω₁⋅ρ₁₃                         ⅈ⋅ρ₂₁⋅Ω₂⎥\n",
       "             - ──────── + ⅈ⋅δ₁⋅ρ₂₃ - ⅈ⋅δ₂⋅ρ₂₃ + ────────⎥\n",
       "                  2                                2    ⎥\n",
       "                                                        ⎥\n",
       "         __                                __           ⎥\n",
       "   ⅈ⋅ρ₃₁⋅Ω₁               ⅈ⋅Ω₂⋅ρ₁₃   ⅈ⋅ρ₃₁⋅Ω₂           ⎥\n",
       " + ────────             - ──────── + ────────           ⎥\n",
       "      2                      2          2               ⎦"
      ]
     },
     "execution_count": 57,
     "metadata": {},
     "output_type": "execute_result"
    }
   ],
   "source": [
    "hamiltonian_terms=(I/hbar*(rho*Htilde-Htilde*rho)).expand()\n",
    "fprint(hamiltonian_terms, print_ascii=print_ascii)"
   ]
  },
  {
   "cell_type": "markdown",
   "metadata": {},
   "source": [
    "There are two Lindblad operators, since there are two spontaneous decay channels."
   ]
  },
  {
   "cell_type": "code",
   "execution_count": 58,
   "metadata": {
    "collapsed": false
   },
   "outputs": [
    {
     "data": {
      "image/png": "[encoded data removed]",
      "text/latex": [
       "$$\\left[\\begin{matrix}\\gamma_{21} \\rho_{22} + \\gamma_{31} \\rho_{33} & - \\frac{\\gamma_{21} \\rho_{12}}{2} & - \\frac{\\gamma_{31} \\rho_{13}}{2}\\\\- \\frac{\\gamma_{21} \\rho_{21}}{2} & - \\gamma_{21} \\rho_{22} & - \\frac{\\gamma_{21} \\rho_{23}}{2} - \\frac{\\gamma_{31} \\rho_{23}}{2}\\\\- \\frac{\\gamma_{31} \\rho_{31}}{2} & - \\frac{\\gamma_{21} \\rho_{32}}{2} - \\frac{\\gamma_{31} \\rho_{32}}{2} & - \\gamma_{31} \\rho_{33}\\end{matrix}\\right]$$"
      ],
      "text/plain": [
       "⎡                        -γ₂₁⋅ρ₁₂             -γ₃₁⋅ρ₁₃      ⎤\n",
       "⎢γ₂₁⋅ρ₂₂ + γ₃₁⋅ρ₃₃       ─────────            ─────────     ⎥\n",
       "⎢                            2                    2         ⎥\n",
       "⎢                                                           ⎥\n",
       "⎢    -γ₂₁⋅ρ₂₁                              γ₂₁⋅ρ₂₃   γ₃₁⋅ρ₂₃⎥\n",
       "⎢    ─────────           -γ₂₁⋅ρ₂₂        - ─────── - ───────⎥\n",
       "⎢        2                                    2         2   ⎥\n",
       "⎢                                                           ⎥\n",
       "⎢    -γ₃₁⋅ρ₃₁         γ₂₁⋅ρ₃₂   γ₃₁⋅ρ₃₂                     ⎥\n",
       "⎢    ─────────      - ─────── - ───────       -γ₃₁⋅ρ₃₃      ⎥\n",
       "⎣        2               2         2                        ⎦"
      ]
     },
     "execution_count": 58,
     "metadata": {},
     "output_type": "execute_result"
    }
   ],
   "source": [
    "lindblad_terms =gamma[1,0]*lindblad_operator(ket(1,Ne)*bra(2,Ne),rho)\n",
    "lindblad_terms+=gamma[2,0]*lindblad_operator(ket(1,Ne)*bra(3,Ne),rho)\n",
    "\n",
    "fprint(lindblad_terms, print_ascii=print_ascii)"
   ]
  },
  {
   "cell_type": "markdown",
   "metadata": {},
   "source": [
    "# Optical Bloch Equations\n",
    "The Optical Bloch equations are thus."
   ]
  },
  {
   "cell_type": "code",
   "execution_count": 59,
   "metadata": {
    "collapsed": false
   },
   "outputs": [],
   "source": [
    "eqs=hamiltonian_terms + lindblad_terms"
   ]
  },
  {
   "cell_type": "code",
   "execution_count": 60,
   "metadata": {
    "collapsed": false
   },
   "outputs": [
    {
     "data": {
      "image/png": "[encoded data removed]",
      "text/latex": [
       "$$\\left[\\begin{matrix}\\frac{d}{d t} \\rho_{11} & = & \\frac{i \\Omega_{1}}{2} \\rho_{12} + \\frac{i \\Omega_{2}}{2} \\rho_{13} + \\gamma_{21} \\rho_{22} + \\gamma_{31} \\rho_{33} - \\frac{i \\rho_{21}}{2} \\overline{\\Omega_{1}} - \\frac{i \\rho_{31}}{2} \\overline{\\Omega_{2}}\\\\\\frac{d}{d t} \\rho_{22} & = & - \\frac{i \\Omega_{1}}{2} \\rho_{12} - \\gamma_{21} \\rho_{22} + \\frac{i \\rho_{21}}{2} \\overline{\\Omega_{1}}\\\\\\frac{d}{d t} \\rho_{33} & = & - \\frac{i \\Omega_{2}}{2} \\rho_{13} - \\gamma_{31} \\rho_{33} + \\frac{i \\rho_{31}}{2} \\overline{\\Omega_{2}}\\\\\\frac{d}{d t} \\rho_{21} & = & - \\frac{i \\Omega_{1}}{2} \\rho_{11} + \\frac{i \\Omega_{1}}{2} \\rho_{22} + \\frac{i \\Omega_{2}}{2} \\rho_{23} + i \\delta_{1} \\rho_{21} - \\frac{\\gamma_{21} \\rho_{21}}{2}\\\\\\frac{d}{d t} \\rho_{31} & = & \\frac{i \\Omega_{1}}{2} \\rho_{32} - \\frac{i \\Omega_{2}}{2} \\rho_{11} + \\frac{i \\Omega_{2}}{2} \\rho_{33} + i \\delta_{2} \\rho_{31} - \\frac{\\gamma_{31} \\rho_{31}}{2}\\\\\\frac{d}{d t} \\rho_{32} & = & - \\frac{i \\Omega_{2}}{2} \\rho_{12} - i \\delta_{1} \\rho_{32} + i \\delta_{2} \\rho_{32} - \\frac{\\gamma_{21} \\rho_{32}}{2} - \\frac{\\gamma_{31} \\rho_{32}}{2} + \\frac{i \\rho_{31}}{2} \\overline{\\Omega_{1}}\\end{matrix}\\right]$$"
      ],
      "text/plain": [
       "⎡                                                             __         __ ⎤\n",
       "⎢d            ⅈ⋅Ω₁⋅ρ₁₂   ⅈ⋅Ω₂⋅ρ₁₃                       ⅈ⋅ρ₂₁⋅Ω₁   ⅈ⋅ρ₃₁⋅Ω₂ ⎥\n",
       "⎢──(ρ₁₁)  =   ──────── + ──────── + γ₂₁⋅ρ₂₂ + γ₃₁⋅ρ₃₃ - ──────── - ──────── ⎥\n",
       "⎢dt              2          2                              2          2     ⎥\n",
       "⎢                                                                           ⎥\n",
       "⎢                                                         __                ⎥\n",
       "⎢d                             ⅈ⋅Ω₁⋅ρ₁₂             ⅈ⋅ρ₂₁⋅Ω₁                ⎥\n",
       "⎢──(ρ₂₂)  =                  - ──────── - γ₂₁⋅ρ₂₂ + ────────                ⎥\n",
       "⎢dt                               2                    2                    ⎥\n",
       "⎢                                                                           ⎥\n",
       "⎢                                                         __                ⎥\n",
       "⎢d                             ⅈ⋅Ω₂⋅ρ₁₃             ⅈ⋅ρ₃₁⋅Ω₂                ⎥\n",
       "⎢──(ρ₃₃)  =                  - ──────── - γ₃₁⋅ρ₃₃ + ────────                ⎥\n",
       "⎢dt                               2                    2                    ⎥\n",
       "⎢                                                                           ⎥\n",
       "⎢d                  ⅈ⋅Ω₁⋅ρ₁₁   ⅈ⋅Ω₁⋅ρ₂₂   ⅈ⋅Ω₂⋅ρ₂₃              γ₂₁⋅ρ₂₁     ⎥\n",
       "⎢──(ρ₂₁)  =       - ──────── + ──────── + ──────── + ⅈ⋅δ₁⋅ρ₂₁ - ───────     ⎥\n",
       "⎢dt                    2          2          2                     2        ⎥\n",
       "⎢                                                                           ⎥\n",
       "⎢d                 ⅈ⋅Ω₁⋅ρ₃₂   ⅈ⋅Ω₂⋅ρ₁₁   ⅈ⋅Ω₂⋅ρ₃₃              γ₃₁⋅ρ₃₁      ⎥\n",
       "⎢──(ρ₃₁)  =        ──────── - ──────── + ──────── + ⅈ⋅δ₂⋅ρ₃₁ - ───────      ⎥\n",
       "⎢dt                   2          2          2                     2         ⎥\n",
       "⎢                                                                           ⎥\n",
       "⎢                                                                         __⎥\n",
       "⎢d             ⅈ⋅Ω₂⋅ρ₁₂                         γ₂₁⋅ρ₃₂   γ₃₁⋅ρ₃₂   ⅈ⋅ρ₃₁⋅Ω₁⎥\n",
       "⎢──(ρ₃₂)  =  - ──────── - ⅈ⋅δ₁⋅ρ₃₂ + ⅈ⋅δ₂⋅ρ₃₂ - ─────── - ─────── + ────────⎥\n",
       "⎣dt               2                                2         2         2    ⎦"
      ]
     },
     "execution_count": 60,
     "metadata": {},
     "output_type": "execute_result"
    }
   ],
   "source": [
    "eqsign=symbols(\"=\")\n",
    "eqs_list=[]\n",
    "for mu in range(0,Ne**2-1 -(Ne**2 - Ne)/2+1):\n",
    "    ii,jj,s=IJ(mu,Ne)\n",
    "    i=ii-1; j=jj-1\n",
    "    eqs_list+=[[Derivative(rho[i,j],t),eqsign,eqs[i,j]]]\n",
    "eqs_list=Matrix(eqs_list)\n",
    "fprint(eqs_list, print_ascii=print_ascii)"
   ]
  },
  {
   "cell_type": "markdown",
   "metadata": {},
   "source": [
    "which is how most literature will show the equations. However, a more convenient way to express this equations is to explicitly asume a normalized and hermitian density matrix"
   ]
  },
  {
   "cell_type": "code",
   "execution_count": 61,
   "metadata": {
    "collapsed": false
   },
   "outputs": [
    {
     "data": {
      "image/png": "[encoded data removed]",
      "text/latex": [
       "$$\\left[\\begin{matrix}- \\rho_{22} - \\rho_{33} + 1 & \\overline{\\rho_{21}} & \\overline{\\rho_{31}}\\\\\\rho_{21} & \\rho_{22} & \\overline{\\rho_{32}}\\\\\\rho_{31} & \\rho_{32} & \\rho_{33}\\end{matrix}\\right]$$"
      ],
      "text/plain": [
       "⎡                ___  ___⎤\n",
       "⎢-ρ₂₂ - ρ₃₃ + 1  ρ₂₁  ρ₃₁⎥\n",
       "⎢                        ⎥\n",
       "⎢                     ___⎥\n",
       "⎢     ρ₂₁        ρ₂₂  ρ₃₂⎥\n",
       "⎢                        ⎥\n",
       "⎣     ρ₃₁        ρ₃₂  ρ₃₃⎦"
      ]
     },
     "execution_count": 61,
     "metadata": {},
     "output_type": "execute_result"
    }
   ],
   "source": [
    "rho=define_density_matrix(Ne,explicitly_hermitian=True,normalized=True)\n",
    "fprint( rho , print_ascii=print_ascii)"
   ]
  },
  {
   "cell_type": "code",
   "execution_count": 62,
   "metadata": {
    "collapsed": false
   },
   "outputs": [],
   "source": [
    "hamiltonian_terms = (I/hbar*(rho*Htilde-Htilde*rho)).expand()\n",
    "lindblad_terms    =gamma[1,0]*lindblad_operator(ket(1,Ne)*bra(2,Ne),rho)\n",
    "lindblad_terms   +=gamma[2,1]*lindblad_operator(ket(2,Ne)*bra(3,Ne),rho)\n",
    "\n",
    "eqs=hamiltonian_terms + lindblad_terms"
   ]
  },
  {
   "cell_type": "markdown",
   "metadata": {},
   "source": [
    "and only consider the equations for the populations $\\rho_{ii}$ for $i>1$ and the real and imaginary parts of the coherences below the diagonal."
   ]
  },
  {
   "cell_type": "markdown",
   "metadata": {},
   "source": [
    "If the density matrix is represented as a vector whose components are the these independent components of the density matrix"
   ]
  },
  {
   "cell_type": "code",
   "execution_count": 63,
   "metadata": {
    "collapsed": false
   },
   "outputs": [
    {
     "data": {
      "image/png": "[encoded data removed]",
      "text/latex": [
       "$$\\left[\\begin{matrix}\\rho_{22}\\\\\\rho_{33}\\\\\\Re{\\rho_{21}}\\\\\\Re{\\rho_{31}}\\\\\\Re{\\rho_{32}}\\\\\\Im{\\rho_{21}}\\\\\\Im{\\rho_{31}}\\\\\\Im{\\rho_{32}}\\end{matrix}\\right]$$"
      ],
      "text/plain": [
       "⎡  ρ₂₂  ⎤\n",
       "⎢       ⎥\n",
       "⎢  ρ₃₃  ⎥\n",
       "⎢       ⎥\n",
       "⎢re(ρ₂₁)⎥\n",
       "⎢       ⎥\n",
       "⎢re(ρ₃₁)⎥\n",
       "⎢       ⎥\n",
       "⎢re(ρ₃₂)⎥\n",
       "⎢       ⎥\n",
       "⎢im(ρ₂₁)⎥\n",
       "⎢       ⎥\n",
       "⎢im(ρ₃₁)⎥\n",
       "⎢       ⎥\n",
       "⎣im(ρ₃₂)⎦"
      ]
     },
     "execution_count": 63,
     "metadata": {},
     "output_type": "execute_result"
    }
   ],
   "source": [
    "rho_vect=define_rho_vector(rho,Ne)\n",
    "fprint(rho_vect, print_ascii=print_ascii)"
   ]
  },
  {
   "cell_type": "markdown",
   "metadata": {},
   "source": [
    "Then the equations can be re-written as linear combinations of these components plus an independent term.\n",
    "\\begin{equation}\n",
    "    \\dot{\\vec{\\rho}} = \\hat{A} \\vec{\\rho} - \\vec{b}\n",
    "\\end{equation}\n",
    "with $\\hat{A}$ a linear operator acting in this vector space and $\\vec{b}$ the vector of independent terms."
   ]
  },
  {
   "cell_type": "code",
   "execution_count": 64,
   "metadata": {
    "collapsed": false
   },
   "outputs": [
    {
     "data": {
      "image/png": "[encoded data removed]",
      "text/latex": [
       "$$\\left [ \\left[\\begin{matrix}- \\gamma_{21} & 0 & \\Im{\\Omega_{1}} & 0 & 0 & - \\Re{\\Omega_{1}} & 0 & 0\\\\0 & 0 & 0 & \\Im{\\Omega_{2}} & 0 & 0 & - \\Re{\\Omega_{2}} & 0\\\\- \\Im{\\Omega_{1}} & - \\frac{\\Im{\\Omega_{1}}}{2} & - \\frac{\\gamma_{21}}{2} & 0 & - \\frac{\\Im{\\Omega_{2}}}{2} & - \\delta_{1} & 0 & \\frac{\\Re{\\Omega_{2}}}{2}\\\\- \\frac{\\Im{\\Omega_{2}}}{2} & - \\Im{\\Omega_{2}} & 0 & 0 & - \\frac{\\Im{\\Omega_{1}}}{2} & 0 & - \\delta_{2} & - \\frac{\\Re{\\Omega_{1}}}{2}\\\\0 & 0 & \\frac{\\Im{\\Omega_{2}}}{2} & \\frac{\\Im{\\Omega_{1}}}{2} & - \\frac{\\gamma_{21}}{2} & - \\frac{\\Re{\\Omega_{2}}}{2} & - \\frac{\\Re{\\Omega_{1}}}{2} & \\delta_{1} - \\delta_{2}\\\\\\Re{\\Omega_{1}} & \\frac{\\Re{\\Omega_{1}}}{2} & \\delta_{1} & 0 & \\frac{\\Re{\\Omega_{2}}}{2} & - \\frac{\\gamma_{21}}{2} & 0 & \\frac{\\Im{\\Omega_{2}}}{2}\\\\\\frac{\\Re{\\Omega_{2}}}{2} & \\Re{\\Omega_{2}} & 0 & \\delta_{2} & \\frac{\\Re{\\Omega_{1}}}{2} & 0 & 0 & - \\frac{\\Im{\\Omega_{1}}}{2}\\\\0 & 0 & - \\frac{\\Re{\\Omega_{2}}}{2} & \\frac{\\Re{\\Omega_{1}}}{2} & - \\delta_{1} + \\delta_{2} & - \\frac{\\Im{\\Omega_{2}}}{2} & \\frac{\\Im{\\Omega_{1}}}{2} & - \\frac{\\gamma_{21}}{2}\\end{matrix}\\right], \\quad \\left[\\begin{matrix}0\\\\0\\\\- \\frac{\\Im{\\Omega_{1}}}{2}\\\\- \\frac{\\Im{\\Omega_{2}}}{2}\\\\0\\\\\\frac{\\Re{\\Omega_{1}}}{2}\\\\\\frac{\\Re{\\Omega_{2}}}{2}\\\\0\\end{matrix}\\right]\\right ]$$"
      ],
      "text/plain": [
       "⎡⎡  -γ₂₁       0       im(Ω₁)     0        0      -re(Ω₁)      0         0    \n",
       "⎢⎢                                                                            \n",
       "⎢⎢   0         0         0      im(Ω₂)     0         0      -re(Ω₂)      0    \n",
       "⎢⎢                                                                            \n",
       "⎢⎢          -im(Ω₁)    -γ₂₁             -im(Ω₂)                        re(Ω₂) \n",
       "⎢⎢-im(Ω₁)   ────────   ─────      0     ────────    -δ₁        0       ────── \n",
       "⎢⎢             2         2                 2                             2    \n",
       "⎢⎢                                                                            \n",
       "⎢⎢-im(Ω₂)                               -im(Ω₁)                       -re(Ω₁) \n",
       "⎢⎢────────  -im(Ω₂)      0        0     ────────     0        -δ₂     ────────\n",
       "⎢⎢   2                                     2                             2    \n",
       "⎢⎢                                                                            \n",
       "⎢⎢                     im(Ω₂)   im(Ω₁)   -γ₂₁     -re(Ω₂)   -re(Ω₁)           \n",
       "⎢⎢   0         0       ──────   ──────   ─────    ────────  ────────  δ₁ - δ₂ \n",
       "⎢⎢                       2        2        2         2         2              \n",
       "⎢⎢                                                                            \n",
       "⎢⎢           re(Ω₁)                      re(Ω₂)    -γ₂₁                im(Ω₂) \n",
       "⎢⎢ re(Ω₁)    ──────      δ₁       0      ──────    ─────       0       ────── \n",
       "⎢⎢             2                           2         2                   2    \n",
       "⎢⎢                                                                            \n",
       "⎢⎢ re(Ω₂)                                re(Ω₁)                       -im(Ω₁) \n",
       "⎢⎢ ──────    re(Ω₂)      0        δ₂     ──────      0         0      ────────\n",
       "⎢⎢   2                                     2                             2    \n",
       "⎢⎢                                                                            \n",
       "⎢⎢                    -re(Ω₂)   re(Ω₁)            -im(Ω₂)    im(Ω₁)    -γ₂₁   \n",
       "⎢⎢   0         0      ────────  ──────  -δ₁ + δ₂  ────────   ──────    ─────  \n",
       "⎣⎣                       2        2                  2         2         2    \n",
       "\n",
       "⎤, ⎡   0    ⎤⎤\n",
       "⎥  ⎢        ⎥⎥\n",
       "⎥  ⎢   0    ⎥⎥\n",
       "⎥  ⎢        ⎥⎥\n",
       "⎥  ⎢-im(Ω₁) ⎥⎥\n",
       "⎥  ⎢────────⎥⎥\n",
       "⎥  ⎢   2    ⎥⎥\n",
       "⎥  ⎢        ⎥⎥\n",
       "⎥  ⎢-im(Ω₂) ⎥⎥\n",
       "⎥  ⎢────────⎥⎥\n",
       "⎥  ⎢   2    ⎥⎥\n",
       "⎥  ⎢        ⎥⎥\n",
       "⎥  ⎢   0    ⎥⎥\n",
       "⎥  ⎢        ⎥⎥\n",
       "⎥  ⎢ re(Ω₁) ⎥⎥\n",
       "⎥  ⎢ ────── ⎥⎥\n",
       "⎥  ⎢   2    ⎥⎥\n",
       "⎥  ⎢        ⎥⎥\n",
       "⎥  ⎢ re(Ω₂) ⎥⎥\n",
       "⎥  ⎢ ────── ⎥⎥\n",
       "⎥  ⎢   2    ⎥⎥\n",
       "⎥  ⎢        ⎥⎥\n",
       "⎥  ⎣   0    ⎦⎥\n",
       "⎥            ⎥\n",
       "⎥            ⎥\n",
       "⎥            ⎥\n",
       "⎦            ⎦"
      ]
     },
     "execution_count": 64,
     "metadata": {},
     "output_type": "execute_result"
    }
   ],
   "source": [
    "A,b=calculate_A_b(eqs,rho,Ne)\n",
    "fprint([A,b], print_ascii=print_ascii)"
   ]
  },
  {
   "cell_type": "markdown",
   "metadata": {},
   "source": [
    "Explicitly, this is"
   ]
  },
  {
   "cell_type": "code",
   "execution_count": 65,
   "metadata": {
    "collapsed": false
   },
   "outputs": [
    {
     "data": {
      "image/png": "[encoded data removed]",
      "text/latex": [
       "$$\\left[\\begin{matrix}\\frac{d}{d t} \\rho_{22} & = & - \\gamma_{21} \\rho_{22} - \\Re{\\Omega_{1}} \\Im{\\rho_{21}} + \\Re{\\rho_{21}} \\Im{\\Omega_{1}}\\\\\\frac{d}{d t} \\rho_{33} & = & - \\Re{\\Omega_{2}} \\Im{\\rho_{31}} + \\Re{\\rho_{31}} \\Im{\\Omega_{2}}\\\\\\frac{d}{d t} \\Re{\\rho_{21}} & = & - \\delta_{1} \\Im{\\rho_{21}} - \\frac{\\gamma_{21} \\Re{\\rho_{21}}}{2} - \\rho_{22} \\Im{\\Omega_{1}} - \\frac{\\rho_{33} \\Im{\\Omega_{1}}}{2} + \\frac{\\Re{\\Omega_{2}} \\Im{\\rho_{32}}}{2} - \\frac{\\Re{\\rho_{32}} \\Im{\\Omega_{2}}}{2} + \\frac{\\Im{\\Omega_{1}}}{2}\\\\\\frac{d}{d t} \\Re{\\rho_{31}} & = & - \\delta_{2} \\Im{\\rho_{31}} - \\frac{\\rho_{22} \\Im{\\Omega_{2}}}{2} - \\rho_{33} \\Im{\\Omega_{2}} - \\frac{\\Re{\\Omega_{1}} \\Im{\\rho_{32}}}{2} - \\frac{\\Re{\\rho_{32}} \\Im{\\Omega_{1}}}{2} + \\frac{\\Im{\\Omega_{2}}}{2}\\\\\\frac{d}{d t} \\Re{\\rho_{32}} & = & - \\frac{\\gamma_{21} \\Re{\\rho_{32}}}{2} + \\left(\\delta_{1} - \\delta_{2}\\right) \\Im{\\rho_{32}} - \\frac{\\Re{\\Omega_{1}} \\Im{\\rho_{31}}}{2} - \\frac{\\Re{\\Omega_{2}} \\Im{\\rho_{21}}}{2} + \\frac{\\Re{\\rho_{21}} \\Im{\\Omega_{2}}}{2} + \\frac{\\Re{\\rho_{31}} \\Im{\\Omega_{1}}}{2}\\\\\\frac{d}{d t} \\Im{\\rho_{21}} & = & \\delta_{1} \\Re{\\rho_{21}} - \\frac{\\gamma_{21} \\Im{\\rho_{21}}}{2} + \\rho_{22} \\Re{\\Omega_{1}} + \\frac{\\rho_{33} \\Re{\\Omega_{1}}}{2} - \\frac{\\Re{\\Omega_{1}}}{2} + \\frac{\\Re{\\Omega_{2}} \\Re{\\rho_{32}}}{2} + \\frac{\\Im{\\Omega_{2}} \\Im{\\rho_{32}}}{2}\\\\\\frac{d}{d t} \\Im{\\rho_{31}} & = & \\delta_{2} \\Re{\\rho_{31}} + \\frac{\\rho_{22} \\Re{\\Omega_{2}}}{2} + \\rho_{33} \\Re{\\Omega_{2}} + \\frac{\\Re{\\Omega_{1}} \\Re{\\rho_{32}}}{2} - \\frac{\\Re{\\Omega_{2}}}{2} - \\frac{\\Im{\\Omega_{1}} \\Im{\\rho_{32}}}{2}\\\\\\frac{d}{d t} \\Im{\\rho_{32}} & = & - \\frac{\\gamma_{21} \\Im{\\rho_{32}}}{2} + \\left(- \\delta_{1} + \\delta_{2}\\right) \\Re{\\rho_{32}} + \\frac{\\Re{\\Omega_{1}} \\Re{\\rho_{31}}}{2} - \\frac{\\Re{\\Omega_{2}} \\Re{\\rho_{21}}}{2} + \\frac{\\Im{\\Omega_{1}} \\Im{\\rho_{31}}}{2} - \\frac{\\Im{\\Omega_{2}} \\Im{\\rho_{21}}}{2}\\end{matrix}\\right]$$"
      ],
      "text/plain": [
       "⎡  d                                                                          \n",
       "⎢  ──(ρ₂₂)    =                                -γ₂₁⋅ρ₂₂ - re(Ω₁)⋅im(ρ₂₁) + re(\n",
       "⎢  dt                                                                         \n",
       "⎢                                                                             \n",
       "⎢  d                                                                          \n",
       "⎢  ──(ρ₃₃)    =                                     -re(Ω₂)⋅im(ρ₃₁) + re(ρ₃₁)⋅\n",
       "⎢  dt                                                                         \n",
       "⎢                                                                             \n",
       "⎢d                                 γ₂₁⋅re(ρ₂₁)                ρ₃₃⋅im(Ω₁)   re(\n",
       "⎢──(re(ρ₂₁))  =      -δ₁⋅im(ρ₂₁) - ─────────── - ρ₂₂⋅im(Ω₁) - ────────── + ───\n",
       "⎢dt                                     2                         2           \n",
       "⎢                                                                             \n",
       "⎢d                                        ρ₂₂⋅im(Ω₂)                re(Ω₁)⋅im(\n",
       "⎢──(re(ρ₃₁))  =             -δ₂⋅im(ρ₃₁) - ────────── - ρ₃₃⋅im(Ω₂) - ──────────\n",
       "⎢dt                                           2                           2   \n",
       "⎢                                                                             \n",
       "⎢d                 γ₂₁⋅re(ρ₃₂)                       re(Ω₁)⋅im(ρ₃₁)   re(Ω₂)⋅i\n",
       "⎢──(re(ρ₃₂))  =  - ─────────── + (δ₁ - δ₂)⋅im(ρ₃₂) - ────────────── - ────────\n",
       "⎢dt                     2                                  2                2 \n",
       "⎢                                                                             \n",
       "⎢d                                γ₂₁⋅im(ρ₂₁)                ρ₃₃⋅re(Ω₁)   re(Ω\n",
       "⎢──(im(ρ₂₁))  =      δ₁⋅re(ρ₂₁) - ─────────── + ρ₂₂⋅re(Ω₁) + ────────── - ────\n",
       "⎢dt                                    2                         2          2 \n",
       "⎢                                                                             \n",
       "⎢d                                       ρ₂₂⋅re(Ω₂)                re(Ω₁)⋅re(ρ\n",
       "⎢──(im(ρ₃₁))  =             δ₂⋅re(ρ₃₁) + ────────── + ρ₃₃⋅re(Ω₂) + ───────────\n",
       "⎢dt                                          2                           2    \n",
       "⎢                                                                             \n",
       "⎢d                 γ₂₁⋅im(ρ₃₂)                        re(Ω₁)⋅re(ρ₃₁)   re(Ω₂)⋅\n",
       "⎢──(im(ρ₃₂))  =  - ─────────── + (-δ₁ + δ₂)⋅re(ρ₃₂) + ────────────── - ───────\n",
       "⎣dt                     2                                   2                2\n",
       "\n",
       "                                         ⎤\n",
       "ρ₂₁)⋅im(Ω₁)                              ⎥\n",
       "                                         ⎥\n",
       "                                         ⎥\n",
       "                                         ⎥\n",
       "im(Ω₂)                                   ⎥\n",
       "                                         ⎥\n",
       "                                         ⎥\n",
       "Ω₂)⋅im(ρ₃₂)   re(ρ₃₂)⋅im(Ω₂)   im(Ω₁)    ⎥\n",
       "─────────── - ────────────── + ──────    ⎥\n",
       "   2                2            2       ⎥\n",
       "                                         ⎥\n",
       "ρ₃₂)   re(ρ₃₂)⋅im(Ω₁)   im(Ω₂)           ⎥\n",
       "──── - ────────────── + ──────           ⎥\n",
       "             2            2              ⎥\n",
       "                                         ⎥\n",
       "m(ρ₂₁)   re(ρ₂₁)⋅im(Ω₂)   re(ρ₃₁)⋅im(Ω₁) ⎥\n",
       "────── + ────────────── + ────────────── ⎥\n",
       "               2                2        ⎥\n",
       "                                         ⎥\n",
       "₁)   re(Ω₂)⋅re(ρ₃₂)   im(Ω₂)⋅im(ρ₃₂)     ⎥\n",
       "── + ────────────── + ──────────────     ⎥\n",
       "           2                2            ⎥\n",
       "                                         ⎥\n",
       "₃₂)   re(Ω₂)   im(Ω₁)⋅im(ρ₃₂)            ⎥\n",
       "─── - ────── - ──────────────            ⎥\n",
       "        2            2                   ⎥\n",
       "                                         ⎥\n",
       "re(ρ₂₁)   im(Ω₁)⋅im(ρ₃₁)   im(Ω₂)⋅im(ρ₂₁)⎥\n",
       "─────── + ────────────── - ──────────────⎥\n",
       "                2                2       ⎦"
      ]
     },
     "execution_count": 65,
     "metadata": {},
     "output_type": "execute_result"
    }
   ],
   "source": [
    "eqs_new=A*rho_vect - b\n",
    "\n",
    "eqs_list=[]\n",
    "for mu in range(0,Ne**2-1 ):\n",
    "    eqs_list+=[[Derivative(rho_vect[mu],t),eqsign,eqs_new[mu]]]\n",
    "eqs_list=Matrix(eqs_list)\n",
    "fprint(eqs_list, print_ascii=print_ascii)"
   ]
  },
  {
   "cell_type": "markdown",
   "metadata": {},
   "source": [
    "Which is the same as the equations in the previous form."
   ]
  },
  {
   "cell_type": "code",
   "execution_count": 66,
   "metadata": {
    "collapsed": false
   },
   "outputs": [
    {
     "data": {
      "image/png": "[encoded data removed]",
      "text/latex": [
       "$$\\left[\\begin{matrix}0\\\\0\\\\0\\\\0\\\\0\\\\0\\\\0\\\\0\\end{matrix}\\right]$$"
      ],
      "text/plain": [
       "⎡0⎤\n",
       "⎢ ⎥\n",
       "⎢0⎥\n",
       "⎢ ⎥\n",
       "⎢0⎥\n",
       "⎢ ⎥\n",
       "⎢0⎥\n",
       "⎢ ⎥\n",
       "⎢0⎥\n",
       "⎢ ⎥\n",
       "⎢0⎥\n",
       "⎢ ⎥\n",
       "⎢0⎥\n",
       "⎢ ⎥\n",
       "⎣0⎦"
      ]
     },
     "execution_count": 66,
     "metadata": {},
     "output_type": "execute_result"
    }
   ],
   "source": [
    "ss_comp={ rho[i,j]:re(rho[i,j])+I*im(rho[i,j]) for j in range(Ne) for i in range(Ne)}\n",
    "\n",
    "test= (eqs_new - Matrix([re(eqs[1,1]),re(eqs[2,2]),\n",
    "                          re(eqs[1,0]),re(eqs[2,0]),re(eqs[2,1]),\n",
    "                          im(eqs[1,0]),im(eqs[2,0]),im(eqs[2,1])])).expand()\n",
    "\n",
    "test=test.subs(ss_comp)\n",
    "fprint(test,print_ascii=print_ascii)"
   ]
  },
  {
   "cell_type": "markdown",
   "metadata": {},
   "source": [
    "[1]  H.J. Metcalf and P. van der Straten. Laser Cooling and Trapping. Graduate Texts in Contempo-\n",
    "rary Physics. Springer New York, 2001.\n",
    "\n",
    "[2] Daniel Adam Steck. Quantum and Atom Optics. Oregon Center for Optics and Department of Physics, University of Oregon Copyright © 200"
   ]
  },
  {
   "cell_type": "code",
   "execution_count": null,
   "metadata": {
    "collapsed": true
   },
   "outputs": [],
   "source": []
  }
 ],
 "metadata": {
  "anaconda-cloud": {},
  "kernelspec": {
   "display_name": "Python 2",
   "language": "python",
   "name": "python2"
  },
  "language_info": {
   "codemirror_mode": {
    "name": "ipython",
    "version": 2
   },
   "file_extension": ".py",
   "mimetype": "text/x-python",
   "name": "python",
   "nbconvert_exporter": "python",
   "pygments_lexer": "ipython2",
   "version": "2.7.13"
  }
 },
 "nbformat": 4,
 "nbformat_minor": 0
}
