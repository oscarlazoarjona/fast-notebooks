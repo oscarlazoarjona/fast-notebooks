{
 "cells": [
  {
   "cell_type": "markdown",
   "metadata": {},
   "source": [
    "This is a review of all the states in the Cesium database. We will check which states are available up to a maximum N:"
   ]
  },
  {
   "cell_type": "code",
   "execution_count": null,
   "metadata": {
    "collapsed": true
   },
   "outputs": [],
   "source": [
    "from fast import *\n",
    "from tabulate import tabulate"
   ]
  },
  {
   "cell_type": "code",
   "execution_count": null,
   "metadata": {
    "collapsed": false
   },
   "outputs": [],
   "source": [
    "def review_database(element,isotope,I):\n",
    "    S=1/Integer(2)\n",
    "    available=[]; not_available=[]\n",
    "    for N in range(1,Nmax+1):\n",
    "        for L in range(N):\n",
    "            jmin=abs(L-S);jmax=L+S\n",
    "            jpos=[jmin+i for i in range(jmax-jmin+1)]\n",
    "            for J in jpos:\n",
    "                try:\n",
    "                    state=State(element,isotope,N,L,J)\n",
    "                    available+=[state]\n",
    "                except:\n",
    "                    not_available+=[(N,L,J,jpos)]\n",
    "    return available,not_available"
   ]
  },
  {
   "cell_type": "code",
   "execution_count": null,
   "metadata": {
    "collapsed": false
   },
   "outputs": [],
   "source": [
    "Nmax=50\n",
    "element=\"Rb\"; isotope=85; I=5/Integer(2)\n",
    "available, not_available=review_database(element,isotope,I)\n",
    "\n",
    "head=[\"State\",\"Energy (THz)\", \"A_hfs (MHz)\", \"B_hfs (MHz)\", \"C_hfs (MHz)\"]\n",
    "table=[ [state,state.nu*1e-12,state.Ahfs*1e-6,state.Bhfs*1e-6,state.Chfs*1e-6] for state in available]\n",
    "\n",
    "print tabulate(table,head)"
   ]
  },
  {
   "cell_type": "code",
   "execution_count": null,
   "metadata": {
    "collapsed": false
   },
   "outputs": [],
   "source": [
    "Nmax=50\n",
    "element=\"Rb\"; isotope=87; I=3/Integer(2)\n",
    "available, not_available=review_database(element,isotope,I)\n",
    "\n",
    "head=[\"State\",\"Energy (THz)\", \"A_hfs (MHz)\", \"B_hfs (MHz)\", \"C_hfs (MHz)\"]\n",
    "table=[ [state,state.nu*1e-12,state.Ahfs*1e-6,state.Bhfs*1e-6,state.Chfs*1e-6] for state in available]\n",
    "\n",
    "print tabulate(table,head)"
   ]
  },
  {
   "cell_type": "code",
   "execution_count": null,
   "metadata": {
    "collapsed": false
   },
   "outputs": [],
   "source": [
    "Nmax=50\n",
    "element=\"Cs\"; isotope=133; I=7/Integer(2)\n",
    "available, not_available=review_database(element,isotope,I)\n",
    "\n",
    "head=[\"State\",\"Energy (THz)\", \"A_hfs (MHz)\", \"B_hfs (MHz)\", \"C_hfs (MHz)\"]\n",
    "table=[ [state,state.nu*1e-12,state.Ahfs*1e-6,state.Bhfs*1e-6,state.Chfs*1e-6] for state in available]\n",
    "\n",
    "print tabulate(table,head)"
   ]
  },
  {
   "cell_type": "code",
   "execution_count": null,
   "metadata": {
    "collapsed": true
   },
   "outputs": [],
   "source": []
  }
 ],
 "metadata": {
  "anaconda-cloud": {},
  "kernelspec": {
   "display_name": "Python 2",
   "language": "python",
   "name": "python2"
  },
  "language_info": {
   "codemirror_mode": {
    "name": "ipython",
    "version": 2
   },
   "file_extension": ".py",
   "mimetype": "text/x-python",
   "name": "python",
   "nbconvert_exporter": "python",
   "pygments_lexer": "ipython2",
   "version": "2.7.13"
  }
 },
 "nbformat": 4,
 "nbformat_minor": 1
}
