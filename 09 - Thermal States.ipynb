{
 "cells": [
  {
   "cell_type": "markdown",
   "metadata": {},
   "source": [
    "Let us calculate the populations $p_i$ for the hyperfine magnetic states of the $5S_{1/2}$ ground state of rubidium in a thermal state. A thermal state has populations\n",
    "\n",
    "$$p_i=\\frac{ \\exp{(-E_i/k_B T)} }{Z} \\hspace{1cm} Z=\\sum_j \\exp{(-E_j/k_B T)} $$\n",
    "\n",
    "where $E_i$ are the energies of each state and $k_B$ is Boltzman's constant."
   ]
  },
  {
   "cell_type": "code",
   "execution_count": 1,
   "metadata": {
    "collapsed": false
   },
   "outputs": [],
   "source": [
    "from fast.atomic_structure import State, make_list_of_states, thermal_state\n",
    "from sympy import Integer\n",
    "from math import pi,exp,log\n",
    "import numpy as np"
   ]
  },
  {
   "cell_type": "code",
   "execution_count": 2,
   "metadata": {
    "collapsed": false
   },
   "outputs": [
    {
     "data": {
      "text/plain": [
       "85Rb 5S_1/2"
      ]
     },
     "execution_count": 2,
     "metadata": {},
     "output_type": "execute_result"
    }
   ],
   "source": [
    "element=\"Rb\"; iso=85\n",
    "ground=State(element,iso,5,0,1/Integer(2))\n",
    "ground"
   ]
  },
  {
   "cell_type": "code",
   "execution_count": 3,
   "metadata": {
    "collapsed": false
   },
   "outputs": [
    {
     "name": "stdout",
     "output_type": "stream",
     "text": [
      "85Rb 5S_1/2^2,-2\n",
      "85Rb 5S_1/2^2,-1\n",
      "85Rb 5S_1/2^2,0\n",
      "85Rb 5S_1/2^2,1\n",
      "85Rb 5S_1/2^2,2\n",
      "85Rb 5S_1/2^3,-3\n",
      "85Rb 5S_1/2^3,-2\n",
      "85Rb 5S_1/2^3,-1\n",
      "85Rb 5S_1/2^3,0\n",
      "85Rb 5S_1/2^3,1\n",
      "85Rb 5S_1/2^3,2\n",
      "85Rb 5S_1/2^3,3\n"
     ]
    }
   ],
   "source": [
    "magnetic_states=make_list_of_states([ground],\"magnetic\")\n",
    "for state in magnetic_states:\n",
    "    print state"
   ]
  },
  {
   "cell_type": "code",
   "execution_count": 4,
   "metadata": {
    "collapsed": false
   },
   "outputs": [],
   "source": [
    "e1=magnetic_states[0]"
   ]
  },
  {
   "cell_type": "code",
   "execution_count": 5,
   "metadata": {
    "collapsed": false
   },
   "outputs": [],
   "source": [
    "from scipy.constants import physical_constants\n",
    "hbar=physical_constants[\"Planck constant over 2 pi\"][0] # J s\n",
    "kB  =physical_constants[\"Boltzmann constant\"][0] #        J/K"
   ]
  },
  {
   "cell_type": "code",
   "execution_count": 6,
   "metadata": {
    "collapsed": false
   },
   "outputs": [
    {
     "name": "stdout",
     "output_type": "stream",
     "text": [
      "257.15\n"
     ]
    }
   ],
   "source": [
    "T=20#Celsius degrees.\n",
    "T=T+237.15 #Kelvin\n",
    "print T"
   ]
  },
  {
   "cell_type": "code",
   "execution_count": 7,
   "metadata": {
    "collapsed": false
   },
   "outputs": [
    {
     "data": {
      "text/plain": [
       "[-11126543656.227257,\n",
       " -11126543656.227257,\n",
       " -11126543656.227257,\n",
       " -11126543656.227257,\n",
       " -11126543656.227257,\n",
       " 7947531183.019468,\n",
       " 7947531183.019468,\n",
       " 7947531183.019468,\n",
       " 7947531183.019468,\n",
       " 7947531183.019468,\n",
       " 7947531183.019468,\n",
       " 7947531183.019468]"
      ]
     },
     "execution_count": 7,
     "metadata": {},
     "output_type": "execute_result"
    }
   ],
   "source": [
    "omega_level = [ei.omega for ei in magnetic_states]\n",
    "omega_level"
   ]
  },
  {
   "cell_type": "markdown",
   "metadata": {},
   "source": [
    "So the populations are:"
   ]
  },
  {
   "cell_type": "code",
   "execution_count": 8,
   "metadata": {
    "collapsed": false
   },
   "outputs": [
    {
     "name": "stdout",
     "output_type": "stream",
     "text": [
      "[ 0.08336088  0.08336088  0.08336088  0.08336088  0.08336088  0.08331366\n",
      "  0.08331366  0.08331366  0.08331366  0.08331366  0.08331366  0.08331366]\n"
     ]
    }
   ],
   "source": [
    "p = thermal_state(omega_level, T, return_diagonal=True)\n",
    "print p"
   ]
  },
  {
   "cell_type": "markdown",
   "metadata": {},
   "source": [
    "Which is close to assigning populations equally:"
   ]
  },
  {
   "cell_type": "code",
   "execution_count": 9,
   "metadata": {
    "collapsed": false
   },
   "outputs": [
    {
     "name": "stdout",
     "output_type": "stream",
     "text": [
      "[ 0.08333333  0.08333333  0.08333333  0.08333333  0.08333333  0.08333333\n",
      "  0.08333333  0.08333333  0.08333333  0.08333333  0.08333333  0.08333333]\n"
     ]
    }
   ],
   "source": [
    "p_deg = np.array([1.0/len(magnetic_states) for i in range(len(magnetic_states))])\n",
    "print p_deg"
   ]
  },
  {
   "cell_type": "markdown",
   "metadata": {},
   "source": [
    "Let's make a plot of the variation with temperature."
   ]
  },
  {
   "cell_type": "code",
   "execution_count": 10,
   "metadata": {
    "collapsed": false
   },
   "outputs": [
    {
     "name": "stdout",
     "output_type": "stream",
     "text": [
      "0.41680438001 0.58319561999\n"
     ]
    }
   ],
   "source": [
    "a = 5\n",
    "P1 = sum(p[:a])\n",
    "P2 = sum(p[a:])\n",
    "print P1,P2"
   ]
  },
  {
   "cell_type": "code",
   "execution_count": 11,
   "metadata": {
    "collapsed": true
   },
   "outputs": [],
   "source": [
    "def get_energies(element, iso):\n",
    "    if element==\"Rb\":\n",
    "        ground=State(element,iso,5,0,1/Integer(2))\n",
    "    else:\n",
    "        ground=State(element,iso,6,0,1/Integer(2))\n",
    "    magnetic_states=make_list_of_states([ground],\"magnetic\")\n",
    "    E=[hbar*2*pi*e.nu for e in magnetic_states]\n",
    "    return E"
   ]
  },
  {
   "cell_type": "code",
   "execution_count": 12,
   "metadata": {
    "collapsed": true
   },
   "outputs": [],
   "source": [
    "def pops(T, E, element, iso):\n",
    "    if iso ==133:\n",
    "        a=7\n",
    "    elif iso ==85:\n",
    "        a=5\n",
    "    else:\n",
    "        a=3\n",
    "    \n",
    "    if element==\"Rb\":\n",
    "        ground=State(element,iso,5,0,1/Integer(2))\n",
    "    else:\n",
    "        ground=State(element,iso,6,0,1/Integer(2))\n",
    "    magnetic_states=make_list_of_states([ground],\"magnetic\")\n",
    "    \n",
    "    Z=sum([exp(-E[i]/kB/T) for i in range(len(magnetic_states))])\n",
    "    p=[exp(-E[i]/kB/T)/Z for i in range(len(magnetic_states))]\n",
    "    return p[0],p[-1],sum(p[:a]),sum(p[a:])"
   ]
  },
  {
   "cell_type": "code",
   "execution_count": 13,
   "metadata": {
    "collapsed": false
   },
   "outputs": [],
   "source": [
    "T = np.logspace(-2, 3, 201)"
   ]
  },
  {
   "cell_type": "code",
   "execution_count": 14,
   "metadata": {
    "collapsed": false
   },
   "outputs": [],
   "source": [
    "omega_level85 = make_list_of_states([State(\"Rb\", 85, 5, 0, 1/Integer(2))], \"magnetic\")\n",
    "omega_level85 = [ei.omega for ei in omega_level85]\n",
    "\n",
    "omega_level87 = make_list_of_states([State(\"Rb\", 87, 5, 0, 1/Integer(2))], \"magnetic\")\n",
    "omega_level87 = [ei.omega for ei in omega_level87]\n",
    "\n",
    "omega_level133 = make_list_of_states([State(\"Cs\", 133, 6, 0, 1/Integer(2))], \"magnetic\")\n",
    "omega_level133 = [ei.omega for ei in omega_level133]"
   ]
  },
  {
   "cell_type": "code",
   "execution_count": 15,
   "metadata": {
    "collapsed": false
   },
   "outputs": [],
   "source": [
    "dat = np.array([thermal_state(omega_level85, Ti, return_diagonal=True) for Ti in T])\n",
    "Flow = 2\n",
    "p185 = dat[:,0]\n",
    "p285 = dat[:,2*Flow+1+1]\n",
    "P185 = dat[:,0]*(2*Flow+1)\n",
    "P285 = dat[:,6]*(2*(Flow+1)+1)"
   ]
  },
  {
   "cell_type": "code",
   "execution_count": 16,
   "metadata": {
    "collapsed": false
   },
   "outputs": [],
   "source": [
    "dat = np.array([thermal_state(omega_level87, Ti, return_diagonal=True) for Ti in T])\n",
    "Flow = 1\n",
    "p187 = dat[:,0]\n",
    "p287 = dat[:,2*Flow+1+1]\n",
    "P187 = dat[:,0]*(2*Flow+1)\n",
    "P287 = dat[:,6]*(2*(Flow+1)+1)"
   ]
  },
  {
   "cell_type": "code",
   "execution_count": 17,
   "metadata": {
    "collapsed": false
   },
   "outputs": [],
   "source": [
    "dat = np.array([thermal_state(omega_level133, Ti, return_diagonal=True) for Ti in T])\n",
    "Flow = 3\n",
    "p1133 = dat[:,0]\n",
    "p2133 = dat[:,2*Flow+1+1]\n",
    "P1133 = dat[:,0]*(2*Flow+1)\n",
    "P2133 = dat[:,7]*(2*(Flow+1)+1)"
   ]
  },
  {
   "cell_type": "code",
   "execution_count": 18,
   "metadata": {
    "collapsed": true
   },
   "outputs": [],
   "source": [
    "from matplotlib import pyplot\n",
    "plots_path=\"folder_09___Thermal_States/\" \n",
    "%matplotlib inline"
   ]
  },
  {
   "cell_type": "code",
   "execution_count": 19,
   "metadata": {
    "collapsed": false
   },
   "outputs": [
    {
     "data": {
      "image/png": "[encoded data removed]",
      "text/plain": [
       "<matplotlib.figure.Figure at 0x7fa8ea3607d0>"
      ]
     },
     "metadata": {},
     "output_type": "display_data"
    }
   ],
   "source": [
    "pyplot.close(\"all\")\n",
    "pyplot.figure(figsize=(15, 10))\n",
    "pyplot.semilogx(T,p185,\"b\",label=r\"$\\mathrm{lower \\ magnetic \\ state}$\")\n",
    "pyplot.semilogx(T,p285,\"r\",label=r\"$\\mathrm{higher \\ magnetic \\ state}$\")\n",
    "pyplot.semilogx(T,P185,\"m\",label=r\"$\\mathrm{lower  \\ multiplet}$\")\n",
    "pyplot.semilogx(T,P285,\"g\",label=r\"$\\mathrm{higher \\ multiplet}$\")\n",
    "\n",
    "pyplot.semilogx(T,p187,\"b--\")\n",
    "pyplot.semilogx(T,p287,\"r--\")\n",
    "pyplot.semilogx(T,P187,\"m--\")\n",
    "pyplot.semilogx(T,P287,\"g--\")\n",
    "\n",
    "pyplot.semilogx(T,p1133,\"b:\")\n",
    "pyplot.semilogx(T,p2133,\"r:\")\n",
    "pyplot.semilogx(T,P1133,\"m:\")\n",
    "pyplot.semilogx(T,P2133,\"g:\")\n",
    "\n",
    "pyplot.semilogx([273.15,273.15],[0,1],\"k\")\n",
    "pyplot.semilogx([273.15+50,273.15+50],[0,1],\"k\")\n",
    "\n",
    "pyplot.ylabel(r\"$\\mathrm{population}$\",fontsize=25)\n",
    "pyplot.xlabel(r\"$T \\ \\mathrm{(K)}$\",fontsize=25)\n",
    "pyplot.legend(fontsize=25)\n",
    "pyplot.tick_params(labelsize=25)\n",
    "\n",
    "#pyplot.ylim([0, 1])\n",
    "pyplot.savefig(plots_path+\"/01_populations.png\",bbox_inches=\"tight\")"
   ]
  },
  {
   "cell_type": "markdown",
   "metadata": {},
   "source": [
    "Here solid lines show the populations for $^{85}\\mathrm{Rb}$, dashed lines for $^{87}\\mathrm{Rb}$, and dotted lines for $^{133}\\mathrm{Cs}$. We can see that $^{85}\\mathrm{Rb}$ is thermalized at slightly lower temperatures than $^{87}\\mathrm{Rb}$: at about 5 and 10 Kelvin respectively all magnetic states reach the same population."
   ]
  },
  {
   "cell_type": "code",
   "execution_count": 20,
   "metadata": {
    "collapsed": true
   },
   "outputs": [],
   "source": [
    "def entropy(p1,p2,iso):\n",
    "    if iso==133:\n",
    "        n1=7; n2=9\n",
    "    elif iso==85:\n",
    "        n1=5; n2=7\n",
    "    elif iso==87:\n",
    "        n1=3; n2=5\n",
    "    return - kB*(n1*p1*log(p1) + n2*p2*log(p2))"
   ]
  },
  {
   "cell_type": "code",
   "execution_count": 21,
   "metadata": {
    "collapsed": false
   },
   "outputs": [],
   "source": [
    "S85 =[entropy(p185[i], p285[i], 85) for i in range(len(p185))]\n",
    "S87 =[entropy(p187[i], p287[i], 87) for i in range(len(p187))]\n",
    "S133=[entropy(p1133[i],p2133[i],133) for i in range(len(p187))]"
   ]
  },
  {
   "cell_type": "code",
   "execution_count": 22,
   "metadata": {
    "collapsed": false
   },
   "outputs": [
    {
     "data": {
      "image/png": "[encoded data removed]",
      "text/plain": [
       "<matplotlib.figure.Figure at 0x7fa8e6b57390>"
      ]
     },
     "metadata": {},
     "output_type": "display_data"
    }
   ],
   "source": [
    "pyplot.close(\"all\")\n",
    "pyplot.figure(figsize=(15, 10))\n",
    "pyplot.semilogx(T,np.array(S85)*1e24, \"r\",label=r\"$^{85}  \\mathrm{Rb}$\")\n",
    "pyplot.semilogx(T,np.array(S87)*1e24, \"b\",label=r\"$^{87}  \\mathrm{Rb}$\")\n",
    "pyplot.semilogx(T,np.array(S133)*1e24,\"g\",label=r\"$^{133} \\mathrm{Cs}$\")\n",
    "\n",
    "pyplot.semilogx([273.15,273.15]      ,[1.5e-23*1e24,4e-23*1e24],\"k\")\n",
    "pyplot.semilogx([273.15+50,273.15+50],[1.5e-23*1e24,4e-23*1e24],\"k\")\n",
    "\n",
    "pyplot.ylabel(r\"$S \\ \\ \\mathrm{(J K^{-1} \\ \\times 10^{-24})}$\",fontsize=25)\n",
    "pyplot.xlabel(r\"$T \\ \\mathrm{(K)}$\",fontsize=25)\n",
    "pyplot.ylim([15, 40])\n",
    "pyplot.legend(fontsize=25,loc=\"lower center\")\n",
    "pyplot.tick_params(labelsize=25)\n",
    "pyplot.savefig(plots_path+\"/02_entropy.png\",bbox_inches=\"tight\")"
   ]
  },
  {
   "cell_type": "code",
   "execution_count": 23,
   "metadata": {
    "collapsed": true
   },
   "outputs": [],
   "source": [
    "def average_energy(p1,p2,iso):\n",
    "    if iso==133:\n",
    "        n1=7; n2=9; element=\"Cs\" \n",
    "    elif iso==85:\n",
    "        n1=5; n2=7; element=\"Rb\" \n",
    "    elif iso==87:\n",
    "        n1=3; n2=5; element=\"Rb\" \n",
    "    \n",
    "    E=get_energies(element,iso)\n",
    "    E1=E[0]; E2=E[-1]\n",
    "    return (n1*p1*E1 + n2*p2*E2)*1e-9/hbar/2/pi"
   ]
  },
  {
   "cell_type": "code",
   "execution_count": 24,
   "metadata": {
    "collapsed": false
   },
   "outputs": [],
   "source": [
    "E85 =[average_energy(p185[i], p285[i], 85) for i in range(len(p185))]\n",
    "E87 =[average_energy(p187[i], p287[i], 87) for i in range(len(p187))]\n",
    "E133=[average_energy(p1133[i],p2133[i],133) for i in range(len(p187))]"
   ]
  },
  {
   "cell_type": "code",
   "execution_count": 25,
   "metadata": {
    "collapsed": false
   },
   "outputs": [
    {
     "data": {
      "image/png": "[encoded data removed]",
      "text/plain": [
       "<matplotlib.figure.Figure at 0x7fa8ea326750>"
      ]
     },
     "metadata": {},
     "output_type": "display_data"
    }
   ],
   "source": [
    "pyplot.close(\"all\")\n",
    "pyplot.figure(figsize=(15, 10))\n",
    "pyplot.semilogx(T,E85, \"r\",label=r\"$^{85}  \\mathrm{Rb}$\")\n",
    "pyplot.semilogx(T,E87, \"b\",label=r\"$^{87}  \\mathrm{Rb}$\")\n",
    "pyplot.semilogx(T,E133,\"g\",label=r\"$^{133} \\mathrm{Cs}$\")\n",
    "\n",
    "pyplot.semilogx([273.15,273.15]      ,[-5.1,0],\"k\")\n",
    "pyplot.semilogx([273.15+50,273.15+50],[-5.1,0],\"k\")\n",
    "\n",
    "pyplot.ylabel(r\"$E \\ \\mathrm{(GHz)}$\", fontsize=25)\n",
    "pyplot.xlabel(r\"$T \\ \\mathrm{(K)}$\", fontsize=25)\n",
    "pyplot.legend(fontsize=25, loc=\"lower center\")\n",
    "pyplot.tick_params(labelsize=25)\n",
    "\n",
    "pyplot.savefig(plots_path+\"/03_energy.png\",bbox_inches=\"tight\")"
   ]
  },
  {
   "cell_type": "markdown",
   "metadata": {
    "collapsed": true
   },
   "source": [
    "# An atom in thermal equilibrium\n",
    "Let us solve the master equation found in [1]. These are simply the usual Bloch equations for a two level system."
   ]
  },
  {
   "cell_type": "code",
   "execution_count": 26,
   "metadata": {
    "collapsed": true
   },
   "outputs": [],
   "source": [
    "from fast import *\n",
    "from sympy import oo,exp,I\n",
    "init_printing()\n",
    "use_unicode=True\n",
    "use_unicode=False"
   ]
  },
  {
   "cell_type": "code",
   "execution_count": 27,
   "metadata": {
    "collapsed": false
   },
   "outputs": [],
   "source": [
    "hbar,k,omega2,T,gamma,n=symbols(\"hbar k omega2 T gamma n\",positive=True)\n",
    "omega1=symbols(\"omega1\",negative=True)"
   ]
  },
  {
   "cell_type": "code",
   "execution_count": 28,
   "metadata": {
    "collapsed": true
   },
   "outputs": [],
   "source": [
    "Omega=symbols(\"Omega\",real=True)\n",
    "delta=symbols(\"delta\",real=True)"
   ]
  },
  {
   "cell_type": "code",
   "execution_count": 29,
   "metadata": {
    "collapsed": false
   },
   "outputs": [],
   "source": [
    "H=hbar*Matrix([[delta,Omega.conjugate()/2],[Omega/2,0]])"
   ]
  },
  {
   "cell_type": "code",
   "execution_count": 30,
   "metadata": {
    "collapsed": false
   },
   "outputs": [],
   "source": [
    "rho=define_density_matrix(2,explicitly_hermitian=True,normalized=True)"
   ]
  },
  {
   "cell_type": "code",
   "execution_count": 31,
   "metadata": {
    "collapsed": true
   },
   "outputs": [],
   "source": [
    "eqs =I/hbar*(rho*H-H*rho)"
   ]
  },
  {
   "cell_type": "markdown",
   "metadata": {},
   "source": [
    "However, instead of the usual Lindblad terms, we will use the following"
   ]
  },
  {
   "cell_type": "code",
   "execution_count": 32,
   "metadata": {
    "collapsed": false
   },
   "outputs": [],
   "source": [
    "eqs+=(1+n)*gamma*lindblad_operator(ketbra(1,2,2),rho)\n",
    "eqs+=(  n)*gamma*lindblad_operator(ketbra(2,1,2),rho)"
   ]
  },
  {
   "cell_type": "markdown",
   "metadata": {},
   "source": [
    "Where $\\bar{n}$ is the \"mean photon number\" here simply defined as "
   ]
  },
  {
   "cell_type": "code",
   "execution_count": 33,
   "metadata": {
    "collapsed": false
   },
   "outputs": [
    {
     "name": "stdout",
     "output_type": "stream",
     "text": [
      "             1              \n",
      "----------------------------\n",
      " hbar*(-omega1 + omega2)    \n",
      " -----------------------    \n",
      "           T*k              \n",
      "e                        - 1\n"
     ]
    }
   ],
   "source": [
    "ns=exp(-hbar*(omega2-omega1)/k/T)/(1-exp(-hbar*(omega2-omega1)/k/T))\n",
    "ns=1/(exp(hbar*(omega2-omega1)/k/T)-1)\n",
    "pprint(ns,use_unicode=use_unicode)"
   ]
  },
  {
   "cell_type": "markdown",
   "metadata": {},
   "source": [
    "Where $\\omega_1$ and $\\omega_2$ are the energy frequencies of our two states, and $T$ will become our definition of temperature. We solve these equations for the steady state. Notice that $n\\rightarrow0$ as $T\\rightarrow0$  and $n \\rightarrow\\infty$ as $T\\rightarrow \\infty$."
   ]
  },
  {
   "cell_type": "code",
   "execution_count": 34,
   "metadata": {
    "collapsed": false
   },
   "outputs": [
    {
     "name": "stdout",
     "output_type": "stream",
     "text": [
      "0 oo\n"
     ]
    }
   ],
   "source": [
    "print ns.limit(T,0), ns.limit(T,oo)"
   ]
  },
  {
   "cell_type": "code",
   "execution_count": 35,
   "metadata": {
    "collapsed": false
   },
   "outputs": [],
   "source": [
    "eq2=eqs[1,1].subs({rho[1,0]:re(rho[1,0])+I*im(rho[1,0])}).expand()\n",
    "eq3=re(eqs[1,0].expand())\n",
    "eq4=im(eqs[0,1].expand())"
   ]
  },
  {
   "cell_type": "code",
   "execution_count": 36,
   "metadata": {
    "collapsed": false
   },
   "outputs": [],
   "source": [
    "sol=solve([eq2,eq3,eq4],[rho[1,1],re(rho[1,0]),im(rho[1,0])])"
   ]
  },
  {
   "cell_type": "code",
   "execution_count": 37,
   "metadata": {
    "collapsed": false
   },
   "outputs": [],
   "source": [
    "rho11T=(1-sol[rho[1,1]]).expand().factor()\n",
    "rho22T=sol[rho[1,1]]\n",
    "rho21T=(sol[re(rho[1,0])]+I*sol[im(rho[1,0])]).factor()"
   ]
  },
  {
   "cell_type": "code",
   "execution_count": 38,
   "metadata": {
    "collapsed": false
   },
   "outputs": [
    {
     "name": "stdout",
     "output_type": "stream",
     "text": [
      "       2          2          2            2          2  3          2  2          2          2\n",
      "2*Omega *n + Omega  + 4*delta *n + 4*delta  + 4*gamma *n  + 8*gamma *n  + 5*gamma *n + gamma \n",
      "---------------------------------------------------------------------------------------------\n",
      "                       /       2          2          2  2          2          2\\             \n",
      "             (2*n + 1)*\\2*Omega  + 4*delta  + 4*gamma *n  + 4*gamma *n + gamma /             \n"
     ]
    }
   ],
   "source": [
    "pprint(rho11T,use_unicode=use_unicode,num_columns=150)"
   ]
  },
  {
   "cell_type": "code",
   "execution_count": 39,
   "metadata": {
    "collapsed": false
   },
   "outputs": [
    {
     "name": "stdout",
     "output_type": "stream",
     "text": [
      "     2               /       2        2          2\\\n",
      "Omega *(2*n + 1) + n*\\4*delta  + gamma *(2*n + 1) /\n",
      "---------------------------------------------------\n",
      "          /       2          2        2          2\\\n",
      "(2*n + 1)*\\2*Omega  + 4*delta  + gamma *(2*n + 1) /\n"
     ]
    }
   ],
   "source": [
    "pprint(rho22T,use_unicode=use_unicode,num_columns=150)"
   ]
  },
  {
   "cell_type": "code",
   "execution_count": 40,
   "metadata": {
    "collapsed": false
   },
   "outputs": [
    {
     "name": "stdout",
     "output_type": "stream",
     "text": [
      "             -Omega*(-2*delta + 2*I*gamma*n + I*gamma)             \n",
      "-------------------------------------------------------------------\n",
      "          /       2          2          2  2          2          2\\\n",
      "(2*n + 1)*\\2*Omega  + 4*delta  + 4*gamma *n  + 4*gamma *n + gamma /\n"
     ]
    }
   ],
   "source": [
    "pprint(rho21T,use_unicode=use_unicode,num_columns=150)"
   ]
  },
  {
   "cell_type": "markdown",
   "metadata": {},
   "source": [
    "Obviously, if we take the temperature to zero, we recover the usual solutions to Bloch equations in the steady state."
   ]
  },
  {
   "cell_type": "code",
   "execution_count": 41,
   "metadata": {
    "collapsed": false
   },
   "outputs": [
    {
     "name": "stdout",
     "output_type": "stream",
     "text": [
      "      2          2        2 \n",
      " Omega  + 4*delta  + gamma  \n",
      "----------------------------\n",
      "       2          2        2\n",
      "2*Omega  + 4*delta  + gamma \n"
     ]
    }
   ],
   "source": [
    "pprint(rho11T.limit(n,0),use_unicode=use_unicode)"
   ]
  },
  {
   "cell_type": "code",
   "execution_count": 42,
   "metadata": {
    "collapsed": false
   },
   "outputs": [
    {
     "name": "stdout",
     "output_type": "stream",
     "text": [
      "                2           \n",
      "           Omega            \n",
      "----------------------------\n",
      "       2          2        2\n",
      "2*Omega  + 4*delta  + gamma \n"
     ]
    }
   ],
   "source": [
    "pprint(rho22T.limit(n,0),use_unicode=use_unicode)"
   ]
  },
  {
   "cell_type": "code",
   "execution_count": 43,
   "metadata": {
    "collapsed": false
   },
   "outputs": [
    {
     "name": "stdout",
     "output_type": "stream",
     "text": [
      "-(-2*Omega*delta + I*Omega*gamma) \n",
      "----------------------------------\n",
      "          2          2        2   \n",
      "   2*Omega  + 4*delta  + gamma    \n"
     ]
    }
   ],
   "source": [
    "pprint(rho21T.limit(n,0),use_unicode=use_unicode)"
   ]
  },
  {
   "cell_type": "markdown",
   "metadata": {},
   "source": [
    "Now let's explore what happens when the temperature goes to infinity:"
   ]
  },
  {
   "cell_type": "code",
   "execution_count": 44,
   "metadata": {
    "collapsed": false
   },
   "outputs": [
    {
     "name": "stdout",
     "output_type": "stream",
     "text": [
      "[1/2, 1/2, 0]\n"
     ]
    }
   ],
   "source": [
    "print [rho11T.limit(n,oo), rho22T.limit(n,oo), rho21T.limit(n,oo)]"
   ]
  },
  {
   "cell_type": "markdown",
   "metadata": {},
   "source": [
    "Which is exactly what one would expect of thermal states. Furthermore, at finite temperature, and in the abscence of optical fields"
   ]
  },
  {
   "cell_type": "code",
   "execution_count": 45,
   "metadata": {
    "collapsed": false
   },
   "outputs": [
    {
     "name": "stdout",
     "output_type": "stream",
     "text": [
      "  n + 1      n       \n",
      "[-------, -------, 0]\n",
      " 2*n + 1  2*n + 1    \n"
     ]
    }
   ],
   "source": [
    "vapour={delta:0,Omega:0}\n",
    "rho11_vapour=rho11T.subs(vapour).factor()\n",
    "rho22_vapour=rho22T.subs(vapour).factor()\n",
    "rho21_vapour=rho21T.subs(vapour)\n",
    "pprint([rho11_vapour,rho22_vapour,rho21_vapour],use_unicode=use_unicode)"
   ]
  },
  {
   "cell_type": "markdown",
   "metadata": {},
   "source": [
    "Remarkably, the populations do not depend on the decay frequency $\\gamma$! Thus only the temperature determines the populations in the abscence of fields!\n",
    "\n",
    "Explicitly, the populations are"
   ]
  },
  {
   "cell_type": "code",
   "execution_count": 46,
   "metadata": {
    "collapsed": false
   },
   "outputs": [
    {
     "name": "stdout",
     "output_type": "stream",
     "text": [
      "          hbar*omega2                  hbar*omega1        \n",
      "          -----------                  -----------        \n",
      "              T*k                          T*k            \n",
      "         e                            e                   \n",
      "[---------------------------, ---------------------------]\n",
      "  hbar*omega1    hbar*omega2   hbar*omega1    hbar*omega2 \n",
      "  -----------    -----------   -----------    ----------- \n",
      "      T*k            T*k           T*k            T*k     \n",
      " e            + e             e            + e            \n"
     ]
    }
   ],
   "source": [
    "rho11_vapour=rho11_vapour.subs({n:ns}).expand().factor()\n",
    "rho22_vapour=rho22_vapour.subs({n:ns}).expand().factor()\n",
    "pprint([rho11_vapour,rho22_vapour],use_unicode=use_unicode)"
   ]
  },
  {
   "cell_type": "markdown",
   "metadata": {},
   "source": [
    "We can check that these are in deed thermal states"
   ]
  },
  {
   "cell_type": "code",
   "execution_count": 47,
   "metadata": {
    "collapsed": false
   },
   "outputs": [
    {
     "name": "stdout",
     "output_type": "stream",
     "text": [
      "[0, 0]\n"
     ]
    }
   ],
   "source": [
    "Z=exp(-hbar*omega1/k/T)+exp(-hbar*omega2/k/T)\n",
    "rho11_thermal=exp(-hbar*omega1/k/T)/Z\n",
    "rho22_thermal=exp(-hbar*omega2/k/T)/Z\n",
    "\n",
    "print [(rho11_vapour-rho11_thermal).simplify(),(rho22_vapour-rho22_thermal).simplify()]"
   ]
  },
  {
   "cell_type": "markdown",
   "metadata": {},
   "source": [
    "So we may define a thermalization temperature as the temperature required so that in the abscence of fields, the excited state has population 1/4 (in much the same way as the saturation intensity is defined for the field)."
   ]
  },
  {
   "cell_type": "code",
   "execution_count": 48,
   "metadata": {
    "collapsed": false
   },
   "outputs": [
    {
     "name": "stdout",
     "output_type": "stream",
     "text": [
      "-hbar*(omega1 - omega2) \n",
      "------------------------\n",
      "        k*log(3)        \n"
     ]
    }
   ],
   "source": [
    "Tterm=solve(rho22_vapour-1/Integer(4),T)[0]\n",
    "pprint(Tterm,use_unicode=use_unicode)"
   ]
  },
  {
   "cell_type": "markdown",
   "metadata": {},
   "source": [
    "Let us now apply this to the hyperfine splittings of the ground states of the alkalis that we examined before, which is very questionable."
   ]
  },
  {
   "cell_type": "code",
   "execution_count": 49,
   "metadata": {
    "collapsed": false
   },
   "outputs": [],
   "source": [
    "g1Rb85=State(\"Rb\",85,5,0,1/Integer(2),2)\n",
    "g2Rb85=State(\"Rb\",85,5,0,1/Integer(2),3)\n",
    "\n",
    "g1Rb87=State(\"Rb\",87,5,0,1/Integer(2),1)\n",
    "g2Rb87=State(\"Rb\",87,5,0,1/Integer(2),2)\n",
    "\n",
    "g1Cs133=State(\"Cs\",133,6,0,1/Integer(2),3)\n",
    "g2Cs133=State(\"Cs\",133,6,0,1/Integer(2),4)"
   ]
  },
  {
   "cell_type": "code",
   "execution_count": 50,
   "metadata": {
    "collapsed": false
   },
   "outputs": [],
   "source": [
    "from scipy.constants import k as ks\n",
    "from scipy.constants import hbar as hbars"
   ]
  },
  {
   "cell_type": "code",
   "execution_count": 51,
   "metadata": {
    "collapsed": false
   },
   "outputs": [
    {
     "data": {
      "image/png": "[encoded data removed]",
      "text/latex": [
       "$$663.632828136148$$"
      ],
      "text/plain": [
       "663.632828136148"
      ]
     },
     "execution_count": 51,
     "metadata": {},
     "output_type": "execute_result"
    }
   ],
   "source": [
    "ns.subs({hbar:hbars,k:ks,omega1:g1Cs133.omega,omega2:g2Cs133.omega,T:293.})"
   ]
  },
  {
   "cell_type": "code",
   "execution_count": 52,
   "metadata": {
    "collapsed": false
   },
   "outputs": [
    {
     "name": "stdout",
     "output_type": "stream",
     "text": [
      "[0.132614817483323, 0.298570427225583, 0.401576510739131]\n"
     ]
    }
   ],
   "source": [
    "TtermRb85 =Tterm.subs({hbar:hbars,k:ks,omega1: g1Rb85.omega, omega2:g2Rb85.omega}).n()\n",
    "TtermRb87 =Tterm.subs({hbar:hbars,k:ks,omega1: g1Rb87.omega, omega2:g2Rb87.omega}).n()\n",
    "TtermCs133=Tterm.subs({hbar:hbars,k:ks,omega1:g1Cs133.omega,omega2:g2Cs133.omega}).n()\n",
    "\n",
    "print [TtermRb85, TtermRb87, TtermCs133]"
   ]
  },
  {
   "cell_type": "markdown",
   "metadata": {},
   "source": [
    "Let us now find the populations for the exited multiplets for a thermal state at these temperatures:"
   ]
  },
  {
   "cell_type": "code",
   "execution_count": 53,
   "metadata": {
    "collapsed": false
   },
   "outputs": [
    {
     "name": "stdout",
     "output_type": "stream",
     "text": [
      "0.318181818181818\n"
     ]
    }
   ],
   "source": [
    "E85 =get_energies(\"Rb\",85)\n",
    "E87 =get_energies(\"Rb\",87)\n",
    "E133=get_energies(\"Cs\",133)\n",
    "print pops(TtermRb85,E85,\"Rb\",85)[3].subs({hbar:hbars})"
   ]
  },
  {
   "cell_type": "code",
   "execution_count": 54,
   "metadata": {
    "collapsed": false
   },
   "outputs": [
    {
     "name": "stdout",
     "output_type": "stream",
     "text": [
      "0.357142857142857\n"
     ]
    }
   ],
   "source": [
    "print pops(TtermRb87,E87,\"Rb\",87)[3].subs({hbar:hbars})"
   ]
  },
  {
   "cell_type": "code",
   "execution_count": 55,
   "metadata": {
    "collapsed": false
   },
   "outputs": [
    {
     "name": "stdout",
     "output_type": "stream",
     "text": [
      "0.300000000000000\n"
     ]
    }
   ],
   "source": [
    "print pops(TtermCs133,E133,\"Cs\",133)[3].subs({hbar:hbars})"
   ]
  },
  {
   "cell_type": "markdown",
   "metadata": {},
   "source": [
    "If the two level system theory was appropiate for this problem, we should have got 1/4, so we did get pretty good estimates!"
   ]
  },
  {
   "cell_type": "code",
   "execution_count": 56,
   "metadata": {
    "collapsed": true
   },
   "outputs": [],
   "source": [
    "pyplot.close(\"all\")"
   ]
  },
  {
   "cell_type": "markdown",
   "metadata": {
    "collapsed": true
   },
   "source": [
    "[1] An open systems approach to quantum optics : lectures presented at the Universite Libre de Bruxelles, October 28 to November 4, 1991. Carmichael, Howard."
   ]
  },
  {
   "cell_type": "code",
   "execution_count": null,
   "metadata": {
    "collapsed": true
   },
   "outputs": [],
   "source": []
  }
 ],
 "metadata": {
  "anaconda-cloud": {},
  "kernelspec": {
   "display_name": "Python 2",
   "language": "python",
   "name": "python2"
  },
  "language_info": {
   "codemirror_mode": {
    "name": "ipython",
    "version": 2
   },
   "file_extension": ".py",
   "mimetype": "text/x-python",
   "name": "python",
   "nbconvert_exporter": "python",
   "pygments_lexer": "ipython2",
   "version": "2.7.13"
  }
 },
 "nbformat": 4,
 "nbformat_minor": 1
}
