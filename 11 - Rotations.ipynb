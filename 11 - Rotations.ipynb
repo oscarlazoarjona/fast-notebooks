{
 "cells": [
  {
   "cell_type": "code",
   "execution_count": 1,
   "metadata": {
    "collapsed": true
   },
   "outputs": [],
   "source": [
    "from fast import *\n",
    "#from sympy import factorial, sqrt, binomial, cos, sin, pi, exp, I, zeros\n",
    "#from sympy import simplify\n",
    "from sympy import pi, eye, I, zeros\n",
    "import numpy as np\n",
    "from matplotlib import pyplot as plt\n",
    "%matplotlib inline"
   ]
  },
  {
   "cell_type": "code",
   "execution_count": 2,
   "metadata": {
    "collapsed": true
   },
   "outputs": [],
   "source": [
    "init_printing()"
   ]
  },
  {
   "cell_type": "code",
   "execution_count": 3,
   "metadata": {
    "collapsed": false
   },
   "outputs": [
    {
     "data": {
      "image/png": "[encoded data removed]",
      "text/latex": [
       "$$\\left ( \\alpha, \\quad \\beta, \\quad \\gamma\\right )$$"
      ],
      "text/plain": [
       "(α, β, γ)"
      ]
     },
     "execution_count": 3,
     "metadata": {},
     "output_type": "execute_result"
    }
   ],
   "source": [
    "half = 1/Integer(2)\n",
    "alpha, beta, gamma = symbols(\"alpha, beta, gamma\", real=True)\n",
    "alpha, beta, gamma"
   ]
  },
  {
   "cell_type": "markdown",
   "metadata": {},
   "source": [
    "These matrices can be found in [1]"
   ]
  },
  {
   "cell_type": "code",
   "execution_count": 4,
   "metadata": {
    "collapsed": false
   },
   "outputs": [
    {
     "data": {
      "image/png": "[encoded data removed]",
      "text/latex": [
       "$$\\left[\\begin{matrix}\\cos{\\left (\\frac{\\beta}{2} \\right )} & \\sin{\\left (\\frac{\\beta}{2} \\right )}\\\\- \\sin{\\left (\\frac{\\beta}{2} \\right )} & \\cos{\\left (\\frac{\\beta}{2} \\right )}\\end{matrix}\\right]$$"
      ],
      "text/plain": [
       "⎡   ⎛β⎞      ⎛β⎞⎤\n",
       "⎢cos⎜─⎟   sin⎜─⎟⎥\n",
       "⎢   ⎝2⎠      ⎝2⎠⎥\n",
       "⎢               ⎥\n",
       "⎢    ⎛β⎞     ⎛β⎞⎥\n",
       "⎢-sin⎜─⎟  cos⎜─⎟⎥\n",
       "⎣    ⎝2⎠     ⎝2⎠⎦"
      ]
     },
     "execution_count": 4,
     "metadata": {},
     "output_type": "execute_result"
    }
   ],
   "source": [
    "wigner_d_small(half, beta)"
   ]
  },
  {
   "cell_type": "code",
   "execution_count": 5,
   "metadata": {
    "collapsed": false
   },
   "outputs": [
    {
     "data": {
      "image/png": "[encoded data removed]",
      "text/latex": [
       "$$\\left[\\begin{matrix}\\cos^{2}{\\left (\\frac{\\beta}{2} \\right )} & \\sqrt{2} \\sin{\\left (\\frac{\\beta}{2} \\right )} \\cos{\\left (\\frac{\\beta}{2} \\right )} & \\sin^{2}{\\left (\\frac{\\beta}{2} \\right )}\\\\- \\sqrt{2} \\sin{\\left (\\frac{\\beta}{2} \\right )} \\cos{\\left (\\frac{\\beta}{2} \\right )} & - \\sin^{2}{\\left (\\frac{\\beta}{2} \\right )} + \\cos^{2}{\\left (\\frac{\\beta}{2} \\right )} & \\sqrt{2} \\sin{\\left (\\frac{\\beta}{2} \\right )} \\cos{\\left (\\frac{\\beta}{2} \\right )}\\\\\\sin^{2}{\\left (\\frac{\\beta}{2} \\right )} & - \\sqrt{2} \\sin{\\left (\\frac{\\beta}{2} \\right )} \\cos{\\left (\\frac{\\beta}{2} \\right )} & \\cos^{2}{\\left (\\frac{\\beta}{2} \\right )}\\end{matrix}\\right]$$"
      ],
      "text/plain": [
       "⎡        2⎛β⎞              ⎛β⎞    ⎛β⎞           2⎛β⎞     ⎤\n",
       "⎢     cos ⎜─⎟        √2⋅sin⎜─⎟⋅cos⎜─⎟        sin ⎜─⎟     ⎥\n",
       "⎢         ⎝2⎠              ⎝2⎠    ⎝2⎠            ⎝2⎠     ⎥\n",
       "⎢                                                        ⎥\n",
       "⎢       ⎛β⎞    ⎛β⎞       2⎛β⎞      2⎛β⎞        ⎛β⎞    ⎛β⎞⎥\n",
       "⎢-√2⋅sin⎜─⎟⋅cos⎜─⎟  - sin ⎜─⎟ + cos ⎜─⎟  √2⋅sin⎜─⎟⋅cos⎜─⎟⎥\n",
       "⎢       ⎝2⎠    ⎝2⎠        ⎝2⎠       ⎝2⎠        ⎝2⎠    ⎝2⎠⎥\n",
       "⎢                                                        ⎥\n",
       "⎢        2⎛β⎞               ⎛β⎞    ⎛β⎞          2⎛β⎞     ⎥\n",
       "⎢     sin ⎜─⎟        -√2⋅sin⎜─⎟⋅cos⎜─⎟       cos ⎜─⎟     ⎥\n",
       "⎣         ⎝2⎠               ⎝2⎠    ⎝2⎠           ⎝2⎠     ⎦"
      ]
     },
     "execution_count": 5,
     "metadata": {},
     "output_type": "execute_result"
    }
   ],
   "source": [
    "wigner_d_small(2*half, beta)"
   ]
  },
  {
   "cell_type": "code",
   "execution_count": 6,
   "metadata": {
    "collapsed": false
   },
   "outputs": [
    {
     "data": {
      "image/png": "[encoded data removed]",
      "text/latex": [
       "$$\\left[\\begin{matrix}\\frac{\\sqrt{2}}{2} & \\frac{\\sqrt{2}}{2}\\\\- \\frac{\\sqrt{2}}{2} & \\frac{\\sqrt{2}}{2}\\end{matrix}\\right]$$"
      ],
      "text/plain": [
       "⎡ √2   √2⎤\n",
       "⎢ ──   ──⎥\n",
       "⎢ 2    2 ⎥\n",
       "⎢        ⎥\n",
       "⎢-√2   √2⎥\n",
       "⎢────  ──⎥\n",
       "⎣ 2    2 ⎦"
      ]
     },
     "execution_count": 6,
     "metadata": {},
     "output_type": "execute_result"
    }
   ],
   "source": [
    "wigner_d_small(half, beta).subs({beta:pi/2})"
   ]
  },
  {
   "cell_type": "code",
   "execution_count": 7,
   "metadata": {
    "collapsed": false
   },
   "outputs": [
    {
     "data": {
      "image/png": "[encoded data removed]",
      "text/latex": [
       "$$\\left[\\begin{matrix}\\frac{1}{2} & \\frac{\\sqrt{2}}{2} & \\frac{1}{2}\\\\- \\frac{\\sqrt{2}}{2} & 0 & \\frac{\\sqrt{2}}{2}\\\\\\frac{1}{2} & - \\frac{\\sqrt{2}}{2} & \\frac{1}{2}\\end{matrix}\\right]$$"
      ],
      "text/plain": [
       "⎡       √2      ⎤\n",
       "⎢1/2    ──   1/2⎥\n",
       "⎢       2       ⎥\n",
       "⎢               ⎥\n",
       "⎢-√2         √2 ⎥\n",
       "⎢────   0    ── ⎥\n",
       "⎢ 2          2  ⎥\n",
       "⎢               ⎥\n",
       "⎢      -√2      ⎥\n",
       "⎢1/2   ────  1/2⎥\n",
       "⎣       2       ⎦"
      ]
     },
     "execution_count": 7,
     "metadata": {},
     "output_type": "execute_result"
    }
   ],
   "source": [
    "wigner_d_small(2*half, beta).subs({beta:pi/2})"
   ]
  },
  {
   "cell_type": "code",
   "execution_count": 8,
   "metadata": {
    "collapsed": false
   },
   "outputs": [
    {
     "data": {
      "image/png": "[encoded data removed]",
      "text/latex": [
       "$$\\left[\\begin{matrix}\\frac{\\sqrt{2}}{4} & \\frac{\\sqrt{6}}{4} & \\frac{\\sqrt{6}}{4} & \\frac{\\sqrt{2}}{4}\\\\- \\frac{\\sqrt{6}}{4} & - \\frac{\\sqrt{2}}{4} & \\frac{\\sqrt{2}}{4} & \\frac{\\sqrt{6}}{4}\\\\\\frac{\\sqrt{6}}{4} & - \\frac{\\sqrt{2}}{4} & - \\frac{\\sqrt{2}}{4} & \\frac{\\sqrt{6}}{4}\\\\- \\frac{\\sqrt{2}}{4} & \\frac{\\sqrt{6}}{4} & - \\frac{\\sqrt{6}}{4} & \\frac{\\sqrt{2}}{4}\\end{matrix}\\right]$$"
      ],
      "text/plain": [
       "⎡ √2    √6    √6   √2⎤\n",
       "⎢ ──    ──    ──   ──⎥\n",
       "⎢ 4     4     4    4 ⎥\n",
       "⎢                    ⎥\n",
       "⎢-√6   -√2    √2   √6⎥\n",
       "⎢────  ────   ──   ──⎥\n",
       "⎢ 4     4     4    4 ⎥\n",
       "⎢                    ⎥\n",
       "⎢ √6   -√2   -√2   √6⎥\n",
       "⎢ ──   ────  ────  ──⎥\n",
       "⎢ 4     4     4    4 ⎥\n",
       "⎢                    ⎥\n",
       "⎢-√2    √6   -√6   √2⎥\n",
       "⎢────   ──   ────  ──⎥\n",
       "⎣ 4     4     4    4 ⎦"
      ]
     },
     "execution_count": 8,
     "metadata": {},
     "output_type": "execute_result"
    }
   ],
   "source": [
    "wigner_d_small(3*half, beta).subs({beta:pi/2})"
   ]
  },
  {
   "cell_type": "code",
   "execution_count": 9,
   "metadata": {
    "collapsed": false
   },
   "outputs": [
    {
     "data": {
      "image/png": "[encoded data removed]",
      "text/latex": [
       "$$\\left[\\begin{matrix}\\frac{1}{4} & \\frac{1}{2} & \\frac{\\sqrt{6}}{4} & \\frac{1}{2} & \\frac{1}{4}\\\\- \\frac{1}{2} & - \\frac{1}{2} & 0 & \\frac{1}{2} & \\frac{1}{2}\\\\\\frac{\\sqrt{6}}{4} & 0 & - \\frac{1}{2} & 0 & \\frac{\\sqrt{6}}{4}\\\\- \\frac{1}{2} & \\frac{1}{2} & 0 & - \\frac{1}{2} & \\frac{1}{2}\\\\\\frac{1}{4} & - \\frac{1}{2} & \\frac{\\sqrt{6}}{4} & - \\frac{1}{2} & \\frac{1}{4}\\end{matrix}\\right]$$"
      ],
      "text/plain": [
       "⎡             √6            ⎤\n",
       "⎢1/4   1/2    ──   1/2   1/4⎥\n",
       "⎢             4             ⎥\n",
       "⎢                           ⎥\n",
       "⎢-1/2  -1/2   0    1/2   1/2⎥\n",
       "⎢                           ⎥\n",
       "⎢ √6                     √6 ⎥\n",
       "⎢ ──    0    -1/2   0    ── ⎥\n",
       "⎢ 4                      4  ⎥\n",
       "⎢                           ⎥\n",
       "⎢-1/2  1/2    0    -1/2  1/2⎥\n",
       "⎢                           ⎥\n",
       "⎢             √6            ⎥\n",
       "⎢1/4   -1/2   ──   -1/2  1/4⎥\n",
       "⎣             4             ⎦"
      ]
     },
     "execution_count": 9,
     "metadata": {},
     "output_type": "execute_result"
    }
   ],
   "source": [
    "wigner_d_small(4*half, beta).subs({beta:pi/2})"
   ]
  },
  {
   "cell_type": "code",
   "execution_count": 10,
   "metadata": {
    "collapsed": false
   },
   "outputs": [
    {
     "data": {
      "image/png": "[encoded data removed]",
      "text/latex": [
       "$$\\left[\\begin{matrix}e^{\\frac{i \\alpha}{2}} e^{\\frac{i \\gamma}{2}} \\cos{\\left (\\frac{\\beta}{2} \\right )} & e^{\\frac{i \\alpha}{2}} e^{- \\frac{i \\gamma}{2}} \\sin{\\left (\\frac{\\beta}{2} \\right )}\\\\- e^{- \\frac{i \\alpha}{2}} e^{\\frac{i \\gamma}{2}} \\sin{\\left (\\frac{\\beta}{2} \\right )} & e^{- \\frac{i \\alpha}{2}} e^{- \\frac{i \\gamma}{2}} \\cos{\\left (\\frac{\\beta}{2} \\right )}\\end{matrix}\\right]$$"
      ],
      "text/plain": [
       "⎡  ⅈ⋅α  ⅈ⋅γ             ⅈ⋅α  -ⅈ⋅γ         ⎤\n",
       "⎢  ───  ───             ───  ─────        ⎥\n",
       "⎢   2    2     ⎛β⎞       2     2      ⎛β⎞ ⎥\n",
       "⎢ ℯ   ⋅ℯ   ⋅cos⎜─⎟     ℯ   ⋅ℯ     ⋅sin⎜─⎟ ⎥\n",
       "⎢              ⎝2⎠                    ⎝2⎠ ⎥\n",
       "⎢                                         ⎥\n",
       "⎢  -ⅈ⋅α   ⅈ⋅γ          -ⅈ⋅α   -ⅈ⋅γ        ⎥\n",
       "⎢  ─────  ───          ─────  ─────       ⎥\n",
       "⎢    2     2     ⎛β⎞     2      2      ⎛β⎞⎥\n",
       "⎢-ℯ     ⋅ℯ   ⋅sin⎜─⎟  ℯ     ⋅ℯ     ⋅cos⎜─⎟⎥\n",
       "⎣                ⎝2⎠                   ⎝2⎠⎦"
      ]
     },
     "execution_count": 10,
     "metadata": {},
     "output_type": "execute_result"
    }
   ],
   "source": [
    "wigner_d(half, alpha, beta, gamma)"
   ]
  },
  {
   "cell_type": "code",
   "execution_count": 11,
   "metadata": {
    "collapsed": false
   },
   "outputs": [
    {
     "data": {
      "image/png": "[encoded data removed]",
      "text/latex": [
       "$$\\left[\\begin{matrix}e^{i \\alpha} e^{i \\gamma} \\cos^{2}{\\left (\\frac{\\beta}{2} \\right )} & \\sqrt{2} e^{i \\alpha} \\sin{\\left (\\frac{\\beta}{2} \\right )} \\cos{\\left (\\frac{\\beta}{2} \\right )} & e^{i \\alpha} e^{- i \\gamma} \\sin^{2}{\\left (\\frac{\\beta}{2} \\right )}\\\\- \\sqrt{2} e^{i \\gamma} \\sin{\\left (\\frac{\\beta}{2} \\right )} \\cos{\\left (\\frac{\\beta}{2} \\right )} & - \\sin^{2}{\\left (\\frac{\\beta}{2} \\right )} + \\cos^{2}{\\left (\\frac{\\beta}{2} \\right )} & \\sqrt{2} e^{- i \\gamma} \\sin{\\left (\\frac{\\beta}{2} \\right )} \\cos{\\left (\\frac{\\beta}{2} \\right )}\\\\e^{- i \\alpha} e^{i \\gamma} \\sin^{2}{\\left (\\frac{\\beta}{2} \\right )} & - \\sqrt{2} e^{- i \\alpha} \\sin{\\left (\\frac{\\beta}{2} \\right )} \\cos{\\left (\\frac{\\beta}{2} \\right )} & e^{- i \\alpha} e^{- i \\gamma} \\cos^{2}{\\left (\\frac{\\beta}{2} \\right )}\\end{matrix}\\right]$$"
      ],
      "text/plain": [
       "⎡   ⅈ⋅α  ⅈ⋅γ    2⎛β⎞          ⅈ⋅α    ⎛β⎞    ⎛β⎞      ⅈ⋅α  -ⅈ⋅γ    2⎛β⎞  ⎤\n",
       "⎢  ℯ   ⋅ℯ   ⋅cos ⎜─⎟      √2⋅ℯ   ⋅sin⎜─⎟⋅cos⎜─⎟     ℯ   ⋅ℯ    ⋅sin ⎜─⎟  ⎥\n",
       "⎢                ⎝2⎠                 ⎝2⎠    ⎝2⎠                    ⎝2⎠  ⎥\n",
       "⎢                                                                       ⎥\n",
       "⎢     ⅈ⋅γ    ⎛β⎞    ⎛β⎞         2⎛β⎞      2⎛β⎞        -ⅈ⋅γ    ⎛β⎞    ⎛β⎞⎥\n",
       "⎢-√2⋅ℯ   ⋅sin⎜─⎟⋅cos⎜─⎟    - sin ⎜─⎟ + cos ⎜─⎟    √2⋅ℯ    ⋅sin⎜─⎟⋅cos⎜─⎟⎥\n",
       "⎢            ⎝2⎠    ⎝2⎠          ⎝2⎠       ⎝2⎠                ⎝2⎠    ⎝2⎠⎥\n",
       "⎢                                                                       ⎥\n",
       "⎢   -ⅈ⋅α  ⅈ⋅γ    2⎛β⎞         -ⅈ⋅α    ⎛β⎞    ⎛β⎞    -ⅈ⋅α  -ⅈ⋅γ    2⎛β⎞  ⎥\n",
       "⎢  ℯ    ⋅ℯ   ⋅sin ⎜─⎟    -√2⋅ℯ    ⋅sin⎜─⎟⋅cos⎜─⎟   ℯ    ⋅ℯ    ⋅cos ⎜─⎟  ⎥\n",
       "⎣                 ⎝2⎠                 ⎝2⎠    ⎝2⎠                   ⎝2⎠  ⎦"
      ]
     },
     "execution_count": 11,
     "metadata": {},
     "output_type": "execute_result"
    }
   ],
   "source": [
    "wigner_d(2*half, alpha, beta, gamma)"
   ]
  },
  {
   "cell_type": "markdown",
   "metadata": {},
   "source": [
    "A very basic example of a density matrix rotation:"
   ]
  },
  {
   "cell_type": "code",
   "execution_count": 12,
   "metadata": {
    "collapsed": false
   },
   "outputs": [
    {
     "data": {
      "image/png": "[encoded data removed]",
      "text/latex": [
       "$$\\left[\\begin{matrix}\\frac{1}{2} & \\frac{\\sqrt{2}}{2} & \\frac{1}{2} & 0\\\\- \\frac{\\sqrt{2}}{2} & 0 & \\frac{\\sqrt{2}}{2} & 0\\\\\\frac{1}{2} & - \\frac{\\sqrt{2}}{2} & \\frac{1}{2} & 0\\\\0 & 0 & 0 & 1\\end{matrix}\\right]$$"
      ],
      "text/plain": [
       "⎡       √2         ⎤\n",
       "⎢1/2    ──   1/2  0⎥\n",
       "⎢       2          ⎥\n",
       "⎢                  ⎥\n",
       "⎢-√2         √2    ⎥\n",
       "⎢────   0    ──   0⎥\n",
       "⎢ 2          2     ⎥\n",
       "⎢                  ⎥\n",
       "⎢      -√2         ⎥\n",
       "⎢1/2   ────  1/2  0⎥\n",
       "⎢       2          ⎥\n",
       "⎢                  ⎥\n",
       "⎣ 0     0     0   1⎦"
      ]
     },
     "execution_count": 12,
     "metadata": {},
     "output_type": "execute_result"
    }
   ],
   "source": [
    "density_matrix_rotation([1, 0], 0, pi/2, 0)"
   ]
  },
  {
   "cell_type": "code",
   "execution_count": 13,
   "metadata": {
    "collapsed": false
   },
   "outputs": [
    {
     "data": {
      "image/png": "[encoded data removed]",
      "text/latex": [
       "$$\\left[\\begin{matrix}e^{i \\alpha} & 0 & 0 & 0\\\\0 & 1 & 0 & 0\\\\0 & 0 & e^{- i \\alpha} & 0\\\\0 & 0 & 0 & 1\\end{matrix}\\right]$$"
      ],
      "text/plain": [
       "⎡ ⅈ⋅α             ⎤\n",
       "⎢ℯ     0    0    0⎥\n",
       "⎢                 ⎥\n",
       "⎢ 0    1    0    0⎥\n",
       "⎢                 ⎥\n",
       "⎢          -ⅈ⋅α   ⎥\n",
       "⎢ 0    0  ℯ      0⎥\n",
       "⎢                 ⎥\n",
       "⎣ 0    0    0    1⎦"
      ]
     },
     "execution_count": 13,
     "metadata": {},
     "output_type": "execute_result"
    }
   ],
   "source": [
    "density_matrix_rotation([1, 0], alpha, 0, 0)"
   ]
  },
  {
   "cell_type": "markdown",
   "metadata": {},
   "source": [
    "A rotation for density matrix of the $D_2$ line states of $^{87}\\mathrm{Rb}$."
   ]
  },
  {
   "cell_type": "code",
   "execution_count": 14,
   "metadata": {
    "collapsed": false
   },
   "outputs": [
    {
     "data": {
      "image/png": "[encoded data removed]",
      "text/latex": [
       "$$\\left [ 1, \\quad 2, \\quad 0, \\quad 1, \\quad 2, \\quad 3\\right ]$$"
      ],
      "text/plain": [
       "[1, 2, 0, 1, 2, 3]"
      ]
     },
     "execution_count": 14,
     "metadata": {},
     "output_type": "execute_result"
    }
   ],
   "source": [
    "fine_states = [State(\"Rb\", 87, 5, 0, half), State(\"Rb\", 87, 5, 1, 3*half)]\n",
    "hyperfine_states = make_list_of_states(fine_states, \"hyperfine\")\n",
    "magnetic_states = make_list_of_states(fine_states, \"magnetic\")\n",
    "F_values = [state.f for state in hyperfine_states]\n",
    "F_values"
   ]
  },
  {
   "cell_type": "code",
   "execution_count": 15,
   "metadata": {
    "collapsed": false
   },
   "outputs": [],
   "source": [
    "Ne = len(magnetic_states)\n",
    "Rotation = density_matrix_rotation(F_values, 0, pi/2, 0)\n",
    "Rot = np.array([[float(Rotation[i, j]) for j in range(Ne)] for i in range(Ne)])"
   ]
  },
  {
   "cell_type": "code",
   "execution_count": 24,
   "metadata": {
    "collapsed": false
   },
   "outputs": [
    {
     "data": {
      "image/png": "[encoded data removed]",
      "text/plain": [
       "<matplotlib.figure.Figure at 0x7ff1eabfaf10>"
      ]
     },
     "metadata": {},
     "output_type": "display_data"
    }
   ],
   "source": [
    "path=\"folder_11___Rotations/\" \n",
    "fig=plt.figure(figsize=(10, 10)); ax=fig.add_subplot(111)\n",
    "fancy_matrix_plot(ax, Rot, magnetic_states, path, 'd1_rotation_rb87.png',take_abs=True)"
   ]
  },
  {
   "cell_type": "markdown",
   "metadata": {},
   "source": [
    "Let us build a pure density matrix (which can in principle be physically done in rubidium by saturating a sigma transition)."
   ]
  },
  {
   "cell_type": "code",
   "execution_count": 25,
   "metadata": {
    "collapsed": false
   },
   "outputs": [],
   "source": [
    "rho = zeros(Ne, Ne)\n",
    "rho[7, 7] = half\n",
    "rho[23, 23] = half\n",
    "rho[23, 7] = -half\n",
    "rho[7, 23] = -half\n",
    "\n",
    "rhop = [[float(rho[i, j]) for j in range(Ne)] for i in range(Ne)]"
   ]
  },
  {
   "cell_type": "code",
   "execution_count": 26,
   "metadata": {
    "collapsed": false
   },
   "outputs": [
    {
     "data": {
      "image/png": "[encoded data removed]",
      "text/latex": [
       "$$\\left \\{ 0 : 23, \\quad 1 : 1\\right \\}$$"
      ],
      "text/plain": [
       "{0: 23, 1: 1}"
      ]
     },
     "execution_count": 26,
     "metadata": {},
     "output_type": "execute_result"
    }
   ],
   "source": [
    "rho.eigenvals()"
   ]
  },
  {
   "cell_type": "code",
   "execution_count": 27,
   "metadata": {
    "collapsed": false
   },
   "outputs": [
    {
     "data": {
      "image/png": "[encoded data removed]",
      "text/plain": [
       "<matplotlib.figure.Figure at 0x7ff1eaef53d0>"
      ]
     },
     "metadata": {},
     "output_type": "display_data"
    }
   ],
   "source": [
    "path=\"folder_11___Rotations/\" \n",
    "fig=plt.figure(figsize=(10, 10)); ax=fig.add_subplot(111)\n",
    "\n",
    "fancy_matrix_plot(ax, rhop, magnetic_states, path, 'rho0_rb87.png', complex_matrix=True)"
   ]
  },
  {
   "cell_type": "markdown",
   "metadata": {},
   "source": [
    "And we now rotate this matrix."
   ]
  },
  {
   "cell_type": "code",
   "execution_count": 28,
   "metadata": {
    "collapsed": false
   },
   "outputs": [],
   "source": [
    "rho2 = Rotation*rho*Rotation.adjoint()\n",
    "rho2p = [[float(rho2[i, j]) for j in range(Ne)] for i in range(Ne)]"
   ]
  },
  {
   "cell_type": "code",
   "execution_count": 29,
   "metadata": {
    "collapsed": false
   },
   "outputs": [
    {
     "data": {
      "image/png": "[encoded data removed]",
      "text/latex": [
       "$$\\left \\{ 0 : 23, \\quad 1 : 1\\right \\}$$"
      ],
      "text/plain": [
       "{0: 23, 1: 1}"
      ]
     },
     "execution_count": 29,
     "metadata": {},
     "output_type": "execute_result"
    }
   ],
   "source": [
    "rho2.eigenvals()"
   ]
  },
  {
   "cell_type": "code",
   "execution_count": 30,
   "metadata": {
    "collapsed": false
   },
   "outputs": [
    {
     "data": {
      "image/png": "[encoded data removed]",
      "text/plain": [
       "<matplotlib.figure.Figure at 0x7ff1eb06ad90>"
      ]
     },
     "metadata": {},
     "output_type": "display_data"
    }
   ],
   "source": [
    "fig=plt.figure(figsize=(10, 10)); ax=fig.add_subplot(111)\n",
    "fancy_matrix_plot(ax, rho2p, magnetic_states, path, 'rho2_rb87.png', complex_matrix=True)"
   ]
  },
  {
   "cell_type": "markdown",
   "metadata": {},
   "source": [
    "[1] A. R. Edmonds. Angular momentum in quantum mechanics. Investigations in physics, 4.; Investigations in physics, no. 4. Princeton, N.J., Princeton University Press, 1957."
   ]
  },
  {
   "cell_type": "code",
   "execution_count": null,
   "metadata": {
    "collapsed": true
   },
   "outputs": [],
   "source": []
  }
 ],
 "metadata": {
  "kernelspec": {
   "display_name": "Python 2",
   "language": "python",
   "name": "python2"
  },
  "language_info": {
   "codemirror_mode": {
    "name": "ipython",
    "version": 2
   },
   "file_extension": ".py",
   "mimetype": "text/x-python",
   "name": "python",
   "nbconvert_exporter": "python",
   "pygments_lexer": "ipython2",
   "version": "2.7.13"
  }
 },
 "nbformat": 4,
 "nbformat_minor": 2
}
