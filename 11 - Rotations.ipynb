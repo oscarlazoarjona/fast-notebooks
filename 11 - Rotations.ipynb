{
 "cells": [
  {
   "cell_type": "code",
   "execution_count": 1,
   "metadata": {
    "collapsed": true
   },
   "outputs": [],
   "source": [
    "from fast import *\n",
    "from sympy import factorial, sqrt, binomial, cos, sin, pi, exp, I, zeros\n",
    "from sympy import simplify"
   ]
  },
  {
   "cell_type": "code",
   "execution_count": 2,
   "metadata": {
    "collapsed": true
   },
   "outputs": [],
   "source": [
    "init_printing()"
   ]
  },
  {
   "cell_type": "code",
   "execution_count": 3,
   "metadata": {
    "collapsed": false
   },
   "outputs": [
    {
     "data": {
      "image/png": "[encoded data removed]",
      "text/latex": [
       "$$\\left ( \\alpha, \\quad \\beta, \\quad \\gamma\\right )$$"
      ],
      "text/plain": [
       "(α, β, γ)"
      ]
     },
     "execution_count": 3,
     "metadata": {},
     "output_type": "execute_result"
    }
   ],
   "source": [
    "half = 1/Integer(2)\n",
    "alpha, beta, gamma = symbols(\"alpha, beta, gamma\", real=True)\n",
    "alpha, beta, gamma"
   ]
  },
  {
   "cell_type": "markdown",
   "metadata": {},
   "source": [
    "These matrices can be found in [1]"
   ]
  },
  {
   "cell_type": "code",
   "execution_count": 4,
   "metadata": {
    "collapsed": false
   },
   "outputs": [
    {
     "data": {
      "image/png": "[encoded data removed]",
      "text/latex": [
       "$$\\left[\\begin{matrix}\\cos{\\left (\\frac{\\beta}{2} \\right )} & \\sin{\\left (\\frac{\\beta}{2} \\right )}\\\\- \\sin{\\left (\\frac{\\beta}{2} \\right )} & \\cos{\\left (\\frac{\\beta}{2} \\right )}\\end{matrix}\\right]$$"
      ],
      "text/plain": [
       "⎡   ⎛β⎞      ⎛β⎞⎤\n",
       "⎢cos⎜─⎟   sin⎜─⎟⎥\n",
       "⎢   ⎝2⎠      ⎝2⎠⎥\n",
       "⎢               ⎥\n",
       "⎢    ⎛β⎞     ⎛β⎞⎥\n",
       "⎢-sin⎜─⎟  cos⎜─⎟⎥\n",
       "⎣    ⎝2⎠     ⎝2⎠⎦"
      ]
     },
     "execution_count": 4,
     "metadata": {},
     "output_type": "execute_result"
    }
   ],
   "source": [
    "wigner_d_small(half, beta)"
   ]
  },
  {
   "cell_type": "code",
   "execution_count": 5,
   "metadata": {
    "collapsed": false
   },
   "outputs": [
    {
     "data": {
      "image/png": "[encoded data removed]",
      "text/latex": [
       "$$\\left[\\begin{matrix}\\cos^{2}{\\left (\\frac{\\beta}{2} \\right )} & \\sqrt{2} \\sin{\\left (\\frac{\\beta}{2} \\right )} \\cos{\\left (\\frac{\\beta}{2} \\right )} & \\sin^{2}{\\left (\\frac{\\beta}{2} \\right )}\\\\- \\sqrt{2} \\sin{\\left (\\frac{\\beta}{2} \\right )} \\cos{\\left (\\frac{\\beta}{2} \\right )} & - \\sin^{2}{\\left (\\frac{\\beta}{2} \\right )} + \\cos^{2}{\\left (\\frac{\\beta}{2} \\right )} & \\sqrt{2} \\sin{\\left (\\frac{\\beta}{2} \\right )} \\cos{\\left (\\frac{\\beta}{2} \\right )}\\\\\\sin^{2}{\\left (\\frac{\\beta}{2} \\right )} & - \\sqrt{2} \\sin{\\left (\\frac{\\beta}{2} \\right )} \\cos{\\left (\\frac{\\beta}{2} \\right )} & \\cos^{2}{\\left (\\frac{\\beta}{2} \\right )}\\end{matrix}\\right]$$"
      ],
      "text/plain": [
       "⎡        2⎛β⎞              ⎛β⎞    ⎛β⎞           2⎛β⎞     ⎤\n",
       "⎢     cos ⎜─⎟        √2⋅sin⎜─⎟⋅cos⎜─⎟        sin ⎜─⎟     ⎥\n",
       "⎢         ⎝2⎠              ⎝2⎠    ⎝2⎠            ⎝2⎠     ⎥\n",
       "⎢                                                        ⎥\n",
       "⎢       ⎛β⎞    ⎛β⎞       2⎛β⎞      2⎛β⎞        ⎛β⎞    ⎛β⎞⎥\n",
       "⎢-√2⋅sin⎜─⎟⋅cos⎜─⎟  - sin ⎜─⎟ + cos ⎜─⎟  √2⋅sin⎜─⎟⋅cos⎜─⎟⎥\n",
       "⎢       ⎝2⎠    ⎝2⎠        ⎝2⎠       ⎝2⎠        ⎝2⎠    ⎝2⎠⎥\n",
       "⎢                                                        ⎥\n",
       "⎢        2⎛β⎞               ⎛β⎞    ⎛β⎞          2⎛β⎞     ⎥\n",
       "⎢     sin ⎜─⎟        -√2⋅sin⎜─⎟⋅cos⎜─⎟       cos ⎜─⎟     ⎥\n",
       "⎣         ⎝2⎠               ⎝2⎠    ⎝2⎠           ⎝2⎠     ⎦"
      ]
     },
     "execution_count": 5,
     "metadata": {},
     "output_type": "execute_result"
    }
   ],
   "source": [
    "wigner_d_small(2*half, beta)"
   ]
  },
  {
   "cell_type": "code",
   "execution_count": 6,
   "metadata": {
    "collapsed": false
   },
   "outputs": [
    {
     "data": {
      "image/png": "[encoded data removed]",
      "text/latex": [
       "$$\\left[\\begin{matrix}\\frac{\\sqrt{2}}{2} & \\frac{\\sqrt{2}}{2}\\\\- \\frac{\\sqrt{2}}{2} & \\frac{\\sqrt{2}}{2}\\end{matrix}\\right]$$"
      ],
      "text/plain": [
       "⎡ √2   √2⎤\n",
       "⎢ ──   ──⎥\n",
       "⎢ 2    2 ⎥\n",
       "⎢        ⎥\n",
       "⎢-√2   √2⎥\n",
       "⎢────  ──⎥\n",
       "⎣ 2    2 ⎦"
      ]
     },
     "execution_count": 6,
     "metadata": {},
     "output_type": "execute_result"
    }
   ],
   "source": [
    "wigner_d_small(half, beta).subs({beta:pi/2})"
   ]
  },
  {
   "cell_type": "code",
   "execution_count": 7,
   "metadata": {
    "collapsed": false
   },
   "outputs": [
    {
     "data": {
      "image/png": "[encoded data removed]",
      "text/latex": [
       "$$\\left[\\begin{matrix}\\frac{1}{2} & \\frac{\\sqrt{2}}{2} & \\frac{1}{2}\\\\- \\frac{\\sqrt{2}}{2} & 0 & \\frac{\\sqrt{2}}{2}\\\\\\frac{1}{2} & - \\frac{\\sqrt{2}}{2} & \\frac{1}{2}\\end{matrix}\\right]$$"
      ],
      "text/plain": [
       "⎡       √2      ⎤\n",
       "⎢1/2    ──   1/2⎥\n",
       "⎢       2       ⎥\n",
       "⎢               ⎥\n",
       "⎢-√2         √2 ⎥\n",
       "⎢────   0    ── ⎥\n",
       "⎢ 2          2  ⎥\n",
       "⎢               ⎥\n",
       "⎢      -√2      ⎥\n",
       "⎢1/2   ────  1/2⎥\n",
       "⎣       2       ⎦"
      ]
     },
     "execution_count": 7,
     "metadata": {},
     "output_type": "execute_result"
    }
   ],
   "source": [
    "wigner_d_small(2*half, beta).subs({beta:pi/2})"
   ]
  },
  {
   "cell_type": "code",
   "execution_count": 8,
   "metadata": {
    "collapsed": false
   },
   "outputs": [
    {
     "data": {
      "image/png": "[encoded data removed]",
      "text/latex": [
       "$$\\left[\\begin{matrix}\\frac{\\sqrt{2}}{4} & \\frac{\\sqrt{6}}{4} & \\frac{\\sqrt{6}}{4} & \\frac{\\sqrt{2}}{4}\\\\- \\frac{\\sqrt{6}}{4} & - \\frac{\\sqrt{2}}{4} & \\frac{\\sqrt{2}}{4} & \\frac{\\sqrt{6}}{4}\\\\\\frac{\\sqrt{6}}{4} & - \\frac{\\sqrt{2}}{4} & - \\frac{\\sqrt{2}}{4} & \\frac{\\sqrt{6}}{4}\\\\- \\frac{\\sqrt{2}}{4} & \\frac{\\sqrt{6}}{4} & - \\frac{\\sqrt{6}}{4} & \\frac{\\sqrt{2}}{4}\\end{matrix}\\right]$$"
      ],
      "text/plain": [
       "⎡ √2    √6    √6   √2⎤\n",
       "⎢ ──    ──    ──   ──⎥\n",
       "⎢ 4     4     4    4 ⎥\n",
       "⎢                    ⎥\n",
       "⎢-√6   -√2    √2   √6⎥\n",
       "⎢────  ────   ──   ──⎥\n",
       "⎢ 4     4     4    4 ⎥\n",
       "⎢                    ⎥\n",
       "⎢ √6   -√2   -√2   √6⎥\n",
       "⎢ ──   ────  ────  ──⎥\n",
       "⎢ 4     4     4    4 ⎥\n",
       "⎢                    ⎥\n",
       "⎢-√2    √6   -√6   √2⎥\n",
       "⎢────   ──   ────  ──⎥\n",
       "⎣ 4     4     4    4 ⎦"
      ]
     },
     "execution_count": 8,
     "metadata": {},
     "output_type": "execute_result"
    }
   ],
   "source": [
    "wigner_d_small(3*half, beta).subs({beta:pi/2})"
   ]
  },
  {
   "cell_type": "code",
   "execution_count": 9,
   "metadata": {
    "collapsed": false
   },
   "outputs": [
    {
     "data": {
      "image/png": "[encoded data removed]",
      "text/latex": [
       "$$\\left[\\begin{matrix}\\frac{1}{4} & \\frac{1}{2} & \\frac{\\sqrt{6}}{4} & \\frac{1}{2} & \\frac{1}{4}\\\\- \\frac{1}{2} & - \\frac{1}{2} & 0 & \\frac{1}{2} & \\frac{1}{2}\\\\\\frac{\\sqrt{6}}{4} & 0 & - \\frac{1}{2} & 0 & \\frac{\\sqrt{6}}{4}\\\\- \\frac{1}{2} & \\frac{1}{2} & 0 & - \\frac{1}{2} & \\frac{1}{2}\\\\\\frac{1}{4} & - \\frac{1}{2} & \\frac{\\sqrt{6}}{4} & - \\frac{1}{2} & \\frac{1}{4}\\end{matrix}\\right]$$"
      ],
      "text/plain": [
       "⎡             √6            ⎤\n",
       "⎢1/4   1/2    ──   1/2   1/4⎥\n",
       "⎢             4             ⎥\n",
       "⎢                           ⎥\n",
       "⎢-1/2  -1/2   0    1/2   1/2⎥\n",
       "⎢                           ⎥\n",
       "⎢ √6                     √6 ⎥\n",
       "⎢ ──    0    -1/2   0    ── ⎥\n",
       "⎢ 4                      4  ⎥\n",
       "⎢                           ⎥\n",
       "⎢-1/2  1/2    0    -1/2  1/2⎥\n",
       "⎢                           ⎥\n",
       "⎢             √6            ⎥\n",
       "⎢1/4   -1/2   ──   -1/2  1/4⎥\n",
       "⎣             4             ⎦"
      ]
     },
     "execution_count": 9,
     "metadata": {},
     "output_type": "execute_result"
    }
   ],
   "source": [
    "wigner_d_small(4*half, beta).subs({beta:pi/2})"
   ]
  },
  {
   "cell_type": "code",
   "execution_count": 10,
   "metadata": {
    "collapsed": false
   },
   "outputs": [
    {
     "data": {
      "image/png": "[encoded data removed]",
      "text/latex": [
       "$$\\left[\\begin{matrix}e^{\\frac{i \\alpha}{2}} e^{\\frac{i \\gamma}{2}} \\cos{\\left (\\frac{\\beta}{2} \\right )} & e^{\\frac{i \\alpha}{2}} e^{- \\frac{i \\gamma}{2}} \\sin{\\left (\\frac{\\beta}{2} \\right )}\\\\- e^{- \\frac{i \\alpha}{2}} e^{\\frac{i \\gamma}{2}} \\sin{\\left (\\frac{\\beta}{2} \\right )} & e^{- \\frac{i \\alpha}{2}} e^{- \\frac{i \\gamma}{2}} \\cos{\\left (\\frac{\\beta}{2} \\right )}\\end{matrix}\\right]$$"
      ],
      "text/plain": [
       "⎡  ⅈ⋅α  ⅈ⋅γ             ⅈ⋅α  -ⅈ⋅γ         ⎤\n",
       "⎢  ───  ───             ───  ─────        ⎥\n",
       "⎢   2    2     ⎛β⎞       2     2      ⎛β⎞ ⎥\n",
       "⎢ ℯ   ⋅ℯ   ⋅cos⎜─⎟     ℯ   ⋅ℯ     ⋅sin⎜─⎟ ⎥\n",
       "⎢              ⎝2⎠                    ⎝2⎠ ⎥\n",
       "⎢                                         ⎥\n",
       "⎢  -ⅈ⋅α   ⅈ⋅γ          -ⅈ⋅α   -ⅈ⋅γ        ⎥\n",
       "⎢  ─────  ───          ─────  ─────       ⎥\n",
       "⎢    2     2     ⎛β⎞     2      2      ⎛β⎞⎥\n",
       "⎢-ℯ     ⋅ℯ   ⋅sin⎜─⎟  ℯ     ⋅ℯ     ⋅cos⎜─⎟⎥\n",
       "⎣                ⎝2⎠                   ⎝2⎠⎦"
      ]
     },
     "execution_count": 10,
     "metadata": {},
     "output_type": "execute_result"
    }
   ],
   "source": [
    "wigner_d(half, alpha, beta, gamma)"
   ]
  },
  {
   "cell_type": "code",
   "execution_count": 11,
   "metadata": {
    "collapsed": false
   },
   "outputs": [
    {
     "data": {
      "image/png": "[encoded data removed]",
      "text/latex": [
       "$$\\left[\\begin{matrix}e^{i \\alpha} e^{i \\gamma} \\cos^{2}{\\left (\\frac{\\beta}{2} \\right )} & \\sqrt{2} e^{i \\alpha} \\sin{\\left (\\frac{\\beta}{2} \\right )} \\cos{\\left (\\frac{\\beta}{2} \\right )} & e^{i \\alpha} e^{- i \\gamma} \\sin^{2}{\\left (\\frac{\\beta}{2} \\right )}\\\\- \\sqrt{2} e^{i \\gamma} \\sin{\\left (\\frac{\\beta}{2} \\right )} \\cos{\\left (\\frac{\\beta}{2} \\right )} & - \\sin^{2}{\\left (\\frac{\\beta}{2} \\right )} + \\cos^{2}{\\left (\\frac{\\beta}{2} \\right )} & \\sqrt{2} e^{- i \\gamma} \\sin{\\left (\\frac{\\beta}{2} \\right )} \\cos{\\left (\\frac{\\beta}{2} \\right )}\\\\e^{- i \\alpha} e^{i \\gamma} \\sin^{2}{\\left (\\frac{\\beta}{2} \\right )} & - \\sqrt{2} e^{- i \\alpha} \\sin{\\left (\\frac{\\beta}{2} \\right )} \\cos{\\left (\\frac{\\beta}{2} \\right )} & e^{- i \\alpha} e^{- i \\gamma} \\cos^{2}{\\left (\\frac{\\beta}{2} \\right )}\\end{matrix}\\right]$$"
      ],
      "text/plain": [
       "⎡   ⅈ⋅α  ⅈ⋅γ    2⎛β⎞          ⅈ⋅α    ⎛β⎞    ⎛β⎞      ⅈ⋅α  -ⅈ⋅γ    2⎛β⎞  ⎤\n",
       "⎢  ℯ   ⋅ℯ   ⋅cos ⎜─⎟      √2⋅ℯ   ⋅sin⎜─⎟⋅cos⎜─⎟     ℯ   ⋅ℯ    ⋅sin ⎜─⎟  ⎥\n",
       "⎢                ⎝2⎠                 ⎝2⎠    ⎝2⎠                    ⎝2⎠  ⎥\n",
       "⎢                                                                       ⎥\n",
       "⎢     ⅈ⋅γ    ⎛β⎞    ⎛β⎞         2⎛β⎞      2⎛β⎞        -ⅈ⋅γ    ⎛β⎞    ⎛β⎞⎥\n",
       "⎢-√2⋅ℯ   ⋅sin⎜─⎟⋅cos⎜─⎟    - sin ⎜─⎟ + cos ⎜─⎟    √2⋅ℯ    ⋅sin⎜─⎟⋅cos⎜─⎟⎥\n",
       "⎢            ⎝2⎠    ⎝2⎠          ⎝2⎠       ⎝2⎠                ⎝2⎠    ⎝2⎠⎥\n",
       "⎢                                                                       ⎥\n",
       "⎢   -ⅈ⋅α  ⅈ⋅γ    2⎛β⎞         -ⅈ⋅α    ⎛β⎞    ⎛β⎞    -ⅈ⋅α  -ⅈ⋅γ    2⎛β⎞  ⎥\n",
       "⎢  ℯ    ⋅ℯ   ⋅sin ⎜─⎟    -√2⋅ℯ    ⋅sin⎜─⎟⋅cos⎜─⎟   ℯ    ⋅ℯ    ⋅cos ⎜─⎟  ⎥\n",
       "⎣                 ⎝2⎠                 ⎝2⎠    ⎝2⎠                   ⎝2⎠  ⎦"
      ]
     },
     "execution_count": 11,
     "metadata": {},
     "output_type": "execute_result"
    }
   ],
   "source": [
    "wigner_d(2*half, alpha, beta, gamma)"
   ]
  },
  {
   "cell_type": "code",
   "execution_count": 12,
   "metadata": {
    "collapsed": false
   },
   "outputs": [
    {
     "data": {
      "image/png": "[encoded data removed]",
      "text/latex": [
       "$$\\left[\\begin{matrix}\\frac{1}{2} & \\frac{\\sqrt{2}}{2} & \\frac{1}{2} & 0\\\\- \\frac{\\sqrt{2}}{2} & 0 & \\frac{\\sqrt{2}}{2} & 0\\\\\\frac{1}{2} & - \\frac{\\sqrt{2}}{2} & \\frac{1}{2} & 0\\\\0 & 0 & 0 & 1\\end{matrix}\\right]$$"
      ],
      "text/plain": [
       "⎡       √2         ⎤\n",
       "⎢1/2    ──   1/2  0⎥\n",
       "⎢       2          ⎥\n",
       "⎢                  ⎥\n",
       "⎢-√2         √2    ⎥\n",
       "⎢────   0    ──   0⎥\n",
       "⎢ 2          2     ⎥\n",
       "⎢                  ⎥\n",
       "⎢      -√2         ⎥\n",
       "⎢1/2   ────  1/2  0⎥\n",
       "⎢       2          ⎥\n",
       "⎢                  ⎥\n",
       "⎣ 0     0     0   1⎦"
      ]
     },
     "execution_count": 12,
     "metadata": {},
     "output_type": "execute_result"
    }
   ],
   "source": [
    "J_values = [2*half, 0]\n",
    "density_matrix_rotation(J_values, 0, pi/2, 0)"
   ]
  },
  {
   "cell_type": "markdown",
   "metadata": {},
   "source": [
    "[1] A. R. Edmonds. Angular momentum in quantum mechanics. Investigations in physics, 4.; Investi-\n",
    "gations in physics, no. 4. Princeton, N.J., Princeton University Press, 1957."
   ]
  },
  {
   "cell_type": "code",
   "execution_count": null,
   "metadata": {
    "collapsed": true
   },
   "outputs": [],
   "source": []
  }
 ],
 "metadata": {
  "kernelspec": {
   "display_name": "Python 2",
   "language": "python",
   "name": "python2"
  },
  "language_info": {
   "codemirror_mode": {
    "name": "ipython",
    "version": 2
   },
   "file_extension": ".py",
   "mimetype": "text/x-python",
   "name": "python",
   "nbconvert_exporter": "python",
   "pygments_lexer": "ipython2",
   "version": "2.7.13"
  }
 },
 "nbformat": 4,
 "nbformat_minor": 2
}
